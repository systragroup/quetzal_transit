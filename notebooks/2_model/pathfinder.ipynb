{
 "cells": [
  {
   "cell_type": "code",
   "execution_count": null,
   "id": "bcd35b6a",
   "metadata": {},
   "outputs": [
    {
     "name": "stdout",
     "output_type": "stream",
     "text": [
      "{'training_folder': '../../scenarios/montreal', 'params': {'catchment_radius': {'bus': '500', 'subway': '800', 'rail': '1000'}, 'footpaths': {'max_length': '1000', 'speed': '2.8', 'n_ntlegs': '2'}}}\n"
     ]
    }
   ],
   "source": [
    "import sys\n",
    "import json\n",
    "\n",
    "catchment_radius = {'bus': '500', 'subway': '800', 'rail': '1000'}\n",
    "footpaths = {'max_length': '1000', 'speed': '2.8', 'n_ntlegs': '2'}\n",
    "params = {'catchment_radius': catchment_radius, 'footpaths': footpaths}\n",
    "\n",
    "default = {'training_folder': '../../scenarios/montreal', 'params': params}  # Default execution parameters\n",
    "manual, argv = (True, default) if 'ipykernel' in sys.argv[0] else (False, dict(default, **json.loads(sys.argv[1])))\n",
    "print(argv)"
   ]
  },
  {
   "cell_type": "code",
   "execution_count": null,
   "id": "08dfdd4c",
   "metadata": {},
   "outputs": [
    {
     "name": "stdout",
     "output_type": "stream",
     "text": [
      "numba threads 8\n"
     ]
    }
   ],
   "source": [
    "import os\n",
    "import time\n",
    "import geopandas as gpd\n",
    "import pandas as pd\n",
    "\n",
    "sys.path.insert(0, r'../../../quetzal')  # Add path to quetzal\n",
    "import numpy as np\n",
    "import random\n",
    "import matplotlib.pyplot as plt\n",
    "from shapely.geometry import Point, LineString\n",
    "from syspy.spatial.spatial import add_geometry_coordinates, nearest\n",
    "from sklearn.neighbors import NearestNeighbors\n",
    "from typing import Literal\n",
    "from numba import jit, njit\n",
    "import numba as nb\n",
    "from quetzal.model import stepmodel\n",
    "\n",
    "# num_cores = 1\n",
    "print('numba threads', nb.config.NUMBA_NUM_THREADS)\n",
    "\n",
    "on_lambda = bool(os.environ.get('AWS_EXECUTION_ENV'))\n",
    "io_engine = 'pyogrio'"
   ]
  },
  {
   "cell_type": "code",
   "execution_count": null,
   "id": "39d1fcc2",
   "metadata": {},
   "outputs": [],
   "source": [
    "def get_epsg(lat: float, lon: float) -> int:\n",
    "\t\"\"\"\n",
    "\treturn EPSG in meter for a given (lat,lon)\n",
    "\tlat is north south\n",
    "\tlon is est west\n",
    "\t\"\"\"\n",
    "\treturn int(32700 - round((45 + lat) / 90, 0) * 100 + round((183 + lon) / 6, 0))"
   ]
  },
  {
   "cell_type": "markdown",
   "id": "ed0c508d",
   "metadata": {},
   "source": [
    "# Folders stucture and params"
   ]
  },
  {
   "cell_type": "markdown",
   "id": "7a99c7ed",
   "metadata": {},
   "source": [
    "everything is on S3 (nothing on ECR) so no direct input folder. just scenarios/{scen}/inputs/"
   ]
  },
  {
   "cell_type": "code",
   "execution_count": null,
   "id": "0849876e",
   "metadata": {},
   "outputs": [],
   "source": []
  },
  {
   "cell_type": "code",
   "execution_count": null,
   "id": "7ee47b85",
   "metadata": {},
   "outputs": [],
   "source": [
    "base_folder = argv['training_folder']\n",
    "input_folder = os.path.join(base_folder, 'inputs/')\n",
    "pt_folder = os.path.join(input_folder, 'pt/')\n",
    "road_folder = os.path.join(input_folder, 'road/')\n",
    "od_folder = os.path.join(input_folder, 'od/')\n",
    "\n",
    "output_folder = os.path.join(base_folder, 'outputs/')\n",
    "if not os.path.exists(output_folder):\n",
    "\tos.makedirs(output_folder)\n",
    "\n",
    "model_folder = os.path.join(input_folder, 'model/')\n"
   ]
  },
  {
   "cell_type": "code",
   "execution_count": null,
   "id": "35e68bf0",
   "metadata": {},
   "outputs": [],
   "source": []
  },
  {
   "cell_type": "code",
   "execution_count": null,
   "id": "0278134a",
   "metadata": {},
   "outputs": [],
   "source": [
    "if 'footpaths' in argv['params'].keys():\n",
    "\tmax_length = float(argv['params']['footpaths']['max_length'])\n",
    "\tspeed = float(argv['params']['footpaths']['speed'])\n",
    "\tn_ntlegs = int(argv['params']['footpaths']['n_ntlegs'])\n",
    "else:\n",
    "\tmax_length = float(footpaths['max_length'])\n",
    "\tspeed = float(footpaths['speed'])\n",
    "\tn_ntlegs = int(footpaths['n_ntlegs'])"
   ]
  },
  {
   "cell_type": "markdown",
   "id": "2f9e3c62",
   "metadata": {},
   "source": [
    "# inputs"
   ]
  },
  {
   "cell_type": "code",
   "execution_count": null,
   "id": "1000829a",
   "metadata": {},
   "outputs": [],
   "source": [
    "links = gpd.read_file(pt_folder + 'links.geojson', engine=io_engine)\n",
    "nodes = gpd.read_file(pt_folder + 'nodes.geojson', engine=io_engine)\n",
    "links = links.set_index('index')\n",
    "nodes = nodes.set_index('index')"
   ]
  },
  {
   "cell_type": "code",
   "execution_count": null,
   "id": "e135e308",
   "metadata": {},
   "outputs": [
    {
     "name": "stdout",
     "output_type": "stream",
     "text": [
      "rnodes? True\n"
     ]
    }
   ],
   "source": [
    "rnodes_file = os.path.join(road_folder, 'road_nodes.geojson')\n",
    "rnodes_file_provided = os.path.isfile(rnodes_file)\n",
    "if rnodes_file_provided:\n",
    "\trnodes = gpd.read_file(os.path.join(road_folder, 'road_nodes.geojson'), engine=io_engine)\n",
    "\trnodes = rnodes.set_index('index')\n",
    "\trlinks = gpd.read_file(os.path.join(road_folder, 'road_links.geojson'), engine=io_engine)\n",
    "\trlinks = rlinks.set_index('index')\n",
    "print('rnodes?', rnodes_file_provided)"
   ]
  },
  {
   "cell_type": "code",
   "execution_count": null,
   "id": "c36c4732",
   "metadata": {},
   "outputs": [],
   "source": [
    "od_file = os.path.join(od_folder, 'od.geojson')\n",
    "od_file_provided = os.path.isfile(od_file)\n",
    "if od_file_provided:\n",
    "\tod_test = gpd.read_file(od_file, engine=io_engine)\n",
    "\tif 'name' not in od_test.columns:\n",
    "\t\tod_test['name'] = od_test['index']\n",
    "\tod_test['name'] = od_test['name'].fillna(od_test['index'].astype(str))\n",
    "else:\n",
    "\tprint('end of pathfinder')\n",
    "\tend_of_notebook"
   ]
  },
  {
   "cell_type": "markdown",
   "id": "6606a15d",
   "metadata": {},
   "source": [
    "end_of_notebook here if OD_file not provided!!"
   ]
  },
  {
   "cell_type": "code",
   "execution_count": null,
   "id": "354753ed",
   "metadata": {},
   "outputs": [],
   "source": []
  },
  {
   "cell_type": "code",
   "execution_count": null,
   "id": "4ba9d427",
   "metadata": {},
   "outputs": [],
   "source": [
    "od_test['geometry_o'] = od_test['geometry'].apply(lambda g: Point(g.coords[:][0]))\n",
    "od_test['geometry_d'] = od_test['geometry'].apply(lambda g: Point(g.coords[:][1]))\n",
    "\n",
    "od_test['origin'] = od_test['index'].astype(str) + '_o'\n",
    "od_test['destination'] = od_test['index'].astype(str) + '_d'\n",
    "\n",
    "\n",
    "zones = od_test.copy()\n",
    "zones_d = od_test.copy()\n",
    "zones['geometry'] = zones['geometry_o']\n",
    "zones_d['geometry'] = zones_d['geometry_d']\n",
    "zones['index'] = zones['origin']\n",
    "zones_d['index'] = zones_d['destination']\n",
    "zones = pd.concat([zones[['index', 'geometry']], zones_d[['index', 'geometry']]])\n",
    "zones = zones.set_index('index')\n",
    "\n",
    "od_set = set(zip(od_test['origin'], od_test['destination']))\n"
   ]
  },
  {
   "cell_type": "markdown",
   "id": "696d1203",
   "metadata": {},
   "source": [
    "# preparation"
   ]
  },
  {
   "cell_type": "code",
   "execution_count": null,
   "id": "8fffd8ad",
   "metadata": {},
   "outputs": [],
   "source": [
    "def add_col(links, col='length'):\n",
    "\tif col not in links.columns:\n",
    "\t\treturn True\n",
    "\telif any(links[col].isnull()):\n",
    "\t\treturn True\n",
    "\telse:\n",
    "\t\treturn False"
   ]
  },
  {
   "cell_type": "code",
   "execution_count": null,
   "id": "2f1872cf",
   "metadata": {},
   "outputs": [],
   "source": [
    "if add_col(links, 'length'):\n",
    "\tprint('add length')\n",
    "\tcentroid = [*LineString(nodes.centroid.values).centroid.coords][0]\n",
    "\tcrs = get_epsg(centroid[1], centroid[0])\n",
    "\tprint('create length from geometry')\n",
    "\tlinks['length'] = links.to_crs(crs).length\n",
    "\n",
    "if add_col(links, 'speed'):\n",
    "\tprint('add speed')\n",
    "\tlinks['speed'] = links['length'] / links['time'] * 3.6\n"
   ]
  },
  {
   "cell_type": "markdown",
   "id": "528232c8",
   "metadata": {},
   "source": [
    "# Walkmodel"
   ]
  },
  {
   "cell_type": "code",
   "execution_count": null,
   "id": "826e1526",
   "metadata": {},
   "outputs": [],
   "source": [
    "sm = stepmodel.StepModel(epsg=4326)\n",
    "sm.links = links\n",
    "sm.nodes = nodes\n",
    "sm.zones = zones\n",
    "\n",
    "# sm.road_links = rlinks\n",
    "# sm.road_nodes = rnodes"
   ]
  },
  {
   "cell_type": "code",
   "execution_count": null,
   "id": "c936221b",
   "metadata": {
    "scrolled": false
   },
   "outputs": [],
   "source": [
    "# We remove highway for the walkmodel\n",
    "# walk_type = ['Artere','Collectrices','Locale','Nationale','Regionale']\n",
    "# walkmodel.road_links = walkmodel.road_links[~walkmodel.road_links['highway'].isin(walk_type)]\n",
    "# walkmodel.road_nodes = walkmodel.road_nodes.loc[list(np.unique(walkmodel.road_links[['a','b']].values.flatten()))]\n",
    "# walkmodel.preparation_clusterize_nodes(distance_threshold=0.000002)\n",
    "# Footpath between PT nodes\n",
    "sm.preparation_footpaths(speed=speed, max_length=max_length, clusters_distance=0.00001)"
   ]
  },
  {
   "cell_type": "code",
   "execution_count": null,
   "id": "6644984f",
   "metadata": {
    "scrolled": false
   },
   "outputs": [],
   "source": [
    "# Access footpaths (zone_to_road and road_to_transit)\n",
    "sm.preparation_ntlegs(\n",
    "\tshort_leg_speed=speed,\n",
    "\tlong_leg_speed=speed,  # tout le monde marche\n",
    "\tthreshold=1000,\n",
    "\tzone_to_transit=True,\n",
    "\tzone_to_road=False,\n",
    "\troad_to_transit=False,\n",
    "\tn_ntlegs=n_ntlegs,\n",
    "\t# max_ntleg_length=2000,\n",
    ")"
   ]
  },
  {
   "cell_type": "code",
   "execution_count": null,
   "id": "0287e906",
   "metadata": {},
   "outputs": [],
   "source": [
    "# Copy connectors to the model\n",
    "sm.footpaths = sm.footpaths.drop(columns='voronoi')\n",
    "# sm.footpaths = walkmodel.footpaths.drop(columns='voronoi').copy()\n",
    "# sm.zone_to_transit = walkmodel.zone_to_transit.copy()"
   ]
  },
  {
   "cell_type": "code",
   "execution_count": null,
   "id": "8a49f6b4",
   "metadata": {},
   "outputs": [],
   "source": [
    "sm.footpaths['speed'] = sm.footpaths['length'] / sm.footpaths['time'] * 3.6\n"
   ]
  },
  {
   "cell_type": "markdown",
   "id": "7993fdde",
   "metadata": {},
   "source": [
    "# pathfinder"
   ]
  },
  {
   "cell_type": "code",
   "execution_count": null,
   "id": "e405bb66",
   "metadata": {},
   "outputs": [
    {
     "name": "stdout",
     "output_type": "stream",
     "text": [
      "start publicpathfinder\n",
      "12 sources 12 targets direct search\n",
      "path_analysis\n"
     ]
    }
   ],
   "source": [
    "sm.step_pt_pathfinder(\n",
    "\tbroken_routes=False,\n",
    "\tbroken_modes=False,\n",
    "\tkeep_pathfinder=True,\n",
    "\tmode_column='route_type',\n",
    "\troute_column='route_id',\n",
    "\tspeedup=True,\n",
    "\twalk_on_road=False,\n",
    "\tpath_analysis=False,\n",
    "\tod_set=od_set,\n",
    ")\n"
   ]
  },
  {
   "cell_type": "code",
   "execution_count": null,
   "id": "8da24899",
   "metadata": {},
   "outputs": [],
   "source": []
  },
  {
   "cell_type": "code",
   "execution_count": 104,
   "id": "fffb2aeb",
   "metadata": {},
   "outputs": [
    {
     "name": "stderr",
     "output_type": "stream",
     "text": [
      "path_analysis: 100%|██████████| 12/12 [00:00<00:00, 53261.00it/s]\n"
     ]
    }
   ],
   "source": [
    "sm.analysis_pt_los(walk_on_road=False)"
   ]
  },
  {
   "cell_type": "markdown",
   "id": "50fea814",
   "metadata": {},
   "source": [
    "# create path"
   ]
  },
  {
   "cell_type": "code",
   "execution_count": null,
   "id": "d48f2e45",
   "metadata": {},
   "outputs": [],
   "source": [
    "od_links = od_test.merge(sm.pt_los[['origin', 'destination', 'gtime', 'link_path']], on=['origin', 'destination'])\n",
    "od_links = od_links.drop(columns=['geometry', 'geometry_o', 'geometry_d', 'origin', 'destination'])\n",
    "od_links = od_links.explode('link_path')\n",
    "# may add route_width if quenedi can handle it one day.\n",
    "od_links = od_links.merge(sm.links[['route_color', 'geometry', 'time', 'speed']], left_on='link_path', right_index=True)\n",
    "od_links = od_links.drop(columns='link_path')"
   ]
  },
  {
   "cell_type": "code",
   "execution_count": null,
   "id": "9906956d",
   "metadata": {},
   "outputs": [],
   "source": [
    "od_ntlegs = od_test.merge(sm.pt_los[['origin', 'destination', 'gtime', 'ntlegs']], on=['origin', 'destination'])\n",
    "od_ntlegs = od_ntlegs.drop(columns=['geometry', 'geometry_o', 'geometry_d', 'origin', 'destination'])\n",
    "od_ntlegs = od_ntlegs.explode('ntlegs')\n",
    "\n",
    "ntlegs_dict = sm.zone_to_transit.reset_index().set_index(['a', 'b'])['index'].to_dict()\n",
    "od_ntlegs['ntlegs'] = od_ntlegs['ntlegs'].apply(ntlegs_dict.get)\n",
    "\n",
    "od_ntlegs = od_ntlegs.merge(sm.zone_to_transit[['geometry', 'time', 'speed']], left_on='ntlegs', right_index=True)\n",
    "od_ntlegs = od_ntlegs.drop(columns='ntlegs')\n",
    "# od_ntlegs['route_color']='4B4B4B'"
   ]
  },
  {
   "cell_type": "code",
   "execution_count": null,
   "id": "654738a8",
   "metadata": {},
   "outputs": [],
   "source": [
    "od_footpaths = od_test.merge(sm.pt_los[['origin', 'destination', 'gtime', 'footpaths']], on=['origin', 'destination'])\n",
    "od_footpaths = od_footpaths.drop(columns=['geometry', 'geometry_o', 'geometry_d', 'origin', 'destination'])\n",
    "od_footpaths = od_footpaths.explode('footpaths')\n",
    "\n",
    "footpaths_dict = sm.footpaths.reset_index().set_index(['a', 'b'])['index'].to_dict()\n",
    "od_footpaths['footpaths'] = od_footpaths['footpaths'].apply(footpaths_dict.get)\n",
    "\n",
    "od_footpaths = od_footpaths.merge(sm.footpaths[['geometry', 'time', 'speed']], left_on='footpaths', right_index=True)\n",
    "od_footpaths = od_footpaths.drop(columns='footpaths')"
   ]
  },
  {
   "cell_type": "code",
   "execution_count": null,
   "id": "465bdf52",
   "metadata": {},
   "outputs": [],
   "source": [
    "od_route = pd.concat([od_links, od_footpaths, od_ntlegs], axis=0)"
   ]
  },
  {
   "cell_type": "code",
   "execution_count": 109,
   "id": "78a799dd",
   "metadata": {},
   "outputs": [],
   "source": [
    "od_route['route_color'] = od_route['route_color'].fillna('838383')\n",
    "od_route['route_color'] = '#' + od_route['route_color']"
   ]
  },
  {
   "cell_type": "code",
   "execution_count": null,
   "id": "d51cfa0e",
   "metadata": {},
   "outputs": [],
   "source": []
  },
  {
   "cell_type": "code",
   "execution_count": null,
   "id": "dd9245eb",
   "metadata": {},
   "outputs": [],
   "source": [
    "od_route = od_route.rename(columns={'name': 'od_name'}).drop(columns='index')\n",
    "od_route.reset_index(drop=True)\n",
    "od_route.index.name = 'index'"
   ]
  },
  {
   "cell_type": "code",
   "execution_count": null,
   "id": "78e3e7f6",
   "metadata": {},
   "outputs": [],
   "source": [
    "od_route = gpd.GeoDataFrame(od_route, crs=4326)\n",
    "od_route.to_file(output_folder + 'od_route.geojson', driver='GeoJSON', engine=io_engine)"
   ]
  },
  {
   "cell_type": "markdown",
   "id": "4f64acad",
   "metadata": {},
   "source": [
    "# Formation :\n",
    "Exporter des metrics (du pt_los) sur les OD trouvés en format csv <br>\n",
    " (ex: time, mode, etc). garder la colonne \"name\" s.v.p\n",
    "\n"
   ]
  },
  {
   "cell_type": "code",
   "execution_count": null,
   "id": "a8bafbc2",
   "metadata": {},
   "outputs": [],
   "source": [
    "sm.analysis_pt_route_type(['rail', 'subway', 'bus'])\n",
    "pt_los = od_test[['origin', 'destination', 'name']].merge(sm.pt_los, on=['origin', 'destination'])"
   ]
  },
  {
   "cell_type": "code",
   "execution_count": 122,
   "id": "3196e0b6",
   "metadata": {},
   "outputs": [
    {
     "data": {
      "text/html": [
       "<div>\n",
       "<style scoped>\n",
       "    .dataframe tbody tr th:only-of-type {\n",
       "        vertical-align: middle;\n",
       "    }\n",
       "\n",
       "    .dataframe tbody tr th {\n",
       "        vertical-align: top;\n",
       "    }\n",
       "\n",
       "    .dataframe thead th {\n",
       "        text-align: right;\n",
       "    }\n",
       "</style>\n",
       "<table border=\"1\" class=\"dataframe\">\n",
       "  <thead>\n",
       "    <tr style=\"text-align: right;\">\n",
       "      <th></th>\n",
       "      <th>origin</th>\n",
       "      <th>destination</th>\n",
       "      <th>name</th>\n",
       "      <th>gtime</th>\n",
       "      <th>path</th>\n",
       "      <th>pathfinder_session</th>\n",
       "      <th>reversed</th>\n",
       "      <th>boardings</th>\n",
       "      <th>alightings</th>\n",
       "      <th>node_path</th>\n",
       "      <th>...</th>\n",
       "      <th>ntlegs</th>\n",
       "      <th>transfers</th>\n",
       "      <th>boarding_links</th>\n",
       "      <th>alighting_links</th>\n",
       "      <th>all_walk</th>\n",
       "      <th>ntransfers</th>\n",
       "      <th>time_link_path</th>\n",
       "      <th>length_link_path</th>\n",
       "      <th>route_types</th>\n",
       "      <th>route_type</th>\n",
       "    </tr>\n",
       "  </thead>\n",
       "  <tbody>\n",
       "    <tr>\n",
       "      <th>0</th>\n",
       "      <td>OD_29jjnnWWXWDoZKHfXqtSJx_o</td>\n",
       "      <td>OD_29jjnnWWXWDoZKHfXqtSJx_d</td>\n",
       "      <td>sb-systra</td>\n",
       "      <td>2454.382414</td>\n",
       "      <td>(OD_29jjnnWWXWDoZKHfXqtSJx_o, node_3426, node_...</td>\n",
       "      <td>best_path</td>\n",
       "      <td>False</td>\n",
       "      <td>[node_8879]</td>\n",
       "      <td>[node_200]</td>\n",
       "      <td>[node_3426, node_3427, node_3393, node_536, no...</td>\n",
       "      <td>...</td>\n",
       "      <td>[(OD_29jjnnWWXWDoZKHfXqtSJx_o, node_3426), (no...</td>\n",
       "      <td>[]</td>\n",
       "      <td>[link_13686]</td>\n",
       "      <td>[link_13694]</td>\n",
       "      <td>False</td>\n",
       "      <td>0</td>\n",
       "      <td>720</td>\n",
       "      <td>6475.076788</td>\n",
       "      <td>(subway,)</td>\n",
       "      <td>subway</td>\n",
       "    </tr>\n",
       "    <tr>\n",
       "      <th>1</th>\n",
       "      <td>OD_kykfkAXaKsTygo9fDsWMFG_o</td>\n",
       "      <td>OD_kykfkAXaKsTygo9fDsWMFG_d</td>\n",
       "      <td>systra_sb</td>\n",
       "      <td>2128.517417</td>\n",
       "      <td>(OD_kykfkAXaKsTygo9fDsWMFG_o, node_14159, node...</td>\n",
       "      <td>best_path</td>\n",
       "      <td>False</td>\n",
       "      <td>[node_8861, node_206, node_10487]</td>\n",
       "      <td>[node_14345, node_220, node_10505]</td>\n",
       "      <td>[node_14159, node_2943, node_4598, node_258, n...</td>\n",
       "      <td>...</td>\n",
       "      <td>[(OD_kykfkAXaKsTygo9fDsWMFG_o, node_14159), (n...</td>\n",
       "      <td>[]</td>\n",
       "      <td>[link_13749, link_13668, link_9230]</td>\n",
       "      <td>[link_13752, link_13673, link_9231]</td>\n",
       "      <td>False</td>\n",
       "      <td>2</td>\n",
       "      <td>904</td>\n",
       "      <td>7384.129403</td>\n",
       "      <td>(subway, bus)</td>\n",
       "      <td>subway</td>\n",
       "    </tr>\n",
       "    <tr>\n",
       "      <th>2</th>\n",
       "      <td>OD_79HUhzRX6D5HBwNSgVwSV2_o</td>\n",
       "      <td>OD_79HUhzRX6D5HBwNSgVwSV2_d</td>\n",
       "      <td>sb-jb</td>\n",
       "      <td>3191.265807</td>\n",
       "      <td>(OD_79HUhzRX6D5HBwNSgVwSV2_o, node_3426, node_...</td>\n",
       "      <td>best_path</td>\n",
       "      <td>False</td>\n",
       "      <td>[node_8879, node_8888, node_14345, node_14341]</td>\n",
       "      <td>[node_14342, node_206, node_14340, node_14009]</td>\n",
       "      <td>[node_3426, node_3427, node_3393, node_536, no...</td>\n",
       "      <td>...</td>\n",
       "      <td>[(OD_79HUhzRX6D5HBwNSgVwSV2_o, node_3426), (no...</td>\n",
       "      <td>[]</td>\n",
       "      <td>[link_13686, link_13667, link_13753, link_13827]</td>\n",
       "      <td>[link_13691, link_13667, link_13758, link_13827]</td>\n",
       "      <td>False</td>\n",
       "      <td>3</td>\n",
       "      <td>1200</td>\n",
       "      <td>11192.828333</td>\n",
       "      <td>(subway,)</td>\n",
       "      <td>subway</td>\n",
       "    </tr>\n",
       "    <tr>\n",
       "      <th>3</th>\n",
       "      <td>OD_eKAH5Dq14xF92bAh2Ned9y_o</td>\n",
       "      <td>OD_eKAH5Dq14xF92bAh2Ned9y_d</td>\n",
       "      <td>jb-sb</td>\n",
       "      <td>2590.451913</td>\n",
       "      <td>(OD_eKAH5Dq14xF92bAh2Ned9y_o, node_1792, node_...</td>\n",
       "      <td>best_path</td>\n",
       "      <td>False</td>\n",
       "      <td>[node_310, node_14339, node_206, node_10487]</td>\n",
       "      <td>[node_278, node_14344, node_220, node_10505]</td>\n",
       "      <td>[node_1792, node_309, node_310, node_278, node...</td>\n",
       "      <td>...</td>\n",
       "      <td>[(OD_eKAH5Dq14xF92bAh2Ned9y_o, node_1792), (no...</td>\n",
       "      <td>[]</td>\n",
       "      <td>[link_13842, link_13713, link_13668, link_9230]</td>\n",
       "      <td>[link_13842, link_13718, link_13673, link_9231]</td>\n",
       "      <td>False</td>\n",
       "      <td>3</td>\n",
       "      <td>1144</td>\n",
       "      <td>10677.531006</td>\n",
       "      <td>(subway, bus)</td>\n",
       "      <td>subway</td>\n",
       "    </tr>\n",
       "    <tr>\n",
       "      <th>4</th>\n",
       "      <td>OD_sDYb2uoJCn9iznErFzKb36_o</td>\n",
       "      <td>OD_sDYb2uoJCn9iznErFzKb36_d</td>\n",
       "      <td>sf-systra</td>\n",
       "      <td>2451.401571</td>\n",
       "      <td>(OD_sDYb2uoJCn9iznErFzKb36_o, node_2474, link_...</td>\n",
       "      <td>best_path</td>\n",
       "      <td>False</td>\n",
       "      <td>[node_2474, node_2582, node_14333]</td>\n",
       "      <td>[node_2583, node_13899, node_259]</td>\n",
       "      <td>[node_2474, node_2583, node_2582, node_13899, ...</td>\n",
       "      <td>...</td>\n",
       "      <td>[(OD_sDYb2uoJCn9iznErFzKb36_o, node_2474), (no...</td>\n",
       "      <td>[]</td>\n",
       "      <td>[link_9715, link_7358, link_13716]</td>\n",
       "      <td>[link_9716, link_7363, link_13722]</td>\n",
       "      <td>False</td>\n",
       "      <td>2</td>\n",
       "      <td>1009</td>\n",
       "      <td>6160.051753</td>\n",
       "      <td>(subway, bus)</td>\n",
       "      <td>subway</td>\n",
       "    </tr>\n",
       "    <tr>\n",
       "      <th>5</th>\n",
       "      <td>OD_rgnwdTHKRA6H5kNMyRBgfS_o</td>\n",
       "      <td>OD_rgnwdTHKRA6H5kNMyRBgfS_d</td>\n",
       "      <td>systra-sf</td>\n",
       "      <td>2601.883487</td>\n",
       "      <td>(OD_rgnwdTHKRA6H5kNMyRBgfS_o, node_2864, node_...</td>\n",
       "      <td>best_path</td>\n",
       "      <td>False</td>\n",
       "      <td>[node_8891, node_10446]</td>\n",
       "      <td>[node_212, node_2472]</td>\n",
       "      <td>[node_2864, node_2883, node_10085, node_10086,...</td>\n",
       "      <td>...</td>\n",
       "      <td>[(OD_rgnwdTHKRA6H5kNMyRBgfS_o, node_2864), (no...</td>\n",
       "      <td>[]</td>\n",
       "      <td>[link_13664, link_9646]</td>\n",
       "      <td>[link_13669, link_9657]</td>\n",
       "      <td>False</td>\n",
       "      <td>1</td>\n",
       "      <td>1187</td>\n",
       "      <td>6862.255227</td>\n",
       "      <td>(subway, bus)</td>\n",
       "      <td>subway</td>\n",
       "    </tr>\n",
       "    <tr>\n",
       "      <th>6</th>\n",
       "      <td>OD_bQtsoSivwVQME4XNKwr2vM_o</td>\n",
       "      <td>OD_bQtsoSivwVQME4XNKwr2vM_d</td>\n",
       "      <td>sb-sf</td>\n",
       "      <td>2885.972033</td>\n",
       "      <td>(OD_bQtsoSivwVQME4XNKwr2vM_o, node_10496, link...</td>\n",
       "      <td>best_path</td>\n",
       "      <td>False</td>\n",
       "      <td>[node_10496, node_2978]</td>\n",
       "      <td>[node_623, node_9987]</td>\n",
       "      <td>[node_10496, node_623, node_691, node_2978, no...</td>\n",
       "      <td>...</td>\n",
       "      <td>[(OD_bQtsoSivwVQME4XNKwr2vM_o, node_10496), (n...</td>\n",
       "      <td>[]</td>\n",
       "      <td>[link_9243, link_9025]</td>\n",
       "      <td>[link_9245, link_9033]</td>\n",
       "      <td>False</td>\n",
       "      <td>1</td>\n",
       "      <td>1121</td>\n",
       "      <td>4315.300977</td>\n",
       "      <td>(bus,)</td>\n",
       "      <td>bus</td>\n",
       "    </tr>\n",
       "    <tr>\n",
       "      <th>7</th>\n",
       "      <td>OD_icVzMR6FonccfVTQzMtj5i_o</td>\n",
       "      <td>OD_icVzMR6FonccfVTQzMtj5i_d</td>\n",
       "      <td>sf-sb</td>\n",
       "      <td>2563.224628</td>\n",
       "      <td>(OD_icVzMR6FonccfVTQzMtj5i_o, node_9932, node_...</td>\n",
       "      <td>best_path</td>\n",
       "      <td>False</td>\n",
       "      <td>[node_2474, node_212, node_10487]</td>\n",
       "      <td>[node_3318, node_220, node_10505]</td>\n",
       "      <td>[node_9932, node_2474, node_3318, node_10446, ...</td>\n",
       "      <td>...</td>\n",
       "      <td>[(OD_icVzMR6FonccfVTQzMtj5i_o, node_9932), (no...</td>\n",
       "      <td>[]</td>\n",
       "      <td>[link_9715, link_13670, link_9230]</td>\n",
       "      <td>[link_9725, link_13673, link_9231]</td>\n",
       "      <td>False</td>\n",
       "      <td>2</td>\n",
       "      <td>1233</td>\n",
       "      <td>6752.881711</td>\n",
       "      <td>(subway, bus)</td>\n",
       "      <td>subway</td>\n",
       "    </tr>\n",
       "    <tr>\n",
       "      <th>8</th>\n",
       "      <td>OD_dRz4xxHQNaSEo2XzDkLUfi_o</td>\n",
       "      <td>OD_dRz4xxHQNaSEo2XzDkLUfi_d</td>\n",
       "      <td>trip</td>\n",
       "      <td>4724.146896</td>\n",
       "      <td>(OD_dRz4xxHQNaSEo2XzDkLUfi_o, node_3426, node_...</td>\n",
       "      <td>best_path</td>\n",
       "      <td>False</td>\n",
       "      <td>[node_220, node_3999]</td>\n",
       "      <td>[node_232, node_4446]</td>\n",
       "      <td>[node_3426, node_3427, node_3393, node_536, no...</td>\n",
       "      <td>...</td>\n",
       "      <td>[(OD_dRz4xxHQNaSEo2XzDkLUfi_o, node_3426), (no...</td>\n",
       "      <td>[]</td>\n",
       "      <td>[link_13674, link_4378]</td>\n",
       "      <td>[link_13679, link_4438]</td>\n",
       "      <td>False</td>\n",
       "      <td>1</td>\n",
       "      <td>2381</td>\n",
       "      <td>18660.267227</td>\n",
       "      <td>(subway, bus)</td>\n",
       "      <td>subway</td>\n",
       "    </tr>\n",
       "    <tr>\n",
       "      <th>9</th>\n",
       "      <td>OD_7zMQrTJ35CKtxGTg5paa65_o</td>\n",
       "      <td>OD_7zMQrTJ35CKtxGTg5paa65_d</td>\n",
       "      <td>mt_2</td>\n",
       "      <td>3097.479739</td>\n",
       "      <td>(OD_7zMQrTJ35CKtxGTg5paa65_o, node_6344, node_...</td>\n",
       "      <td>best_path</td>\n",
       "      <td>False</td>\n",
       "      <td>[node_12188, node_298, node_14347]</td>\n",
       "      <td>[node_1638, node_247, node_8864]</td>\n",
       "      <td>[node_6344, node_6401, node_12187, node_12188,...</td>\n",
       "      <td>...</td>\n",
       "      <td>[(OD_7zMQrTJ35CKtxGTg5paa65_o, node_6344), (no...</td>\n",
       "      <td>[]</td>\n",
       "      <td>[link_3052, link_13834, link_13742]</td>\n",
       "      <td>[link_3064, link_13834, link_13747]</td>\n",
       "      <td>False</td>\n",
       "      <td>2</td>\n",
       "      <td>1413</td>\n",
       "      <td>10293.898557</td>\n",
       "      <td>(subway, bus)</td>\n",
       "      <td>subway</td>\n",
       "    </tr>\n",
       "    <tr>\n",
       "      <th>10</th>\n",
       "      <td>OD_9oNFuf2UJhuAzgrqhYGdYk_o</td>\n",
       "      <td>OD_9oNFuf2UJhuAzgrqhYGdYk_d</td>\n",
       "      <td>mt_1</td>\n",
       "      <td>3544.392590</td>\n",
       "      <td>(OD_9oNFuf2UJhuAzgrqhYGdYk_o, node_6423, node_...</td>\n",
       "      <td>best_path</td>\n",
       "      <td>False</td>\n",
       "      <td>[node_12188, node_298, node_14347, node_194]</td>\n",
       "      <td>[node_1638, node_247, node_8895, node_190]</td>\n",
       "      <td>[node_6423, node_12189, node_12187, node_12188...</td>\n",
       "      <td>...</td>\n",
       "      <td>[(OD_9oNFuf2UJhuAzgrqhYGdYk_o, node_6423), (no...</td>\n",
       "      <td>[]</td>\n",
       "      <td>[link_3052, link_13834, link_13742, link_13698]</td>\n",
       "      <td>[link_3064, link_13834, link_13745, link_13699]</td>\n",
       "      <td>False</td>\n",
       "      <td>3</td>\n",
       "      <td>1413</td>\n",
       "      <td>10562.769197</td>\n",
       "      <td>(subway, bus)</td>\n",
       "      <td>subway</td>\n",
       "    </tr>\n",
       "    <tr>\n",
       "      <th>11</th>\n",
       "      <td>OD_1kogghMByqR99r4A8t9NZT_o</td>\n",
       "      <td>OD_1kogghMByqR99r4A8t9NZT_d</td>\n",
       "      <td>mt_3</td>\n",
       "      <td>2859.863443</td>\n",
       "      <td>(OD_1kogghMByqR99r4A8t9NZT_o, node_6340, link_...</td>\n",
       "      <td>best_path</td>\n",
       "      <td>False</td>\n",
       "      <td>[node_6340, node_11465, node_14339, node_206]</td>\n",
       "      <td>[node_1638, node_278, node_14344, node_212]</td>\n",
       "      <td>[node_6340, node_1638, node_297, node_11465, n...</td>\n",
       "      <td>...</td>\n",
       "      <td>[(OD_1kogghMByqR99r4A8t9NZT_o, node_6340), (no...</td>\n",
       "      <td>[]</td>\n",
       "      <td>[link_3054, link_13836, link_13713, link_13668]</td>\n",
       "      <td>[link_3064, link_13842, link_13718, link_13669]</td>\n",
       "      <td>False</td>\n",
       "      <td>3</td>\n",
       "      <td>1753</td>\n",
       "      <td>14382.979730</td>\n",
       "      <td>(subway, bus)</td>\n",
       "      <td>subway</td>\n",
       "    </tr>\n",
       "  </tbody>\n",
       "</table>\n",
       "<p>12 rows × 22 columns</p>\n",
       "</div>"
      ],
      "text/plain": [
       "                         origin                  destination       name  \\\n",
       "0   OD_29jjnnWWXWDoZKHfXqtSJx_o  OD_29jjnnWWXWDoZKHfXqtSJx_d  sb-systra   \n",
       "1   OD_kykfkAXaKsTygo9fDsWMFG_o  OD_kykfkAXaKsTygo9fDsWMFG_d  systra_sb   \n",
       "2   OD_79HUhzRX6D5HBwNSgVwSV2_o  OD_79HUhzRX6D5HBwNSgVwSV2_d      sb-jb   \n",
       "3   OD_eKAH5Dq14xF92bAh2Ned9y_o  OD_eKAH5Dq14xF92bAh2Ned9y_d      jb-sb   \n",
       "4   OD_sDYb2uoJCn9iznErFzKb36_o  OD_sDYb2uoJCn9iznErFzKb36_d  sf-systra   \n",
       "5   OD_rgnwdTHKRA6H5kNMyRBgfS_o  OD_rgnwdTHKRA6H5kNMyRBgfS_d  systra-sf   \n",
       "6   OD_bQtsoSivwVQME4XNKwr2vM_o  OD_bQtsoSivwVQME4XNKwr2vM_d      sb-sf   \n",
       "7   OD_icVzMR6FonccfVTQzMtj5i_o  OD_icVzMR6FonccfVTQzMtj5i_d      sf-sb   \n",
       "8   OD_dRz4xxHQNaSEo2XzDkLUfi_o  OD_dRz4xxHQNaSEo2XzDkLUfi_d       trip   \n",
       "9   OD_7zMQrTJ35CKtxGTg5paa65_o  OD_7zMQrTJ35CKtxGTg5paa65_d       mt_2   \n",
       "10  OD_9oNFuf2UJhuAzgrqhYGdYk_o  OD_9oNFuf2UJhuAzgrqhYGdYk_d       mt_1   \n",
       "11  OD_1kogghMByqR99r4A8t9NZT_o  OD_1kogghMByqR99r4A8t9NZT_d       mt_3   \n",
       "\n",
       "          gtime                                               path  \\\n",
       "0   2454.382414  (OD_29jjnnWWXWDoZKHfXqtSJx_o, node_3426, node_...   \n",
       "1   2128.517417  (OD_kykfkAXaKsTygo9fDsWMFG_o, node_14159, node...   \n",
       "2   3191.265807  (OD_79HUhzRX6D5HBwNSgVwSV2_o, node_3426, node_...   \n",
       "3   2590.451913  (OD_eKAH5Dq14xF92bAh2Ned9y_o, node_1792, node_...   \n",
       "4   2451.401571  (OD_sDYb2uoJCn9iznErFzKb36_o, node_2474, link_...   \n",
       "5   2601.883487  (OD_rgnwdTHKRA6H5kNMyRBgfS_o, node_2864, node_...   \n",
       "6   2885.972033  (OD_bQtsoSivwVQME4XNKwr2vM_o, node_10496, link...   \n",
       "7   2563.224628  (OD_icVzMR6FonccfVTQzMtj5i_o, node_9932, node_...   \n",
       "8   4724.146896  (OD_dRz4xxHQNaSEo2XzDkLUfi_o, node_3426, node_...   \n",
       "9   3097.479739  (OD_7zMQrTJ35CKtxGTg5paa65_o, node_6344, node_...   \n",
       "10  3544.392590  (OD_9oNFuf2UJhuAzgrqhYGdYk_o, node_6423, node_...   \n",
       "11  2859.863443  (OD_1kogghMByqR99r4A8t9NZT_o, node_6340, link_...   \n",
       "\n",
       "   pathfinder_session  reversed  \\\n",
       "0           best_path     False   \n",
       "1           best_path     False   \n",
       "2           best_path     False   \n",
       "3           best_path     False   \n",
       "4           best_path     False   \n",
       "5           best_path     False   \n",
       "6           best_path     False   \n",
       "7           best_path     False   \n",
       "8           best_path     False   \n",
       "9           best_path     False   \n",
       "10          best_path     False   \n",
       "11          best_path     False   \n",
       "\n",
       "                                         boardings  \\\n",
       "0                                      [node_8879]   \n",
       "1                [node_8861, node_206, node_10487]   \n",
       "2   [node_8879, node_8888, node_14345, node_14341]   \n",
       "3     [node_310, node_14339, node_206, node_10487]   \n",
       "4               [node_2474, node_2582, node_14333]   \n",
       "5                          [node_8891, node_10446]   \n",
       "6                          [node_10496, node_2978]   \n",
       "7                [node_2474, node_212, node_10487]   \n",
       "8                            [node_220, node_3999]   \n",
       "9               [node_12188, node_298, node_14347]   \n",
       "10    [node_12188, node_298, node_14347, node_194]   \n",
       "11   [node_6340, node_11465, node_14339, node_206]   \n",
       "\n",
       "                                        alightings  \\\n",
       "0                                       [node_200]   \n",
       "1               [node_14345, node_220, node_10505]   \n",
       "2   [node_14342, node_206, node_14340, node_14009]   \n",
       "3     [node_278, node_14344, node_220, node_10505]   \n",
       "4                [node_2583, node_13899, node_259]   \n",
       "5                            [node_212, node_2472]   \n",
       "6                            [node_623, node_9987]   \n",
       "7                [node_3318, node_220, node_10505]   \n",
       "8                            [node_232, node_4446]   \n",
       "9                 [node_1638, node_247, node_8864]   \n",
       "10      [node_1638, node_247, node_8895, node_190]   \n",
       "11     [node_1638, node_278, node_14344, node_212]   \n",
       "\n",
       "                                            node_path  ...  \\\n",
       "0   [node_3426, node_3427, node_3393, node_536, no...  ...   \n",
       "1   [node_14159, node_2943, node_4598, node_258, n...  ...   \n",
       "2   [node_3426, node_3427, node_3393, node_536, no...  ...   \n",
       "3   [node_1792, node_309, node_310, node_278, node...  ...   \n",
       "4   [node_2474, node_2583, node_2582, node_13899, ...  ...   \n",
       "5   [node_2864, node_2883, node_10085, node_10086,...  ...   \n",
       "6   [node_10496, node_623, node_691, node_2978, no...  ...   \n",
       "7   [node_9932, node_2474, node_3318, node_10446, ...  ...   \n",
       "8   [node_3426, node_3427, node_3393, node_536, no...  ...   \n",
       "9   [node_6344, node_6401, node_12187, node_12188,...  ...   \n",
       "10  [node_6423, node_12189, node_12187, node_12188...  ...   \n",
       "11  [node_6340, node_1638, node_297, node_11465, n...  ...   \n",
       "\n",
       "                                               ntlegs transfers  \\\n",
       "0   [(OD_29jjnnWWXWDoZKHfXqtSJx_o, node_3426), (no...        []   \n",
       "1   [(OD_kykfkAXaKsTygo9fDsWMFG_o, node_14159), (n...        []   \n",
       "2   [(OD_79HUhzRX6D5HBwNSgVwSV2_o, node_3426), (no...        []   \n",
       "3   [(OD_eKAH5Dq14xF92bAh2Ned9y_o, node_1792), (no...        []   \n",
       "4   [(OD_sDYb2uoJCn9iznErFzKb36_o, node_2474), (no...        []   \n",
       "5   [(OD_rgnwdTHKRA6H5kNMyRBgfS_o, node_2864), (no...        []   \n",
       "6   [(OD_bQtsoSivwVQME4XNKwr2vM_o, node_10496), (n...        []   \n",
       "7   [(OD_icVzMR6FonccfVTQzMtj5i_o, node_9932), (no...        []   \n",
       "8   [(OD_dRz4xxHQNaSEo2XzDkLUfi_o, node_3426), (no...        []   \n",
       "9   [(OD_7zMQrTJ35CKtxGTg5paa65_o, node_6344), (no...        []   \n",
       "10  [(OD_9oNFuf2UJhuAzgrqhYGdYk_o, node_6423), (no...        []   \n",
       "11  [(OD_1kogghMByqR99r4A8t9NZT_o, node_6340), (no...        []   \n",
       "\n",
       "                                      boarding_links  \\\n",
       "0                                       [link_13686]   \n",
       "1                [link_13749, link_13668, link_9230]   \n",
       "2   [link_13686, link_13667, link_13753, link_13827]   \n",
       "3    [link_13842, link_13713, link_13668, link_9230]   \n",
       "4                 [link_9715, link_7358, link_13716]   \n",
       "5                            [link_13664, link_9646]   \n",
       "6                             [link_9243, link_9025]   \n",
       "7                 [link_9715, link_13670, link_9230]   \n",
       "8                            [link_13674, link_4378]   \n",
       "9                [link_3052, link_13834, link_13742]   \n",
       "10   [link_3052, link_13834, link_13742, link_13698]   \n",
       "11   [link_3054, link_13836, link_13713, link_13668]   \n",
       "\n",
       "                                     alighting_links all_walk ntransfers  \\\n",
       "0                                       [link_13694]    False          0   \n",
       "1                [link_13752, link_13673, link_9231]    False          2   \n",
       "2   [link_13691, link_13667, link_13758, link_13827]    False          3   \n",
       "3    [link_13842, link_13718, link_13673, link_9231]    False          3   \n",
       "4                 [link_9716, link_7363, link_13722]    False          2   \n",
       "5                            [link_13669, link_9657]    False          1   \n",
       "6                             [link_9245, link_9033]    False          1   \n",
       "7                 [link_9725, link_13673, link_9231]    False          2   \n",
       "8                            [link_13679, link_4438]    False          1   \n",
       "9                [link_3064, link_13834, link_13747]    False          2   \n",
       "10   [link_3064, link_13834, link_13745, link_13699]    False          3   \n",
       "11   [link_3064, link_13842, link_13718, link_13669]    False          3   \n",
       "\n",
       "    time_link_path  length_link_path    route_types  route_type  \n",
       "0              720       6475.076788      (subway,)      subway  \n",
       "1              904       7384.129403  (subway, bus)      subway  \n",
       "2             1200      11192.828333      (subway,)      subway  \n",
       "3             1144      10677.531006  (subway, bus)      subway  \n",
       "4             1009       6160.051753  (subway, bus)      subway  \n",
       "5             1187       6862.255227  (subway, bus)      subway  \n",
       "6             1121       4315.300977         (bus,)         bus  \n",
       "7             1233       6752.881711  (subway, bus)      subway  \n",
       "8             2381      18660.267227  (subway, bus)      subway  \n",
       "9             1413      10293.898557  (subway, bus)      subway  \n",
       "10            1413      10562.769197  (subway, bus)      subway  \n",
       "11            1753      14382.979730  (subway, bus)      subway  \n",
       "\n",
       "[12 rows x 22 columns]"
      ]
     },
     "execution_count": 122,
     "metadata": {},
     "output_type": "execute_result"
    }
   ],
   "source": [
    "pt_los"
   ]
  },
  {
   "cell_type": "code",
   "execution_count": 112,
   "id": "a85004f3",
   "metadata": {},
   "outputs": [
    {
     "name": "stdout",
     "output_type": "stream",
     "text": [
      "pathfinder successfull\n"
     ]
    }
   ],
   "source": [
    "print('pathfinder successfull')"
   ]
  },
  {
   "cell_type": "markdown",
   "id": "88956cc4",
   "metadata": {},
   "source": [
    "# test"
   ]
  },
  {
   "cell_type": "code",
   "execution_count": 117,
   "id": "671a0716",
   "metadata": {},
   "outputs": [],
   "source": [
    "\n"
   ]
  },
  {
   "cell_type": "code",
   "execution_count": null,
   "id": "bdc069c8",
   "metadata": {},
   "outputs": [],
   "source": []
  },
  {
   "cell_type": "code",
   "execution_count": 82,
   "id": "3dc04358",
   "metadata": {},
   "outputs": [],
   "source": []
  }
 ],
 "metadata": {
  "kernelspec": {
   "display_name": "quetzal_312",
   "language": "python",
   "name": "quetzal_312"
  },
  "language_info": {
   "codemirror_mode": {
    "name": "ipython",
    "version": 3
   },
   "file_extension": ".py",
   "mimetype": "text/x-python",
   "name": "python",
   "nbconvert_exporter": "python",
   "pygments_lexer": "ipython3",
   "version": "3.12.2"
  }
 },
 "nbformat": 4,
 "nbformat_minor": 5
}
