{
 "cells": [
  {
   "cell_type": "code",
   "execution_count": 1,
   "id": "bcd35b6a",
   "metadata": {},
   "outputs": [
    {
     "name": "stdout",
     "output_type": "stream",
     "text": [
      "{'training_folder': '../../scenarios/montreal', 'params': {'footpaths': {'max_length': '1000', 'speed': '2.8', 'n_ntlegs': '2'}}, 'period': ''}\n"
     ]
    }
   ],
   "source": [
    "import sys\n",
    "import json\n",
    "\n",
    "footpaths = {'max_length': '1000', 'speed': '2.8', 'n_ntlegs': '2'}\n",
    "params = {'footpaths': footpaths}\n",
    "\n",
    "default = {'training_folder': '../../scenarios/montreal', 'params': params, 'period': ''}\n",
    "manual, argv = (True, default) if 'ipykernel' in sys.argv[0] else (False, dict(default, **json.loads(sys.argv[1])))\n",
    "print(argv)"
   ]
  },
  {
   "cell_type": "code",
   "execution_count": 2,
   "id": "08dfdd4c",
   "metadata": {},
   "outputs": [],
   "source": [
    "import os\n",
    "import geopandas as gpd\n",
    "import pandas as pd\n",
    "\n",
    "sys.path.insert(0, r'../../../quetzal')  # Add path to quetzal\n",
    "from shapely.geometry import Point, LineString\n",
    "from quetzal.model import stepmodel\n",
    "from quetzal.io.quenedi import read_parameters, restrict_df_to_variant\n",
    "\n",
    "\n",
    "on_lambda = bool(os.environ.get('AWS_EXECUTION_ENV'))"
   ]
  },
  {
   "cell_type": "code",
   "execution_count": 3,
   "id": "39d1fcc2",
   "metadata": {},
   "outputs": [],
   "source": [
    "def get_epsg(lat: float, lon: float) -> int:\n",
    "\t\"\"\"\n",
    "\treturn EPSG in meter for a given (lat,lon)\n",
    "\tlat is north south\n",
    "\tlon is est west\n",
    "\t\"\"\"\n",
    "\treturn int(32700 - round((45 + lat) / 90, 0) * 100 + round((183 + lon) / 6, 0))"
   ]
  },
  {
   "cell_type": "markdown",
   "id": "ed0c508d",
   "metadata": {},
   "source": [
    "# Folders stucture and params"
   ]
  },
  {
   "cell_type": "markdown",
   "id": "7a99c7ed",
   "metadata": {},
   "source": [
    "everything is on S3 (nothing on ECR) so no direct input folder. just scenarios/{scen}/inputs/"
   ]
  },
  {
   "cell_type": "code",
   "execution_count": 4,
   "id": "0849876e",
   "metadata": {},
   "outputs": [],
   "source": [
    "period = argv.get('period', '')"
   ]
  },
  {
   "cell_type": "code",
   "execution_count": 5,
   "id": "7ee47b85",
   "metadata": {},
   "outputs": [
    {
     "name": "stdout",
     "output_type": "stream",
     "text": [
      "input folder:  ../../scenarios/montreal/inputs\n",
      "input folder:  ../../scenarios/montreal/inputs/pt\n",
      "output folder:  ../../scenarios/montreal/outputs/\n"
     ]
    }
   ],
   "source": [
    "base_folder = argv['training_folder']\n",
    "input_folder = os.path.join(base_folder, 'inputs')\n",
    "pt_folder = os.path.join(input_folder, 'pt')\n",
    "road_folder = os.path.join(input_folder, 'road')\n",
    "od_folder = os.path.join(input_folder, 'od')\n",
    "\n",
    "output_folder = os.path.join(base_folder, 'outputs', period)\n",
    "if not os.path.exists(output_folder):\n",
    "\tos.makedirs(output_folder)\n",
    "\n",
    "print('input folder: ', input_folder)\n",
    "print('input folder: ', pt_folder)\n",
    "print('output folder: ', output_folder)\n"
   ]
  },
  {
   "cell_type": "code",
   "execution_count": 6,
   "id": "35e68bf0",
   "metadata": {},
   "outputs": [],
   "source": [
    "params = read_parameters(argv['params'], period=period)"
   ]
  },
  {
   "cell_type": "code",
   "execution_count": 7,
   "id": "0278134a",
   "metadata": {},
   "outputs": [],
   "source": [
    "max_length = float(params['footpaths']['max_length'])\n",
    "speed = float(params['footpaths']['speed'])\n",
    "n_ntlegs = int(params['footpaths']['n_ntlegs'])\n"
   ]
  },
  {
   "cell_type": "markdown",
   "id": "2f9e3c62",
   "metadata": {},
   "source": [
    "# inputs"
   ]
  },
  {
   "cell_type": "code",
   "execution_count": 8,
   "id": "1000829a",
   "metadata": {},
   "outputs": [],
   "source": [
    "links = gpd.read_file(os.path.join(pt_folder, 'links.geojson'))\n",
    "nodes = gpd.read_file(os.path.join(pt_folder, 'nodes.geojson'))\n",
    "links = links.set_index('index')\n",
    "nodes = nodes.set_index('index')"
   ]
  },
  {
   "cell_type": "code",
   "execution_count": 9,
   "id": "90ee6fec",
   "metadata": {},
   "outputs": [
    {
     "name": "stdout",
     "output_type": "stream",
     "text": [
      "keep and rename:  {}\n",
      "drops:  []\n"
     ]
    }
   ],
   "source": [
    "links = restrict_df_to_variant(links, period)\n",
    "# only keep links with headway not 0\n",
    "links = links[links['headway'] != 0]"
   ]
  },
  {
   "cell_type": "code",
   "execution_count": 10,
   "id": "e135e308",
   "metadata": {},
   "outputs": [],
   "source": [
    "# rnodes_file = os.path.join(road_folder, 'road_nodes.geojson')\n",
    "# rnodes_file_provided = os.path.isfile(rnodes_file)\n",
    "# if rnodes_file_provided:\n",
    "# \trnodes = gpd.read_file(os.path.join(road_folder, 'road_nodes.geojson'))\n",
    "# \trnodes = rnodes.set_index('index')\n",
    "# \trlinks = gpd.read_file(os.path.join(road_folder, 'road_links.geojson'))\n",
    "# \trlinks = rlinks.set_index('index')\n",
    "# print('rnodes?', rnodes_file_provided)"
   ]
  },
  {
   "cell_type": "code",
   "execution_count": 11,
   "id": "c36c4732",
   "metadata": {},
   "outputs": [],
   "source": [
    "od_file = os.path.join(od_folder, 'od.geojson')\n",
    "od_file_provided = os.path.isfile(od_file)\n",
    "if od_file_provided:\n",
    "\tod_test = gpd.read_file(od_file)\n",
    "\tif 'name' not in od_test.columns:\n",
    "\t\tod_test['name'] = od_test['index']\n",
    "\tod_test['name'] = od_test['name'].fillna(od_test['index'].astype(str))\n",
    "else:\n",
    "\tprint('end of pathfinder')\n",
    "\tend_of_notebook"
   ]
  },
  {
   "cell_type": "markdown",
   "id": "6606a15d",
   "metadata": {},
   "source": [
    "end_of_notebook here if OD_file not provided!!"
   ]
  },
  {
   "cell_type": "code",
   "execution_count": null,
   "id": "354753ed",
   "metadata": {},
   "outputs": [],
   "source": []
  },
  {
   "cell_type": "code",
   "execution_count": 12,
   "id": "4ba9d427",
   "metadata": {},
   "outputs": [],
   "source": [
    "od_test['geometry_o'] = od_test['geometry'].apply(lambda g: Point(g.coords[:][0]))\n",
    "od_test['geometry_d'] = od_test['geometry'].apply(lambda g: Point(g.coords[:][1]))\n",
    "\n",
    "od_test['origin'] = od_test['index'].astype(str) + '_o'\n",
    "od_test['destination'] = od_test['index'].astype(str) + '_d'\n",
    "\n",
    "\n",
    "zones = od_test.copy()\n",
    "zones_d = od_test.copy()\n",
    "zones['geometry'] = zones['geometry_o']\n",
    "zones_d['geometry'] = zones_d['geometry_d']\n",
    "zones['index'] = zones['origin']\n",
    "zones_d['index'] = zones_d['destination']\n",
    "zones = pd.concat([zones[['index', 'geometry']], zones_d[['index', 'geometry']]])\n",
    "zones = zones.set_index('index')\n",
    "\n",
    "od_set = set(zip(od_test['origin'], od_test['destination']))\n"
   ]
  },
  {
   "cell_type": "markdown",
   "id": "696d1203",
   "metadata": {},
   "source": [
    "# preparation"
   ]
  },
  {
   "cell_type": "code",
   "execution_count": 13,
   "id": "8fffd8ad",
   "metadata": {},
   "outputs": [],
   "source": [
    "def add_col(links, col='length'):\n",
    "\tif col not in links.columns:\n",
    "\t\treturn True\n",
    "\telif any(links[col].isnull()):\n",
    "\t\treturn True\n",
    "\telse:\n",
    "\t\treturn False"
   ]
  },
  {
   "cell_type": "code",
   "execution_count": 14,
   "id": "2f1872cf",
   "metadata": {},
   "outputs": [],
   "source": [
    "if add_col(links, 'length'):\n",
    "\tprint('add length')\n",
    "\tcentroid = [*LineString(nodes.centroid.values).centroid.coords][0]\n",
    "\tcrs = get_epsg(centroid[1], centroid[0])\n",
    "\tprint('create length from geometry')\n",
    "\tlinks['length'] = links.to_crs(crs).length\n",
    "\n",
    "if add_col(links, 'speed'):\n",
    "\tprint('add speed')\n",
    "\tlinks['speed'] = links['length'] / links['time'] * 3.6\n"
   ]
  },
  {
   "cell_type": "markdown",
   "id": "528232c8",
   "metadata": {},
   "source": [
    "# Walkmodel"
   ]
  },
  {
   "cell_type": "code",
   "execution_count": 15,
   "id": "826e1526",
   "metadata": {},
   "outputs": [],
   "source": [
    "sm = stepmodel.StepModel(epsg=4326)\n",
    "sm.links = links\n",
    "sm.nodes = nodes\n",
    "sm.zones = zones\n",
    "\n",
    "# sm.road_links = rlinks\n",
    "# sm.road_nodes = rnodes"
   ]
  },
  {
   "cell_type": "code",
   "execution_count": 16,
   "id": "c936221b",
   "metadata": {
    "scrolled": false
   },
   "outputs": [],
   "source": [
    "# We remove highway for the walkmodel\n",
    "# walk_type = ['Artere','Collectrices','Locale','Nationale','Regionale']\n",
    "# walkmodel.road_links = walkmodel.road_links[~walkmodel.road_links['highway'].isin(walk_type)]\n",
    "# walkmodel.road_nodes = walkmodel.road_nodes.loc[list(np.unique(walkmodel.road_links[['a','b']].values.flatten()))]\n",
    "# walkmodel.preparation_clusterize_nodes(distance_threshold=0.000002)\n",
    "# Footpath between PT nodes\n",
    "sm.preparation_footpaths(speed=speed, max_length=max_length, clusters_distance=0.00001)"
   ]
  },
  {
   "cell_type": "code",
   "execution_count": 17,
   "id": "6644984f",
   "metadata": {
    "scrolled": false
   },
   "outputs": [],
   "source": [
    "# Access footpaths (zone_to_road and road_to_transit)\n",
    "sm.preparation_ntlegs(\n",
    "\tshort_leg_speed=speed,\n",
    "\tlong_leg_speed=speed,  # tout le monde marche\n",
    "\tthreshold=1000,\n",
    "\tzone_to_transit=True,\n",
    "\tzone_to_road=False,\n",
    "\troad_to_transit=False,\n",
    "\tn_ntlegs=n_ntlegs,\n",
    "\t# max_ntleg_length=2000,\n",
    ")"
   ]
  },
  {
   "cell_type": "code",
   "execution_count": 18,
   "id": "0287e906",
   "metadata": {},
   "outputs": [],
   "source": [
    "# Copy connectors to the model\n",
    "sm.footpaths = sm.footpaths.drop(columns='voronoi')\n",
    "# sm.footpaths = walkmodel.footpaths.drop(columns='voronoi').copy()\n",
    "# sm.zone_to_transit = walkmodel.zone_to_transit.copy()"
   ]
  },
  {
   "cell_type": "code",
   "execution_count": 19,
   "id": "8a49f6b4",
   "metadata": {},
   "outputs": [],
   "source": [
    "sm.footpaths['speed'] = sm.footpaths['length'] / sm.footpaths['time'] * 3.6\n"
   ]
  },
  {
   "cell_type": "markdown",
   "id": "7993fdde",
   "metadata": {},
   "source": [
    "# pathfinder"
   ]
  },
  {
   "cell_type": "code",
   "execution_count": 20,
   "id": "e405bb66",
   "metadata": {},
   "outputs": [
    {
     "name": "stdout",
     "output_type": "stream",
     "text": [
      "start publicpathfinder\n",
      "12 sources 12 targets direct search\n",
      "path_analysis\n"
     ]
    }
   ],
   "source": [
    "sm.step_pt_pathfinder(\n",
    "\tbroken_routes=False,\n",
    "\tbroken_modes=False,\n",
    "\tkeep_pathfinder=True,\n",
    "\tmode_column='route_type',\n",
    "\troute_column='route_id',\n",
    "\tspeedup=True,\n",
    "\twalk_on_road=False,\n",
    "\tpath_analysis=False,\n",
    "\tod_set=od_set,\n",
    ")\n"
   ]
  },
  {
   "cell_type": "code",
   "execution_count": null,
   "id": "8da24899",
   "metadata": {},
   "outputs": [],
   "source": []
  },
  {
   "cell_type": "code",
   "execution_count": 21,
   "id": "fffb2aeb",
   "metadata": {},
   "outputs": [
    {
     "name": "stderr",
     "output_type": "stream",
     "text": [
      "path_analysis: 100%|██████████| 12/12 [00:00<00:00, 54120.05it/s]\n"
     ]
    }
   ],
   "source": [
    "sm.analysis_pt_los(walk_on_road=False)"
   ]
  },
  {
   "cell_type": "markdown",
   "id": "50fea814",
   "metadata": {},
   "source": [
    "# create path"
   ]
  },
  {
   "cell_type": "code",
   "execution_count": 22,
   "id": "d48f2e45",
   "metadata": {},
   "outputs": [],
   "source": [
    "od_links = od_test.merge(sm.pt_los[['origin', 'destination', 'gtime', 'link_path']], on=['origin', 'destination'])\n",
    "od_links = od_links.drop(columns=['geometry', 'geometry_o', 'geometry_d', 'origin', 'destination'])\n",
    "od_links = od_links.explode('link_path')\n",
    "# may add route_width if quenedi can handle it one day.\n",
    "od_links = od_links.merge(sm.links[['route_color', 'geometry', 'time', 'speed']], left_on='link_path', right_index=True)\n",
    "od_links = od_links.drop(columns='link_path')"
   ]
  },
  {
   "cell_type": "code",
   "execution_count": 23,
   "id": "9906956d",
   "metadata": {},
   "outputs": [],
   "source": [
    "od_ntlegs = od_test.merge(sm.pt_los[['origin', 'destination', 'gtime', 'ntlegs']], on=['origin', 'destination'])\n",
    "od_ntlegs = od_ntlegs.drop(columns=['geometry', 'geometry_o', 'geometry_d', 'origin', 'destination'])\n",
    "od_ntlegs = od_ntlegs.explode('ntlegs')\n",
    "\n",
    "ntlegs_dict = sm.zone_to_transit.reset_index().set_index(['a', 'b'])['index'].to_dict()\n",
    "od_ntlegs['ntlegs'] = od_ntlegs['ntlegs'].apply(ntlegs_dict.get)\n",
    "\n",
    "od_ntlegs = od_ntlegs.merge(sm.zone_to_transit[['geometry', 'time', 'speed']], left_on='ntlegs', right_index=True)\n",
    "od_ntlegs = od_ntlegs.drop(columns='ntlegs')\n",
    "# od_ntlegs['route_color']='4B4B4B'"
   ]
  },
  {
   "cell_type": "code",
   "execution_count": 24,
   "id": "654738a8",
   "metadata": {},
   "outputs": [],
   "source": [
    "od_footpaths = od_test.merge(sm.pt_los[['origin', 'destination', 'gtime', 'footpaths']], on=['origin', 'destination'])\n",
    "od_footpaths = od_footpaths.drop(columns=['geometry', 'geometry_o', 'geometry_d', 'origin', 'destination'])\n",
    "od_footpaths = od_footpaths.explode('footpaths')\n",
    "\n",
    "footpaths_dict = sm.footpaths.reset_index().set_index(['a', 'b'])['index'].to_dict()\n",
    "od_footpaths['footpaths'] = od_footpaths['footpaths'].apply(footpaths_dict.get)\n",
    "\n",
    "od_footpaths = od_footpaths.merge(sm.footpaths[['geometry', 'time', 'speed']], left_on='footpaths', right_index=True)\n",
    "od_footpaths = od_footpaths.drop(columns='footpaths')"
   ]
  },
  {
   "cell_type": "code",
   "execution_count": 25,
   "id": "465bdf52",
   "metadata": {},
   "outputs": [],
   "source": [
    "od_route = pd.concat([od_links, od_footpaths, od_ntlegs], axis=0)"
   ]
  },
  {
   "cell_type": "code",
   "execution_count": 26,
   "id": "78a799dd",
   "metadata": {},
   "outputs": [],
   "source": [
    "od_route['route_color'] = od_route['route_color'].fillna('838383')\n",
    "od_route['route_color'] = '#' + od_route['route_color']"
   ]
  },
  {
   "cell_type": "code",
   "execution_count": null,
   "id": "d51cfa0e",
   "metadata": {},
   "outputs": [],
   "source": []
  },
  {
   "cell_type": "code",
   "execution_count": 27,
   "id": "dd9245eb",
   "metadata": {},
   "outputs": [],
   "source": [
    "od_route = od_route.rename(columns={'name': 'od_name'}).drop(columns='index')\n",
    "od_route.reset_index(drop=True)\n",
    "od_route.index.name = 'index'"
   ]
  },
  {
   "cell_type": "code",
   "execution_count": 28,
   "id": "78e3e7f6",
   "metadata": {},
   "outputs": [],
   "source": [
    "od_route = gpd.GeoDataFrame(od_route, crs=4326)\n",
    "od_route.to_file(os.path.join(output_folder, 'od_route.geojson'), driver='GeoJSON')"
   ]
  },
  {
   "cell_type": "markdown",
   "id": "60eb37d5",
   "metadata": {},
   "source": [
    "# export PT lost metrics"
   ]
  },
  {
   "cell_type": "code",
   "execution_count": 29,
   "id": "a8bafbc2",
   "metadata": {},
   "outputs": [],
   "source": [
    "sm.analysis_pt_time()\n",
    "sm.analysis_pt_route_type(['rail', 'subway', 'tram', 'bus', 'ferry', 'cable_car', 'gondola', 'funicular'])\n",
    "pt_los = od_test[['origin', 'destination', 'name']].merge(sm.pt_los, on=['origin', 'destination'])"
   ]
  },
  {
   "cell_type": "code",
   "execution_count": 30,
   "id": "59984ef5",
   "metadata": {},
   "outputs": [],
   "source": [
    "pt_los['walking_time'] = pt_los['access_time'] + pt_los['footpath_time']\n",
    "time_per_mode_cols = []\n",
    "# get in_vehicle_time per modes\n",
    "mode_list = sm.links['route_type'].unique()\n",
    "for mode in mode_list:\n",
    "\ttime_dict = sm.links[sm.links['route_type'] == mode]['time'].to_dict()\n",
    "\tcol = f'{mode}_time'\n",
    "\tpt_los[col] = pt_los['path'].apply(lambda ls: sum([time_dict.get(el, 0) for el in ls]))\n",
    "\ttime_per_mode_cols.append(col)\n"
   ]
  },
  {
   "cell_type": "code",
   "execution_count": 31,
   "id": "d942e454",
   "metadata": {},
   "outputs": [],
   "source": [
    "time_cols = ['walking_time', 'waiting_time', 'boarding_time', *time_per_mode_cols]\n",
    "cols = ['name', 'time', 'in_vehicle_time', *time_cols, 'ntransfers', 'route_types']\n",
    "pt_los = pt_los[cols]\n",
    "pt_los.index.name = 'index'"
   ]
  },
  {
   "cell_type": "code",
   "execution_count": 32,
   "id": "5471d7fe",
   "metadata": {},
   "outputs": [],
   "source": [
    "pt_los.to_csv(os.path.join(output_folder, 'od_los.csv'))"
   ]
  },
  {
   "cell_type": "code",
   "execution_count": 33,
   "id": "a85004f3",
   "metadata": {},
   "outputs": [
    {
     "name": "stdout",
     "output_type": "stream",
     "text": [
      "pathfinder successfull\n"
     ]
    }
   ],
   "source": [
    "print('pathfinder successfull')"
   ]
  },
  {
   "cell_type": "code",
   "execution_count": 34,
   "id": "36eedc1d",
   "metadata": {},
   "outputs": [],
   "source": [
    "# pt_los"
   ]
  },
  {
   "cell_type": "markdown",
   "id": "88956cc4",
   "metadata": {},
   "source": [
    "# Bar plot"
   ]
  },
  {
   "cell_type": "code",
   "execution_count": 35,
   "id": "e9bc8b66",
   "metadata": {},
   "outputs": [],
   "source": [
    "import matplotlib.pyplot as plt\n",
    "\n",
    "systra_colors = [\n",
    "\t'#74a9cf',\n",
    "\t'#0570b0',\n",
    "\t'#bdc9e1',\n",
    "\t'#b2df8a',\n",
    "\t'#33a02c',\n",
    "\t'#fb9a99',\n",
    "\t'#e31a1c',\n",
    "\t'#fdbf6f',\n",
    "\t'#ff7f00',\n",
    "\t'#cab2d6',\n",
    "\t'#6a3d9a',\n",
    "]\n"
   ]
  },
  {
   "cell_type": "code",
   "execution_count": 36,
   "id": "65e2ca17",
   "metadata": {},
   "outputs": [],
   "source": [
    "to_plot = pt_los.copy()\n",
    "to_plot = to_plot.set_index('name')\n",
    "to_plot[time_cols] = to_plot[time_cols] / 60"
   ]
  },
  {
   "cell_type": "code",
   "execution_count": 37,
   "id": "fc9e88da",
   "metadata": {},
   "outputs": [
    {
     "data": {
      "image/png": "[encoded data removed]",
      "text/plain": [
       "<Figure size 1000x1000 with 1 Axes>"
      ]
     },
     "metadata": {},
     "output_type": "display_data"
    }
   ],
   "source": [
    "ax = to_plot[time_cols].plot(kind='barh', stacked=True, figsize=(10, 10), color=systra_colors)\n",
    "plt.legend(loc='upper right', ncol=1)\n",
    "plt.gca().invert_yaxis()\n",
    "plt.xlabel('Time (mins)')\n",
    "plt.grid(True, 'major', linestyle='-', axis='both')\n",
    "ax.set_axisbelow(True)\n",
    "plt.legend(time_cols, loc='center left', bbox_to_anchor=(1, 0.5), ncol=1)\n",
    "plt.title('Time decomposition for each OD best path')\n",
    "plt.savefig(os.path.join(output_folder, 'od_time_decomposition.png'))"
   ]
  },
  {
   "cell_type": "code",
   "execution_count": 38,
   "id": "671a0716",
   "metadata": {},
   "outputs": [
    {
     "data": {
      "text/plain": [
       "'../../scenarios/montreal/outputs/'"
      ]
     },
     "execution_count": 38,
     "metadata": {},
     "output_type": "execute_result"
    }
   ],
   "source": [
    "output_folder"
   ]
  },
  {
   "cell_type": "markdown",
   "id": "747377c8",
   "metadata": {},
   "source": [
    "# Isochrone"
   ]
  },
  {
   "cell_type": "code",
   "execution_count": null,
   "id": "d451a29d",
   "metadata": {},
   "outputs": [],
   "source": [
    "from syspy.spatial.spatial import agglomerative_clustering, voronoi_diagram_dataframes, zone_clusters"
   ]
  },
  {
   "cell_type": "code",
   "execution_count": 40,
   "id": "eba286a1",
   "metadata": {},
   "outputs": [],
   "source": [
    "nodes = sm.nodes\n",
    "label = agglomerative_clustering(sm.nodes, distance_threshold=2e-3)\n",
    "nodes['cluster'] = label\n",
    "nodes = nodes.drop_duplicates('cluster')"
   ]
  },
  {
   "cell_type": "code",
   "execution_count": 41,
   "id": "95277d37",
   "metadata": {},
   "outputs": [],
   "source": [
    "from shapely.geometry import multipoint, multilinestring\n",
    "import numpy as np\n",
    "\n",
    "\n",
    "def coords(g):\n",
    "\tl = list(g.coords)\n",
    "\ta, b = l[0], l[-1]\n",
    "\txa, ya = a\n",
    "\txb, yb = b\n",
    "\treturn [xa, xb, ya, yb]"
   ]
  },
  {
   "cell_type": "code",
   "execution_count": null,
   "id": "792208d2",
   "metadata": {},
   "outputs": [
    {
     "data": {
      "image/svg+xml": [
       "<svg xmlns=\"http://www.w3.org/2000/svg\" xmlns:xlink=\"http://www.w3.org/1999/xlink\" width=\"100.0\" height=\"100.0\" viewBox=\"-74.19281935050883 45.307793142719774 1.0640711840825219 0.5209353238806997\" preserveAspectRatio=\"xMinYMin meet\"><g transform=\"matrix(1,0,0,-1,0,91.13652160932025)\"><path fill-rule=\"evenodd\" fill=\"#66cc99\" stroke=\"#555555\" stroke-width=\"0.021281423681650438\" opacity=\"0.6\" d=\"M -74.15073825317867,45.4590557081832 L -74.15340930665391,45.47185579078701 L -74.14182799901404,45.476585309825126 L -74.04929422552034,45.41063703078163 L -73.99493642708872,45.405593598504254 L -73.94595297300043,45.428959733624424 L -73.94627472620331,45.46926986105737 L -73.89750674517038,45.48335219177541 L -73.88488178984909,45.50571428953269 L -73.85392694677302,45.51827131046879 L -73.84131279568975,45.53196983510578 L -73.75296715862468,45.529823583259564 L -73.73632918755456,45.54140867306445 L -73.7339473791589,45.56132854402928 L -73.76065725340969,45.602439520399884 L -73.84933539338978,45.61790103204563 L -73.88029731614543,45.66706868972935 L -74.01131656565617,45.772570092996546 L -74.01312638498631,45.783416830933334 L -74.00483910498959,45.789318422745566 L -73.83694998364956,45.65683085787931 L -73.76270638596678,45.643699211714264 L -73.71126610976647,45.581330923633836 L -73.69700850326991,45.574827164696714 L -73.6685452324703,45.58292929611066 L -73.66598763299082,45.61840966732832 L -73.59177818303309,45.65880234388661 L -73.58020496876546,45.67297708396733 L -73.58315305733358,45.69697254423194 L -73.61577793833129,45.70864751974348 L -73.60915165978098,45.742179313055296 L -73.47837531336441,45.75570562564216 L -73.46627880443332,45.739247430145696 L -73.46250335885397,45.705238297245124 L -73.47591444650966,45.68013375269709 L -73.47085409569884,45.638122773141866 L -73.49199226124858,45.614043164766436 L -73.49110354373988,45.5854334537588 L -73.51747789878767,45.544251716314 L -73.51556126877121,45.53069520700071 L -73.50348776138827,45.520896866210926 L -73.37166244062787,45.522600499025636 L -73.30050919945798,45.544642920494596 L -73.27940056166798,45.54439693485651 L -73.21564532741245,45.56857006749793 L -73.18110210213362,45.593633820067694 L -73.16815821028122,45.5851224233311 L -73.22713058330248,45.52767408031584 L -73.29998887616144,45.50542951638442 L -73.51301137532938,45.479060709946815 L -73.5451879482418,45.438557402747534 L -73.56826659793492,45.42970645789148 L -73.57640253642528,45.41360569226217 L -73.56842102783978,45.39454213793964 L -73.53430715933735,45.381245343124476 L -73.52851949271437,45.35609839600386 L -73.53741521518484,45.34720318657468 L -73.59611274063973,45.3641513501291 L -73.66952822293399,45.416270873876044 L -73.69391212596955,45.41471476595986 L -73.71899454268717,45.428001897749915 L -73.81396177955868,45.422146867700135 L -74.00535857373646,45.36680029732953 L -74.05342593357936,45.38124504743096 L -74.15073825317867,45.4590557081832 z\" /></g></svg>"
      ],
      "text/plain": [
       "<POLYGON ((-74.151 45.459, -74.153 45.472, -74.142 45.477, -74.049 45.411, -...>"
      ]
     },
     "execution_count": 42,
     "metadata": {},
     "output_type": "execute_result"
    }
   ],
   "source": [
    "from shapely import geometry\n",
    "from shapely.ops import unary_union as u2\n",
    "\n",
    "m = sm.copy()\n",
    "tolerance = 1e-2\n",
    "n = 5\n",
    "m.preparation_clusterize_nodes(distance_threshold=n * tolerance)\n",
    "links = m.links.loc[m.links['a'] != m.links['b']]\n",
    "df = pd.DataFrame(\n",
    "\tdata=list(links['geometry'].apply(coords).values), index=links.index, columns=['xa', 'xb', 'ya', 'yb']\n",
    ")\n",
    "df['length'] = np.sqrt(np.power(df['yb'] - df['ya'], 2) + np.power(df['xb'] - df['xa'], 2))\n",
    "\n",
    "df['nx'] = (df['yb'] - df['ya']) / df['length'] * tolerance\n",
    "df['ny'] = (df['xb'] - df['xa']) / df['length'] * tolerance\n",
    "df['xc'] = df['xa'] + df['nx']\n",
    "df['yc'] = df['ya'] + df['ny']\n",
    "df['xd'] = df['xb'] + df['nx']\n",
    "df['yd'] = df['yb'] + df['ny']\n",
    "df['xe'] = df['xa'] - df['nx']\n",
    "df['ye'] = df['ya'] - df['ny']\n",
    "df['xf'] = df['xb'] - df['nx']\n",
    "df['yf'] = df['yb'] - df['ny']\n",
    "df[['xc', 'yc', 'xd', 'yd', 'xe', 'ye', 'xf', 'yf']]\n",
    "df['c'] = [tuple(v) for v in df[['xc', 'yc']].values]\n",
    "df['d'] = [tuple(v) for v in df[['xd', 'yd']].values]\n",
    "df['e'] = [tuple(v) for v in df[['xe', 'ye']].values]\n",
    "df['f'] = [tuple(v) for v in df[['xf', 'yf']].values]\n",
    "df['rectangle'] = [geometry.Polygon(points) for points in df[['c', 'd', 'f', 'e']].values]\n",
    "test = geometry.multipolygon.MultiPolygon(list(df['rectangle'].values))\n",
    "united = u2(list(df['rectangle']))\n",
    "clip_geometry = (\n",
    "\tunited.simplify(tolerance).buffer(tolerance).buffer(2 * tolerance).buffer(-2 * tolerance).simplify(tolerance / 2)\n",
    ")\n"
   ]
  },
  {
   "cell_type": "code",
   "execution_count": null,
   "id": "77cac753",
   "metadata": {},
   "outputs": [],
   "source": []
  },
  {
   "cell_type": "code",
   "execution_count": 43,
   "id": "bd51f9ce",
   "metadata": {},
   "outputs": [],
   "source": [
    "voronoi, _ = voronoi_diagram_dataframes(nodes['geometry'])\n",
    "voronoi.crs = 4326\n",
    "voronoi = voronoi.clip(clip_geometry)\n"
   ]
  },
  {
   "cell_type": "code",
   "execution_count": null,
   "id": "8defb076",
   "metadata": {},
   "outputs": [],
   "source": []
  },
  {
   "cell_type": "code",
   "execution_count": 44,
   "id": "805f01a0",
   "metadata": {},
   "outputs": [],
   "source": [
    "from shapely.ops import unary_union\n",
    "\n",
    "clusters, cluster_series = zone_clusters(voronoi, n_clusters=500, geo_join_method=lambda x: unary_union(x))\n",
    "clusters = gpd.GeoDataFrame(clusters)"
   ]
  },
  {
   "cell_type": "code",
   "execution_count": 45,
   "id": "725c6707",
   "metadata": {},
   "outputs": [],
   "source": [
    "cluster_dict = {v: k for k, v in cluster_series.items()}\n",
    "clusters['node_id'] = clusters.index.map(cluster_dict.get)\n"
   ]
  },
  {
   "cell_type": "code",
   "execution_count": null,
   "id": "696fc558",
   "metadata": {},
   "outputs": [],
   "source": []
  },
  {
   "cell_type": "code",
   "execution_count": null,
   "id": "33a1cd00",
   "metadata": {},
   "outputs": [],
   "source": []
  },
  {
   "cell_type": "code",
   "execution_count": 46,
   "id": "0a97c0e7",
   "metadata": {},
   "outputs": [],
   "source": [
    "zones = sm.nodes.loc[clusters['node_id'].values]\n",
    "zones = zones.reset_index().rename(columns={'index': 'node_id'})\n",
    "zones.index = 'zones_' + zones.index.astype(str)\n"
   ]
  },
  {
   "cell_type": "code",
   "execution_count": 56,
   "id": "3aa559f0",
   "metadata": {},
   "outputs": [],
   "source": [
    "node_zone_dict = zones.reset_index().set_index('node_id')['index']\n",
    "clusters.index = clusters['node_id'].apply(node_zone_dict.get)\n",
    "clusters.index.name = 'index'"
   ]
  },
  {
   "cell_type": "code",
   "execution_count": 48,
   "id": "f8bc17ec",
   "metadata": {},
   "outputs": [],
   "source": [
    "clusters.to_file(os.path.join(output_folder, 'isochrone.geojson'), driver='GeoJSON')"
   ]
  },
  {
   "cell_type": "markdown",
   "id": "d66e060c",
   "metadata": {},
   "source": [
    "pathfinder"
   ]
  },
  {
   "cell_type": "code",
   "execution_count": 49,
   "id": "d9bb2431",
   "metadata": {},
   "outputs": [],
   "source": [
    "self = stepmodel.StepModel(epsg=4326)\n",
    "self.links = sm.links\n",
    "self.nodes = sm.nodes\n",
    "self.zones = zones\n",
    "self.preparation_footpaths(speed=speed, max_length=max_length)\n"
   ]
  },
  {
   "cell_type": "code",
   "execution_count": null,
   "id": "8edd177a",
   "metadata": {},
   "outputs": [],
   "source": []
  },
  {
   "cell_type": "code",
   "execution_count": 50,
   "id": "d0cb2dd5",
   "metadata": {},
   "outputs": [],
   "source": [
    "self.preparation_ntlegs(\n",
    "\tshort_leg_speed=speed,\n",
    "\tlong_leg_speed=speed,  # tout le monde marche\n",
    "\tzone_to_transit=True,\n",
    "\tzone_to_road=False,\n",
    "\troad_to_transit=False,\n",
    "\tn_ntlegs=n_ntlegs,\n",
    "\t# max_ntleg_length=2000,\n",
    ")"
   ]
  },
  {
   "cell_type": "code",
   "execution_count": 51,
   "id": "16dabd5f",
   "metadata": {},
   "outputs": [],
   "source": [
    "self.footpaths = self.footpaths.drop(columns='voronoi')\n",
    "self.footpaths['speed'] = self.footpaths['length'] / self.footpaths['time'] * 3.6"
   ]
  },
  {
   "cell_type": "code",
   "execution_count": 52,
   "id": "cb59f7fb",
   "metadata": {},
   "outputs": [
    {
     "name": "stdout",
     "output_type": "stream",
     "text": [
      "start publicpathfinder\n",
      "500 sources 500 targets direct search\n",
      "path_analysis\n"
     ]
    }
   ],
   "source": [
    "self.step_pt_pathfinder(\n",
    "\tbroken_routes=False,\n",
    "\tbroken_modes=False,\n",
    "\tkeep_pathfinder=True,\n",
    "\tcutoff=3 * 60 * 60,\n",
    "\tmode_column='route_type',\n",
    "\troute_column='route_id',\n",
    "\tspeedup=True,\n",
    "\twalk_on_road=False,\n",
    "\tpath_analysis=False,\n",
    ")"
   ]
  },
  {
   "cell_type": "code",
   "execution_count": 53,
   "id": "6dcb3f74",
   "metadata": {},
   "outputs": [],
   "source": [
    "self.pt_los['time (mins)'] = self.pt_los['gtime'] / 60"
   ]
  },
  {
   "cell_type": "code",
   "execution_count": 54,
   "id": "cfbccd47",
   "metadata": {},
   "outputs": [],
   "source": [
    "json_data = {}\n",
    "\n",
    "\n",
    "def agg_func(x):\n",
    "\treturn dict(x.values)\n",
    "\n",
    "\n",
    "grouped = self.pt_los.groupby(['origin', 'destination'])['time (mins)'].sum().reset_index()\n",
    "grouped['time (mins)'] = list(zip(grouped['destination'], grouped['time (mins)']))\n",
    "data = grouped.groupby('origin').agg({'time (mins)': agg_func}).to_dict()\n",
    "json_data.update(data)"
   ]
  },
  {
   "cell_type": "code",
   "execution_count": 55,
   "id": "b3801bc1",
   "metadata": {},
   "outputs": [],
   "source": [
    "with open(os.path.join(output_folder, 'isochrone.json'), 'w') as json_file:\n",
    "\tjson.dump(json_data, json_file)"
   ]
  },
  {
   "cell_type": "code",
   "execution_count": null,
   "id": "11dbdf68",
   "metadata": {},
   "outputs": [],
   "source": []
  },
  {
   "cell_type": "code",
   "execution_count": null,
   "id": "7590c2d1",
   "metadata": {},
   "outputs": [],
   "source": []
  }
 ],
 "metadata": {
  "kernelspec": {
   "display_name": "quetzal-transit-py3.12",
   "language": "python",
   "name": "python3"
  },
  "language_info": {
   "codemirror_mode": {
    "name": "ipython",
    "version": 3
   },
   "file_extension": ".py",
   "mimetype": "text/x-python",
   "name": "python",
   "nbconvert_exporter": "python",
   "pygments_lexer": "ipython3",
   "version": "3.12.3"
  }
 },
 "nbformat": 4,
 "nbformat_minor": 5
}
