{
 "cells": [
  {
   "cell_type": "code",
   "execution_count": null,
   "id": "bcd35b6a",
   "metadata": {},
   "outputs": [
    {
     "name": "stdout",
     "output_type": "stream",
     "text": [
      "{'training_folder': '../../scenarios/montreal', 'params': {'footpaths': {'max_length': '1000', 'speed': '2.8', 'n_ntlegs': '2'}}}\n"
     ]
    }
   ],
   "source": [
    "import sys\n",
    "import json\n",
    "\n",
    "footpaths = {'max_length': '1000', 'speed': '2.8', 'n_ntlegs': '2'}\n",
    "params = {'footpaths': footpaths}\n",
    "\n",
    "default = {'training_folder': '../../scenarios/montreal', 'params': params, 'period': ''}\n",
    "manual, argv = (True, default) if 'ipykernel' in sys.argv[0] else (False, dict(default, **json.loads(sys.argv[1])))\n",
    "print(argv)"
   ]
  },
  {
   "cell_type": "code",
   "execution_count": null,
   "id": "08dfdd4c",
   "metadata": {},
   "outputs": [
    {
     "name": "stdout",
     "output_type": "stream",
     "text": [
      "numba threads 8\n"
     ]
    }
   ],
   "source": [
    "import os\n",
    "import geopandas as gpd\n",
    "import pandas as pd\n",
    "\n",
    "sys.path.insert(0, r'../../../quetzal')  # Add path to quetzal\n",
    "from shapely.geometry import Point, LineString\n",
    "from quetzal.model import stepmodel\n",
    "\n",
    "\n",
    "on_lambda = bool(os.environ.get('AWS_EXECUTION_ENV'))\n"
   ]
  },
  {
   "cell_type": "code",
   "execution_count": 4,
   "id": "7be6eeb1",
   "metadata": {},
   "outputs": [
    {
     "data": {
      "text/plain": [
       "8"
      ]
     },
     "execution_count": 4,
     "metadata": {},
     "output_type": "execute_result"
    }
   ],
   "source": [
    "os.cpu_count()"
   ]
  },
  {
   "cell_type": "code",
   "execution_count": 3,
   "id": "39d1fcc2",
   "metadata": {},
   "outputs": [],
   "source": [
    "def get_epsg(lat: float, lon: float) -> int:\n",
    "\t\"\"\"\n",
    "\treturn EPSG in meter for a given (lat,lon)\n",
    "\tlat is north south\n",
    "\tlon is est west\n",
    "\t\"\"\"\n",
    "\treturn int(32700 - round((45 + lat) / 90, 0) * 100 + round((183 + lon) / 6, 0))"
   ]
  },
  {
   "cell_type": "markdown",
   "id": "ed0c508d",
   "metadata": {},
   "source": [
    "# Folders stucture and params"
   ]
  },
  {
   "cell_type": "markdown",
   "id": "7a99c7ed",
   "metadata": {},
   "source": [
    "everything is on S3 (nothing on ECR) so no direct input folder. just scenarios/{scen}/inputs/"
   ]
  },
  {
   "cell_type": "code",
   "execution_count": null,
   "id": "0849876e",
   "metadata": {},
   "outputs": [],
   "source": []
  },
  {
   "cell_type": "code",
   "execution_count": 5,
   "id": "7ee47b85",
   "metadata": {},
   "outputs": [],
   "source": [
    "base_folder = argv['training_folder']\n",
    "input_folder = os.path.join(base_folder, 'inputs/')\n",
    "pt_folder = os.path.join(input_folder, 'pt/')\n",
    "road_folder = os.path.join(input_folder, 'road/')\n",
    "od_folder = os.path.join(input_folder, 'od/')\n",
    "\n",
    "output_folder = os.path.join(base_folder, 'outputs/')\n",
    "if not os.path.exists(output_folder):\n",
    "\tos.makedirs(output_folder)\n",
    "\n",
    "model_folder = os.path.join(input_folder, 'model/')\n"
   ]
  },
  {
   "cell_type": "code",
   "execution_count": null,
   "id": "35e68bf0",
   "metadata": {},
   "outputs": [],
   "source": []
  },
  {
   "cell_type": "code",
   "execution_count": 6,
   "id": "0278134a",
   "metadata": {},
   "outputs": [],
   "source": [
    "if 'footpaths' in argv['params'].keys():\n",
    "\tmax_length = float(argv['params']['footpaths']['max_length'])\n",
    "\tspeed = float(argv['params']['footpaths']['speed'])\n",
    "\tn_ntlegs = int(argv['params']['footpaths']['n_ntlegs'])\n",
    "else:\n",
    "\tmax_length = float(footpaths['max_length'])\n",
    "\tspeed = float(footpaths['speed'])\n",
    "\tn_ntlegs = int(footpaths['n_ntlegs'])"
   ]
  },
  {
   "cell_type": "markdown",
   "id": "2f9e3c62",
   "metadata": {},
   "source": [
    "# inputs"
   ]
  },
  {
   "cell_type": "code",
   "execution_count": 7,
   "id": "1000829a",
   "metadata": {},
   "outputs": [],
   "source": [
    "links = gpd.read_file(pt_folder + 'links.geojson')\n",
    "nodes = gpd.read_file(pt_folder + 'nodes.geojson')\n",
    "links = links.set_index('index')\n",
    "nodes = nodes.set_index('index')"
   ]
  },
  {
   "cell_type": "code",
   "execution_count": 8,
   "id": "e135e308",
   "metadata": {},
   "outputs": [],
   "source": [
    "# rnodes_file = os.path.join(road_folder, 'road_nodes.geojson')\n",
    "# rnodes_file_provided = os.path.isfile(rnodes_file)\n",
    "# if rnodes_file_provided:\n",
    "# \trnodes = gpd.read_file(os.path.join(road_folder, 'road_nodes.geojson'))\n",
    "# \trnodes = rnodes.set_index('index')\n",
    "# \trlinks = gpd.read_file(os.path.join(road_folder, 'road_links.geojson'))\n",
    "# \trlinks = rlinks.set_index('index')\n",
    "# print('rnodes?', rnodes_file_provided)"
   ]
  },
  {
   "cell_type": "code",
   "execution_count": 9,
   "id": "c36c4732",
   "metadata": {},
   "outputs": [],
   "source": [
    "od_file = os.path.join(od_folder, 'od.geojson')\n",
    "od_file_provided = os.path.isfile(od_file)\n",
    "if od_file_provided:\n",
    "\tod_test = gpd.read_file(od_file)\n",
    "\tif 'name' not in od_test.columns:\n",
    "\t\tod_test['name'] = od_test['index']\n",
    "\tod_test['name'] = od_test['name'].fillna(od_test['index'].astype(str))\n",
    "else:\n",
    "\tprint('end of pathfinder')\n",
    "\tend_of_notebook"
   ]
  },
  {
   "cell_type": "markdown",
   "id": "6606a15d",
   "metadata": {},
   "source": [
    "end_of_notebook here if OD_file not provided!!"
   ]
  },
  {
   "cell_type": "code",
   "execution_count": null,
   "id": "354753ed",
   "metadata": {},
   "outputs": [],
   "source": []
  },
  {
   "cell_type": "code",
   "execution_count": 10,
   "id": "4ba9d427",
   "metadata": {},
   "outputs": [],
   "source": [
    "od_test['geometry_o'] = od_test['geometry'].apply(lambda g: Point(g.coords[:][0]))\n",
    "od_test['geometry_d'] = od_test['geometry'].apply(lambda g: Point(g.coords[:][1]))\n",
    "\n",
    "od_test['origin'] = od_test['index'].astype(str) + '_o'\n",
    "od_test['destination'] = od_test['index'].astype(str) + '_d'\n",
    "\n",
    "\n",
    "zones = od_test.copy()\n",
    "zones_d = od_test.copy()\n",
    "zones['geometry'] = zones['geometry_o']\n",
    "zones_d['geometry'] = zones_d['geometry_d']\n",
    "zones['index'] = zones['origin']\n",
    "zones_d['index'] = zones_d['destination']\n",
    "zones = pd.concat([zones[['index', 'geometry']], zones_d[['index', 'geometry']]])\n",
    "zones = zones.set_index('index')\n",
    "\n",
    "od_set = set(zip(od_test['origin'], od_test['destination']))\n"
   ]
  },
  {
   "cell_type": "markdown",
   "id": "696d1203",
   "metadata": {},
   "source": [
    "# preparation"
   ]
  },
  {
   "cell_type": "code",
   "execution_count": 11,
   "id": "8fffd8ad",
   "metadata": {},
   "outputs": [],
   "source": [
    "def add_col(links, col='length'):\n",
    "\tif col not in links.columns:\n",
    "\t\treturn True\n",
    "\telif any(links[col].isnull()):\n",
    "\t\treturn True\n",
    "\telse:\n",
    "\t\treturn False"
   ]
  },
  {
   "cell_type": "code",
   "execution_count": 12,
   "id": "2f1872cf",
   "metadata": {},
   "outputs": [],
   "source": [
    "if add_col(links, 'length'):\n",
    "\tprint('add length')\n",
    "\tcentroid = [*LineString(nodes.centroid.values).centroid.coords][0]\n",
    "\tcrs = get_epsg(centroid[1], centroid[0])\n",
    "\tprint('create length from geometry')\n",
    "\tlinks['length'] = links.to_crs(crs).length\n",
    "\n",
    "if add_col(links, 'speed'):\n",
    "\tprint('add speed')\n",
    "\tlinks['speed'] = links['length'] / links['time'] * 3.6\n"
   ]
  },
  {
   "cell_type": "markdown",
   "id": "528232c8",
   "metadata": {},
   "source": [
    "# Walkmodel"
   ]
  },
  {
   "cell_type": "code",
   "execution_count": 13,
   "id": "826e1526",
   "metadata": {},
   "outputs": [],
   "source": [
    "sm = stepmodel.StepModel(epsg=4326)\n",
    "sm.links = links\n",
    "sm.nodes = nodes\n",
    "sm.zones = zones\n",
    "\n",
    "# sm.road_links = rlinks\n",
    "# sm.road_nodes = rnodes"
   ]
  },
  {
   "cell_type": "code",
   "execution_count": 14,
   "id": "c936221b",
   "metadata": {
    "scrolled": false
   },
   "outputs": [],
   "source": [
    "# We remove highway for the walkmodel\n",
    "# walk_type = ['Artere','Collectrices','Locale','Nationale','Regionale']\n",
    "# walkmodel.road_links = walkmodel.road_links[~walkmodel.road_links['highway'].isin(walk_type)]\n",
    "# walkmodel.road_nodes = walkmodel.road_nodes.loc[list(np.unique(walkmodel.road_links[['a','b']].values.flatten()))]\n",
    "# walkmodel.preparation_clusterize_nodes(distance_threshold=0.000002)\n",
    "# Footpath between PT nodes\n",
    "sm.preparation_footpaths(speed=speed, max_length=max_length, clusters_distance=0.00001)"
   ]
  },
  {
   "cell_type": "code",
   "execution_count": 15,
   "id": "6644984f",
   "metadata": {
    "scrolled": false
   },
   "outputs": [],
   "source": [
    "# Access footpaths (zone_to_road and road_to_transit)\n",
    "sm.preparation_ntlegs(\n",
    "\tshort_leg_speed=speed,\n",
    "\tlong_leg_speed=speed,  # tout le monde marche\n",
    "\tthreshold=1000,\n",
    "\tzone_to_transit=True,\n",
    "\tzone_to_road=False,\n",
    "\troad_to_transit=False,\n",
    "\tn_ntlegs=n_ntlegs,\n",
    "\t# max_ntleg_length=2000,\n",
    ")"
   ]
  },
  {
   "cell_type": "code",
   "execution_count": 16,
   "id": "0287e906",
   "metadata": {},
   "outputs": [],
   "source": [
    "# Copy connectors to the model\n",
    "sm.footpaths = sm.footpaths.drop(columns='voronoi')\n",
    "# sm.footpaths = walkmodel.footpaths.drop(columns='voronoi').copy()\n",
    "# sm.zone_to_transit = walkmodel.zone_to_transit.copy()"
   ]
  },
  {
   "cell_type": "code",
   "execution_count": 17,
   "id": "8a49f6b4",
   "metadata": {},
   "outputs": [],
   "source": [
    "sm.footpaths['speed'] = sm.footpaths['length'] / sm.footpaths['time'] * 3.6\n"
   ]
  },
  {
   "cell_type": "markdown",
   "id": "7993fdde",
   "metadata": {},
   "source": [
    "# pathfinder"
   ]
  },
  {
   "cell_type": "code",
   "execution_count": 18,
   "id": "e405bb66",
   "metadata": {},
   "outputs": [
    {
     "name": "stdout",
     "output_type": "stream",
     "text": [
      "start publicpathfinder\n",
      "12 sources 12 targets direct search\n",
      "path_analysis\n"
     ]
    }
   ],
   "source": [
    "sm.step_pt_pathfinder(\n",
    "\tbroken_routes=False,\n",
    "\tbroken_modes=False,\n",
    "\tkeep_pathfinder=True,\n",
    "\tmode_column='route_type',\n",
    "\troute_column='route_id',\n",
    "\tspeedup=True,\n",
    "\twalk_on_road=False,\n",
    "\tpath_analysis=False,\n",
    "\tod_set=od_set,\n",
    ")\n"
   ]
  },
  {
   "cell_type": "code",
   "execution_count": null,
   "id": "8da24899",
   "metadata": {},
   "outputs": [],
   "source": []
  },
  {
   "cell_type": "code",
   "execution_count": 19,
   "id": "fffb2aeb",
   "metadata": {},
   "outputs": [
    {
     "name": "stderr",
     "output_type": "stream",
     "text": [
      "path_analysis: 100%|██████████| 12/12 [00:00<00:00, 43577.18it/s]\n"
     ]
    }
   ],
   "source": [
    "sm.analysis_pt_los(walk_on_road=False)"
   ]
  },
  {
   "cell_type": "markdown",
   "id": "50fea814",
   "metadata": {},
   "source": [
    "# create path"
   ]
  },
  {
   "cell_type": "code",
   "execution_count": 20,
   "id": "d48f2e45",
   "metadata": {},
   "outputs": [],
   "source": [
    "od_links = od_test.merge(sm.pt_los[['origin', 'destination', 'gtime', 'link_path']], on=['origin', 'destination'])\n",
    "od_links = od_links.drop(columns=['geometry', 'geometry_o', 'geometry_d', 'origin', 'destination'])\n",
    "od_links = od_links.explode('link_path')\n",
    "# may add route_width if quenedi can handle it one day.\n",
    "od_links = od_links.merge(sm.links[['route_color', 'geometry', 'time', 'speed']], left_on='link_path', right_index=True)\n",
    "od_links = od_links.drop(columns='link_path')"
   ]
  },
  {
   "cell_type": "code",
   "execution_count": 21,
   "id": "9906956d",
   "metadata": {},
   "outputs": [],
   "source": [
    "od_ntlegs = od_test.merge(sm.pt_los[['origin', 'destination', 'gtime', 'ntlegs']], on=['origin', 'destination'])\n",
    "od_ntlegs = od_ntlegs.drop(columns=['geometry', 'geometry_o', 'geometry_d', 'origin', 'destination'])\n",
    "od_ntlegs = od_ntlegs.explode('ntlegs')\n",
    "\n",
    "ntlegs_dict = sm.zone_to_transit.reset_index().set_index(['a', 'b'])['index'].to_dict()\n",
    "od_ntlegs['ntlegs'] = od_ntlegs['ntlegs'].apply(ntlegs_dict.get)\n",
    "\n",
    "od_ntlegs = od_ntlegs.merge(sm.zone_to_transit[['geometry', 'time', 'speed']], left_on='ntlegs', right_index=True)\n",
    "od_ntlegs = od_ntlegs.drop(columns='ntlegs')\n",
    "# od_ntlegs['route_color']='4B4B4B'"
   ]
  },
  {
   "cell_type": "code",
   "execution_count": 22,
   "id": "654738a8",
   "metadata": {},
   "outputs": [],
   "source": [
    "od_footpaths = od_test.merge(sm.pt_los[['origin', 'destination', 'gtime', 'footpaths']], on=['origin', 'destination'])\n",
    "od_footpaths = od_footpaths.drop(columns=['geometry', 'geometry_o', 'geometry_d', 'origin', 'destination'])\n",
    "od_footpaths = od_footpaths.explode('footpaths')\n",
    "\n",
    "footpaths_dict = sm.footpaths.reset_index().set_index(['a', 'b'])['index'].to_dict()\n",
    "od_footpaths['footpaths'] = od_footpaths['footpaths'].apply(footpaths_dict.get)\n",
    "\n",
    "od_footpaths = od_footpaths.merge(sm.footpaths[['geometry', 'time', 'speed']], left_on='footpaths', right_index=True)\n",
    "od_footpaths = od_footpaths.drop(columns='footpaths')"
   ]
  },
  {
   "cell_type": "code",
   "execution_count": 23,
   "id": "465bdf52",
   "metadata": {},
   "outputs": [],
   "source": [
    "od_route = pd.concat([od_links, od_footpaths, od_ntlegs], axis=0)"
   ]
  },
  {
   "cell_type": "code",
   "execution_count": 24,
   "id": "78a799dd",
   "metadata": {},
   "outputs": [],
   "source": [
    "od_route['route_color'] = od_route['route_color'].fillna('838383')\n",
    "od_route['route_color'] = '#' + od_route['route_color']"
   ]
  },
  {
   "cell_type": "code",
   "execution_count": null,
   "id": "d51cfa0e",
   "metadata": {},
   "outputs": [],
   "source": []
  },
  {
   "cell_type": "code",
   "execution_count": 25,
   "id": "dd9245eb",
   "metadata": {},
   "outputs": [],
   "source": [
    "od_route = od_route.rename(columns={'name': 'od_name'}).drop(columns='index')\n",
    "od_route.reset_index(drop=True)\n",
    "od_route.index.name = 'index'"
   ]
  },
  {
   "cell_type": "code",
   "execution_count": 26,
   "id": "78e3e7f6",
   "metadata": {},
   "outputs": [],
   "source": [
    "od_route = gpd.GeoDataFrame(od_route, crs=4326)\n",
    "od_route.to_file(output_folder + 'od_route.geojson', driver='GeoJSON')"
   ]
  },
  {
   "cell_type": "markdown",
   "id": "60eb37d5",
   "metadata": {},
   "source": [
    "export PT lost metrics"
   ]
  },
  {
   "cell_type": "code",
   "execution_count": 40,
   "id": "a8bafbc2",
   "metadata": {},
   "outputs": [],
   "source": [
    "sm.analysis_pt_route_type(['rail', 'subway', 'bus'])\n",
    "pt_los = od_test[['origin', 'destination', 'name']].merge(sm.pt_los, on=['origin', 'destination'])"
   ]
  },
  {
   "cell_type": "code",
   "execution_count": null,
   "id": "59984ef5",
   "metadata": {},
   "outputs": [],
   "source": [
    "pt_los = pt_los.head()[['name', 'gtime', 'ntransfers', 'route_types']]\n",
    "pt_los.index.name = 'index'\n",
    "pt_los.to_csv(output_folder + 'od_los.csv')"
   ]
  },
  {
   "cell_type": "code",
   "execution_count": 42,
   "id": "a85004f3",
   "metadata": {},
   "outputs": [
    {
     "name": "stdout",
     "output_type": "stream",
     "text": [
      "pathfinder successfull\n"
     ]
    }
   ],
   "source": [
    "print('pathfinder successfull')"
   ]
  },
  {
   "cell_type": "markdown",
   "id": "88956cc4",
   "metadata": {},
   "source": [
    "# test"
   ]
  },
  {
   "cell_type": "code",
   "execution_count": 117,
   "id": "671a0716",
   "metadata": {},
   "outputs": [],
   "source": [
    "\n"
   ]
  },
  {
   "cell_type": "code",
   "execution_count": null,
   "id": "bdc069c8",
   "metadata": {},
   "outputs": [],
   "source": []
  },
  {
   "cell_type": "code",
   "execution_count": 82,
   "id": "3dc04358",
   "metadata": {},
   "outputs": [],
   "source": []
  }
 ],
 "metadata": {
  "kernelspec": {
   "display_name": "quetzal_312",
   "language": "python",
   "name": "quetzal_312"
  },
  "language_info": {
   "codemirror_mode": {
    "name": "ipython",
    "version": 3
   },
   "file_extension": ".py",
   "mimetype": "text/x-python",
   "name": "python",
   "nbconvert_exporter": "python",
   "pygments_lexer": "ipython3",
   "version": "3.12.2"
  }
 },
 "nbformat": 4,
 "nbformat_minor": 5
}
