{
    "cells": [
        {
            "cell_type": "code",
            "execution_count": 1,
            "id": "bcd35b6a",
            "metadata": {},
            "outputs": [
                {
                    "name": "stdout",
                    "output_type": "stream",
                    "text": [
                        "{'training_folder': '../../scenarios/montreal_2', 'params': {'footpaths': {'max_length': '1000', 'speed': '4.8', 'n_ntlegs': '2'}}, 'period': ''}\n"
                    ]
                }
            ],
            "source": [
                "import sys\n",
                "import json\n",
                "\n",
                "footpaths = {'max_length': '1000', 'speed': '4.8', 'n_ntlegs': '2'}\n",
                "params = {'footpaths': footpaths}\n",
                "\n",
                "default = {'training_folder': '../../scenarios/montreal_2', 'params': params, 'period': ''}\n",
                "manual, argv = (True, default) if 'ipykernel' in sys.argv[0] else (False, dict(default, **json.loads(sys.argv[1])))\n",
                "print(argv)"
            ]
        },
        {
            "cell_type": "code",
            "execution_count": 2,
            "id": "08dfdd4c",
            "metadata": {},
            "outputs": [
                {
                    "name": "stdout",
                    "output_type": "stream",
                    "text": [
                        "num cores: 8 on_lambda: False\n"
                    ]
                }
            ],
            "source": [
                "import os\n",
                "import geopandas as gpd\n",
                "import pandas as pd\n",
                "\n",
                "sys.path.insert(0, r'../../../quetzal')  # Add path to quetzal\n",
                "from shapely.geometry import Point, LineString\n",
                "from quetzal.model import stepmodel\n",
                "from quetzal.io.quenedi import read_parameters, restrict_df_to_variant\n",
                "from syspy.spatial.utils import get_epsg\n",
                "from syspy.spatial.spatial import agglomerative_clustering, voronoi_diagram_dataframes, zone_clusters\n",
                "\n",
                "\n",
                "on_lambda = bool(os.environ.get('AWS_EXECUTION_ENV'))\n",
                "num_cores = os.cpu_count()\n",
                "print('num cores:', num_cores, 'on_lambda:', on_lambda)"
            ]
        },
        {
            "cell_type": "markdown",
            "id": "ed0c508d",
            "metadata": {},
            "source": [
                "# Folders stucture and params"
            ]
        },
        {
            "cell_type": "markdown",
            "id": "7a99c7ed",
            "metadata": {},
            "source": [
                "everything is on S3 (nothing on ECR) so no direct input folder. just scenarios/{scen}/inputs/"
            ]
        },
        {
            "cell_type": "code",
            "execution_count": 3,
            "id": "0849876e",
            "metadata": {},
            "outputs": [],
            "source": [
                "period = argv.get('period', '')"
            ]
        },
        {
            "cell_type": "code",
            "execution_count": 4,
            "id": "7ee47b85",
            "metadata": {},
            "outputs": [
                {
                    "name": "stdout",
                    "output_type": "stream",
                    "text": [
                        "input folder:  ../../scenarios/montreal_2/inputs\n",
                        "input folder:  ../../scenarios/montreal_2/inputs/pt\n",
                        "output folder:  ../../scenarios/montreal_2/outputs/\n"
                    ]
                }
            ],
            "source": [
                "base_folder = argv['training_folder']\n",
                "input_folder = os.path.join(base_folder, 'inputs')\n",
                "pt_folder = os.path.join(input_folder, 'pt')\n",
                "road_folder = os.path.join(input_folder, 'road')\n",
                "od_folder = os.path.join(input_folder, 'od')\n",
                "\n",
                "output_folder = os.path.join(base_folder, 'outputs', period)\n",
                "if not os.path.exists(output_folder):\n",
                "\tos.makedirs(output_folder)\n",
                "\n",
                "print('input folder: ', input_folder)\n",
                "print('input folder: ', pt_folder)\n",
                "print('output folder: ', output_folder)\n"
            ]
        },
        {
            "cell_type": "code",
            "execution_count": 5,
            "id": "35e68bf0",
            "metadata": {},
            "outputs": [],
            "source": [
                "params = read_parameters(argv['params'], period=period)"
            ]
        },
        {
            "cell_type": "code",
            "execution_count": 6,
            "id": "0278134a",
            "metadata": {},
            "outputs": [],
            "source": [
                "max_length = float(params['footpaths']['max_length'])\n",
                "speed = float(params['footpaths']['speed'])\n",
                "n_ntlegs = int(params['footpaths']['n_ntlegs'])\n",
                "cutoff = 3 * 60 * 60  # 3 hours\n"
            ]
        },
        {
            "cell_type": "markdown",
            "id": "2f9e3c62",
            "metadata": {},
            "source": [
                "# inputs"
            ]
        },
        {
            "cell_type": "code",
            "execution_count": 7,
            "id": "1000829a",
            "metadata": {},
            "outputs": [],
            "source": [
                "links = gpd.read_file(os.path.join(pt_folder, 'links.geojson'))\n",
                "nodes = gpd.read_file(os.path.join(pt_folder, 'nodes.geojson'))\n",
                "links = links.set_index('index')\n",
                "nodes = nodes.set_index('index')"
            ]
        },
        {
            "cell_type": "code",
            "execution_count": 8,
            "id": "e135e308",
            "metadata": {},
            "outputs": [
                {
                    "name": "stdout",
                    "output_type": "stream",
                    "text": [
                        "rnodes? False\n"
                    ]
                }
            ],
            "source": [
                "rnodes_file = os.path.join(road_folder, 'road_nodes.geojson')\n",
                "walk_on_road = os.path.isfile(rnodes_file)\n",
                "if walk_on_road:\n",
                "\trnodes = gpd.read_file(os.path.join(road_folder, 'road_nodes.geojson'))\n",
                "\trnodes = rnodes.set_index('index')\n",
                "\trlinks = gpd.read_file(os.path.join(road_folder, 'road_links.geojson'))\n",
                "\trlinks = rlinks.set_index('index')\n",
                "\trlinks['walk_time'] = rlinks['length'] / speed * 3.6\n",
                "\n",
                "print('rnodes?', walk_on_road)"
            ]
        },
        {
            "cell_type": "markdown",
            "id": "4b49e347",
            "metadata": {},
            "source": [
                "# Preparation"
            ]
        },
        {
            "cell_type": "code",
            "execution_count": 9,
            "id": "8c33d470",
            "metadata": {},
            "outputs": [],
            "source": [
                "def add_col(links, col='length'):\n",
                "\tif col not in links.columns:\n",
                "\t\treturn True\n",
                "\telif any(links[col].isnull()):\n",
                "\t\treturn True\n",
                "\telse:\n",
                "\t\treturn False"
            ]
        },
        {
            "cell_type": "code",
            "execution_count": 10,
            "id": "53615e94",
            "metadata": {},
            "outputs": [],
            "source": [
                "if add_col(links, 'length'):\n",
                "\tprint('add length')\n",
                "\tcentroid = [*LineString(nodes.centroid.values).centroid.coords][0]\n",
                "\tcrs = get_epsg(centroid[1], centroid[0])\n",
                "\tprint('create length from geometry')\n",
                "\tlinks['length'] = links.to_crs(crs).length\n",
                "\n",
                "if add_col(links, 'speed'):\n",
                "\tprint('add speed')\n",
                "\tlinks['speed'] = links['length'] / links['time'] * 3.6\n"
            ]
        },
        {
            "cell_type": "code",
            "execution_count": 11,
            "id": "6c5b9c58",
            "metadata": {},
            "outputs": [],
            "source": [
                "ab_set = sorted(set(links['a']).union(set(links['b'])))\n",
                "nodes = nodes.loc[ab_set]"
            ]
        },
        {
            "cell_type": "code",
            "execution_count": 12,
            "id": "25693d59",
            "metadata": {},
            "outputs": [
                {
                    "name": "stdout",
                    "output_type": "stream",
                    "text": [
                        "keep and rename:  {}\n",
                        "drops:  []\n"
                    ]
                }
            ],
            "source": [
                "links = restrict_df_to_variant(links, period)\n",
                "# only keep links with headway not 0\n",
                "links = links[links['headway'] != 0]"
            ]
        },
        {
            "cell_type": "code",
            "execution_count": 13,
            "id": "8e7b9b90",
            "metadata": {},
            "outputs": [],
            "source": [
                "sm = stepmodel.StepModel(epsg=4326)\n",
                "sm.links = links.copy()\n",
                "sm.nodes = nodes.copy()\n",
                "if walk_on_road:\n",
                "\tsm.road_links = rlinks\n",
                "\tsm.road_nodes = rnodes"
            ]
        },
        {
            "cell_type": "code",
            "execution_count": 14,
            "id": "f585167e",
            "metadata": {},
            "outputs": [],
            "source": [
                "# clustering and rename nodes\n",
                "sm.preparation_clusterize_nodes(distance_threshold=1e-4)  # ~10m\n",
                "sm.nodes.index.name = 'index'\n",
                "sm.nodes.index = 'cnode_' + sm.nodes.index.astype(str)\n",
                "\n",
                "sm.links['a'] = 'cnode_' + sm.links['a'].astype(str)\n",
                "sm.links['b'] = 'cnode_' + sm.links['b'].astype(str)"
            ]
        },
        {
            "cell_type": "markdown",
            "id": "747377c8",
            "metadata": {},
            "source": [
                "# Isochrone"
            ]
        },
        {
            "cell_type": "code",
            "execution_count": null,
            "id": "d451a29d",
            "metadata": {},
            "outputs": [],
            "source": []
        },
        {
            "cell_type": "code",
            "execution_count": 15,
            "id": "95277d37",
            "metadata": {},
            "outputs": [],
            "source": [
                "import numpy as np\n",
                "from shapely import geometry\n",
                "from shapely.ops import unary_union as u2\n",
                "\n",
                "\n",
                "def coords(g):\n",
                "\tls = list(g.coords)\n",
                "\ta, b = ls[0], ls[-1]\n",
                "\txa, ya = a\n",
                "\txb, yb = b\n",
                "\treturn [xa, xb, ya, yb]"
            ]
        },
        {
            "cell_type": "markdown",
            "id": "98172d15",
            "metadata": {},
            "source": [
                "get envelope fo clip the voronoi"
            ]
        },
        {
            "cell_type": "code",
            "execution_count": 16,
            "id": "792208d2",
            "metadata": {},
            "outputs": [],
            "source": [
                "m = sm.copy()\n",
                "tolerance = 1e-2\n",
                "n = 5\n",
                "# m.preparation_clusterize_nodes(distance_threshold=n * tolerance)\n",
                "links = m.links.loc[m.links['a'] != m.links['b']]\n",
                "df = pd.DataFrame(\n",
                "\tdata=list(links['geometry'].apply(coords).values), index=links.index, columns=['xa', 'xb', 'ya', 'yb']\n",
                ")\n",
                "df['length'] = np.sqrt(np.power(df['yb'] - df['ya'], 2) + np.power(df['xb'] - df['xa'], 2))\n",
                "\n",
                "df['nx'] = (df['yb'] - df['ya']) / df['length'] * tolerance\n",
                "df['ny'] = (df['xb'] - df['xa']) / df['length'] * tolerance\n",
                "df['xc'] = df['xa'] + df['nx']\n",
                "df['yc'] = df['ya'] + df['ny']\n",
                "df['xd'] = df['xb'] + df['nx']\n",
                "df['yd'] = df['yb'] + df['ny']\n",
                "df['xe'] = df['xa'] - df['nx']\n",
                "df['ye'] = df['ya'] - df['ny']\n",
                "df['xf'] = df['xb'] - df['nx']\n",
                "df['yf'] = df['yb'] - df['ny']\n",
                "df[['xc', 'yc', 'xd', 'yd', 'xe', 'ye', 'xf', 'yf']]\n",
                "df['c'] = [tuple(v) for v in df[['xc', 'yc']].values]\n",
                "df['d'] = [tuple(v) for v in df[['xd', 'yd']].values]\n",
                "df['e'] = [tuple(v) for v in df[['xe', 'ye']].values]\n",
                "df['f'] = [tuple(v) for v in df[['xf', 'yf']].values]\n",
                "df['rectangle'] = [geometry.Polygon(points) for points in df[['c', 'd', 'f', 'e']].values]\n",
                "test = geometry.multipolygon.MultiPolygon(list(df['rectangle'].values))\n",
                "united = u2(list(df['rectangle']))\n",
                "clip_geometry = (\n",
                "\tunited.simplify(tolerance).buffer(tolerance).buffer(2 * tolerance).buffer(-2 * tolerance).simplify(tolerance / 2)\n",
                ")"
            ]
        },
        {
            "cell_type": "code",
            "execution_count": null,
            "id": "2b9f09c5",
            "metadata": {},
            "outputs": [],
            "source": []
        },
        {
            "cell_type": "markdown",
            "id": "3446356f",
            "metadata": {},
            "source": [
                "1) Clusterize nodes that are really close"
            ]
        },
        {
            "cell_type": "code",
            "execution_count": 17,
            "id": "77cac753",
            "metadata": {},
            "outputs": [],
            "source": [
                "clustered_nodes = sm.nodes.copy()\n",
                "label = agglomerative_clustering(clustered_nodes, distance_threshold=2e-3)\n",
                "label = 'node_cluster_' + label.astype(str)\n",
                "clustered_nodes['cluster'] = label\n",
                "nodes_cluster_series = clustered_nodes['cluster']\n",
                "\n",
                "clustered_nodes = clustered_nodes.drop_duplicates('cluster')\n",
                "clustered_nodes = clustered_nodes.reset_index().set_index('cluster')\n",
                "\n",
                "# sm.nodes['cluster'] = nodes_cluster_series\n"
            ]
        },
        {
            "cell_type": "markdown",
            "id": "1f9c3c12",
            "metadata": {},
            "source": [
                "2) create a voronoi with nodes clusters"
            ]
        },
        {
            "cell_type": "code",
            "execution_count": 18,
            "id": "bd51f9ce",
            "metadata": {},
            "outputs": [],
            "source": [
                "voronoi, _ = voronoi_diagram_dataframes(clustered_nodes['geometry'])\n",
                "voronoi.crs = 4326\n",
                "\n",
                "voronoi = voronoi.clip(clip_geometry)"
            ]
        },
        {
            "cell_type": "markdown",
            "id": "12c37097",
            "metadata": {},
            "source": [
                "3) Clusterize the voronoi into 500 zones\n"
            ]
        },
        {
            "cell_type": "code",
            "execution_count": 19,
            "id": "805f01a0",
            "metadata": {},
            "outputs": [],
            "source": [
                "from shapely.ops import unary_union\n",
                "\n",
                "clusters, cluster_series = zone_clusters(voronoi, n_clusters=500, geo_join_method=lambda x: unary_union(x))\n",
                "clusters = gpd.GeoDataFrame(clusters)\n",
                "\n",
                "cluster_series = 'zones_' + cluster_series.astype(str)\n",
                "clusters.index = 'zones_' + clusters.index.astype(str)\n",
                "clusters.index.name = 'index'\n"
            ]
        },
        {
            "cell_type": "code",
            "execution_count": 20,
            "id": "6c12bfc2",
            "metadata": {},
            "outputs": [],
            "source": [
                "zone_cluster_dict = cluster_series.reset_index().groupby('cluster')['index'].agg(list).to_dict()\n",
                "clusters['node_cluster_list'] = clusters.index.map(zone_cluster_dict.get)\n",
                "clusters['node_cluster_id'] = clusters['node_cluster_list'].apply(lambda x: x[0])"
            ]
        },
        {
            "cell_type": "code",
            "execution_count": 21,
            "id": "da29e038",
            "metadata": {},
            "outputs": [],
            "source": [
                "node_cluster_dict = nodes_cluster_series.reset_index().groupby('cluster')['index'].agg(list).to_dict()\n",
                "clusters['node_list'] = clusters['node_cluster_list'].apply(lambda x: [*map(node_cluster_dict.get, x)])\n",
                "clusters['node_list'] = clusters['node_list'].apply(lambda ls: [item for sublist in ls for item in sublist])  # flatten\n",
                "clusters['node_id'] = clusters['node_list'].apply(lambda x: x[0])"
            ]
        },
        {
            "cell_type": "markdown",
            "id": "7f112fcc",
            "metadata": {},
            "source": [
                "4) pathfinder"
            ]
        },
        {
            "cell_type": "code",
            "execution_count": 22,
            "id": "ee678eb7",
            "metadata": {},
            "outputs": [],
            "source": [
                "zones = sm.nodes.loc[clusters['node_id'].values].copy()\n",
                "zones = zones.reset_index().rename(columns={'index': 'node_id'})\n",
                "zone_node_dict = clusters.reset_index().set_index('node_id')['index'].to_dict()\n",
                "\n",
                "zones.index = zones['node_id'].apply(zone_node_dict.get)\n",
                "zones.index.name = 'index'"
            ]
        },
        {
            "cell_type": "code",
            "execution_count": 23,
            "id": "f8bc17ec",
            "metadata": {},
            "outputs": [],
            "source": [
                "clusters[['geometry']].to_file(os.path.join(output_folder, 'isochrone.geojson'), driver='GeoJSON')"
            ]
        },
        {
            "cell_type": "code",
            "execution_count": 24,
            "id": "d9bb2431",
            "metadata": {},
            "outputs": [],
            "source": [
                "self = sm.copy()\n",
                "self.zones = zones.copy()"
            ]
        },
        {
            "cell_type": "code",
            "execution_count": 25,
            "id": "f7c0ffe0",
            "metadata": {},
            "outputs": [],
            "source": [
                "# need to clusterize a bit. else footpaths wont work.\n",
                "# self.preparation_clusterize_nodes(distance_threshold=1e-4)\n",
                "self.preparation_footpaths(speed=speed, max_length=max_length)\n",
                "\n",
                "self.footpaths = self.footpaths.drop(columns='voronoi')\n",
                "self.footpaths['speed'] = self.footpaths['length'] / self.footpaths['time'] * 3.6"
            ]
        },
        {
            "cell_type": "code",
            "execution_count": 26,
            "id": "d0cb2dd5",
            "metadata": {},
            "outputs": [],
            "source": [
                "self.preparation_ntlegs(\n",
                "\tshort_leg_speed=speed,\n",
                "\tlong_leg_speed=speed,  # tout le monde marche\n",
                "\tzone_to_transit=True,\n",
                "\tzone_to_road=walk_on_road,\n",
                "\troad_to_transit=walk_on_road,\n",
                "\tn_ntlegs=n_ntlegs,\n",
                ")"
            ]
        },
        {
            "cell_type": "markdown",
            "id": "11fd192f",
            "metadata": {},
            "source": [
                "connect zone to every nodes in its cluster"
            ]
        },
        {
            "cell_type": "code",
            "execution_count": 27,
            "id": "9187267e",
            "metadata": {},
            "outputs": [],
            "source": [
                "zone_to_transit = clusters[['node_list']].explode('node_list').reset_index()\n",
                "\n",
                "zone_to_transit['rank'] = 0\n",
                "zone_to_transit['distance'] = 0\n",
                "zone_to_transit['geometry'] = LineString([[0, 0], [0, 0]])\n",
                "zone_to_transit['direction'] = 'access'\n",
                "zone_to_transit['speed_factor'] = 0\n",
                "zone_to_transit['short_leg_speed'] = speed\n",
                "zone_to_transit['long_leg_speed'] = speed\n",
                "zone_to_transit['speed'] = speed\n",
                "zone_to_transit['time'] = 0\n",
                "zone_to_transit['walk_time'] = 0\n"
            ]
        },
        {
            "cell_type": "code",
            "execution_count": 28,
            "id": "8ac04771",
            "metadata": {},
            "outputs": [],
            "source": [
                "access = zone_to_transit.rename(columns={'index': 'a', 'node_list': 'b'})\n",
                "eggress = zone_to_transit.rename(columns={'index': 'b', 'node_list': 'a'})\n",
                "eggress['direction'] = 'eggress'"
            ]
        },
        {
            "cell_type": "code",
            "execution_count": 29,
            "id": "446416a8",
            "metadata": {},
            "outputs": [],
            "source": [
                "self.zone_to_transit = pd.concat([self.zone_to_transit, access, eggress], ignore_index=True)"
            ]
        },
        {
            "cell_type": "code",
            "execution_count": 30,
            "id": "cb59f7fb",
            "metadata": {},
            "outputs": [
                {
                    "name": "stdout",
                    "output_type": "stream",
                    "text": [
                        "start publicpathfinder\n",
                        "500 sources 500 targets direct search\n",
                        "path_analysis\n"
                    ]
                }
            ],
            "source": [
                "self.step_pt_pathfinder(\n",
                "\tbroken_routes=False,\n",
                "\tbroken_modes=False,\n",
                "\tkeep_pathfinder=True,\n",
                "\tcutoff=cutoff,\n",
                "\tmode_column='route_type',\n",
                "\troute_column='route_id',\n",
                "\tspeedup=True,\n",
                "\twalk_on_road=walk_on_road,\n",
                "\tpath_analysis=False,\n",
                "\tnum_cores=num_cores,\n",
                ")"
            ]
        },
        {
            "cell_type": "code",
            "execution_count": 31,
            "id": "6dcb3f74",
            "metadata": {},
            "outputs": [],
            "source": [
                "self.pt_los['time (mins)'] = self.pt_los['gtime'] / 60"
            ]
        },
        {
            "cell_type": "code",
            "execution_count": 32,
            "id": "cfbccd47",
            "metadata": {},
            "outputs": [],
            "source": [
                "def agg_func(x):\n",
                "\treturn dict(x.values)\n",
                "\n",
                "\n",
                "json_data = {}\n",
                "grouped = self.pt_los.groupby(['origin', 'destination'])['time (mins)'].sum().reset_index()\n",
                "grouped['time (mins)'] = list(zip(grouped['destination'], grouped['time (mins)']))\n",
                "data = grouped.groupby('origin').agg({'time (mins)': agg_func}).to_dict()\n",
                "json_data.update(data)"
            ]
        },
        {
            "cell_type": "code",
            "execution_count": 33,
            "id": "b3801bc1",
            "metadata": {},
            "outputs": [],
            "source": [
                "with open(os.path.join(output_folder, 'isochrone.json'), 'w') as json_file:\n",
                "\tjson.dump(json_data, json_file)"
            ]
        },
        {
            "cell_type": "code",
            "execution_count": null,
            "id": "54fa1478",
            "metadata": {},
            "outputs": [],
            "source": []
        },
        {
            "cell_type": "markdown",
            "id": "55e7d284",
            "metadata": {},
            "source": [
                "# OD pathfinder"
            ]
        },
        {
            "cell_type": "code",
            "execution_count": 34,
            "id": "c36c4732",
            "metadata": {},
            "outputs": [],
            "source": [
                "od_file = os.path.join(od_folder, 'od.geojson')\n",
                "od_file_provided = os.path.isfile(od_file)\n",
                "if od_file_provided:\n",
                "\tod_test = gpd.read_file(od_file)\n",
                "\tif 'name' not in od_test.columns:\n",
                "\t\tod_test['name'] = od_test['index']\n",
                "\tod_test['name'] = od_test['name'].fillna(od_test['index'].astype(str))\n",
                "else:\n",
                "\tprint('end of pathfinder')\n",
                "\tend_of_notebook"
            ]
        },
        {
            "cell_type": "markdown",
            "id": "6606a15d",
            "metadata": {},
            "source": [
                "end_of_notebook here if OD_file not provided!!"
            ]
        },
        {
            "cell_type": "code",
            "execution_count": null,
            "id": "354753ed",
            "metadata": {},
            "outputs": [],
            "source": []
        },
        {
            "cell_type": "code",
            "execution_count": 35,
            "id": "4ba9d427",
            "metadata": {},
            "outputs": [],
            "source": [
                "od_test['geometry_o'] = od_test['geometry'].apply(lambda g: Point(g.coords[:][0]))\n",
                "od_test['geometry_d'] = od_test['geometry'].apply(lambda g: Point(g.coords[:][1]))\n",
                "\n",
                "od_test['origin'] = od_test['index'].astype(str) + '_o'\n",
                "od_test['destination'] = od_test['index'].astype(str) + '_d'\n",
                "\n",
                "\n",
                "zones = od_test.copy()\n",
                "zones_d = od_test.copy()\n",
                "zones['geometry'] = zones['geometry_o']\n",
                "zones_d['geometry'] = zones_d['geometry_d']\n",
                "zones['index'] = zones['origin']\n",
                "zones_d['index'] = zones_d['destination']\n",
                "zones = pd.concat([zones[['index', 'geometry']], zones_d[['index', 'geometry']]])\n",
                "zones = zones.set_index('index')\n",
                "\n",
                "od_set = set(zip(od_test['origin'], od_test['destination']))\n"
            ]
        },
        {
            "cell_type": "markdown",
            "id": "528232c8",
            "metadata": {},
            "source": [
                "# Walkmodel"
            ]
        },
        {
            "cell_type": "code",
            "execution_count": 36,
            "id": "826e1526",
            "metadata": {},
            "outputs": [],
            "source": [
                "sm.zones = zones\n",
                "\n",
                "# sm.road_links = rlinks\n",
                "# sm.road_nodes = rnodes"
            ]
        },
        {
            "cell_type": "code",
            "execution_count": 37,
            "id": "c936221b",
            "metadata": {
                "scrolled": false
            },
            "outputs": [],
            "source": [
                "sm.preparation_footpaths(speed=speed, max_length=max_length)\n",
                "\n",
                "sm.footpaths = sm.footpaths.drop(columns='voronoi')\n",
                "sm.footpaths['speed'] = sm.footpaths['length'] / sm.footpaths['time'] * 3.6"
            ]
        },
        {
            "cell_type": "code",
            "execution_count": 38,
            "id": "6644984f",
            "metadata": {
                "scrolled": false
            },
            "outputs": [],
            "source": [
                "# Access footpaths (zone_to_road and road_to_transit)\n",
                "sm.preparation_ntlegs(\n",
                "\tshort_leg_speed=speed,\n",
                "\tlong_leg_speed=speed,  # tout le monde marche\n",
                "\tthreshold=1000,\n",
                "\tzone_to_transit=True,\n",
                "\tzone_to_road=walk_on_road,\n",
                "\troad_to_transit=walk_on_road,\n",
                "\tn_ntlegs=n_ntlegs,\n",
                "\t# max_ntleg_length=2000,\n",
                ")"
            ]
        },
        {
            "cell_type": "code",
            "execution_count": null,
            "id": "0287e906",
            "metadata": {},
            "outputs": [],
            "source": [
                "\n"
            ]
        },
        {
            "cell_type": "markdown",
            "id": "7993fdde",
            "metadata": {},
            "source": [
                "# pathfinder"
            ]
        },
        {
            "cell_type": "code",
            "execution_count": 39,
            "id": "e405bb66",
            "metadata": {},
            "outputs": [
                {
                    "name": "stdout",
                    "output_type": "stream",
                    "text": [
                        "start publicpathfinder\n",
                        "12 sources 12 targets direct search\n",
                        "path_analysis\n"
                    ]
                }
            ],
            "source": [
                "sm.step_pt_pathfinder(\n",
                "\tbroken_routes=False,\n",
                "\tbroken_modes=False,\n",
                "\tkeep_pathfinder=True,\n",
                "\tmode_column='route_type',\n",
                "\troute_column='route_id',\n",
                "\tspeedup=True,\n",
                "\twalk_on_road=walk_on_road,\n",
                "\tpath_analysis=False,\n",
                "\tod_set=od_set,\n",
                ")\n"
            ]
        },
        {
            "cell_type": "code",
            "execution_count": 40,
            "id": "fffb2aeb",
            "metadata": {},
            "outputs": [
                {
                    "name": "stderr",
                    "output_type": "stream",
                    "text": [
                        "path_analysis: 100%|██████████| 12/12 [00:00<00:00, 31339.76it/s]\n"
                    ]
                }
            ],
            "source": [
                "sm.analysis_pt_los(walk_on_road=walk_on_road)"
            ]
        },
        {
            "cell_type": "markdown",
            "id": "50fea814",
            "metadata": {},
            "source": [
                "# create path"
            ]
        },
        {
            "cell_type": "code",
            "execution_count": 307,
            "id": "d48f2e45",
            "metadata": {},
            "outputs": [],
            "source": [
                "od_links = od_test.merge(sm.pt_los[['origin', 'destination', 'gtime', 'link_path']], on=['origin', 'destination'])\n",
                "od_links = od_links.drop(columns=['geometry', 'geometry_o', 'geometry_d', 'origin', 'destination'])\n",
                "od_links = od_links.explode('link_path')\n",
                "# may add route_width if quenedi can handle it one day.\n",
                "od_links = od_links.merge(sm.links[['route_color', 'geometry', 'time', 'speed']], left_on='link_path', right_index=True)\n",
                "# od_links = od_links.drop(columns='link_path')"
            ]
        },
        {
            "cell_type": "code",
            "execution_count": 308,
            "id": "9906956d",
            "metadata": {},
            "outputs": [],
            "source": [
                "od_ntlegs = od_test.merge(sm.pt_los[['origin', 'destination', 'gtime', 'ntlegs']], on=['origin', 'destination'])\n",
                "od_ntlegs = od_ntlegs.drop(columns=['geometry', 'geometry_o', 'geometry_d', 'origin', 'destination'])\n",
                "od_ntlegs = od_ntlegs.explode('ntlegs')\n",
                "\n",
                "ntlegs_dict = sm.zone_to_transit.reset_index().set_index(['a', 'b'])['index'].to_dict()\n",
                "od_ntlegs['ntlegs'] = od_ntlegs['ntlegs'].apply(ntlegs_dict.get)\n",
                "\n",
                "od_ntlegs = od_ntlegs.merge(sm.zone_to_transit[['geometry', 'time', 'speed']], left_on='ntlegs', right_index=True)\n",
                "od_ntlegs = od_ntlegs.drop(columns='ntlegs')\n",
                "# od_ntlegs['route_color']='4B4B4B'"
            ]
        },
        {
            "cell_type": "code",
            "execution_count": 309,
            "id": "654738a8",
            "metadata": {},
            "outputs": [],
            "source": [
                "od_footpaths = od_test.merge(sm.pt_los[['origin', 'destination', 'gtime', 'footpaths']], on=['origin', 'destination'])\n",
                "od_footpaths = od_footpaths.drop(columns=['geometry', 'geometry_o', 'geometry_d', 'origin', 'destination'])\n",
                "od_footpaths = od_footpaths.explode('footpaths')\n",
                "\n",
                "footpaths_dict = sm.footpaths.reset_index().set_index(['a', 'b'])['index'].to_dict()\n",
                "od_footpaths['footpaths'] = od_footpaths['footpaths'].apply(footpaths_dict.get)\n",
                "\n",
                "od_footpaths = od_footpaths.merge(sm.footpaths[['geometry', 'time', 'speed']], left_on='footpaths', right_index=True)\n",
                "od_footpaths = od_footpaths.drop(columns='footpaths')"
            ]
        },
        {
            "cell_type": "code",
            "execution_count": 310,
            "id": "465bdf52",
            "metadata": {},
            "outputs": [],
            "source": [
                "od_route = pd.concat([od_links, od_footpaths, od_ntlegs], axis=0)"
            ]
        },
        {
            "cell_type": "code",
            "execution_count": 311,
            "id": "78a799dd",
            "metadata": {},
            "outputs": [],
            "source": [
                "od_route['route_color'] = od_route['route_color'].fillna('838383')\n",
                "od_route['route_color'] = '#' + od_route['route_color']"
            ]
        },
        {
            "cell_type": "code",
            "execution_count": null,
            "id": "d51cfa0e",
            "metadata": {},
            "outputs": [],
            "source": []
        },
        {
            "cell_type": "code",
            "execution_count": 312,
            "id": "dd9245eb",
            "metadata": {},
            "outputs": [],
            "source": [
                "od_route = od_route.rename(columns={'name': 'od_name'}).drop(columns='index')\n",
                "od_route.reset_index(drop=True)\n",
                "od_route.index.name = 'index'"
            ]
        },
        {
            "cell_type": "code",
            "execution_count": 313,
            "id": "78e3e7f6",
            "metadata": {},
            "outputs": [],
            "source": [
                "od_route = gpd.GeoDataFrame(od_route, crs=4326)\n",
                "od_route.to_file(os.path.join(output_folder, 'od_route.geojson'), driver='GeoJSON')"
            ]
        },
        {
            "cell_type": "markdown",
            "id": "60eb37d5",
            "metadata": {},
            "source": [
                "# export PT lost metrics"
            ]
        },
        {
            "cell_type": "code",
            "execution_count": 314,
            "id": "a8bafbc2",
            "metadata": {},
            "outputs": [],
            "source": [
                "sm.analysis_pt_time(walk_on_road=walk_on_road)\n",
                "sm.analysis_pt_route_type(['rail', 'subway', 'tram', 'bus', 'ferry', 'cable_car', 'gondola', 'funicular'])\n",
                "pt_los = od_test[['origin', 'destination', 'name']].merge(sm.pt_los, on=['origin', 'destination'])"
            ]
        },
        {
            "cell_type": "code",
            "execution_count": 315,
            "id": "59984ef5",
            "metadata": {},
            "outputs": [],
            "source": [
                "pt_los['walking_time'] = pt_los['access_time'] + pt_los['footpath_time']\n",
                "time_per_mode_cols = []\n",
                "# get in_vehicle_time per modes\n",
                "mode_list = sm.links['route_type'].unique()\n",
                "for mode in mode_list:\n",
                "\ttime_dict = sm.links[sm.links['route_type'] == mode]['time'].to_dict()\n",
                "\tcol = f'{mode}_time'\n",
                "\tpt_los[col] = pt_los['path'].apply(lambda ls: sum([time_dict.get(el, 0) for el in ls]))\n",
                "\ttime_per_mode_cols.append(col)\n"
            ]
        },
        {
            "cell_type": "code",
            "execution_count": 316,
            "id": "d942e454",
            "metadata": {},
            "outputs": [],
            "source": [
                "time_cols = ['walking_time', 'waiting_time', 'boarding_time', *time_per_mode_cols]\n",
                "cols = ['name', 'time', 'in_vehicle_time', *time_cols, 'ntransfers', 'route_types']\n",
                "pt_los = pt_los[cols]\n",
                "pt_los.index.name = 'index'"
            ]
        },
        {
            "cell_type": "code",
            "execution_count": 317,
            "id": "5471d7fe",
            "metadata": {},
            "outputs": [],
            "source": [
                "pt_los.to_csv(os.path.join(output_folder, 'od_los.csv'))"
            ]
        },
        {
            "cell_type": "code",
            "execution_count": 318,
            "id": "a85004f3",
            "metadata": {},
            "outputs": [
                {
                    "name": "stdout",
                    "output_type": "stream",
                    "text": [
                        "pathfinder successfull\n"
                    ]
                }
            ],
            "source": [
                "print('pathfinder successfull')"
            ]
        },
        {
            "cell_type": "code",
            "execution_count": null,
            "id": "36eedc1d",
            "metadata": {},
            "outputs": [],
            "source": []
        },
        {
            "cell_type": "markdown",
            "id": "88956cc4",
            "metadata": {},
            "source": [
                "# Bar plot"
            ]
        },
        {
            "cell_type": "code",
            "execution_count": 319,
            "id": "e9bc8b66",
            "metadata": {},
            "outputs": [],
            "source": [
                "import matplotlib.pyplot as plt\n",
                "\n",
                "systra_colors = [\n",
                "\t'#74a9cf',\n",
                "\t'#0570b0',\n",
                "\t'#bdc9e1',\n",
                "\t'#b2df8a',\n",
                "\t'#33a02c',\n",
                "\t'#fb9a99',\n",
                "\t'#e31a1c',\n",
                "\t'#fdbf6f',\n",
                "\t'#ff7f00',\n",
                "\t'#cab2d6',\n",
                "\t'#6a3d9a',\n",
                "]\n"
            ]
        },
        {
            "cell_type": "code",
            "execution_count": 320,
            "id": "65e2ca17",
            "metadata": {},
            "outputs": [],
            "source": [
                "to_plot = pt_los.copy()\n",
                "to_plot = to_plot.set_index('name')\n",
                "to_plot[time_cols] = to_plot[time_cols] / 60"
            ]
        },
        {
            "cell_type": "code",
            "execution_count": 321,
            "id": "fc9e88da",
            "metadata": {},
            "outputs": [
                {
                    "data": {
                        "image/png": "[encoded data removed]",
                        "text/plain": [
                            "<Figure size 1000x1000 with 1 Axes>"
                        ]
                    },
                    "metadata": {},
                    "output_type": "display_data"
                }
            ],
            "source": [
                "ax = to_plot[time_cols].plot(kind='barh', stacked=True, figsize=(10, 10), color=systra_colors)\n",
                "plt.legend(loc='upper right', ncol=1)\n",
                "plt.gca().invert_yaxis()\n",
                "plt.xlabel('Time (mins)')\n",
                "plt.grid(True, 'major', linestyle='-', axis='both')\n",
                "ax.set_axisbelow(True)\n",
                "plt.legend(time_cols, loc='center left', bbox_to_anchor=(1, 0.5), ncol=1)\n",
                "plt.title('Time decomposition for each OD best path')\n",
                "plt.savefig(os.path.join(output_folder, 'od_time_decomposition.png'))"
            ]
        },
        {
            "cell_type": "markdown",
            "id": "8e4e9fd3",
            "metadata": {},
            "source": [
                "# Png of paths"
            ]
        },
        {
            "cell_type": "code",
            "execution_count": 322,
            "id": "96997938",
            "metadata": {},
            "outputs": [],
            "source": [
                "from syspy.spatial.spatial import plot_lineStrings\n"
            ]
        },
        {
            "cell_type": "code",
            "execution_count": 329,
            "id": "da934d32",
            "metadata": {},
            "outputs": [],
            "source": [
                "import matplotlib.pyplot as plt\n",
                "from PIL import Image\n",
                "import requests\n",
                "from io import BytesIO\n",
                "\n",
                "\n",
                "def lonlat_to_meters(lon, lat):\n",
                "\t\"\"\"Convert lon/lat to meters in Web Mercator.\"\"\"\n",
                "\torigin_shift = 2 * np.pi * 6378137 / 2.0\n",
                "\tmx = lon * origin_shift / 180.0\n",
                "\tmy = np.log(np.tan((90 + lat) * np.pi / 360.0)) * 6378137\n",
                "\treturn mx, my\n",
                "\n",
                "\n",
                "def calculate_zoom_to_fit_bbox(minx, miny, maxx, maxy, target_width_px, target_height_px, tile_size=256):\n",
                "\t\"\"\"\n",
                "\tCalculate the appropriate zoom level to fit a bounding box into a fixed pixel size.\n",
                "\tReturns an approximate integer zoom.\n",
                "\t\"\"\"\n",
                "\t# Convert bbox corners to Web Mercator meters\n",
                "\tmx1, my1 = lonlat_to_meters(minx, miny)\n",
                "\tmx2, my2 = lonlat_to_meters(maxx, maxy)\n",
                "\n",
                "\t# Get span in meters\n",
                "\twidth_m = abs(mx2 - mx1)\n",
                "\theight_m = abs(my2 - my1)\n",
                "\n",
                "\t# Calculate resolution required (meters per pixel)\n",
                "\tres_x = width_m / target_width_px\n",
                "\tres_y = height_m / target_height_px\n",
                "\ttarget_res = max(res_x, res_y)\n",
                "\n",
                "\t# Initial resolution at zoom 0\n",
                "\tinitial_res = 2 * np.pi * 6378137 / tile_size\n",
                "\n",
                "\t# Compute zoom level from resolution\n",
                "\tzoom = np.log2(initial_res / target_res)\n",
                "\n",
                "\treturn int(round(zoom))\n",
                "\n",
                "\n",
                "def deg2num(lat_deg, lon_deg, zoom):\n",
                "\tlat_rad = np.radians(lat_deg)\n",
                "\tn = 2.0**zoom\n",
                "\txtile = int((lon_deg + 180.0) / 360.0 * n)\n",
                "\tytile = int((1.0 - np.log(np.tan(lat_rad) + 1 / np.cos(lat_rad)) / np.pi) / 2.0 * n)\n",
                "\treturn (xtile, ytile)\n",
                "\n",
                "\n",
                "def num2deg(xtile, ytile, zoom):\n",
                "\tn = 2.0**zoom\n",
                "\tlon_deg = xtile / n * 360.0 - 180.0\n",
                "\tlat_rad = np.atan(np.sinh(np.pi * (1 - 2 * ytile / n)))\n",
                "\tlat_deg = np.degrees(lat_rad)\n",
                "\treturn (lat_deg, lon_deg)\n",
                "\n",
                "\n",
                "def create_basemap(ax, image_size_px=(512, 512)):\n",
                "\tminy, maxy = ax.get_ylim()\n",
                "\tminx, maxx = ax.get_xlim()\n",
                "\t# Fixed image resolution\n",
                "\tzoom = calculate_zoom_to_fit_bbox(minx, miny, maxx, maxy, image_size_px[0], image_size_px[1])\n",
                "\n",
                "\tprint(f'Zoom : {zoom}')\n",
                "\n",
                "\tx_min, y_max = deg2num(miny, minx, zoom)\n",
                "\tx_max, y_min = deg2num(maxy, maxx, zoom)\n",
                "\n",
                "\twidth = x_max - x_min + 1\n",
                "\theight = y_max - y_min + 1\n",
                "\n",
                "\t# Create a blank image\n",
                "\ttile_size = 256\n",
                "\tbasemap = Image.new('RGB', (width * tile_size, height * tile_size))\n",
                "\t# Download and stitch tiles\n",
                "\tfor x in range(x_min, x_max + 1):\n",
                "\t\tfor y in range(y_min, y_max + 1):\n",
                "\t\t\turl = f'http://a.basemaps.cartocdn.com/light_nolabels/{zoom}/{x}/{y}.png'\n",
                "\t\t\tresponse = requests.get(url)\n",
                "\t\t\ttile = Image.open(BytesIO(response.content))\n",
                "\t\t\tbasemap.paste(tile, ((x - x_min) * tile_size, (y - y_min) * tile_size))\n",
                "\n",
                "\t# Show basemap image\n",
                "\tlat_top_left, lon_top_left = num2deg(x_min, y_min, zoom)\n",
                "\tlat_bottom_right, lon_bottom_right = num2deg(x_max + 1, y_max + 1, zoom)\n",
                "\tax.imshow(basemap, extent=[lon_top_left, lon_bottom_right, lat_bottom_right, lat_top_left], aspect='equal')\n",
                "\tax.set_xlim([minx, maxx])\n",
                "\tax.set_ylim([miny, maxy])\n"
            ]
        },
        {
            "cell_type": "code",
            "execution_count": null,
            "id": "a21ed087",
            "metadata": {},
            "outputs": [],
            "source": [
                "for origin, destination, name in od_test[['origin', 'destination', 'name']].values:\n",
                "\tfig, ax = plt.subplots(figsize=(10, 10))\n",
                "\troute = od_route[od_route['od_name'] == name]\n",
                "\tsm.od_basemap(origin=origin, destination=destination, squared=True, figsize=(10, 10), ax=ax)\n",
                "\tplot_lineStrings(route, ax=ax, linewidth=2, colors=route['route_color'])\n",
                "\tcreate_basemap(ax)\n",
                "\n",
                "\tax.set_xticks([])\n",
                "\tax.set_yticks([])\n",
                "\n",
                "\ttitle = f'{name} \\n'\n",
                "\n",
                "\tpath = pt_los[pt_los['name'] == name].iloc[0]\n",
                "\tpath['min'] = np.round(path['time'] / 60).astype(int)\n",
                "\tmins = (\n",
                "\t\t(path[['in_vehicle_time', 'walking_time', 'waiting_time', 'boarding_time', 'time']] / 60)\n",
                "\t\t.astype(int)\n",
                "\t\t.astype(str)\n",
                "\t)\n",
                "\ttitle += f'{path['ntransfers']} transfers | {path['min']} mins '\n",
                "\ttitle += '\\n' + 'in vehicle ' + mins['in_vehicle_time'] + \"' | \" + ' waiting ' + mins['waiting_time'] + \"' | \"\n",
                "\ttitle += 'walking ' + mins['walking_time'] + \"' | \" + ' boarding ' + mins['boarding_time'] + \"'\" + '\\n'\n",
                "\n",
                "\ttrip_dict = sm.links['trip_id'].to_dict()\n",
                "\ttrip_list = route['link_path'].apply(trip_dict.get).drop_duplicates().dropna().to_list()\n",
                "\ttitle += '->'.join(trip_list)\n",
                "\tax.set_title(title)\n",
                "\n",
                "\tpng = f'OD_PT_{name}.png'\n",
                "\tfig.savefig(os.path.join(output_folder, png), bbox_inches='tight')\n"
            ]
        },
        {
            "cell_type": "code",
            "execution_count": null,
            "id": "e51f1098",
            "metadata": {},
            "outputs": [
                {
                    "data": {
                        "text/plain": [
                            "'../../scenarios/montreal_2/outputs/'"
                        ]
                    },
                    "execution_count": 381,
                    "metadata": {},
                    "output_type": "execute_result"
                }
            ],
            "source": []
        },
        {
            "cell_type": "code",
            "execution_count": null,
            "id": "82c6bdd9",
            "metadata": {},
            "outputs": [],
            "source": []
        }
    ],
    "metadata": {
        "kernelspec": {
            "display_name": "quetzal_312",
            "language": "python",
            "name": "quetzal_312"
        },
        "language_info": {
            "codemirror_mode": {
                "name": "ipython",
                "version": 3
            },
            "file_extension": ".py",
            "mimetype": "text/x-python",
            "name": "python",
            "nbconvert_exporter": "python",
            "pygments_lexer": "ipython3",
            "version": "3.12.2"
        }
    },
    "nbformat": 4,
    "nbformat_minor": 5
}
