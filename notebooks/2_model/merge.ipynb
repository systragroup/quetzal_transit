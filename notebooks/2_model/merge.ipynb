{
 "cells": [
  {
   "cell_type": "code",
   "execution_count": null,
   "id": "71ccff01",
   "metadata": {},
   "outputs": [
    {
     "name": "stdout",
     "output_type": "stream",
     "text": [
      "{'training_folder': '../../', 'scenario': 'montreal_periods', 'period': 'am', 'params': {'general': {'duration': 1440}}}\n"
     ]
    }
   ],
   "source": [
    "import sys\n",
    "import json\n",
    "import s3fs\n",
    "\n",
    "general = {'duration': 24 * 60}\n",
    "params = {'general': general}\n",
    "\n",
    "default = {'training_folder': '../../', 'scenario': 'montreal_periods', 'period': 'am', 'params': params}\n",
    "manual, argv = (True, default) if 'ipykernel' in sys.argv[0] else (False, dict(default, **json.loads(sys.argv[1])))\n",
    "print(argv)\n"
   ]
  },
  {
   "cell_type": "code",
   "execution_count": null,
   "id": "99b5db61",
   "metadata": {},
   "outputs": [],
   "source": [
    "import os\n",
    "import geopandas as gpd\n",
    "import pandas as pd\n",
    "from copy import deepcopy\n",
    "\n",
    "on_lambda = bool(os.environ.get('AWS_EXECUTION_ENV'))\n",
    "print('on_lambda', on_lambda)\n"
   ]
  },
  {
   "cell_type": "markdown",
   "id": "65c740a4",
   "metadata": {},
   "source": [
    "# Folders stucture and params"
   ]
  },
  {
   "cell_type": "code",
   "execution_count": 27,
   "id": "4e405b87",
   "metadata": {},
   "outputs": [
    {
     "name": "stdout",
     "output_type": "stream",
     "text": [
      "input folder:  ../../scenarios/montreal_periods/inputs/\n",
      "output folder:  ../../scenarios/montreal_periods/outputs/\n"
     ]
    }
   ],
   "source": [
    "scenario = argv['scenario']\n",
    "training_folder = argv['training_folder']\n",
    "\n",
    "# if local. add the path to the scenario scenarios/<scenario>/\n",
    "local_scen_path = '' if on_lambda else os.path.join('scenarios/', scenario)\n",
    "\n",
    "input_folder = os.path.join(training_folder, 'inputs/')\n",
    "scenario_folder = os.path.join(training_folder, local_scen_path, 'inputs/')\n",
    "model_folder = os.path.join(training_folder, local_scen_path, 'model/')\n",
    "output_folder = os.path.join(training_folder, local_scen_path, 'outputs/')\n",
    "\n",
    "if not os.path.exists(output_folder):\n",
    "\tos.makedirs(output_folder)\n",
    "\n",
    "print('input folder: ', scenario_folder)\n",
    "print('output folder: ', output_folder)"
   ]
  },
  {
   "cell_type": "code",
   "execution_count": 28,
   "id": "aaa149b7",
   "metadata": {},
   "outputs": [
    {
     "name": "stdout",
     "output_type": "stream",
     "text": [
      "['pm', 'am']\n"
     ]
    }
   ],
   "source": [
    "periods = [d for d in os.listdir(output_folder) if os.path.isdir(os.path.join(output_folder, d))]\n",
    "print(periods)"
   ]
  },
  {
   "cell_type": "code",
   "execution_count": 29,
   "id": "4a440811",
   "metadata": {},
   "outputs": [],
   "source": [
    "# os.listdir(os.path.join(output_folder, 'am'))"
   ]
  },
  {
   "cell_type": "code",
   "execution_count": null,
   "id": "7996141b",
   "metadata": {},
   "outputs": [],
   "source": [
    "def merge_periods_and_save(periods, filename='nodes.geojson', cols=['catchment', 'catchment_radius']):\n",
    "\tmerged_df = pd.DataFrame()\n",
    "\tfor period in periods:\n",
    "\t\tfilepath = os.path.join(output_folder, period, filename)\n",
    "\t\tdf = gpd.read_file(filepath)\n",
    "\t\tdf = df.set_index('index')\n",
    "\n",
    "\t\tvar_cols = [f'{col}#{period}' for col in cols]\n",
    "\t\tnames = {col: var_col for col, var_col in zip(cols, var_cols)}\n",
    "\t\tdf = df.rename(columns=names)\n",
    "\t\tif len(merged_df) == 0:\n",
    "\t\t\tmerged_df = df\n",
    "\t\telse:\n",
    "\t\t\tmerged_df = merged_df.merge(df[var_cols], left_index=True, right_index=True)\n",
    "\n",
    "\tif len(periods) > 0:\n",
    "\t\tmerged_df.to_file(os.path.join(output_folder, filename), driver='GeoJSON')"
   ]
  },
  {
   "cell_type": "code",
   "execution_count": null,
   "id": "1c2edbfe",
   "metadata": {},
   "outputs": [],
   "source": [
    "merge_periods_and_save(periods, 'nodes.geojson', ['catchment', 'catchment_radius'])"
   ]
  },
  {
   "cell_type": "code",
   "execution_count": null,
   "id": "c10f840d",
   "metadata": {},
   "outputs": [],
   "source": [
    "merge_periods_and_save(periods, 'population_mesh.geojson', ['population'])"
   ]
  },
  {
   "cell_type": "markdown",
   "id": "2a1e9324",
   "metadata": {},
   "source": [
    "# Styles"
   ]
  },
  {
   "cell_type": "code",
   "execution_count": 34,
   "id": "20b47ef1",
   "metadata": {},
   "outputs": [],
   "source": [
    "with open(os.path.join(input_folder, 'styles.json')) as f:\n",
    "\ttemplates = json.load(f)"
   ]
  },
  {
   "cell_type": "code",
   "execution_count": 35,
   "id": "354f8767",
   "metadata": {},
   "outputs": [],
   "source": [
    "if len(periods) == 0:\n",
    "\twith open(os.path.join(output_folder, 'styles.json'), 'w') as f:\n",
    "\t\tjson.dump(templates, f)\n",
    "\tend_of_notebook"
   ]
  },
  {
   "cell_type": "code",
   "execution_count": 36,
   "id": "ac65fcaa",
   "metadata": {},
   "outputs": [],
   "source": [
    "styles = []"
   ]
  },
  {
   "cell_type": "code",
   "execution_count": 37,
   "id": "5af1498c",
   "metadata": {},
   "outputs": [],
   "source": [
    "template = [s for s in templates if s['name'] == 'population mesh'][0]\n",
    "for period in periods:\n",
    "\tstyle = deepcopy(template)\n",
    "\tstyle['name'] = f'{style['name']} {period}'\n",
    "\tfeature = style['displaySettings']['selectedFeature']\n",
    "\tstyle['displaySettings']['selectedFeature'] = f'{feature}#{period}'\n",
    "\tstyles.append(style)\n"
   ]
  },
  {
   "cell_type": "code",
   "execution_count": 38,
   "id": "9c994371",
   "metadata": {},
   "outputs": [],
   "source": [
    "template = [s for s in templates if s['name'] == 'stop catchment'][0]\n",
    "for period in periods:\n",
    "\tstyle = deepcopy(template)\n",
    "\tstyle['name'] = f'{style['name']} {period}'\n",
    "\tfeature = style['displaySettings']['selectedFeature']\n",
    "\tstyle['displaySettings']['selectedFeature'] = f'{feature}#{period}'\n",
    "\tstyles.append(style)"
   ]
  },
  {
   "cell_type": "code",
   "execution_count": null,
   "id": "dc31b369",
   "metadata": {},
   "outputs": [],
   "source": [
    "template = [s for s in templates if s['name'] == 'OD routes'][0]\n",
    "for period in periods:\n",
    "\tstyle = deepcopy(template)\n",
    "\tfilename = os.path.join(output_folder, period, 'od_route.geojson')\n",
    "\tif os.path.isfile(filename):\n",
    "\t\tstyle['name'] = f'{style['name']} {period}'\n",
    "\t\tstyle['layer'] = f'microservices/transit/{period}/od_route'\n",
    "\t\tstyles.append(style)"
   ]
  },
  {
   "cell_type": "code",
   "execution_count": null,
   "id": "f5d69b2c",
   "metadata": {},
   "outputs": [],
   "source": [
    "with open(os.path.join(output_folder, 'styles.json'), 'w') as f:\n",
    "\tjson.dump(styles, f)"
   ]
  }
 ],
 "metadata": {
  "kernelspec": {
   "display_name": "quetzal-py3.12",
   "language": "python",
   "name": "python3"
  },
  "language_info": {
   "codemirror_mode": {
    "name": "ipython",
    "version": 3
   },
   "file_extension": ".py",
   "mimetype": "text/x-python",
   "name": "python",
   "nbconvert_exporter": "python",
   "pygments_lexer": "ipython3",
   "version": "3.12.2"
  }
 },
 "nbformat": 4,
 "nbformat_minor": 5
}
