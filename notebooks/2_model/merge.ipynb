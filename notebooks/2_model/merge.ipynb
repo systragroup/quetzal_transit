{
 "cells": [
  {
   "cell_type": "code",
   "execution_count": 3,
   "id": "71ccff01",
   "metadata": {},
   "outputs": [
    {
     "name": "stdout",
     "output_type": "stream",
     "text": [
      "{'training_folder': '../../', 'scenario': 'montreal_periods', 'period': '', 'params': {'general': {'duration': 1440}}}\n"
     ]
    }
   ],
   "source": [
    "import sys\n",
    "import json\n",
    "\n",
    "general = {'duration': 24 * 60}\n",
    "params = {'general': general}\n",
    "\n",
    "default = {'training_folder': '../../', 'scenario': 'montreal_periods', 'period': '', 'params': params}\n",
    "manual, argv = (True, default) if 'ipykernel' in sys.argv[0] else (False, dict(default, **json.loads(sys.argv[1])))\n",
    "print(argv)\n"
   ]
  },
  {
   "cell_type": "code",
   "execution_count": 4,
   "id": "99b5db61",
   "metadata": {},
   "outputs": [
    {
     "name": "stdout",
     "output_type": "stream",
     "text": [
      "on_lambda False\n"
     ]
    }
   ],
   "source": [
    "import os\n",
    "import geopandas as gpd\n",
    "import pandas as pd\n",
    "from copy import deepcopy\n",
    "\n",
    "on_lambda = bool(os.environ.get('AWS_EXECUTION_ENV'))\n",
    "print('on_lambda', on_lambda)\n"
   ]
  },
  {
   "cell_type": "markdown",
   "id": "65c740a4",
   "metadata": {},
   "source": [
    "# Folders stucture and params"
   ]
  },
  {
   "cell_type": "code",
   "execution_count": null,
   "id": "4e405b87",
   "metadata": {},
   "outputs": [
    {
     "name": "stdout",
     "output_type": "stream",
     "text": [
      "input folder:  ../../scenarios/montreal_periods/inputs/\n",
      "output folder:  ../../scenarios/montreal_periods/outputs/\n"
     ]
    }
   ],
   "source": [
    "scenario = argv['scenario']\n",
    "training_folder = argv['training_folder']\n",
    "\n",
    "# if local. add the path to the scenario scenarios/<scenario>/\n",
    "local_scen_path = '' if on_lambda else os.path.join('scenarios/', scenario)\n",
    "\n",
    "input_folder = os.path.join(training_folder, 'inputs/')\n",
    "scenario_folder = os.path.join(training_folder, local_scen_path, 'inputs/')\n",
    "model_folder = os.path.join(training_folder, local_scen_path, 'model/')\n",
    "output_folder = os.path.join(training_folder, local_scen_path, 'outputs/')\n",
    "\n",
    "if not os.path.exists(output_folder):\n",
    "    os.makedirs(output_folder)\n",
    "\n",
    "print('input folder: ', scenario_folder)\n",
    "print('output folder: ', output_folder)"
   ]
  },
  {
   "cell_type": "code",
   "execution_count": 6,
   "id": "aaa149b7",
   "metadata": {},
   "outputs": [
    {
     "name": "stdout",
     "output_type": "stream",
     "text": [
      "['pm', 'am']\n"
     ]
    }
   ],
   "source": [
    "periods = [d for d in os.listdir(output_folder) if os.path.isdir(os.path.join(output_folder, d))]\n",
    "print(periods)"
   ]
  },
  {
   "cell_type": "code",
   "execution_count": 7,
   "id": "4a440811",
   "metadata": {},
   "outputs": [],
   "source": [
    "# os.listdir(os.path.join(output_folder, 'am'))"
   ]
  },
  {
   "cell_type": "code",
   "execution_count": null,
   "id": "7996141b",
   "metadata": {},
   "outputs": [],
   "source": [
    "def merge_periods_and_save(periods, filename='nodes.geojson', cols=['catchment', 'catchment_radius']):\n",
    "    merged_df = pd.DataFrame()\n",
    "    for period in periods:\n",
    "        filepath = os.path.join(output_folder, period, filename)\n",
    "        df = gpd.read_file(filepath)\n",
    "        df = df.set_index('index')\n",
    "\n",
    "        var_cols = [f'{col}#{period}' for col in cols]\n",
    "        names = {col: var_col for col, var_col in zip(cols, var_cols)}\n",
    "        df = df.rename(columns=names)\n",
    "        if len(merged_df) == 0:\n",
    "            merged_df = df\n",
    "        else:\n",
    "            merged_df = merged_df.merge(df[var_cols], left_index=True, right_index=True)\n",
    "\n",
    "    if len(periods) > 0:\n",
    "        merged_df.to_file(os.path.join(output_folder, filename), driver='GeoJSON')"
   ]
  },
  {
   "cell_type": "code",
   "execution_count": 9,
   "id": "1c2edbfe",
   "metadata": {},
   "outputs": [],
   "source": [
    "merge_periods_and_save(periods, 'nodes.geojson', ['catchment', 'catchment_radius'])"
   ]
  },
  {
   "cell_type": "code",
   "execution_count": 10,
   "id": "c10f840d",
   "metadata": {},
   "outputs": [],
   "source": [
    "merge_periods_and_save(periods, 'population_mesh.geojson', ['population'])"
   ]
  },
  {
   "cell_type": "markdown",
   "id": "2a1e9324",
   "metadata": {},
   "source": [
    "# Styles"
   ]
  },
  {
   "cell_type": "code",
   "execution_count": null,
   "id": "20b47ef1",
   "metadata": {},
   "outputs": [],
   "source": [
    "with open(os.path.join(input_folder, 'styles.json')) as f:\n",
    "    templates = json.load(f)"
   ]
  },
  {
   "cell_type": "code",
   "execution_count": null,
   "id": "354f8767",
   "metadata": {},
   "outputs": [],
   "source": [
    "if len(periods) == 0:\n",
    "    with open(os.path.join(output_folder, 'styles.json'), 'w') as f:\n",
    "        json.dump(templates, f)\n",
    "    end_of_notebook"
   ]
  },
  {
   "cell_type": "code",
   "execution_count": 13,
   "id": "ac65fcaa",
   "metadata": {},
   "outputs": [],
   "source": [
    "styles = []"
   ]
  },
  {
   "cell_type": "code",
   "execution_count": null,
   "id": "5af1498c",
   "metadata": {},
   "outputs": [],
   "source": [
    "template = [s for s in templates if s['name'] == 'population mesh'][0]\n",
    "for period in periods:\n",
    "    style = deepcopy(template)\n",
    "    style['name'] = f'{style[\"name\"]} {period}'\n",
    "    feature = style['displaySettings']['selectedFeature']\n",
    "    style['displaySettings']['selectedFeature'] = f'{feature}#{period}'\n",
    "    styles.append(style)\n"
   ]
  },
  {
   "cell_type": "code",
   "execution_count": null,
   "id": "9c994371",
   "metadata": {},
   "outputs": [],
   "source": [
    "template = [s for s in templates if s['name'] == 'stop catchment'][0]\n",
    "for period in periods:\n",
    "    style = deepcopy(template)\n",
    "    style['name'] = f'{style[\"name\"]} {period}'\n",
    "    feature = style['displaySettings']['selectedFeature']\n",
    "    style['displaySettings']['selectedFeature'] = f'{feature}#{period}'\n",
    "    styles.append(style)"
   ]
  },
  {
   "cell_type": "code",
   "execution_count": null,
   "id": "dc31b369",
   "metadata": {},
   "outputs": [],
   "source": [
    "template = [s for s in templates if s['name'] == 'OD routes'][0]\n",
    "for period in periods:\n",
    "    style = deepcopy(template)\n",
    "    filename = os.path.join(output_folder, period, 'od_route.geojson')\n",
    "    if os.path.isfile(filename):\n",
    "        style['name'] = f'{style[\"name\"]} {period}'\n",
    "        style['layer'] = f'microservices/transit/{period}/od_route'\n",
    "        styles.append(style)"
   ]
  },
  {
   "cell_type": "code",
   "execution_count": null,
   "id": "ff4d99f4",
   "metadata": {},
   "outputs": [],
   "source": [
    "template = [s for s in templates if s['name'] == 'isochrone'][0]\n",
    "for period in periods:\n",
    "    style = deepcopy(template)\n",
    "    filename = os.path.join(output_folder, period, 'isochrone.geojson')\n",
    "    if os.path.isfile(filename):\n",
    "        style['name'] = f'{style[\"name\"]} {period}'\n",
    "        style['layer'] = f'microservices/transit/{period}/isochrone'\n",
    "        styles.append(style)"
   ]
  },
  {
   "cell_type": "code",
   "execution_count": null,
   "id": "f5d69b2c",
   "metadata": {},
   "outputs": [],
   "source": [
    "with open(os.path.join(output_folder, 'styles.json'), 'w') as f:\n",
    "    json.dump(styles, f)"
   ]
  },
  {
   "cell_type": "code",
   "execution_count": null,
   "id": "053dc697",
   "metadata": {},
   "outputs": [],
   "source": []
  }
 ],
 "metadata": {
  "kernelspec": {
   "display_name": "quetzal-py3.12",
   "language": "python",
   "name": "python3"
  },
  "language_info": {
   "codemirror_mode": {
    "name": "ipython",
    "version": 3
   },
   "file_extension": ".py",
   "mimetype": "text/x-python",
   "name": "python",
   "nbconvert_exporter": "python",
   "pygments_lexer": "ipython3",
   "version": "3.12.2"
  }
 },
 "nbformat": 4,
 "nbformat_minor": 5
}
