{
 "cells": [
  {
   "cell_type": "code",
   "execution_count": 6,
   "id": "71ccff01",
   "metadata": {},
   "outputs": [
    {
     "name": "stdout",
     "output_type": "stream",
     "text": [
      "{'training_folder': '../../', 'scenario': 'montreal', 'period': '', 'params': {'general': {'duration': 1440}}}\n"
     ]
    }
   ],
   "source": [
    "import sys\n",
    "import json\n",
    "\n",
    "general = {'duration': 24 * 60}\n",
    "params = {'general': general}\n",
    "\n",
    "default = {'training_folder': '../../', 'scenario': 'montreal', 'period': '', 'params': params}\n",
    "manual, argv = (True, default) if 'ipykernel' in sys.argv[0] else (False, dict(default, **json.loads(sys.argv[1])))\n",
    "print(argv)\n"
   ]
  },
  {
   "cell_type": "code",
   "execution_count": 7,
   "id": "99b5db61",
   "metadata": {},
   "outputs": [
    {
     "name": "stdout",
     "output_type": "stream",
     "text": [
      "on_lambda False\n"
     ]
    }
   ],
   "source": [
    "import os\n",
    "import geopandas as gpd\n",
    "import pandas as pd\n",
    "from copy import deepcopy\n",
    "\n",
    "on_lambda = bool(os.environ.get('AWS_EXECUTION_ENV'))\n",
    "print('on_lambda', on_lambda)\n"
   ]
  },
  {
   "cell_type": "markdown",
   "id": "65c740a4",
   "metadata": {},
   "source": [
    "# Folders stucture and params"
   ]
  },
  {
   "cell_type": "code",
   "execution_count": 8,
   "id": "4e405b87",
   "metadata": {},
   "outputs": [
    {
     "name": "stdout",
     "output_type": "stream",
     "text": [
      "input folder:  ../../scenarios/montreal/inputs/\n",
      "output folder:  ../../scenarios/montreal/outputs/\n"
     ]
    }
   ],
   "source": [
    "scenario = argv['scenario']\n",
    "training_folder = argv['training_folder']\n",
    "\n",
    "# if local. add the path to the scenario scenarios/<scenario>/\n",
    "local_scen_path = '' if on_lambda else os.path.join('scenarios/', scenario)\n",
    "\n",
    "input_folder = os.path.join(training_folder, 'inputs/')\n",
    "scenario_folder = os.path.join(training_folder, local_scen_path, 'inputs/')\n",
    "model_folder = os.path.join(training_folder, local_scen_path, 'model/')\n",
    "output_folder = os.path.join(training_folder, local_scen_path, 'outputs/')\n",
    "\n",
    "if not os.path.exists(output_folder):\n",
    "\tos.makedirs(output_folder)\n",
    "\n",
    "print('input folder: ', scenario_folder)\n",
    "print('output folder: ', output_folder)"
   ]
  },
  {
   "cell_type": "code",
   "execution_count": 9,
   "id": "aaa149b7",
   "metadata": {},
   "outputs": [
    {
     "name": "stdout",
     "output_type": "stream",
     "text": [
      "[]\n"
     ]
    }
   ],
   "source": [
    "periods = [d for d in os.listdir(output_folder) if os.path.isdir(os.path.join(output_folder, d))]\n",
    "print(periods)"
   ]
  },
  {
   "cell_type": "code",
   "execution_count": 10,
   "id": "4a440811",
   "metadata": {},
   "outputs": [],
   "source": [
    "# os.listdir(os.path.join(output_folder, 'am'))"
   ]
  },
  {
   "cell_type": "code",
   "execution_count": 11,
   "id": "7996141b",
   "metadata": {},
   "outputs": [],
   "source": [
    "def merge_periods_and_save(periods, filename='nodes.geojson', cols=['catchment', 'catchment_radius']):\n",
    "\tmerged_df = pd.DataFrame()\n",
    "\tfor period in periods:\n",
    "\t\tfilepath = os.path.join(output_folder, period, filename)\n",
    "\t\tdf = gpd.read_file(filepath)\n",
    "\t\tdf = df.set_index('index')\n",
    "\n",
    "\t\tvar_cols = [f'{col}#{period}' for col in cols]\n",
    "\t\tnames = {col: var_col for col, var_col in zip(cols, var_cols)}\n",
    "\t\tdf = df.rename(columns=names)\n",
    "\t\tif len(merged_df) == 0:\n",
    "\t\t\tmerged_df = df\n",
    "\t\telse:\n",
    "\t\t\tmerged_df = merged_df.merge(df[var_cols], left_index=True, right_index=True)\n",
    "\n",
    "\tif len(periods) > 0:\n",
    "\t\tmerged_df.to_file(os.path.join(output_folder, filename), driver='GeoJSON')"
   ]
  },
  {
   "cell_type": "code",
   "execution_count": 12,
   "id": "1c2edbfe",
   "metadata": {},
   "outputs": [],
   "source": [
    "merge_periods_and_save(periods, 'nodes.geojson', ['catchment', 'catchment_radius'])"
   ]
  },
  {
   "cell_type": "code",
   "execution_count": 13,
   "id": "c10f840d",
   "metadata": {},
   "outputs": [],
   "source": [
    "merge_periods_and_save(periods, 'population_mesh.geojson', ['population'])"
   ]
  },
  {
   "cell_type": "markdown",
   "id": "2a1e9324",
   "metadata": {},
   "source": [
    "# Styles"
   ]
  },
  {
   "cell_type": "code",
   "execution_count": 14,
   "id": "20b47ef1",
   "metadata": {},
   "outputs": [],
   "source": [
    "with open(os.path.join(input_folder, 'styles.json')) as f:\n",
    "\ttemplates = json.load(f)"
   ]
  },
  {
   "cell_type": "code",
   "execution_count": 17,
   "id": "354f8767",
   "metadata": {},
   "outputs": [
    {
     "ename": "NameError",
     "evalue": "name 'end_of_notebook' is not defined",
     "output_type": "error",
     "traceback": [
      "\u001b[0;31m---------------------------------------------------------------------------\u001b[0m",
      "\u001b[0;31mNameError\u001b[0m                                 Traceback (most recent call last)",
      "Cell \u001b[0;32mIn[17], line 4\u001b[0m\n\u001b[1;32m      2\u001b[0m \u001b[38;5;28;01mwith\u001b[39;00m \u001b[38;5;28mopen\u001b[39m(os\u001b[38;5;241m.\u001b[39mpath\u001b[38;5;241m.\u001b[39mjoin(output_folder, \u001b[38;5;124m'\u001b[39m\u001b[38;5;124mstyles.json\u001b[39m\u001b[38;5;124m'\u001b[39m), \u001b[38;5;124m'\u001b[39m\u001b[38;5;124mw\u001b[39m\u001b[38;5;124m'\u001b[39m) \u001b[38;5;28;01mas\u001b[39;00m f:\n\u001b[1;32m      3\u001b[0m \tjson\u001b[38;5;241m.\u001b[39mdump(templates, f)\n\u001b[0;32m----> 4\u001b[0m \u001b[43mend_of_notebook\u001b[49m\n",
      "\u001b[0;31mNameError\u001b[0m: name 'end_of_notebook' is not defined"
     ]
    }
   ],
   "source": [
    "if len(periods) == 0:\n",
    "\twith open(os.path.join(output_folder, 'styles.json'), 'w') as f:\n",
    "\t\tjson.dump(templates, f)\n",
    "\tend_of_notebook"
   ]
  },
  {
   "cell_type": "code",
   "execution_count": 16,
   "id": "ac65fcaa",
   "metadata": {},
   "outputs": [],
   "source": [
    "styles = []"
   ]
  },
  {
   "cell_type": "code",
   "execution_count": 37,
   "id": "5af1498c",
   "metadata": {},
   "outputs": [],
   "source": [
    "template = [s for s in templates if s['name'] == 'population mesh'][0]\n",
    "for period in periods:\n",
    "\tstyle = deepcopy(template)\n",
    "\tstyle['name'] = f'{style['name']} {period}'\n",
    "\tfeature = style['displaySettings']['selectedFeature']\n",
    "\tstyle['displaySettings']['selectedFeature'] = f'{feature}#{period}'\n",
    "\tstyles.append(style)\n"
   ]
  },
  {
   "cell_type": "code",
   "execution_count": 38,
   "id": "9c994371",
   "metadata": {},
   "outputs": [],
   "source": [
    "template = [s for s in templates if s['name'] == 'stop catchment'][0]\n",
    "for period in periods:\n",
    "\tstyle = deepcopy(template)\n",
    "\tstyle['name'] = f'{style['name']} {period}'\n",
    "\tfeature = style['displaySettings']['selectedFeature']\n",
    "\tstyle['displaySettings']['selectedFeature'] = f'{feature}#{period}'\n",
    "\tstyles.append(style)"
   ]
  },
  {
   "cell_type": "code",
   "execution_count": null,
   "id": "dc31b369",
   "metadata": {},
   "outputs": [],
   "source": [
    "template = [s for s in templates if s['name'] == 'OD routes'][0]\n",
    "for period in periods:\n",
    "\tstyle = deepcopy(template)\n",
    "\tfilename = os.path.join(output_folder, period, 'od_route.geojson')\n",
    "\tif os.path.isfile(filename):\n",
    "\t\tstyle['name'] = f'{style['name']} {period}'\n",
    "\t\tstyle['layer'] = f'microservices/transit/{period}/od_route'\n",
    "\t\tstyles.append(style)"
   ]
  },
  {
   "cell_type": "code",
   "execution_count": null,
   "id": "ff4d99f4",
   "metadata": {},
   "outputs": [],
   "source": [
    "template = [s for s in templates if s['name'] == 'isochone'][0]\n",
    "for period in periods:\n",
    "\tstyle = deepcopy(template)\n",
    "\tfilename = os.path.join(output_folder, period, 'isochone.geojson')\n",
    "\tif os.path.isfile(filename):\n",
    "\t\tstyle['name'] = f'{style['name']} {period}'\n",
    "\t\tstyle['layer'] = f'microservices/transit/{period}/isochone'\n",
    "\t\tstyles.append(style)"
   ]
  },
  {
   "cell_type": "code",
   "execution_count": null,
   "id": "f5d69b2c",
   "metadata": {},
   "outputs": [],
   "source": [
    "with open(os.path.join(output_folder, 'styles.json'), 'w') as f:\n",
    "\tjson.dump(styles, f)"
   ]
  }
 ],
 "metadata": {
  "kernelspec": {
   "display_name": "quetzal-py3.12",
   "language": "python",
   "name": "python3"
  },
  "language_info": {
   "codemirror_mode": {
    "name": "ipython",
    "version": 3
   },
   "file_extension": ".py",
   "mimetype": "text/x-python",
   "name": "python",
   "nbconvert_exporter": "python",
   "pygments_lexer": "ipython3",
   "version": "3.12.2"
  }
 },
 "nbformat": 4,
 "nbformat_minor": 5
}
