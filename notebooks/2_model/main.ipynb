{
 "cells": [
  {
   "cell_type": "code",
   "execution_count": null,
   "id": "71ccff01",
   "metadata": {},
   "outputs": [
    {
     "name": "stdout",
     "output_type": "stream",
     "text": [
      "{'training_folder': '../../scenarios/clermont', 'params': {'general': {'step_size': '0.001', 'use_road_network': True}, 'catchment_radius': {'bus': '500', 'subway': '800', 'rail': '1000'}}}\n"
     ]
    }
   ],
   "source": [
    "import sys\n",
    "import json\n",
    "\n",
    "general = {'step_size':'0.001', 'use_road_network':True, 'catchment_radius': '500'}\n",
    "# catchment_radius={'bus':'500','subway':'800','rail':'1000'}\n",
    "\n",
    "params = {\n",
    "    'general': general,\n",
    "    # 'catchment_radius':catchment_radius\n",
    "    }\n",
    "\n",
    "default = {'training_folder': '../../scenarios/clermont', 'params':params} # Default execution parameters\n",
    "manual, argv = (True, default) if 'ipykernel' in sys.argv[0] else (False, dict(default, **json.loads(sys.argv[1])))\n",
    "print(argv)\n"
   ]
  },
  {
   "cell_type": "code",
   "execution_count": 2,
   "id": "99b5db61",
   "metadata": {},
   "outputs": [
    {
     "name": "stdout",
     "output_type": "stream",
     "text": [
      "numba threads 20\n"
     ]
    }
   ],
   "source": [
    "import os\n",
    "import time\n",
    "import geopandas as gpd\n",
    "import pandas as pd\n",
    "sys.path.insert(0, r'../../../quetzal') # Add path to quetzal\n",
    "import numpy as np\n",
    "import random\n",
    "import matplotlib.pyplot as plt\n",
    "from shapely.geometry import Point, LineString\n",
    "from typing import Literal\n",
    "import numba as nb\n",
    "from collections import defaultdict\n",
    "#num_cores = 1\n",
    "print('numba threads',nb.config.NUMBA_NUM_THREADS)\n",
    "\n",
    "on_lambda = bool(os.environ.get('AWS_EXECUTION_ENV'))\n",
    "io_engine = 'pyogrio' "
   ]
  },
  {
   "cell_type": "code",
   "execution_count": 3,
   "id": "772a187c",
   "metadata": {},
   "outputs": [],
   "source": [
    "sys.path.insert(0, r'../../') # Add path\n",
    "from utils import get_epsg, population_to_mesh, get_acf_distances, get_routing_distances"
   ]
  },
  {
   "cell_type": "code",
   "execution_count": null,
   "id": "8a8fe8e7",
   "metadata": {},
   "outputs": [],
   "source": []
  },
  {
   "cell_type": "markdown",
   "id": "65c740a4",
   "metadata": {},
   "source": [
    "# Folders stucture and params"
   ]
  },
  {
   "cell_type": "markdown",
   "id": "cbbbcb7a",
   "metadata": {},
   "source": [
    "everything is on S3 (nothing on ECR) so no direct input folder. just scenarios/{scen}/inputs/"
   ]
  },
  {
   "cell_type": "code",
   "execution_count": 4,
   "id": "8ade8441",
   "metadata": {},
   "outputs": [
    {
     "data": {
      "text/plain": [
       "'../../scenarios/clermont'"
      ]
     },
     "execution_count": 4,
     "metadata": {},
     "output_type": "execute_result"
    }
   ],
   "source": [
    "argv['training_folder']"
   ]
  },
  {
   "cell_type": "code",
   "execution_count": 5,
   "id": "4e405b87",
   "metadata": {},
   "outputs": [],
   "source": [
    "base_folder = argv['training_folder']\n",
    "input_folder = os.path.join(base_folder,'inputs/')\n",
    "pt_folder  = os.path.join(input_folder,'pt/')\n",
    "road_folder = os.path.join(input_folder,'road/') ## réseau ferré\n",
    "od_folder =  os.path.join(input_folder,'od/')\n",
    "\n",
    "output_folder = os.path.join(base_folder,'outputs/')\n",
    "if not os.path.exists(output_folder):\n",
    "    os.makedirs(output_folder)\n",
    "\n",
    "model_folder = os.path.join(input_folder, 'model/')"
   ]
  },
  {
   "cell_type": "code",
   "execution_count": 6,
   "id": "3fcd9c8a",
   "metadata": {},
   "outputs": [],
   "source": [
    "#zonage_input = gpd.read_file(input_folder + 'communes_zonage_serm.gpkg')\n",
    "#zonage_input.rename(columns={'Population': 'population'}, inplace=True)\n",
    "#zonage_input['density'] = zonage_input['population']/zonage_input.to_crs(epsg='4326').area/10**6\n",
    "#zonage_input = zonage_input[['nom', 'insee_com', 'insee_dep', 'insee_reg', 'population', 'density', 'geometry']]\n",
    "#zonage_input.to_file(input_folder + 'zonage.geojson')"
   ]
  },
  {
   "cell_type": "code",
   "execution_count": 7,
   "id": "aa37cb13",
   "metadata": {},
   "outputs": [],
   "source": [
    "input_catchment_radius = argv['params']['catchment_radius']\n",
    "\n",
    "input_catchment_radius = {k:float(v) for k,v in catchment_radius.items()}\n",
    "default_catchment_radius = 500"
   ]
  },
  {
   "cell_type": "code",
   "execution_count": 8,
   "id": "38b540fb",
   "metadata": {},
   "outputs": [
    {
     "data": {
      "text/plain": [
       "{'bus': 500.0, 'subway': 800.0, 'rail': 1000.0}"
      ]
     },
     "execution_count": 8,
     "metadata": {},
     "output_type": "execute_result"
    }
   ],
   "source": [
    "input_catchment_radius"
   ]
  },
  {
   "cell_type": "code",
   "execution_count": 9,
   "id": "cb38b702",
   "metadata": {},
   "outputs": [
    {
     "data": {
      "text/plain": [
       "{'bus': '500', 'subway': '800', 'rail': '1000'}"
      ]
     },
     "execution_count": 9,
     "metadata": {},
     "output_type": "execute_result"
    }
   ],
   "source": [
    "catchment_radius"
   ]
  },
  {
   "cell_type": "code",
   "execution_count": 10,
   "id": "81b11c40",
   "metadata": {},
   "outputs": [],
   "source": [
    "step_size_min = 0.0005\n",
    "step_size = max(float(argv['params']['general'].get('step_size')), step_size_min)\n",
    "use_road_network = argv['params']['general'].get('use_road_network') ## param use r_ntw"
   ]
  },
  {
   "cell_type": "code",
   "execution_count": 11,
   "id": "8ce02c77",
   "metadata": {},
   "outputs": [
    {
     "data": {
      "text/plain": [
       "0.001"
      ]
     },
     "execution_count": 11,
     "metadata": {},
     "output_type": "execute_result"
    }
   ],
   "source": [
    "step_size"
   ]
  },
  {
   "cell_type": "code",
   "execution_count": 12,
   "id": "7b5bfa1f",
   "metadata": {},
   "outputs": [
    {
     "data": {
      "text/plain": [
       "True"
      ]
     },
     "execution_count": 12,
     "metadata": {},
     "output_type": "execute_result"
    }
   ],
   "source": [
    "use_road_network"
   ]
  },
  {
   "cell_type": "markdown",
   "id": "cdd032bd",
   "metadata": {},
   "source": [
    "# inputs"
   ]
  },
  {
   "cell_type": "code",
   "execution_count": 13,
   "id": "1a674100",
   "metadata": {},
   "outputs": [],
   "source": [
    "links = gpd.read_file(pt_folder + 'links.geojson',engine=io_engine) \n",
    "nodes = gpd.read_file(pt_folder + 'nodes.geojson',engine=io_engine)\n",
    "links = links.set_index('index')\n",
    "nodes = nodes.set_index('index')"
   ]
  },
  {
   "cell_type": "code",
   "execution_count": 14,
   "id": "c286c729",
   "metadata": {},
   "outputs": [
    {
     "data": {
      "text/html": [
       "<div>\n",
       "<style scoped>\n",
       "    .dataframe tbody tr th:only-of-type {\n",
       "        vertical-align: middle;\n",
       "    }\n",
       "\n",
       "    .dataframe tbody tr th {\n",
       "        vertical-align: top;\n",
       "    }\n",
       "\n",
       "    .dataframe thead th {\n",
       "        text-align: right;\n",
       "    }\n",
       "</style>\n",
       "<table border=\"1\" class=\"dataframe\">\n",
       "  <thead>\n",
       "    <tr style=\"text-align: right;\">\n",
       "      <th></th>\n",
       "      <th>stop_code</th>\n",
       "      <th>stop_name</th>\n",
       "      <th>route_width</th>\n",
       "      <th>geometry</th>\n",
       "    </tr>\n",
       "    <tr>\n",
       "      <th>index</th>\n",
       "      <th></th>\n",
       "      <th></th>\n",
       "      <th></th>\n",
       "      <th></th>\n",
       "    </tr>\n",
       "  </thead>\n",
       "  <tbody>\n",
       "    <tr>\n",
       "      <th>node_4b2VnuC1zTsPzd9ueovVuH</th>\n",
       "      <td>None</td>\n",
       "      <td>Thiers</td>\n",
       "      <td>3</td>\n",
       "      <td>POINT (3.50444 45.85987)</td>\n",
       "    </tr>\n",
       "    <tr>\n",
       "      <th>node_a3ZLvXzFnMqGNGu4hjEYT6</th>\n",
       "      <td>None</td>\n",
       "      <td>Ornon</td>\n",
       "      <td>3</td>\n",
       "      <td>POINT (3.38307 45.84869)</td>\n",
       "    </tr>\n",
       "    <tr>\n",
       "      <th>node_rwwVbaGFJtCHoKTZ6B83Ax</th>\n",
       "      <td>None</td>\n",
       "      <td>Clermont</td>\n",
       "      <td>3</td>\n",
       "      <td>POINT (3.09960 45.77888)</td>\n",
       "    </tr>\n",
       "    <tr>\n",
       "      <th>node_f8Fb3oREhTRCmTVNW7TQzE</th>\n",
       "      <td>None</td>\n",
       "      <td>Chatel Guyon</td>\n",
       "      <td>3</td>\n",
       "      <td>POINT (3.05999 45.92018)</td>\n",
       "    </tr>\n",
       "    <tr>\n",
       "      <th>node_b8e2FB6qm9PUQTLvQvNucR</th>\n",
       "      <td>None</td>\n",
       "      <td>Riom</td>\n",
       "      <td>3</td>\n",
       "      <td>POINT (3.07285 45.89581)</td>\n",
       "    </tr>\n",
       "    <tr>\n",
       "      <th>node_wbHMs2n7zPVS1pp1cXnNw5</th>\n",
       "      <td>None</td>\n",
       "      <td>Clermont</td>\n",
       "      <td>3</td>\n",
       "      <td>POINT (3.10296 45.78059)</td>\n",
       "    </tr>\n",
       "    <tr>\n",
       "      <th>node_2zTroDrJuDCKmipdvjBrtL</th>\n",
       "      <td>None</td>\n",
       "      <td>Gannat</td>\n",
       "      <td>3</td>\n",
       "      <td>POINT (3.20420 46.09740)</td>\n",
       "    </tr>\n",
       "    <tr>\n",
       "      <th>node_6CErzt5T6gFonN6RkpvAM6</th>\n",
       "      <td>None</td>\n",
       "      <td>Vichy</td>\n",
       "      <td>3</td>\n",
       "      <td>POINT (3.41873 46.12042)</td>\n",
       "    </tr>\n",
       "  </tbody>\n",
       "</table>\n",
       "</div>"
      ],
      "text/plain": [
       "                            stop_code     stop_name  route_width  \\\n",
       "index                                                              \n",
       "node_4b2VnuC1zTsPzd9ueovVuH      None        Thiers            3   \n",
       "node_a3ZLvXzFnMqGNGu4hjEYT6      None         Ornon            3   \n",
       "node_rwwVbaGFJtCHoKTZ6B83Ax      None      Clermont            3   \n",
       "node_f8Fb3oREhTRCmTVNW7TQzE      None  Chatel Guyon            3   \n",
       "node_b8e2FB6qm9PUQTLvQvNucR      None          Riom            3   \n",
       "node_wbHMs2n7zPVS1pp1cXnNw5      None      Clermont            3   \n",
       "node_2zTroDrJuDCKmipdvjBrtL      None        Gannat            3   \n",
       "node_6CErzt5T6gFonN6RkpvAM6      None         Vichy            3   \n",
       "\n",
       "                                             geometry  \n",
       "index                                                  \n",
       "node_4b2VnuC1zTsPzd9ueovVuH  POINT (3.50444 45.85987)  \n",
       "node_a3ZLvXzFnMqGNGu4hjEYT6  POINT (3.38307 45.84869)  \n",
       "node_rwwVbaGFJtCHoKTZ6B83Ax  POINT (3.09960 45.77888)  \n",
       "node_f8Fb3oREhTRCmTVNW7TQzE  POINT (3.05999 45.92018)  \n",
       "node_b8e2FB6qm9PUQTLvQvNucR  POINT (3.07285 45.89581)  \n",
       "node_wbHMs2n7zPVS1pp1cXnNw5  POINT (3.10296 45.78059)  \n",
       "node_2zTroDrJuDCKmipdvjBrtL  POINT (3.20420 46.09740)  \n",
       "node_6CErzt5T6gFonN6RkpvAM6  POINT (3.41873 46.12042)  "
      ]
     },
     "execution_count": 14,
     "metadata": {},
     "output_type": "execute_result"
    }
   ],
   "source": [
    "nodes"
   ]
  },
  {
   "cell_type": "code",
   "execution_count": 15,
   "id": "ae761b5e",
   "metadata": {},
   "outputs": [],
   "source": [
    "#links['catchment_radius_marche'] = 500\n",
    "#links['catchment_radius_velo'] = 1000\n",
    "#links['catchment_radius_voiture'] = 4000"
   ]
  },
  {
   "cell_type": "code",
   "execution_count": 16,
   "id": "21d54c63",
   "metadata": {},
   "outputs": [],
   "source": [
    "default_capacity = 60\n",
    "if 'capacity' not in links.columns:\n",
    "    links['capacity'] = default_capacity"
   ]
  },
  {
   "cell_type": "code",
   "execution_count": 17,
   "id": "daa5b7cd",
   "metadata": {},
   "outputs": [],
   "source": [
    "catchment_radii = [x for x in links.columns if 'catchment_radius' in x]\n",
    "catchment_radii_provided = (len(catchment_radii) > 0)\n",
    "if len(catchment_radii) != 0:\n",
    "    for x in catchment_radii:\n",
    "        M = links[x].max()\n",
    "        if links[x] != links[x].fillna(M):\n",
    "            print('!! Catchemnt radius values missing in column {} !!'.format(x))\n",
    "        links[x] = links[x].fillna(M)"
   ]
  },
  {
   "cell_type": "code",
   "execution_count": 18,
   "id": "0d6324e0",
   "metadata": {},
   "outputs": [
    {
     "name": "stderr",
     "output_type": "stream",
     "text": [
      "C:\\Users\\mlaune\\AppData\\Local\\Temp\\ipykernel_24652\\550055817.py:2: UserWarning: Geometry is in a geographic CRS. Results from 'centroid' are likely incorrect. Use 'GeoSeries.to_crs()' to re-project geometries to a projected CRS before this operation.\n",
      "\n",
      "  centroid = [*LineString(nodes.centroid.values).centroid.coords][0]\n"
     ]
    },
    {
     "data": {
      "text/plain": [
       "32631"
      ]
     },
     "execution_count": 18,
     "metadata": {},
     "output_type": "execute_result"
    }
   ],
   "source": [
    "# find meters CRS\n",
    "centroid = [*LineString(nodes.centroid.values).centroid.coords][0]\n",
    "crs = get_epsg(centroid[1],centroid[0])\n",
    "crs"
   ]
  },
  {
   "cell_type": "code",
   "execution_count": 19,
   "id": "99e4e06c",
   "metadata": {},
   "outputs": [],
   "source": [
    "zonage_file = os.path.join(input_folder, 'zonage.geojson')\n",
    "zonage_file_provided = os.path.isfile(zonage_file)\n",
    "if zonage_file_provided :\n",
    "    zonage = gpd.read_file(input_folder + 'zonage.geojson', engine=io_engine).to_crs(epsg='4326')\n",
    "    #if 'population' not in zonage.columns:\n",
    "    #    print('no population column defined')\n",
    "    #if 'jobs' not in zonage.columns:\n",
    "    #    print('no jobs column defined')\n",
    "    #if 'tourists' not in zonage.columns:\n",
    "    #    print('no tourists column defined')\n",
    "    #if zonage.crs != 'EPSG:4326':\n",
    "    #    zonage.to_crs(epsg='4326', inplace=True)\n",
    "    #    print('CRS was set to 4326')\n",
    "    zonage['area (km2)'] = zonage.to_crs(crs).area / 10**6\n",
    "else:\n",
    "    print('No zonage file in the input folder...')"
   ]
  },
  {
   "cell_type": "code",
   "execution_count": 20,
   "id": "57aaf376",
   "metadata": {},
   "outputs": [],
   "source": [
    "zonage['density_patate'] = zonage['density']*3"
   ]
  },
  {
   "cell_type": "code",
   "execution_count": 21,
   "id": "4ad58e24",
   "metadata": {},
   "outputs": [],
   "source": [
    "densities = [x for x in zonage.columns if 'density' in x]"
   ]
  },
  {
   "cell_type": "code",
   "execution_count": 22,
   "id": "4ceb50ce",
   "metadata": {},
   "outputs": [],
   "source": [
    "#population_provided = ('population' in zonage.columns)\n",
    "#jobs_provided = ('jobs' in zonage.columns)\n",
    "#tourists_provided = ('tourists' in zonage.columns)"
   ]
  },
  {
   "cell_type": "code",
   "execution_count": 23,
   "id": "e6b73aca",
   "metadata": {},
   "outputs": [],
   "source": [
    "#base_columns = [x for x in list(zonage.columns) if ((x not in ['population', 'jobs', 'tourists']) and ('density' not in x))]\n",
    "\n",
    "#if population_provided:\n",
    "#    population_file = zonage[base_columns + ['population']]\n",
    "#    population_file['density'] = population_file['population'] / population_file['area (km2)']\n",
    "\n",
    "#if jobs_provided:\n",
    "#    jobs_file = zonage[base_columns + ['jobs']]\n",
    "#    jobs_file.rename(columns={'jobs': 'population'}, inplace=True)\n",
    "#    jobs_file['density'] = jobs_file['jobs'] / jobs_file['area (km2)']\n",
    "\n",
    "#if tourists_provided:\n",
    "#    tourists_file = zonage[base_columns + ['tourists']]\n",
    "#    tourists_file.rename(columns={'tourists': 'population'}, inplace=True)\n",
    "#    tourists_file['density'] = tourists_file['population'] / tourists_file['area (km2)']"
   ]
  },
  {
   "cell_type": "code",
   "execution_count": 24,
   "id": "8c5c4543",
   "metadata": {},
   "outputs": [],
   "source": [
    "#population_file = os.path.join(input_folder, 'population.geojson')\n",
    "#population_file_provided = os.path.isfile(population_file)\n",
    "#if population_file_provided :\n",
    "#    population = gpd.read_file(population_file, engine=io_engine)\n",
    "#    if 'index' in population.columns:\n",
    "#        population = population.set_index('index')\n",
    "#    else:\n",
    "#        population.index.name='index'\n",
    "#    assert 'density' in population.columns, 'need density column. in km2'\n",
    "#    assert population.crs == 4326, 'population.geojson CRS must be EPSG:4326'\n",
    "#print('population?',population_file_provided)"
   ]
  },
  {
   "cell_type": "markdown",
   "id": "4fdf6e1f",
   "metadata": {},
   "source": [
    "# Formation :\n",
    " ajouter un paramètre pour utiliser le réseau routier ou non. <br>\n",
    " Dans le modèle actuelle, le réseau routier est automatiquement utilisé pour :\n",
    " * faire un mesh de la population (affecter les gens aux noeds du réseau)\n",
    " * évaluer le stop catchment (la distance de routing est utilisé pour le catchment_radius)\n",
    "\n",
    " On pourrait ne pas vouloir utiliser le réseau meme si il est dans le projet! <br>\n",
    " TODO: changer rnodes_file_provided pour une combinaison entre un parametre et l'existance du fichier"
   ]
  },
  {
   "cell_type": "code",
   "execution_count": 25,
   "id": "ac965c16",
   "metadata": {},
   "outputs": [
    {
     "name": "stdout",
     "output_type": "stream",
     "text": [
      "rnodes? True\n"
     ]
    }
   ],
   "source": [
    "## road network here\n",
    "rnodes_file = os.path.join(road_folder, 'road_nodes.geojson')\n",
    "rnodes_file_provided = os.path.isfile(rnodes_file)\n",
    "if rnodes_file_provided:\n",
    "    rnodes = gpd.read_file(os.path.join(road_folder, 'road_nodes.geojson'), engine=io_engine)\n",
    "    rnodes = rnodes.set_index('index').to_crs(epsg='4326')\n",
    "    rlinks = gpd.read_file(os.path.join(road_folder, 'road_links.geojson'), engine=io_engine)\n",
    "    rlinks = rlinks.set_index('index').to_crs(epsg='4326')\n",
    "print('rnodes?',rnodes_file_provided)"
   ]
  },
  {
   "cell_type": "code",
   "execution_count": 26,
   "id": "6071cbdf",
   "metadata": {},
   "outputs": [
    {
     "name": "stdout",
     "output_type": "stream",
     "text": [
      "od? False\n"
     ]
    }
   ],
   "source": [
    "od_file = os.path.join(od_folder, 'od.geojson')\n",
    "od_file_provided = os.path.isfile(od_file)\n",
    "if od_file_provided:\n",
    "    od_test = gpd.read_file(od_file, engine=io_engine)\n",
    "    if 'name' not in od_test.columns:\n",
    "        od_test['name'] = od_test['index']\n",
    "    od_test['name'] = od_test['name'].fillna(od_test['index'].astype(str))\n",
    "print('od?',od_file_provided)"
   ]
  },
  {
   "cell_type": "code",
   "execution_count": 27,
   "id": "4cf77ee4",
   "metadata": {},
   "outputs": [],
   "source": [
    "# init results dfs\n",
    "df_route_id = pd.DataFrame(index=links['route_id'].unique())\n",
    "df_route_id.index.name = 'route_id'\n",
    "df_route_id = df_route_id.reset_index()\n",
    "df_route_id = df_route_id.merge(links[['route_id', 'route_type', 'capacity', 'headway']], on='route_id', how='left')\n",
    "df_route_id = df_route_id.rename(columns={'capacity': 'veh_capacity (PAX)'})\n",
    "df_route_id = df_route_id.drop_duplicates()\n",
    "df_route_id = df_route_id.set_index('route_id')\n",
    "\n",
    "df_route_type = pd.DataFrame(index=links['route_type'].unique())\n",
    "df_route_type.index.name='route_type'"
   ]
  },
  {
   "cell_type": "code",
   "execution_count": 28,
   "id": "712733db",
   "metadata": {},
   "outputs": [],
   "source": [
    "test = links.copy()[['frequency', 'headway']]"
   ]
  },
  {
   "cell_type": "code",
   "execution_count": 29,
   "id": "4e72d043",
   "metadata": {},
   "outputs": [],
   "source": [
    "test['testtest'] = test['frequency']*test['headway']"
   ]
  },
  {
   "cell_type": "code",
   "execution_count": 30,
   "id": "ef10e130",
   "metadata": {},
   "outputs": [],
   "source": [
    "test['freq_par_jour'] = test['frequency']*24*3600"
   ]
  },
  {
   "cell_type": "code",
   "execution_count": 31,
   "id": "0f2ba4ce",
   "metadata": {},
   "outputs": [
    {
     "data": {
      "text/html": [
       "<div>\n",
       "<style scoped>\n",
       "    .dataframe tbody tr th:only-of-type {\n",
       "        vertical-align: middle;\n",
       "    }\n",
       "\n",
       "    .dataframe tbody tr th {\n",
       "        vertical-align: top;\n",
       "    }\n",
       "\n",
       "    .dataframe thead th {\n",
       "        text-align: right;\n",
       "    }\n",
       "</style>\n",
       "<table border=\"1\" class=\"dataframe\">\n",
       "  <thead>\n",
       "    <tr style=\"text-align: right;\">\n",
       "      <th></th>\n",
       "      <th>frequency</th>\n",
       "      <th>headway</th>\n",
       "      <th>testtest</th>\n",
       "      <th>freq_par_jour</th>\n",
       "    </tr>\n",
       "    <tr>\n",
       "      <th>index</th>\n",
       "      <th></th>\n",
       "      <th></th>\n",
       "      <th></th>\n",
       "      <th></th>\n",
       "    </tr>\n",
       "  </thead>\n",
       "  <tbody>\n",
       "    <tr>\n",
       "      <th>link_qTNjaUDLm9x3yJrS9ubX9T</th>\n",
       "      <td>0.001667</td>\n",
       "      <td>600</td>\n",
       "      <td>1.0</td>\n",
       "      <td>144.0</td>\n",
       "    </tr>\n",
       "    <tr>\n",
       "      <th>link_wvPcELKEW52njEnuK7AeSe</th>\n",
       "      <td>0.001667</td>\n",
       "      <td>600</td>\n",
       "      <td>1.0</td>\n",
       "      <td>144.0</td>\n",
       "    </tr>\n",
       "    <tr>\n",
       "      <th>link_vTbX3V9qJJxThakJ1WZbbk</th>\n",
       "      <td>0.001667</td>\n",
       "      <td>600</td>\n",
       "      <td>1.0</td>\n",
       "      <td>144.0</td>\n",
       "    </tr>\n",
       "    <tr>\n",
       "      <th>link_8EachMgBpjP7T2bWPiAc3E</th>\n",
       "      <td>0.001667</td>\n",
       "      <td>600</td>\n",
       "      <td>1.0</td>\n",
       "      <td>144.0</td>\n",
       "    </tr>\n",
       "    <tr>\n",
       "      <th>link_purLhqauca5SLLCFkShEC7</th>\n",
       "      <td>0.001667</td>\n",
       "      <td>600</td>\n",
       "      <td>1.0</td>\n",
       "      <td>144.0</td>\n",
       "    </tr>\n",
       "    <tr>\n",
       "      <th>link_4hsYkThjafc1NVpc8kLeid</th>\n",
       "      <td>0.001667</td>\n",
       "      <td>600</td>\n",
       "      <td>1.0</td>\n",
       "      <td>144.0</td>\n",
       "    </tr>\n",
       "    <tr>\n",
       "      <th>link_1ck6aSDmpEy7Jo2fbhNAxE</th>\n",
       "      <td>0.001667</td>\n",
       "      <td>600</td>\n",
       "      <td>1.0</td>\n",
       "      <td>144.0</td>\n",
       "    </tr>\n",
       "    <tr>\n",
       "      <th>link_2sfH8EPaWDjhzsZiZJMz1d</th>\n",
       "      <td>0.001667</td>\n",
       "      <td>600</td>\n",
       "      <td>1.0</td>\n",
       "      <td>144.0</td>\n",
       "    </tr>\n",
       "    <tr>\n",
       "      <th>link_oCfgaw42pToYChhHThwCwy</th>\n",
       "      <td>0.001667</td>\n",
       "      <td>600</td>\n",
       "      <td>1.0</td>\n",
       "      <td>144.0</td>\n",
       "    </tr>\n",
       "    <tr>\n",
       "      <th>link_dy68NZEgkJFiakszXTBmBp</th>\n",
       "      <td>0.001667</td>\n",
       "      <td>600</td>\n",
       "      <td>1.0</td>\n",
       "      <td>144.0</td>\n",
       "    </tr>\n",
       "  </tbody>\n",
       "</table>\n",
       "</div>"
      ],
      "text/plain": [
       "                             frequency  headway  testtest  freq_par_jour\n",
       "index                                                                   \n",
       "link_qTNjaUDLm9x3yJrS9ubX9T   0.001667      600       1.0          144.0\n",
       "link_wvPcELKEW52njEnuK7AeSe   0.001667      600       1.0          144.0\n",
       "link_vTbX3V9qJJxThakJ1WZbbk   0.001667      600       1.0          144.0\n",
       "link_8EachMgBpjP7T2bWPiAc3E   0.001667      600       1.0          144.0\n",
       "link_purLhqauca5SLLCFkShEC7   0.001667      600       1.0          144.0\n",
       "link_4hsYkThjafc1NVpc8kLeid   0.001667      600       1.0          144.0\n",
       "link_1ck6aSDmpEy7Jo2fbhNAxE   0.001667      600       1.0          144.0\n",
       "link_2sfH8EPaWDjhzsZiZJMz1d   0.001667      600       1.0          144.0\n",
       "link_oCfgaw42pToYChhHThwCwy   0.001667      600       1.0          144.0\n",
       "link_dy68NZEgkJFiakszXTBmBp   0.001667      600       1.0          144.0"
      ]
     },
     "execution_count": 31,
     "metadata": {},
     "output_type": "execute_result"
    }
   ],
   "source": [
    "test"
   ]
  },
  {
   "cell_type": "code",
   "execution_count": 32,
   "id": "f5cc4bf8",
   "metadata": {},
   "outputs": [],
   "source": [
    "# Make sure headway are consistent : one single headway for both way and return\n",
    "# Otherwise can't calculate KPIs later\n",
    "\n",
    "df_route_id = df_route_id[~df_route_id.index.duplicated(keep='first')]\n",
    "route_headway = dict(zip(df_route_id.index, df_route_id['headway']))\n",
    "links.headway = links.route_id.map(route_headway)"
   ]
  },
  {
   "cell_type": "code",
   "execution_count": 33,
   "id": "2d54b3af",
   "metadata": {},
   "outputs": [],
   "source": [
    "def get_catchment_by_mode(col='route_id', pop_col='population', node_dist=None):\n",
    "    #get all nodes with col filter\n",
    "    link = links.groupby(col)[['a','b','route_type']].agg({'a':set,'b':set,'route_type':'first'})\n",
    "    link['node'] = link.apply(lambda row: row['a'].union(row['b']), axis=1)\n",
    "    link = link.drop(columns=['a','b'])\n",
    "    # add catchment radius for the route_type\n",
    "    link['catchment_radius'] = link['route_type'].apply(lambda x: input_catchment_radius.get(x,default_catchment_radius))\n",
    "\n",
    "    col_exist = col == 'route_type' # cannot explode if index == route_type (a column)\n",
    "    link = link.explode('node').reset_index(drop=col_exist)\n",
    "    link = node_dist.merge(link, left_on='node_index', right_on='node')\n",
    "    #filter by distance\n",
    "    link = link[link['distances'] <= link['catchment_radius']]\n",
    "    #drop duplicated mesh nodes (we count only one time)\n",
    "    link = link.drop_duplicates(subset=['mesh_index',col],keep='first')\n",
    "\n",
    "    return link.groupby(col)[pop_col].sum().to_dict()"
   ]
  },
  {
   "cell_type": "code",
   "execution_count": 34,
   "id": "8b150d2b",
   "metadata": {},
   "outputs": [],
   "source": [
    "def get_catchment_by_access(col='route_id', pop_col='population', catchment_col='catchment_radius', node_dist=None):\n",
    "    #get all nodes with col filter\n",
    "    link = links.groupby(col)[['a','b','route_type', catchment_col]].agg({'a':set,'b':set,'route_type':'first', catchment_col:'first'})\n",
    "    link['node'] = link.apply(lambda row: row['a'].union(row['b']), axis=1)\n",
    "    link = link.drop(columns=['a','b'])\n",
    "\n",
    "    col_exist = col == 'route_type' # cannot explode if index == route_type (a column)\n",
    "    link = link.explode('node').reset_index(drop=col_exist)\n",
    "    link = node_dist.merge(link, left_on='node_index', right_on='node')\n",
    "    #filter by distance\n",
    "    link = link[link['distances'] <= link[catchment_col]]\n",
    "    #drop duplicated mesh nodes (we count only one time)\n",
    "    link = link.drop_duplicates(subset=['mesh_index',col],keep='first')\n",
    "\n",
    "    return link.groupby(col)[pop_col].sum().to_dict()"
   ]
  },
  {
   "cell_type": "markdown",
   "id": "220bbb67",
   "metadata": {},
   "source": [
    "# Catchment"
   ]
  },
  {
   "cell_type": "code",
   "execution_count": 35,
   "id": "c438144c",
   "metadata": {},
   "outputs": [
    {
     "name": "stdout",
     "output_type": "stream",
     "text": [
      "population\n",
      "using road_nodes\n",
      "0 nodes in multiple zones. will be match to a single zone.\n",
      "13 unfounded zones\n",
      "using road_nodes\n",
      "patate\n",
      "using road_nodes\n",
      "0 nodes in multiple zones. will be match to a single zone.\n",
      "13 unfounded zones\n",
      "using road_nodes\n"
     ]
    }
   ],
   "source": [
    "assert densities != [], 'Please provide density columns in the zoning file'\n",
    "\n",
    "meshes = {}\n",
    "## road network here\n",
    "for density in densities:\n",
    "    if density == 'density' and 'density_population' not in densities:\n",
    "        tag = 'population'\n",
    "    elif density == 'density':\n",
    "        tag = 'x'\n",
    "    else:\n",
    "        tag = density.split('density_')[1]\n",
    "\n",
    "    print(tag)\n",
    "\n",
    "    zonage[tag] = zonage[density] * zonage['area (km2)']\n",
    "\n",
    "    if rnodes_file_provided and use_road_network:\n",
    "        # use rnodes as mesh_pop.\n",
    "        print('using road_nodes') ## road network here\n",
    "        mesh = population_to_mesh(zonage, mesh=rnodes, step=step_size, col=tag, fill_missing='closest')\n",
    "    else:\n",
    "        # create a mesh\n",
    "        #0.01 = 1km 0.005 = 500m\n",
    "        mesh = population_to_mesh(zonage, mesh=None, step=step_size, col=tag, fill_missing='centroid')\n",
    "\n",
    "    #mesh.to_file(output_folder + 'population_mesh.geojson',driver='GeoJSON',engine=io_engine)\n",
    "    if catchment_radii_provided:\n",
    "        max_dist = max([links[catchment_radius].max() for catchment_radius in catchment_radii])\n",
    "    else:\n",
    "        max_dist = max(max(input_catchment_radius.values()),default_catchment_radius)\n",
    "\n",
    "    ## road network here, what to use if not road network?\n",
    "    if rnodes_file_provided: \n",
    "        print('using road_nodes')\n",
    "        node_dist = get_routing_distances(nodes, rnodes, rlinks, mesh, tag, 'length', max_dist)\n",
    "    else:\n",
    "        node_dist = get_acf_distances(nodes, mesh, tag, crs, max_dist)\n",
    "\n",
    "    if catchment_radii_provided:\n",
    "        for catchment_radius in catchment_radii:\n",
    "            suf = catchment_radius.split('catchment_radius')[1]\n",
    "\n",
    "            res_route = get_catchment_by_access('route_id', tag, catchment_radius, node_dist)\n",
    "            res_mode = get_catchment_by_access('route_type', tag, catchment_radius, node_dist)\n",
    "\n",
    "            if suf == '':\n",
    "                df_route_id['catchment {}'.format(tag)] = res_route\n",
    "                df_route_id['catchment {}'.format(tag)] = df_route_id['catchment {}'.format(tag)].fillna(0) \n",
    "\n",
    "                df_route_type['catchment {}'.format(tag)] = res_mode\n",
    "                df_route_type['catchment {}'.format(tag)] = df_route_type['catchment {}'.format(tag)].fillna(0) \n",
    "\n",
    "            else:\n",
    "                df_route_id['catchment {} {}'.format(tag, suf)] = res_route\n",
    "                df_route_id['catchment {} {}'.format(tag, suf)] = df_route_id['catchment {} {}'.format(tag, suf)].fillna(0) \n",
    "\n",
    "                df_route_type['catchment {} {}'.format(tag, suf)] = res_mode\n",
    "                df_route_type['catchment {} {}'.format(tag, suf)] = df_route_type['catchment {} {}'.format(tag, suf)].fillna(0) \n",
    "\n",
    "    else:\n",
    "        res_route = get_catchment_by_mode('route_id', tag, node_dist)\n",
    "        res_mode = get_catchment_by_mode('route_type', tag, node_dist)\n",
    "\n",
    "        df_route_id['catchment {}'.format(tag)] = res_route\n",
    "        df_route_id['catchment {}'.format(tag)] = df_route_id['catchment {}'.format(tag)].fillna(0) \n",
    "\n",
    "        df_route_type['catchment {}'.format(tag)] = res_mode\n",
    "        df_route_type['catchment {}'.format(tag)] = df_route_type['catchment {}'.format(tag)].fillna(0)\n",
    "\n"
   ]
  },
  {
   "cell_type": "markdown",
   "id": "de5d12fd",
   "metadata": {},
   "source": [
    "# Frequency"
   ]
  },
  {
   "cell_type": "code",
   "execution_count": 36,
   "id": "950bfa1f",
   "metadata": {},
   "outputs": [],
   "source": [
    "# Suppose that headway is the same in both directions : keep the minimum value\n",
    "idx = df_route_id.groupby(level=0)['headway'].idxmin()\n",
    "df_route_id = df_route_id.loc[idx]\n",
    "\n",
    "df_route_id = df_route_id.rename(columns={'headway': 'headway (s)'})\n",
    "df_route_id = df_route_id.sort_values('route_type', ascending=False)"
   ]
  },
  {
   "cell_type": "code",
   "execution_count": 37,
   "id": "3f251696",
   "metadata": {},
   "outputs": [],
   "source": [
    "links['frequency'] = 1/links['headway']"
   ]
  },
  {
   "cell_type": "code",
   "execution_count": 38,
   "id": "3829349f",
   "metadata": {},
   "outputs": [
    {
     "name": "stdout",
     "output_type": "stream",
     "text": [
      "18.0\n"
     ]
    }
   ],
   "source": [
    "res = (links.groupby('route_id')['frequency'].agg('mean')*3600).to_dict()\n",
    "\n",
    "df_route_id['frequency (veh/hours)'] = res\n",
    "print(np.nansum([item for key,item in res.items()]))"
   ]
  },
  {
   "cell_type": "code",
   "execution_count": 39,
   "id": "e3035415",
   "metadata": {},
   "outputs": [
    {
     "name": "stdout",
     "output_type": "stream",
     "text": [
      "6.0\n"
     ]
    }
   ],
   "source": [
    "res = (links.groupby('route_type')['frequency'].agg('mean')*3600).to_dict()\n",
    "\n",
    "df_route_type['frequency (veh/hours)'] = res\n",
    "print(sum([item for key,item in res.items()]))"
   ]
  },
  {
   "cell_type": "code",
   "execution_count": 40,
   "id": "b1017844",
   "metadata": {},
   "outputs": [
    {
     "name": "stdout",
     "output_type": "stream",
     "text": [
      "18.0\n"
     ]
    }
   ],
   "source": [
    "link = (links.groupby(['route_id','trip_id'])[['frequency']].agg('mean')*3600)\n",
    "res = link.reset_index().set_index('route_id')['frequency'].to_dict()\n",
    "print(np.nansum([item for key,item in res.items()]))"
   ]
  },
  {
   "cell_type": "code",
   "execution_count": 41,
   "id": "99bf3c5d",
   "metadata": {},
   "outputs": [
    {
     "name": "stdout",
     "output_type": "stream",
     "text": [
      "6.0\n"
     ]
    }
   ],
   "source": [
    "link = (links.groupby(['route_type','trip_id'])[['frequency']].agg('mean')*3600)\n",
    "res = link.reset_index().set_index('route_type')['frequency'].to_dict()\n",
    "print(np.nansum([item for key,item in res.items()]))"
   ]
  },
  {
   "cell_type": "markdown",
   "id": "06a9b56e",
   "metadata": {},
   "source": [
    "# Operational Fleet"
   ]
  },
  {
   "cell_type": "code",
   "execution_count": 42,
   "id": "d73f2028",
   "metadata": {},
   "outputs": [],
   "source": [
    "def get_fleet(col='route_id'):\n",
    "    link = links.groupby([col,'trip_id'])[['time','frequency']].agg({'time':'mean','frequency':'mean'})\n",
    "    link['fleet'] = np.ceil(link['frequency'] * link['time'])\n",
    "    return link.reset_index().groupby(col)['fleet'].agg('sum').to_dict()\n"
   ]
  },
  {
   "cell_type": "code",
   "execution_count": 43,
   "id": "b3e1b90c",
   "metadata": {},
   "outputs": [
    {
     "data": {
      "text/html": [
       "<div>\n",
       "<style scoped>\n",
       "    .dataframe tbody tr th:only-of-type {\n",
       "        vertical-align: middle;\n",
       "    }\n",
       "\n",
       "    .dataframe tbody tr th {\n",
       "        vertical-align: top;\n",
       "    }\n",
       "\n",
       "    .dataframe thead th {\n",
       "        text-align: right;\n",
       "    }\n",
       "</style>\n",
       "<table border=\"1\" class=\"dataframe\">\n",
       "  <thead>\n",
       "    <tr style=\"text-align: right;\">\n",
       "      <th></th>\n",
       "      <th></th>\n",
       "      <th>time</th>\n",
       "      <th>frequency</th>\n",
       "      <th>fleet</th>\n",
       "    </tr>\n",
       "    <tr>\n",
       "      <th>route_id</th>\n",
       "      <th>trip_id</th>\n",
       "      <th></th>\n",
       "      <th></th>\n",
       "      <th></th>\n",
       "    </tr>\n",
       "  </thead>\n",
       "  <tbody>\n",
       "    <tr>\n",
       "      <th rowspan=\"2\" valign=\"top\">ChatelGuyon</th>\n",
       "      <th>ChatelGuyon_0</th>\n",
       "      <td>4155</td>\n",
       "      <td>0.001667</td>\n",
       "      <td>7.0</td>\n",
       "    </tr>\n",
       "    <tr>\n",
       "      <th>ChatelGuyon_1</th>\n",
       "      <td>4155</td>\n",
       "      <td>0.001667</td>\n",
       "      <td>7.0</td>\n",
       "    </tr>\n",
       "    <tr>\n",
       "      <th rowspan=\"2\" valign=\"top\">Gannat</th>\n",
       "      <th>Gannat_0</th>\n",
       "      <td>3295</td>\n",
       "      <td>0.001667</td>\n",
       "      <td>6.0</td>\n",
       "    </tr>\n",
       "    <tr>\n",
       "      <th>Gannat_1</th>\n",
       "      <td>3295</td>\n",
       "      <td>0.001667</td>\n",
       "      <td>6.0</td>\n",
       "    </tr>\n",
       "    <tr>\n",
       "      <th rowspan=\"2\" valign=\"top\">Thiers</th>\n",
       "      <th>Thiers_0</th>\n",
       "      <td>7088</td>\n",
       "      <td>0.001667</td>\n",
       "      <td>12.0</td>\n",
       "    </tr>\n",
       "    <tr>\n",
       "      <th>Thiers_1</th>\n",
       "      <td>7088</td>\n",
       "      <td>0.001667</td>\n",
       "      <td>12.0</td>\n",
       "    </tr>\n",
       "  </tbody>\n",
       "</table>\n",
       "</div>"
      ],
      "text/plain": [
       "                           time  frequency  fleet\n",
       "route_id    trip_id                              \n",
       "ChatelGuyon ChatelGuyon_0  4155   0.001667    7.0\n",
       "            ChatelGuyon_1  4155   0.001667    7.0\n",
       "Gannat      Gannat_0       3295   0.001667    6.0\n",
       "            Gannat_1       3295   0.001667    6.0\n",
       "Thiers      Thiers_0       7088   0.001667   12.0\n",
       "            Thiers_1       7088   0.001667   12.0"
      ]
     },
     "execution_count": 43,
     "metadata": {},
     "output_type": "execute_result"
    }
   ],
   "source": [
    "link = links.groupby(['route_id','trip_id'])[['time','frequency']].agg({'time':'sum','frequency':'mean'})\n",
    "link['fleet'] = np.ceil(link['frequency'] * link['time'])\n",
    "link\n",
    "#return link.reset_index().groupby(col)['fleet'].agg('sum').to_dict()"
   ]
  },
  {
   "cell_type": "code",
   "execution_count": 44,
   "id": "88e247d3",
   "metadata": {},
   "outputs": [
    {
     "data": {
      "text/plain": [
       "{'ChatelGuyon': 8.0, 'Gannat': 12.0, 'Thiers': 12.0}"
      ]
     },
     "execution_count": 44,
     "metadata": {},
     "output_type": "execute_result"
    }
   ],
   "source": [
    "res = get_fleet('route_id')\n",
    "\n",
    "#df_route_id['fleet'] = res\n",
    "#print(sum([item for key,item in res.items()]))\n",
    "res"
   ]
  },
  {
   "cell_type": "code",
   "execution_count": 45,
   "id": "a68d1227",
   "metadata": {},
   "outputs": [
    {
     "data": {
      "text/html": [
       "<div>\n",
       "<style scoped>\n",
       "    .dataframe tbody tr th:only-of-type {\n",
       "        vertical-align: middle;\n",
       "    }\n",
       "\n",
       "    .dataframe tbody tr th {\n",
       "        vertical-align: top;\n",
       "    }\n",
       "\n",
       "    .dataframe thead th {\n",
       "        text-align: right;\n",
       "    }\n",
       "</style>\n",
       "<table border=\"1\" class=\"dataframe\">\n",
       "  <thead>\n",
       "    <tr style=\"text-align: right;\">\n",
       "      <th></th>\n",
       "      <th>a</th>\n",
       "      <th>agency_id</th>\n",
       "      <th>b</th>\n",
       "      <th>direction_id</th>\n",
       "      <th>drop_off_type</th>\n",
       "      <th>headway</th>\n",
       "      <th>length</th>\n",
       "      <th>link_sequence</th>\n",
       "      <th>pickup_type</th>\n",
       "      <th>route_color</th>\n",
       "      <th>...</th>\n",
       "      <th>route_short_name</th>\n",
       "      <th>route_type</th>\n",
       "      <th>route_width</th>\n",
       "      <th>speed</th>\n",
       "      <th>time</th>\n",
       "      <th>trip_id</th>\n",
       "      <th>anchors</th>\n",
       "      <th>capacity</th>\n",
       "      <th>frequency</th>\n",
       "      <th>geometry</th>\n",
       "    </tr>\n",
       "    <tr>\n",
       "      <th>index</th>\n",
       "      <th></th>\n",
       "      <th></th>\n",
       "      <th></th>\n",
       "      <th></th>\n",
       "      <th></th>\n",
       "      <th></th>\n",
       "      <th></th>\n",
       "      <th></th>\n",
       "      <th></th>\n",
       "      <th></th>\n",
       "      <th></th>\n",
       "      <th></th>\n",
       "      <th></th>\n",
       "      <th></th>\n",
       "      <th></th>\n",
       "      <th></th>\n",
       "      <th></th>\n",
       "      <th></th>\n",
       "      <th></th>\n",
       "      <th></th>\n",
       "      <th></th>\n",
       "    </tr>\n",
       "  </thead>\n",
       "  <tbody>\n",
       "    <tr>\n",
       "      <th>link_qTNjaUDLm9x3yJrS9ubX9T</th>\n",
       "      <td>node_2zTroDrJuDCKmipdvjBrtL</td>\n",
       "      <td>QUENEDI</td>\n",
       "      <td>node_6CErzt5T6gFonN6RkpvAM6</td>\n",
       "      <td>0</td>\n",
       "      <td>0</td>\n",
       "      <td>600</td>\n",
       "      <td>18305</td>\n",
       "      <td>1</td>\n",
       "      <td>0</td>\n",
       "      <td>B5E0D6</td>\n",
       "      <td>...</td>\n",
       "      <td>Gannat</td>\n",
       "      <td>bus</td>\n",
       "      <td>3</td>\n",
       "      <td>20</td>\n",
       "      <td>3295</td>\n",
       "      <td>Gannat_0</td>\n",
       "      <td>None</td>\n",
       "      <td>60</td>\n",
       "      <td>0.001667</td>\n",
       "      <td>LINESTRING (3.20420 46.09740, 3.20418 46.09763...</td>\n",
       "    </tr>\n",
       "    <tr>\n",
       "      <th>link_wvPcELKEW52njEnuK7AeSe</th>\n",
       "      <td>node_f8Fb3oREhTRCmTVNW7TQzE</td>\n",
       "      <td>QUENEDI</td>\n",
       "      <td>node_b8e2FB6qm9PUQTLvQvNucR</td>\n",
       "      <td>0</td>\n",
       "      <td>0</td>\n",
       "      <td>600</td>\n",
       "      <td>6527</td>\n",
       "      <td>1</td>\n",
       "      <td>0</td>\n",
       "      <td>B5E0D6</td>\n",
       "      <td>...</td>\n",
       "      <td>ChatelGuyon</td>\n",
       "      <td>bus</td>\n",
       "      <td>3</td>\n",
       "      <td>20</td>\n",
       "      <td>1175</td>\n",
       "      <td>ChatelGuyon_0</td>\n",
       "      <td>[ [ 3.0772146926584298, 45.914534641758706 ] ]</td>\n",
       "      <td>60</td>\n",
       "      <td>0.001667</td>\n",
       "      <td>LINESTRING (3.05999 45.92018, 3.06060 45.92013...</td>\n",
       "    </tr>\n",
       "    <tr>\n",
       "      <th>link_vTbX3V9qJJxThakJ1WZbbk</th>\n",
       "      <td>node_b8e2FB6qm9PUQTLvQvNucR</td>\n",
       "      <td>QUENEDI</td>\n",
       "      <td>node_wbHMs2n7zPVS1pp1cXnNw5</td>\n",
       "      <td>0</td>\n",
       "      <td>0</td>\n",
       "      <td>600</td>\n",
       "      <td>16554</td>\n",
       "      <td>2</td>\n",
       "      <td>0</td>\n",
       "      <td>B5E0D6</td>\n",
       "      <td>...</td>\n",
       "      <td>ChatelGuyon</td>\n",
       "      <td>bus</td>\n",
       "      <td>3</td>\n",
       "      <td>20</td>\n",
       "      <td>2980</td>\n",
       "      <td>ChatelGuyon_0</td>\n",
       "      <td>None</td>\n",
       "      <td>60</td>\n",
       "      <td>0.001667</td>\n",
       "      <td>LINESTRING (3.07285 45.89581, 3.07269 45.89586...</td>\n",
       "    </tr>\n",
       "    <tr>\n",
       "      <th>link_8EachMgBpjP7T2bWPiAc3E</th>\n",
       "      <td>node_4b2VnuC1zTsPzd9ueovVuH</td>\n",
       "      <td>QUENEDI</td>\n",
       "      <td>node_a3ZLvXzFnMqGNGu4hjEYT6</td>\n",
       "      <td>0</td>\n",
       "      <td>0</td>\n",
       "      <td>600</td>\n",
       "      <td>13020</td>\n",
       "      <td>1</td>\n",
       "      <td>0</td>\n",
       "      <td>B5E0D6</td>\n",
       "      <td>...</td>\n",
       "      <td>Thiers</td>\n",
       "      <td>bus</td>\n",
       "      <td>3</td>\n",
       "      <td>20</td>\n",
       "      <td>2344</td>\n",
       "      <td>Thiers_0</td>\n",
       "      <td>None</td>\n",
       "      <td>60</td>\n",
       "      <td>0.001667</td>\n",
       "      <td>LINESTRING (3.50444 45.85987, 3.50422 45.85993...</td>\n",
       "    </tr>\n",
       "    <tr>\n",
       "      <th>link_purLhqauca5SLLCFkShEC7</th>\n",
       "      <td>node_a3ZLvXzFnMqGNGu4hjEYT6</td>\n",
       "      <td>QUENEDI</td>\n",
       "      <td>node_rwwVbaGFJtCHoKTZ6B83Ax</td>\n",
       "      <td>0</td>\n",
       "      <td>0</td>\n",
       "      <td>600</td>\n",
       "      <td>26354</td>\n",
       "      <td>2</td>\n",
       "      <td>0</td>\n",
       "      <td>B5E0D6</td>\n",
       "      <td>...</td>\n",
       "      <td>Thiers</td>\n",
       "      <td>bus</td>\n",
       "      <td>3</td>\n",
       "      <td>20</td>\n",
       "      <td>4744</td>\n",
       "      <td>Thiers_0</td>\n",
       "      <td>None</td>\n",
       "      <td>60</td>\n",
       "      <td>0.001667</td>\n",
       "      <td>LINESTRING (3.38307 45.84869, 3.38239 45.84873...</td>\n",
       "    </tr>\n",
       "    <tr>\n",
       "      <th>link_4hsYkThjafc1NVpc8kLeid</th>\n",
       "      <td>node_rwwVbaGFJtCHoKTZ6B83Ax</td>\n",
       "      <td>QUENEDI</td>\n",
       "      <td>node_a3ZLvXzFnMqGNGu4hjEYT6</td>\n",
       "      <td>1</td>\n",
       "      <td>0</td>\n",
       "      <td>600</td>\n",
       "      <td>26354</td>\n",
       "      <td>1</td>\n",
       "      <td>0</td>\n",
       "      <td>B5E0D6</td>\n",
       "      <td>...</td>\n",
       "      <td>Thiers</td>\n",
       "      <td>bus</td>\n",
       "      <td>3</td>\n",
       "      <td>20</td>\n",
       "      <td>4744</td>\n",
       "      <td>Thiers_1</td>\n",
       "      <td>None</td>\n",
       "      <td>60</td>\n",
       "      <td>0.001667</td>\n",
       "      <td>LINESTRING (3.09960 45.77888, 3.09940 45.77877...</td>\n",
       "    </tr>\n",
       "    <tr>\n",
       "      <th>link_1ck6aSDmpEy7Jo2fbhNAxE</th>\n",
       "      <td>node_a3ZLvXzFnMqGNGu4hjEYT6</td>\n",
       "      <td>QUENEDI</td>\n",
       "      <td>node_4b2VnuC1zTsPzd9ueovVuH</td>\n",
       "      <td>1</td>\n",
       "      <td>0</td>\n",
       "      <td>600</td>\n",
       "      <td>13020</td>\n",
       "      <td>2</td>\n",
       "      <td>0</td>\n",
       "      <td>B5E0D6</td>\n",
       "      <td>...</td>\n",
       "      <td>Thiers</td>\n",
       "      <td>bus</td>\n",
       "      <td>3</td>\n",
       "      <td>20</td>\n",
       "      <td>2344</td>\n",
       "      <td>Thiers_1</td>\n",
       "      <td>None</td>\n",
       "      <td>60</td>\n",
       "      <td>0.001667</td>\n",
       "      <td>LINESTRING (3.38307 45.84869, 3.38445 45.84860...</td>\n",
       "    </tr>\n",
       "    <tr>\n",
       "      <th>link_2sfH8EPaWDjhzsZiZJMz1d</th>\n",
       "      <td>node_wbHMs2n7zPVS1pp1cXnNw5</td>\n",
       "      <td>QUENEDI</td>\n",
       "      <td>node_b8e2FB6qm9PUQTLvQvNucR</td>\n",
       "      <td>1</td>\n",
       "      <td>0</td>\n",
       "      <td>600</td>\n",
       "      <td>16554</td>\n",
       "      <td>1</td>\n",
       "      <td>0</td>\n",
       "      <td>B5E0D6</td>\n",
       "      <td>...</td>\n",
       "      <td>ChatelGuyon</td>\n",
       "      <td>bus</td>\n",
       "      <td>3</td>\n",
       "      <td>20</td>\n",
       "      <td>2980</td>\n",
       "      <td>ChatelGuyon_1</td>\n",
       "      <td>None</td>\n",
       "      <td>60</td>\n",
       "      <td>0.001667</td>\n",
       "      <td>LINESTRING (3.10296 45.78059, 3.10359 45.78092...</td>\n",
       "    </tr>\n",
       "    <tr>\n",
       "      <th>link_oCfgaw42pToYChhHThwCwy</th>\n",
       "      <td>node_b8e2FB6qm9PUQTLvQvNucR</td>\n",
       "      <td>QUENEDI</td>\n",
       "      <td>node_f8Fb3oREhTRCmTVNW7TQzE</td>\n",
       "      <td>1</td>\n",
       "      <td>0</td>\n",
       "      <td>600</td>\n",
       "      <td>6527</td>\n",
       "      <td>2</td>\n",
       "      <td>0</td>\n",
       "      <td>B5E0D6</td>\n",
       "      <td>...</td>\n",
       "      <td>ChatelGuyon</td>\n",
       "      <td>bus</td>\n",
       "      <td>3</td>\n",
       "      <td>20</td>\n",
       "      <td>1175</td>\n",
       "      <td>ChatelGuyon_1</td>\n",
       "      <td>[ [ 3.0772146926584298, 45.914534641758706 ] ]</td>\n",
       "      <td>60</td>\n",
       "      <td>0.001667</td>\n",
       "      <td>LINESTRING (3.07285 45.89581, 3.07269 45.89586...</td>\n",
       "    </tr>\n",
       "    <tr>\n",
       "      <th>link_dy68NZEgkJFiakszXTBmBp</th>\n",
       "      <td>node_6CErzt5T6gFonN6RkpvAM6</td>\n",
       "      <td>QUENEDI</td>\n",
       "      <td>node_2zTroDrJuDCKmipdvjBrtL</td>\n",
       "      <td>1</td>\n",
       "      <td>0</td>\n",
       "      <td>600</td>\n",
       "      <td>18305</td>\n",
       "      <td>1</td>\n",
       "      <td>0</td>\n",
       "      <td>B5E0D6</td>\n",
       "      <td>...</td>\n",
       "      <td>Gannat</td>\n",
       "      <td>bus</td>\n",
       "      <td>3</td>\n",
       "      <td>20</td>\n",
       "      <td>3295</td>\n",
       "      <td>Gannat_1</td>\n",
       "      <td>None</td>\n",
       "      <td>60</td>\n",
       "      <td>0.001667</td>\n",
       "      <td>LINESTRING (3.41873 46.12042, 3.41845 46.12023...</td>\n",
       "    </tr>\n",
       "  </tbody>\n",
       "</table>\n",
       "<p>10 rows × 21 columns</p>\n",
       "</div>"
      ],
      "text/plain": [
       "                                                       a agency_id  \\\n",
       "index                                                                \n",
       "link_qTNjaUDLm9x3yJrS9ubX9T  node_2zTroDrJuDCKmipdvjBrtL   QUENEDI   \n",
       "link_wvPcELKEW52njEnuK7AeSe  node_f8Fb3oREhTRCmTVNW7TQzE   QUENEDI   \n",
       "link_vTbX3V9qJJxThakJ1WZbbk  node_b8e2FB6qm9PUQTLvQvNucR   QUENEDI   \n",
       "link_8EachMgBpjP7T2bWPiAc3E  node_4b2VnuC1zTsPzd9ueovVuH   QUENEDI   \n",
       "link_purLhqauca5SLLCFkShEC7  node_a3ZLvXzFnMqGNGu4hjEYT6   QUENEDI   \n",
       "link_4hsYkThjafc1NVpc8kLeid  node_rwwVbaGFJtCHoKTZ6B83Ax   QUENEDI   \n",
       "link_1ck6aSDmpEy7Jo2fbhNAxE  node_a3ZLvXzFnMqGNGu4hjEYT6   QUENEDI   \n",
       "link_2sfH8EPaWDjhzsZiZJMz1d  node_wbHMs2n7zPVS1pp1cXnNw5   QUENEDI   \n",
       "link_oCfgaw42pToYChhHThwCwy  node_b8e2FB6qm9PUQTLvQvNucR   QUENEDI   \n",
       "link_dy68NZEgkJFiakszXTBmBp  node_6CErzt5T6gFonN6RkpvAM6   QUENEDI   \n",
       "\n",
       "                                                       b  direction_id  \\\n",
       "index                                                                    \n",
       "link_qTNjaUDLm9x3yJrS9ubX9T  node_6CErzt5T6gFonN6RkpvAM6             0   \n",
       "link_wvPcELKEW52njEnuK7AeSe  node_b8e2FB6qm9PUQTLvQvNucR             0   \n",
       "link_vTbX3V9qJJxThakJ1WZbbk  node_wbHMs2n7zPVS1pp1cXnNw5             0   \n",
       "link_8EachMgBpjP7T2bWPiAc3E  node_a3ZLvXzFnMqGNGu4hjEYT6             0   \n",
       "link_purLhqauca5SLLCFkShEC7  node_rwwVbaGFJtCHoKTZ6B83Ax             0   \n",
       "link_4hsYkThjafc1NVpc8kLeid  node_a3ZLvXzFnMqGNGu4hjEYT6             1   \n",
       "link_1ck6aSDmpEy7Jo2fbhNAxE  node_4b2VnuC1zTsPzd9ueovVuH             1   \n",
       "link_2sfH8EPaWDjhzsZiZJMz1d  node_b8e2FB6qm9PUQTLvQvNucR             1   \n",
       "link_oCfgaw42pToYChhHThwCwy  node_f8Fb3oREhTRCmTVNW7TQzE             1   \n",
       "link_dy68NZEgkJFiakszXTBmBp  node_2zTroDrJuDCKmipdvjBrtL             1   \n",
       "\n",
       "                             drop_off_type  headway  length  link_sequence  \\\n",
       "index                                                                        \n",
       "link_qTNjaUDLm9x3yJrS9ubX9T              0      600   18305              1   \n",
       "link_wvPcELKEW52njEnuK7AeSe              0      600    6527              1   \n",
       "link_vTbX3V9qJJxThakJ1WZbbk              0      600   16554              2   \n",
       "link_8EachMgBpjP7T2bWPiAc3E              0      600   13020              1   \n",
       "link_purLhqauca5SLLCFkShEC7              0      600   26354              2   \n",
       "link_4hsYkThjafc1NVpc8kLeid              0      600   26354              1   \n",
       "link_1ck6aSDmpEy7Jo2fbhNAxE              0      600   13020              2   \n",
       "link_2sfH8EPaWDjhzsZiZJMz1d              0      600   16554              1   \n",
       "link_oCfgaw42pToYChhHThwCwy              0      600    6527              2   \n",
       "link_dy68NZEgkJFiakszXTBmBp              0      600   18305              1   \n",
       "\n",
       "                             pickup_type route_color  ... route_short_name  \\\n",
       "index                                                 ...                    \n",
       "link_qTNjaUDLm9x3yJrS9ubX9T            0      B5E0D6  ...           Gannat   \n",
       "link_wvPcELKEW52njEnuK7AeSe            0      B5E0D6  ...      ChatelGuyon   \n",
       "link_vTbX3V9qJJxThakJ1WZbbk            0      B5E0D6  ...      ChatelGuyon   \n",
       "link_8EachMgBpjP7T2bWPiAc3E            0      B5E0D6  ...           Thiers   \n",
       "link_purLhqauca5SLLCFkShEC7            0      B5E0D6  ...           Thiers   \n",
       "link_4hsYkThjafc1NVpc8kLeid            0      B5E0D6  ...           Thiers   \n",
       "link_1ck6aSDmpEy7Jo2fbhNAxE            0      B5E0D6  ...           Thiers   \n",
       "link_2sfH8EPaWDjhzsZiZJMz1d            0      B5E0D6  ...      ChatelGuyon   \n",
       "link_oCfgaw42pToYChhHThwCwy            0      B5E0D6  ...      ChatelGuyon   \n",
       "link_dy68NZEgkJFiakszXTBmBp            0      B5E0D6  ...           Gannat   \n",
       "\n",
       "                            route_type route_width  speed  time  \\\n",
       "index                                                             \n",
       "link_qTNjaUDLm9x3yJrS9ubX9T        bus           3     20  3295   \n",
       "link_wvPcELKEW52njEnuK7AeSe        bus           3     20  1175   \n",
       "link_vTbX3V9qJJxThakJ1WZbbk        bus           3     20  2980   \n",
       "link_8EachMgBpjP7T2bWPiAc3E        bus           3     20  2344   \n",
       "link_purLhqauca5SLLCFkShEC7        bus           3     20  4744   \n",
       "link_4hsYkThjafc1NVpc8kLeid        bus           3     20  4744   \n",
       "link_1ck6aSDmpEy7Jo2fbhNAxE        bus           3     20  2344   \n",
       "link_2sfH8EPaWDjhzsZiZJMz1d        bus           3     20  2980   \n",
       "link_oCfgaw42pToYChhHThwCwy        bus           3     20  1175   \n",
       "link_dy68NZEgkJFiakszXTBmBp        bus           3     20  3295   \n",
       "\n",
       "                                   trip_id  \\\n",
       "index                                        \n",
       "link_qTNjaUDLm9x3yJrS9ubX9T       Gannat_0   \n",
       "link_wvPcELKEW52njEnuK7AeSe  ChatelGuyon_0   \n",
       "link_vTbX3V9qJJxThakJ1WZbbk  ChatelGuyon_0   \n",
       "link_8EachMgBpjP7T2bWPiAc3E       Thiers_0   \n",
       "link_purLhqauca5SLLCFkShEC7       Thiers_0   \n",
       "link_4hsYkThjafc1NVpc8kLeid       Thiers_1   \n",
       "link_1ck6aSDmpEy7Jo2fbhNAxE       Thiers_1   \n",
       "link_2sfH8EPaWDjhzsZiZJMz1d  ChatelGuyon_1   \n",
       "link_oCfgaw42pToYChhHThwCwy  ChatelGuyon_1   \n",
       "link_dy68NZEgkJFiakszXTBmBp       Gannat_1   \n",
       "\n",
       "                                                                    anchors  \\\n",
       "index                                                                         \n",
       "link_qTNjaUDLm9x3yJrS9ubX9T                                            None   \n",
       "link_wvPcELKEW52njEnuK7AeSe  [ [ 3.0772146926584298, 45.914534641758706 ] ]   \n",
       "link_vTbX3V9qJJxThakJ1WZbbk                                            None   \n",
       "link_8EachMgBpjP7T2bWPiAc3E                                            None   \n",
       "link_purLhqauca5SLLCFkShEC7                                            None   \n",
       "link_4hsYkThjafc1NVpc8kLeid                                            None   \n",
       "link_1ck6aSDmpEy7Jo2fbhNAxE                                            None   \n",
       "link_2sfH8EPaWDjhzsZiZJMz1d                                            None   \n",
       "link_oCfgaw42pToYChhHThwCwy  [ [ 3.0772146926584298, 45.914534641758706 ] ]   \n",
       "link_dy68NZEgkJFiakszXTBmBp                                            None   \n",
       "\n",
       "                            capacity  frequency  \\\n",
       "index                                             \n",
       "link_qTNjaUDLm9x3yJrS9ubX9T       60   0.001667   \n",
       "link_wvPcELKEW52njEnuK7AeSe       60   0.001667   \n",
       "link_vTbX3V9qJJxThakJ1WZbbk       60   0.001667   \n",
       "link_8EachMgBpjP7T2bWPiAc3E       60   0.001667   \n",
       "link_purLhqauca5SLLCFkShEC7       60   0.001667   \n",
       "link_4hsYkThjafc1NVpc8kLeid       60   0.001667   \n",
       "link_1ck6aSDmpEy7Jo2fbhNAxE       60   0.001667   \n",
       "link_2sfH8EPaWDjhzsZiZJMz1d       60   0.001667   \n",
       "link_oCfgaw42pToYChhHThwCwy       60   0.001667   \n",
       "link_dy68NZEgkJFiakszXTBmBp       60   0.001667   \n",
       "\n",
       "                                                                      geometry  \n",
       "index                                                                           \n",
       "link_qTNjaUDLm9x3yJrS9ubX9T  LINESTRING (3.20420 46.09740, 3.20418 46.09763...  \n",
       "link_wvPcELKEW52njEnuK7AeSe  LINESTRING (3.05999 45.92018, 3.06060 45.92013...  \n",
       "link_vTbX3V9qJJxThakJ1WZbbk  LINESTRING (3.07285 45.89581, 3.07269 45.89586...  \n",
       "link_8EachMgBpjP7T2bWPiAc3E  LINESTRING (3.50444 45.85987, 3.50422 45.85993...  \n",
       "link_purLhqauca5SLLCFkShEC7  LINESTRING (3.38307 45.84869, 3.38239 45.84873...  \n",
       "link_4hsYkThjafc1NVpc8kLeid  LINESTRING (3.09960 45.77888, 3.09940 45.77877...  \n",
       "link_1ck6aSDmpEy7Jo2fbhNAxE  LINESTRING (3.38307 45.84869, 3.38445 45.84860...  \n",
       "link_2sfH8EPaWDjhzsZiZJMz1d  LINESTRING (3.10296 45.78059, 3.10359 45.78092...  \n",
       "link_oCfgaw42pToYChhHThwCwy  LINESTRING (3.07285 45.89581, 3.07269 45.89586...  \n",
       "link_dy68NZEgkJFiakszXTBmBp  LINESTRING (3.41873 46.12042, 3.41845 46.12023...  \n",
       "\n",
       "[10 rows x 21 columns]"
      ]
     },
     "execution_count": 45,
     "metadata": {},
     "output_type": "execute_result"
    }
   ],
   "source": [
    "links"
   ]
  },
  {
   "cell_type": "code",
   "execution_count": 46,
   "id": "50e3cd8c",
   "metadata": {},
   "outputs": [
    {
     "data": {
      "text/html": [
       "<div>\n",
       "<style scoped>\n",
       "    .dataframe tbody tr th:only-of-type {\n",
       "        vertical-align: middle;\n",
       "    }\n",
       "\n",
       "    .dataframe tbody tr th {\n",
       "        vertical-align: top;\n",
       "    }\n",
       "\n",
       "    .dataframe thead th {\n",
       "        text-align: right;\n",
       "    }\n",
       "</style>\n",
       "<table border=\"1\" class=\"dataframe\">\n",
       "  <thead>\n",
       "    <tr style=\"text-align: right;\">\n",
       "      <th></th>\n",
       "      <th>route_type</th>\n",
       "      <th>veh_capacity (PAX)</th>\n",
       "      <th>headway (s)</th>\n",
       "      <th>catchment population</th>\n",
       "      <th>catchment patate</th>\n",
       "      <th>frequency (veh/hours)</th>\n",
       "    </tr>\n",
       "    <tr>\n",
       "      <th>route_id</th>\n",
       "      <th></th>\n",
       "      <th></th>\n",
       "      <th></th>\n",
       "      <th></th>\n",
       "      <th></th>\n",
       "      <th></th>\n",
       "    </tr>\n",
       "  </thead>\n",
       "  <tbody>\n",
       "    <tr>\n",
       "      <th>ChatelGuyon</th>\n",
       "      <td>bus</td>\n",
       "      <td>60</td>\n",
       "      <td>600</td>\n",
       "      <td>2834.507547</td>\n",
       "      <td>8503.522642</td>\n",
       "      <td>6.0</td>\n",
       "    </tr>\n",
       "    <tr>\n",
       "      <th>Gannat</th>\n",
       "      <td>bus</td>\n",
       "      <td>60</td>\n",
       "      <td>600</td>\n",
       "      <td>2355.857359</td>\n",
       "      <td>7067.572077</td>\n",
       "      <td>6.0</td>\n",
       "    </tr>\n",
       "    <tr>\n",
       "      <th>Thiers</th>\n",
       "      <td>bus</td>\n",
       "      <td>60</td>\n",
       "      <td>600</td>\n",
       "      <td>2448.983014</td>\n",
       "      <td>7346.949042</td>\n",
       "      <td>6.0</td>\n",
       "    </tr>\n",
       "  </tbody>\n",
       "</table>\n",
       "</div>"
      ],
      "text/plain": [
       "            route_type  veh_capacity (PAX)  headway (s)  catchment population  \\\n",
       "route_id                                                                        \n",
       "ChatelGuyon        bus                  60          600           2834.507547   \n",
       "Gannat             bus                  60          600           2355.857359   \n",
       "Thiers             bus                  60          600           2448.983014   \n",
       "\n",
       "             catchment patate  frequency (veh/hours)  \n",
       "route_id                                              \n",
       "ChatelGuyon       8503.522642                    6.0  \n",
       "Gannat            7067.572077                    6.0  \n",
       "Thiers            7346.949042                    6.0  "
      ]
     },
     "execution_count": 46,
     "metadata": {},
     "output_type": "execute_result"
    }
   ],
   "source": [
    "df_route_id"
   ]
  },
  {
   "cell_type": "code",
   "execution_count": 47,
   "id": "0dc17813",
   "metadata": {},
   "outputs": [
    {
     "name": "stdout",
     "output_type": "stream",
     "text": [
      "32.0\n"
     ]
    }
   ],
   "source": [
    "res = get_fleet('route_type')\n",
    "\n",
    "df_route_type['fleet'] = res\n",
    "print(sum([item for key,item in res.items()]))"
   ]
  },
  {
   "cell_type": "markdown",
   "id": "b0a16eb3",
   "metadata": {},
   "source": [
    "# Line Length"
   ]
  },
  {
   "cell_type": "code",
   "execution_count": 48,
   "id": "5e08e66e",
   "metadata": {},
   "outputs": [],
   "source": [
    "#def get_length(col='route_id',length_col='length'):\n",
    "#    link = links.groupby([col,'trip_id'])[[length_col]].agg('sum')\n",
    "#    return link.reset_index().groupby(col)[length_col].agg('sum').to_dict()   "
   ]
  },
  {
   "cell_type": "code",
   "execution_count": 49,
   "id": "e3273ebf",
   "metadata": {},
   "outputs": [],
   "source": [
    "def get_length(col='route_id', length_col='length'):\n",
    "    link = links.groupby([col,'trip_id'])[[length_col]].agg(np.nansum)\n",
    "    if col == 'route_type':\n",
    "        return link.reset_index().groupby(col)[length_col].agg(np.nansum).to_dict()\n",
    "    else:\n",
    "        return link.reset_index().groupby(col)[length_col].agg(np.nanmean).to_dict()"
   ]
  },
  {
   "cell_type": "code",
   "execution_count": 50,
   "id": "bfa2e75e",
   "metadata": {},
   "outputs": [],
   "source": [
    "# preparation. if length is NaN, or if shape dist travel exist.\n",
    "\n",
    "length_col = None\n",
    "if 'length' in links.columns and length_col == None:\n",
    "    if len(links[links['length'].isnull()])==0:\n",
    "        length_col = 'length'\n",
    "        \n",
    "if 'shape_dist_traveled' in links.columns and length_col == None:\n",
    "    if len(links[links['shape_dist_traveled'].isnull()])==0:\n",
    "        length_col = 'shape_dist_traveled'\n",
    "\n",
    "if length_col == None:\n",
    "    print('create length from geometry')\n",
    "    links['length'] = links.to_crs(crs).length\n",
    "    length_col = 'length'"
   ]
  },
  {
   "cell_type": "code",
   "execution_count": 51,
   "id": "31db0758",
   "metadata": {},
   "outputs": [
    {
     "name": "stdout",
     "output_type": "stream",
     "text": [
      "80760.0\n"
     ]
    }
   ],
   "source": [
    "res = get_length('route_id',length_col)\n",
    "\n",
    "df_route_id['length (m)'] = res\n",
    "print(sum([item for key,item in res.items()]))"
   ]
  },
  {
   "cell_type": "code",
   "execution_count": 52,
   "id": "39826011",
   "metadata": {},
   "outputs": [
    {
     "name": "stdout",
     "output_type": "stream",
     "text": [
      "161520\n"
     ]
    }
   ],
   "source": [
    "res = get_length('route_type',length_col)\n",
    "\n",
    "df_route_type['length (m)'] = res\n",
    "print(sum([item for key,item in res.items()]))"
   ]
  },
  {
   "cell_type": "markdown",
   "id": "638013ee",
   "metadata": {},
   "source": [
    "# Number of station per line"
   ]
  },
  {
   "cell_type": "code",
   "execution_count": 53,
   "id": "6bf1bd3e",
   "metadata": {},
   "outputs": [],
   "source": [
    "# o-->o-->o-->o and  o<--o<--o<--o\n",
    "# est-ce que j'ai 8 ou 4 stations ?\n",
    "# j'ai 4 stations par trip et 4 stations par route (si c'est les memes).\n",
    "# comment savoir si cest les memes. clustering?\n",
    "# pour linstant. on prend tous les noeds unique par route_id ou route_type (col='route_id', route_id)\n",
    "def get_num_station(col='route_id'):\n",
    "    link = links.groupby(col)[['a','b']].agg({'a':set,'b':set})\n",
    "    link['node_len'] = link.apply(lambda row: len(row['a'].union(row['b'])), axis=1)\n",
    "    return link['node_len'].to_dict()\n"
   ]
  },
  {
   "cell_type": "code",
   "execution_count": 54,
   "id": "53a9fb6a",
   "metadata": {},
   "outputs": [],
   "source": [
    "nodes['nindex'] = nodes.reset_index().index\n",
    "nodes['stop_name'] = nodes.apply(lambda x: x['nindex'] if (pd.isna(x['stop_name']) or x['stop_name'] is None) else x['stop_name'], 1)\n",
    "nodes.drop(columns='nindex', inplace=True)"
   ]
  },
  {
   "cell_type": "code",
   "execution_count": 55,
   "id": "0eebf302",
   "metadata": {},
   "outputs": [],
   "source": [
    "dict_nb_trips = links[['route_id', 'trip_id']].drop_duplicates().groupby('route_id')['trip_id'].count().to_dict()\n",
    "df_route_id['type'] = df_route_id.index.map(dict_nb_trips)\n",
    "df_route_id['type'] = df_route_id['type'].apply(lambda x: 'circular' if x == 1 else 'linear')"
   ]
  },
  {
   "cell_type": "code",
   "execution_count": 56,
   "id": "2165039d",
   "metadata": {},
   "outputs": [],
   "source": [
    "def get_node_sequence(route_id):\n",
    "    links_route = links.loc[links.route_id == route_id]\n",
    "    if df_route_id.loc[route_id]['type'] == 'linear':\n",
    "        trip_id = route_id + '_0'\n",
    "    links_route = links_route.loc[links_route.trip_id == trip_id]\n",
    "    links_route = links_route.sort_values(by='link_sequence')\n",
    "    nodes_seq = []\n",
    "    for i in range(len(links_route)):\n",
    "        nodes_seq += [links_route.iloc[i]['a']]\n",
    "    nodes_seq += [links_route.iloc[-1]['b']]\n",
    "    return nodes_seq"
   ]
  },
  {
   "cell_type": "code",
   "execution_count": 57,
   "id": "f19ccc9b",
   "metadata": {},
   "outputs": [],
   "source": [
    "nodes_stops = dict(zip(nodes.index, nodes['stop_name']))\n",
    "\n",
    "def get_stops_sequence(route_id):\n",
    "    nodes_seq = get_node_sequence(route_id)\n",
    "    stops_seq = []\n",
    "    for node in nodes_seq:\n",
    "        stops_seq += [nodes_stops[node]]\n",
    "    return stops_seq"
   ]
  },
  {
   "cell_type": "code",
   "execution_count": 58,
   "id": "b44ac2df",
   "metadata": {},
   "outputs": [],
   "source": [
    "df_route_id['stations sequence'] = [get_stops_sequence(route_id) for route_id in df_route_id.index]\n",
    "df_route_id['nb stations'] = df_route_id['stations sequence'].apply(lambda x: len(x))"
   ]
  },
  {
   "cell_type": "code",
   "execution_count": 59,
   "id": "ffa6009d",
   "metadata": {},
   "outputs": [],
   "source": [
    "stations_route_type = pd.DataFrame(df_route_id.groupby('route_type')['stations sequence'].agg(lambda x: list(set(sum(x, [])))))\n",
    "stations_route_type['nb stations'] = stations_route_type['stations sequence'].apply(lambda x: len(x))\n",
    "df_route_type = df_route_type.merge(stations_route_type, left_on=df_route_type.index, right_on=stations_route_type.index, how='left')\n",
    "df_route_type = df_route_type.rename(columns={'key_0': 'route_type'})\n",
    "df_route_type = df_route_type.set_index('route_type')"
   ]
  },
  {
   "cell_type": "markdown",
   "id": "6c1ea85a",
   "metadata": {},
   "source": [
    "## Connections"
   ]
  },
  {
   "cell_type": "code",
   "execution_count": 60,
   "id": "5549961a",
   "metadata": {},
   "outputs": [],
   "source": [
    "iterable = list(zip(nodes['stop_name'], nodes.index))\n",
    "\n",
    "stops_nodes = defaultdict(set)\n",
    "for key, value in iterable:\n",
    "    stops_nodes[key].add(value)\n",
    "stops_nodes = dict(stops_nodes)"
   ]
  },
  {
   "cell_type": "code",
   "execution_count": 61,
   "id": "2cacdef7",
   "metadata": {},
   "outputs": [],
   "source": [
    "iterable = list(zip(links['a'], links['route_id']))\n",
    "iterable = iterable + list(zip(links['b'], links['route_id']))\n",
    "\n",
    "nodes_routes = defaultdict(set)\n",
    "for key, value in iterable:\n",
    "    nodes_routes[key].add(value)\n",
    "nodes_routes = dict(nodes_routes)"
   ]
  },
  {
   "cell_type": "code",
   "execution_count": 62,
   "id": "d314d997",
   "metadata": {},
   "outputs": [],
   "source": [
    "stops_routes = {}\n",
    "\n",
    "for stop, node_list in stops_nodes.items():\n",
    "    routes = set()\n",
    "    for node in node_list:\n",
    "        if node in nodes_routes:\n",
    "            routes.update(nodes_routes[node])\n",
    "    stops_routes[stop] = routes"
   ]
  },
  {
   "cell_type": "code",
   "execution_count": 63,
   "id": "074016b7",
   "metadata": {},
   "outputs": [],
   "source": [
    "hubs = pd.DataFrame.from_dict(stops_routes, orient='index')\n",
    "hubs['lines'] = hubs.apply(lambda row: [val for val in row if pd.notnull(val)], axis=1)\n",
    "hubs = hubs.drop(columns=[i for i in range(len(hubs.columns) - 1)])\n",
    "hubs['nb_lines'] = hubs['lines'].apply(lambda x: len(x))\n",
    "hubs = hubs.sort_values(by='nb_lines', ascending=False)"
   ]
  },
  {
   "cell_type": "code",
   "execution_count": 64,
   "id": "b639caa8",
   "metadata": {},
   "outputs": [],
   "source": [
    "dict_route_type = dict(zip(df_route_id.index, df_route_id['route_type']))\n",
    "dict_veh = dict(zip(df_route_id['route_type'], df_route_id['veh_capacity (PAX)']))\n",
    "route_order = sorted(dict_veh, key=lambda x: int(dict_veh[x]), reverse=True)\n",
    "\n",
    "def lines_to_dict(lines):\n",
    "    route_dict = {route_type: [] for route_type in route_order}\n",
    "    for line in lines:\n",
    "        route_type = dict_route_type.get(line)\n",
    "        if route_type in route_dict:\n",
    "            route_dict[route_type].append(line)\n",
    "    route_dict = {k: sorted(v) for k, v in route_dict.items() if v}\n",
    "    return route_dict\n",
    "\n",
    "hubs['lines'] = hubs['lines'].apply(lines_to_dict)"
   ]
  },
  {
   "cell_type": "code",
   "execution_count": 65,
   "id": "792c180d",
   "metadata": {},
   "outputs": [],
   "source": [
    "from shapely.ops import unary_union\n",
    "\n",
    "def centroid(geometries):\n",
    "    combined_geometry = unary_union(geometries)\n",
    "    return combined_geometry.centroid\n",
    "\n",
    "centroids = pd.DataFrame(nodes.groupby('stop_name')['geometry'].agg(centroid))\n",
    "hubs = hubs.merge(centroids, left_on=hubs.index, right_on=centroids.index, how='left')\n",
    "\n",
    "hubs = hubs.rename(columns={'key_0': 'stop_name'})\n",
    "hubs = hubs.set_index('stop_name')"
   ]
  },
  {
   "cell_type": "code",
   "execution_count": 66,
   "id": "feed3cfe",
   "metadata": {},
   "outputs": [],
   "source": [
    "hubs['stop_radius'] = hubs['lines'].apply(lambda x: max(catchment_radius[mode] for mode in x.keys()))"
   ]
  },
  {
   "cell_type": "code",
   "execution_count": 67,
   "id": "ac08444c",
   "metadata": {},
   "outputs": [],
   "source": [
    "def get_connections(row):\n",
    "    route_id = row.name\n",
    "    connections = set()\n",
    "    for station in row['stations sequence']:\n",
    "        if station in stops_routes:\n",
    "            connections.update(stops_routes[station])\n",
    "    connections.discard(route_id)  # Supprimer la route_id de l'ensemble des connexions\n",
    "    return lines_to_dict(connections), len(connections)\n",
    "\n",
    "df_route_id[['connexions', 'nb lines connected']] = df_route_id.apply(lambda row: pd.Series(get_connections(row)), axis=1)\n",
    "\n",
    "# df_route_id[['connexions']].loc[df_route_id['connexions'] == 'tertiary']"
   ]
  },
  {
   "cell_type": "code",
   "execution_count": 68,
   "id": "ecfae70e",
   "metadata": {},
   "outputs": [],
   "source": [
    "# df_route_id"
   ]
  },
  {
   "cell_type": "markdown",
   "id": "8fcc3055",
   "metadata": {},
   "source": [
    "# Fleet"
   ]
  },
  {
   "cell_type": "code",
   "execution_count": 69,
   "id": "4c88e76e",
   "metadata": {},
   "outputs": [],
   "source": [
    "# if time_tabl"
   ]
  },
  {
   "cell_type": "markdown",
   "id": "1f98a64c",
   "metadata": {},
   "source": [
    "# Vehicle revenue KM "
   ]
  },
  {
   "cell_type": "code",
   "execution_count": 70,
   "id": "c70257d8",
   "metadata": {},
   "outputs": [],
   "source": [
    "def get_veh_kmh(col='route_id', length_col='length'):\n",
    "    link = links.groupby([col,'trip_id'])[[length_col,'frequency']].agg({length_col:'sum','frequency':'mean'})\n",
    "    link['veh_km/h'] = np.ceil(link['frequency'] * link[length_col]) * 3600/1000 #to km/H\n",
    "    return link.reset_index().groupby(col)['veh_km/h'].agg('sum').to_dict()"
   ]
  },
  {
   "cell_type": "code",
   "execution_count": 71,
   "id": "6b53c067",
   "metadata": {},
   "outputs": [
    {
     "name": "stdout",
     "output_type": "stream",
     "text": [
      "979.2\n"
     ]
    }
   ],
   "source": [
    "res = get_veh_kmh('route_id')\n",
    "\n",
    "df_route_id['veh.km/h'] = res\n",
    "print(sum([item for key,item in res.items()]))"
   ]
  },
  {
   "cell_type": "code",
   "execution_count": 72,
   "id": "3bc451d7",
   "metadata": {},
   "outputs": [
    {
     "name": "stdout",
     "output_type": "stream",
     "text": [
      "979.2\n"
     ]
    }
   ],
   "source": [
    "res = get_veh_kmh('route_type')\n",
    "\n",
    "df_route_type['veh.km/h'] = res\n",
    "print(sum([item for key,item in res.items()]))"
   ]
  },
  {
   "cell_type": "markdown",
   "id": "ab77743f",
   "metadata": {},
   "source": [
    "# Round trip time"
   ]
  },
  {
   "cell_type": "code",
   "execution_count": 73,
   "id": "fd818c88",
   "metadata": {},
   "outputs": [],
   "source": [
    "def get_round_trip_time(col='route_id'):\n",
    "    link = links.groupby([col,'trip_id'])[['time']].agg('sum')\n",
    "    return link.reset_index().groupby(col)['time'].agg('sum').to_dict()"
   ]
  },
  {
   "cell_type": "code",
   "execution_count": 74,
   "id": "869ea67e",
   "metadata": {},
   "outputs": [],
   "source": [
    "res = get_round_trip_time('route_id')\n",
    "\n",
    "df_route_id['round trip time (s)'] = res\n",
    "# print(sum([item for key,item in res.items()]))"
   ]
  },
  {
   "cell_type": "code",
   "execution_count": null,
   "id": "5ac6bf88",
   "metadata": {},
   "outputs": [
    {
     "data": {
      "text/html": [
       "<div>\n",
       "<style scoped>\n",
       "    .dataframe tbody tr th:only-of-type {\n",
       "        vertical-align: middle;\n",
       "    }\n",
       "\n",
       "    .dataframe tbody tr th {\n",
       "        vertical-align: top;\n",
       "    }\n",
       "\n",
       "    .dataframe thead th {\n",
       "        text-align: right;\n",
       "    }\n",
       "</style>\n",
       "<table border=\"1\" class=\"dataframe\">\n",
       "  <thead>\n",
       "    <tr style=\"text-align: right;\">\n",
       "      <th></th>\n",
       "      <th>route_type</th>\n",
       "      <th>veh_capacity (PAX)</th>\n",
       "      <th>headway (s)</th>\n",
       "      <th>catchment population</th>\n",
       "      <th>catchment patate</th>\n",
       "      <th>frequency (veh/hours)</th>\n",
       "      <th>length (m)</th>\n",
       "      <th>type</th>\n",
       "      <th>stations sequence</th>\n",
       "      <th>nb stations</th>\n",
       "      <th>connexions</th>\n",
       "      <th>nb lines connected</th>\n",
       "      <th>veh.km/h</th>\n",
       "      <th>round trip time (s)</th>\n",
       "    </tr>\n",
       "    <tr>\n",
       "      <th>route_id</th>\n",
       "      <th></th>\n",
       "      <th></th>\n",
       "      <th></th>\n",
       "      <th></th>\n",
       "      <th></th>\n",
       "      <th></th>\n",
       "      <th></th>\n",
       "      <th></th>\n",
       "      <th></th>\n",
       "      <th></th>\n",
       "      <th></th>\n",
       "      <th></th>\n",
       "      <th></th>\n",
       "      <th></th>\n",
       "    </tr>\n",
       "  </thead>\n",
       "  <tbody>\n",
       "    <tr>\n",
       "      <th>ChatelGuyon</th>\n",
       "      <td>bus</td>\n",
       "      <td>60</td>\n",
       "      <td>600</td>\n",
       "      <td>2834.507547</td>\n",
       "      <td>8503.522642</td>\n",
       "      <td>6.0</td>\n",
       "      <td>23081.0</td>\n",
       "      <td>linear</td>\n",
       "      <td>[Chatel Guyon, Riom, Clermont]</td>\n",
       "      <td>3</td>\n",
       "      <td>{'bus': ['Thiers']}</td>\n",
       "      <td>1</td>\n",
       "      <td>280.8</td>\n",
       "      <td>8310</td>\n",
       "    </tr>\n",
       "    <tr>\n",
       "      <th>Gannat</th>\n",
       "      <td>bus</td>\n",
       "      <td>60</td>\n",
       "      <td>600</td>\n",
       "      <td>2355.857359</td>\n",
       "      <td>7067.572077</td>\n",
       "      <td>6.0</td>\n",
       "      <td>18305.0</td>\n",
       "      <td>linear</td>\n",
       "      <td>[Gannat, Vichy]</td>\n",
       "      <td>2</td>\n",
       "      <td>{}</td>\n",
       "      <td>0</td>\n",
       "      <td>223.2</td>\n",
       "      <td>6590</td>\n",
       "    </tr>\n",
       "    <tr>\n",
       "      <th>Thiers</th>\n",
       "      <td>bus</td>\n",
       "      <td>60</td>\n",
       "      <td>600</td>\n",
       "      <td>2448.983014</td>\n",
       "      <td>7346.949042</td>\n",
       "      <td>6.0</td>\n",
       "      <td>39374.0</td>\n",
       "      <td>linear</td>\n",
       "      <td>[Thiers, Ornon, Clermont]</td>\n",
       "      <td>3</td>\n",
       "      <td>{'bus': ['ChatelGuyon']}</td>\n",
       "      <td>1</td>\n",
       "      <td>475.2</td>\n",
       "      <td>14176</td>\n",
       "    </tr>\n",
       "  </tbody>\n",
       "</table>\n",
       "</div>"
      ],
      "text/plain": [
       "            route_type  veh_capacity (PAX)  headway (s)  catchment population  \\\n",
       "route_id                                                                        \n",
       "ChatelGuyon        bus                  60          600           2834.507547   \n",
       "Gannat             bus                  60          600           2355.857359   \n",
       "Thiers             bus                  60          600           2448.983014   \n",
       "\n",
       "             catchment patate  frequency (veh/hours)  length (m)    type  \\\n",
       "route_id                                                                   \n",
       "ChatelGuyon       8503.522642                    6.0     23081.0  linear   \n",
       "Gannat            7067.572077                    6.0     18305.0  linear   \n",
       "Thiers            7346.949042                    6.0     39374.0  linear   \n",
       "\n",
       "                          stations sequence  nb stations  \\\n",
       "route_id                                                   \n",
       "ChatelGuyon  [Chatel Guyon, Riom, Clermont]            3   \n",
       "Gannat                      [Gannat, Vichy]            2   \n",
       "Thiers            [Thiers, Ornon, Clermont]            3   \n",
       "\n",
       "                           connexions  nb lines connected  veh.km/h  \\\n",
       "route_id                                                              \n",
       "ChatelGuyon       {'bus': ['Thiers']}                   1     280.8   \n",
       "Gannat                             {}                   0     223.2   \n",
       "Thiers       {'bus': ['ChatelGuyon']}                   1     475.2   \n",
       "\n",
       "             round trip time (s)  \n",
       "route_id                          \n",
       "ChatelGuyon                 8310  \n",
       "Gannat                      6590  \n",
       "Thiers                     14176  "
      ]
     },
     "execution_count": 80,
     "metadata": {},
     "output_type": "execute_result"
    }
   ],
   "source": [
    "# df_route_id"
   ]
  },
  {
   "cell_type": "code",
   "execution_count": 76,
   "id": "88a0e07b",
   "metadata": {},
   "outputs": [],
   "source": [
    "# df_route_type"
   ]
  },
  {
   "cell_type": "code",
   "execution_count": 77,
   "id": "40a6d5b7",
   "metadata": {},
   "outputs": [],
   "source": [
    "# links"
   ]
  },
  {
   "cell_type": "code",
   "execution_count": 78,
   "id": "135541ca",
   "metadata": {},
   "outputs": [],
   "source": [
    "# stip"
   ]
  },
  {
   "cell_type": "markdown",
   "id": "6a5213bf",
   "metadata": {},
   "source": [
    "# export dfs to csv"
   ]
  },
  {
   "cell_type": "code",
   "execution_count": 82,
   "id": "4a7d0d1a",
   "metadata": {},
   "outputs": [],
   "source": [
    "# round numbers\n",
    "#TODO : change label catchment\n",
    "for col in ['catchment population', 'frequency (veh/hours)','length (m)','veh.km/h','round trip time (s)']:\n",
    "    df_route_id[col] = df_route_id[col].apply(lambda x :np.round(x,2))\n",
    "    df_route_id[col] = df_route_id[col].apply(lambda x :np.round(x,2))\n"
   ]
  },
  {
   "cell_type": "code",
   "execution_count": 83,
   "id": "3105f92e",
   "metadata": {},
   "outputs": [],
   "source": [
    "#df_route_id = df_route_id.fillna('null')\n",
    "#df_route_type = df_route_type.fillna('null')"
   ]
  },
  {
   "cell_type": "code",
   "execution_count": 84,
   "id": "984694c2",
   "metadata": {},
   "outputs": [],
   "source": [
    "df_route_id.to_csv(output_folder+'route_id_metrics.csv')\n",
    "# df_route_id"
   ]
  },
  {
   "cell_type": "code",
   "execution_count": 85,
   "id": "c6a5c283",
   "metadata": {},
   "outputs": [],
   "source": [
    "df_route_type.to_csv(output_folder+'route_type_metrics.csv')\n",
    "# df_route_type"
   ]
  },
  {
   "cell_type": "code",
   "execution_count": 86,
   "id": "e9b5ba7a",
   "metadata": {},
   "outputs": [
    {
     "ename": "NameError",
     "evalue": "name 'end_of_notebook' is not defined",
     "output_type": "error",
     "traceback": [
      "\u001b[1;31m---------------------------------------------------------------------------\u001b[0m",
      "\u001b[1;31mNameError\u001b[0m                                 Traceback (most recent call last)",
      "Cell \u001b[1;32mIn[86], line 1\u001b[0m\n\u001b[1;32m----> 1\u001b[0m \u001b[43mend_of_notebook\u001b[49m\n",
      "\u001b[1;31mNameError\u001b[0m: name 'end_of_notebook' is not defined"
     ]
    }
   ],
   "source": [
    "end_of_notebook"
   ]
  },
  {
   "cell_type": "markdown",
   "id": "204675d1",
   "metadata": {},
   "source": [
    "# Formation:\n",
    "\n",
    "exporter une image (.png) <br>\n",
    "ex: barplot du catchement pour les route_type"
   ]
  },
  {
   "cell_type": "code",
   "execution_count": 87,
   "id": "ba0c4f26",
   "metadata": {},
   "outputs": [
    {
     "ename": "KeyError",
     "evalue": "'catchment'",
     "output_type": "error",
     "traceback": [
      "\u001b[1;31m---------------------------------------------------------------------------\u001b[0m",
      "\u001b[1;31mKeyError\u001b[0m                                  Traceback (most recent call last)",
      "File \u001b[1;32mc:\\Users\\mlaune\\AppData\\Local\\Continuum\\anaconda3\\envs\\quetzal_env\\lib\\site-packages\\pandas\\core\\indexes\\base.py:3802\u001b[0m, in \u001b[0;36mIndex.get_loc\u001b[1;34m(self, key, method, tolerance)\u001b[0m\n\u001b[0;32m   3801\u001b[0m \u001b[38;5;28;01mtry\u001b[39;00m:\n\u001b[1;32m-> 3802\u001b[0m     \u001b[38;5;28;01mreturn\u001b[39;00m \u001b[38;5;28;43mself\u001b[39;49m\u001b[38;5;241;43m.\u001b[39;49m\u001b[43m_engine\u001b[49m\u001b[38;5;241;43m.\u001b[39;49m\u001b[43mget_loc\u001b[49m\u001b[43m(\u001b[49m\u001b[43mcasted_key\u001b[49m\u001b[43m)\u001b[49m\n\u001b[0;32m   3803\u001b[0m \u001b[38;5;28;01mexcept\u001b[39;00m \u001b[38;5;167;01mKeyError\u001b[39;00m \u001b[38;5;28;01mas\u001b[39;00m err:\n",
      "File \u001b[1;32mc:\\Users\\mlaune\\AppData\\Local\\Continuum\\anaconda3\\envs\\quetzal_env\\lib\\site-packages\\pandas\\_libs\\index.pyx:138\u001b[0m, in \u001b[0;36mpandas._libs.index.IndexEngine.get_loc\u001b[1;34m()\u001b[0m\n",
      "File \u001b[1;32mc:\\Users\\mlaune\\AppData\\Local\\Continuum\\anaconda3\\envs\\quetzal_env\\lib\\site-packages\\pandas\\_libs\\index.pyx:165\u001b[0m, in \u001b[0;36mpandas._libs.index.IndexEngine.get_loc\u001b[1;34m()\u001b[0m\n",
      "File \u001b[1;32mpandas\\_libs\\hashtable_class_helper.pxi:5745\u001b[0m, in \u001b[0;36mpandas._libs.hashtable.PyObjectHashTable.get_item\u001b[1;34m()\u001b[0m\n",
      "File \u001b[1;32mpandas\\_libs\\hashtable_class_helper.pxi:5753\u001b[0m, in \u001b[0;36mpandas._libs.hashtable.PyObjectHashTable.get_item\u001b[1;34m()\u001b[0m\n",
      "\u001b[1;31mKeyError\u001b[0m: 'catchment'",
      "\nThe above exception was the direct cause of the following exception:\n",
      "\u001b[1;31mKeyError\u001b[0m                                  Traceback (most recent call last)",
      "Cell \u001b[1;32mIn[87], line 1\u001b[0m\n\u001b[1;32m----> 1\u001b[0m plot \u001b[38;5;241m=\u001b[39m \u001b[43mdf_route_type\u001b[49m\u001b[38;5;241;43m.\u001b[39;49m\u001b[43mreset_index\u001b[49m\u001b[43m(\u001b[49m\u001b[43m)\u001b[49m\u001b[38;5;241;43m.\u001b[39;49m\u001b[43mplot\u001b[49m\u001b[43m(\u001b[49m\u001b[43mkind\u001b[49m\u001b[38;5;241;43m=\u001b[39;49m\u001b[38;5;124;43m'\u001b[39;49m\u001b[38;5;124;43mbar\u001b[39;49m\u001b[38;5;124;43m'\u001b[39;49m\u001b[43m,\u001b[49m\u001b[43m \u001b[49m\u001b[43mx\u001b[49m\u001b[38;5;241;43m=\u001b[39;49m\u001b[38;5;124;43m'\u001b[39;49m\u001b[38;5;124;43mroute_type\u001b[39;49m\u001b[38;5;124;43m'\u001b[39;49m\u001b[43m,\u001b[49m\u001b[43m \u001b[49m\u001b[43my\u001b[49m\u001b[38;5;241;43m=\u001b[39;49m\u001b[38;5;124;43m'\u001b[39;49m\u001b[38;5;124;43mcatchment\u001b[39;49m\u001b[38;5;124;43m'\u001b[39;49m\u001b[43m,\u001b[49m\u001b[43m \u001b[49m\u001b[43mcolor\u001b[49m\u001b[38;5;241;43m=\u001b[39;49m\u001b[38;5;124;43m'\u001b[39;49m\u001b[38;5;124;43m#559bb4\u001b[39;49m\u001b[38;5;124;43m'\u001b[39;49m\u001b[43m,\u001b[49m\u001b[43m \u001b[49m\u001b[43mrot\u001b[49m\u001b[38;5;241;43m=\u001b[39;49m\u001b[38;5;241;43m0\u001b[39;49m\u001b[43m,\u001b[49m\u001b[43m \u001b[49m\u001b[43mfigsize\u001b[49m\u001b[38;5;241;43m=\u001b[39;49m\u001b[43m[\u001b[49m\u001b[38;5;241;43m10\u001b[39;49m\u001b[43m,\u001b[49m\u001b[43m \u001b[49m\u001b[38;5;241;43m5\u001b[39;49m\u001b[43m]\u001b[49m\u001b[43m)\u001b[49m\n\u001b[0;32m      2\u001b[0m plot\u001b[38;5;241m.\u001b[39mset_title(\u001b[38;5;124m'\u001b[39m\u001b[38;5;124mCouverture population par mode\u001b[39m\u001b[38;5;124m'\u001b[39m)\n\u001b[0;32m      3\u001b[0m plot\u001b[38;5;241m.\u001b[39mset_ylabel(\u001b[38;5;124m'\u001b[39m\u001b[38;5;124m'\u001b[39m)\n",
      "File \u001b[1;32mc:\\Users\\mlaune\\AppData\\Local\\Continuum\\anaconda3\\envs\\quetzal_env\\lib\\site-packages\\pandas\\plotting\\_core.py:986\u001b[0m, in \u001b[0;36mPlotAccessor.__call__\u001b[1;34m(self, *args, **kwargs)\u001b[0m\n\u001b[0;32m    983\u001b[0m             \u001b[38;5;28;01mpass\u001b[39;00m\n\u001b[0;32m    985\u001b[0m \u001b[38;5;66;03m# don't overwrite\u001b[39;00m\n\u001b[1;32m--> 986\u001b[0m data \u001b[38;5;241m=\u001b[39m \u001b[43mdata\u001b[49m\u001b[43m[\u001b[49m\u001b[43my\u001b[49m\u001b[43m]\u001b[49m\u001b[38;5;241m.\u001b[39mcopy()\n\u001b[0;32m    988\u001b[0m \u001b[38;5;28;01mif\u001b[39;00m \u001b[38;5;28misinstance\u001b[39m(data, ABCSeries):\n\u001b[0;32m    989\u001b[0m     label_name \u001b[38;5;241m=\u001b[39m label_kw \u001b[38;5;129;01mor\u001b[39;00m y\n",
      "File \u001b[1;32mc:\\Users\\mlaune\\AppData\\Local\\Continuum\\anaconda3\\envs\\quetzal_env\\lib\\site-packages\\pandas\\core\\frame.py:3807\u001b[0m, in \u001b[0;36mDataFrame.__getitem__\u001b[1;34m(self, key)\u001b[0m\n\u001b[0;32m   3805\u001b[0m \u001b[38;5;28;01mif\u001b[39;00m \u001b[38;5;28mself\u001b[39m\u001b[38;5;241m.\u001b[39mcolumns\u001b[38;5;241m.\u001b[39mnlevels \u001b[38;5;241m>\u001b[39m \u001b[38;5;241m1\u001b[39m:\n\u001b[0;32m   3806\u001b[0m     \u001b[38;5;28;01mreturn\u001b[39;00m \u001b[38;5;28mself\u001b[39m\u001b[38;5;241m.\u001b[39m_getitem_multilevel(key)\n\u001b[1;32m-> 3807\u001b[0m indexer \u001b[38;5;241m=\u001b[39m \u001b[38;5;28;43mself\u001b[39;49m\u001b[38;5;241;43m.\u001b[39;49m\u001b[43mcolumns\u001b[49m\u001b[38;5;241;43m.\u001b[39;49m\u001b[43mget_loc\u001b[49m\u001b[43m(\u001b[49m\u001b[43mkey\u001b[49m\u001b[43m)\u001b[49m\n\u001b[0;32m   3808\u001b[0m \u001b[38;5;28;01mif\u001b[39;00m is_integer(indexer):\n\u001b[0;32m   3809\u001b[0m     indexer \u001b[38;5;241m=\u001b[39m [indexer]\n",
      "File \u001b[1;32mc:\\Users\\mlaune\\AppData\\Local\\Continuum\\anaconda3\\envs\\quetzal_env\\lib\\site-packages\\pandas\\core\\indexes\\base.py:3804\u001b[0m, in \u001b[0;36mIndex.get_loc\u001b[1;34m(self, key, method, tolerance)\u001b[0m\n\u001b[0;32m   3802\u001b[0m     \u001b[38;5;28;01mreturn\u001b[39;00m \u001b[38;5;28mself\u001b[39m\u001b[38;5;241m.\u001b[39m_engine\u001b[38;5;241m.\u001b[39mget_loc(casted_key)\n\u001b[0;32m   3803\u001b[0m \u001b[38;5;28;01mexcept\u001b[39;00m \u001b[38;5;167;01mKeyError\u001b[39;00m \u001b[38;5;28;01mas\u001b[39;00m err:\n\u001b[1;32m-> 3804\u001b[0m     \u001b[38;5;28;01mraise\u001b[39;00m \u001b[38;5;167;01mKeyError\u001b[39;00m(key) \u001b[38;5;28;01mfrom\u001b[39;00m \u001b[38;5;21;01merr\u001b[39;00m\n\u001b[0;32m   3805\u001b[0m \u001b[38;5;28;01mexcept\u001b[39;00m \u001b[38;5;167;01mTypeError\u001b[39;00m:\n\u001b[0;32m   3806\u001b[0m     \u001b[38;5;66;03m# If we have a listlike key, _check_indexing_error will raise\u001b[39;00m\n\u001b[0;32m   3807\u001b[0m     \u001b[38;5;66;03m#  InvalidIndexError. Otherwise we fall through and re-raise\u001b[39;00m\n\u001b[0;32m   3808\u001b[0m     \u001b[38;5;66;03m#  the TypeError.\u001b[39;00m\n\u001b[0;32m   3809\u001b[0m     \u001b[38;5;28mself\u001b[39m\u001b[38;5;241m.\u001b[39m_check_indexing_error(key)\n",
      "\u001b[1;31mKeyError\u001b[0m: 'catchment'"
     ]
    }
   ],
   "source": [
    "plot = df_route_type.reset_index().plot(kind='bar', x='route_type', y='catchment', color='#559bb4', rot=0, figsize=[10, 5])\n",
    "plot.set_title('Couverture population par mode')\n",
    "plot.set_ylabel('')\n",
    "plot.set_xlabel(\"route_type\")\n",
    "plot.legend([])"
   ]
  },
  {
   "cell_type": "markdown",
   "id": "4924d2a1",
   "metadata": {},
   "source": [
    "# geomatic outputs"
   ]
  },
  {
   "cell_type": "code",
   "execution_count": null,
   "id": "10166c45",
   "metadata": {},
   "outputs": [],
   "source": [
    "#using get catchment. get the catchment radius of each node (get larger one if used by many mode.)\n",
    "link = links.groupby('route_type')[['a','b','route_type']].agg({'a':set,'b':set,'route_type':'first'})\n",
    "link['node'] = link.apply(lambda row: row['a'].union(row['b']), axis=1)\n",
    "link = link.drop(columns=['a','b'])\n",
    "# add catchment radius for the route_type\n",
    "link['catchment_radius'] = link['route_type'].apply(lambda x: catchment_radius.get(x,default_catchment_radius))\n",
    "link = link.explode('node').reset_index(drop=True)\n",
    "link = link.sort_values('catchment_radius',ascending=False).drop_duplicates('node',keep='first')\n",
    "link = node_dist.merge(link, left_on='node_index', right_on='node')\n",
    "link = link[link['distances'] <= link['catchment_radius']]\n",
    "\n",
    "temp_dict = link.groupby('node_index')['population'].sum().to_dict()\n",
    "nodes['catchment'] = nodes.index.map(temp_dict.get)\n",
    "\n",
    "temp_dict = link.groupby('node_index')['catchment_radius'].agg('first').to_dict() \n",
    "nodes['catchment_radius'] = nodes.index.map(temp_dict.get)\n"
   ]
  },
  {
   "cell_type": "code",
   "execution_count": null,
   "id": "db8164da",
   "metadata": {},
   "outputs": [],
   "source": [
    "nodes.to_file(output_folder+'nodes.geojson',driver='GeoJSON',engine=io_engine)"
   ]
  },
  {
   "cell_type": "markdown",
   "id": "11dfe2fb",
   "metadata": {},
   "source": [
    "# test"
   ]
  },
  {
   "cell_type": "code",
   "execution_count": null,
   "id": "63408b60",
   "metadata": {},
   "outputs": [],
   "source": []
  }
 ],
 "metadata": {
  "kernelspec": {
   "display_name": "quetzal_env",
   "language": "python",
   "name": "python3"
  },
  "language_info": {
   "codemirror_mode": {
    "name": "ipython",
    "version": 3
   },
   "file_extension": ".py",
   "mimetype": "text/x-python",
   "name": "python",
   "nbconvert_exporter": "python",
   "pygments_lexer": "ipython3",
   "version": "3.8.18"
  }
 },
 "nbformat": 4,
 "nbformat_minor": 5
}
