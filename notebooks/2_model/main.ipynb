{
 "cells": [
  {
   "cell_type": "code",
   "execution_count": 56,
   "id": "71ccff01",
   "metadata": {},
   "outputs": [
    {
     "name": "stdout",
     "output_type": "stream",
     "text": [
      "{'training_folder': '../../', 'scenario': 'montreal_periods', 'params': {'general': {'step_size': 0.01, 'use_road_network': True, 'duration': 1440}, 'catchment_radius': {'bus': '500', 'subway': '800', 'rail': '1000', 'bus#am': 1}}, 'period': 'am'}\n"
     ]
    }
   ],
   "source": [
    "import sys\n",
    "import json\n",
    "\n",
    "general = {'step_size': 0.01, 'use_road_network': True, 'duration': 24 * 60}\n",
    "catchment_radius = {'bus': '500', 'subway': '800', 'rail': '1000', 'bus#am': 1}\n",
    "params = {'general': general, 'catchment_radius': catchment_radius}\n",
    "\n",
    "default = {'training_folder': '../../', 'scenario': 'montreal_periods', 'params': params, 'period': 'am'}\n",
    "manual, argv = (True, default) if 'ipykernel' in sys.argv[0] else (False, dict(default, **json.loads(sys.argv[1])))\n",
    "print(argv)\n"
   ]
  },
  {
   "cell_type": "code",
   "execution_count": 57,
   "id": "99b5db61",
   "metadata": {},
   "outputs": [],
   "source": [
    "import os\n",
    "import geopandas as gpd\n",
    "import pandas as pd\n",
    "\n",
    "import numpy as np\n",
    "from shapely.geometry import Point, LineString\n",
    "\n",
    "sys.path.insert(0, r'../../../quetzal')  # Add path to quetzal\n",
    "\n",
    "from quetzal.io.quenedi import read_parameters, restrict_df_to_variant\n",
    "\n",
    "on_lambda = bool(os.environ.get('AWS_EXECUTION_ENV'))\n"
   ]
  },
  {
   "cell_type": "code",
   "execution_count": 58,
   "id": "772a187c",
   "metadata": {},
   "outputs": [],
   "source": [
    "sys.path.insert(0, r'../../')  # Add path to quetzal\n",
    "from utils import get_epsg, population_to_mesh, get_acf_distances, get_routing_distances"
   ]
  },
  {
   "cell_type": "markdown",
   "id": "65c740a4",
   "metadata": {},
   "source": [
    "# Folders stucture and params"
   ]
  },
  {
   "cell_type": "code",
   "execution_count": 59,
   "id": "ad46bc58",
   "metadata": {},
   "outputs": [],
   "source": [
    "period = argv.get('period', '')"
   ]
  },
  {
   "cell_type": "markdown",
   "id": "cbbbcb7a",
   "metadata": {},
   "source": [
    "everything is on S3 (nothing on ECR) so no direct input folder. just scenarios/{scen}/inputs/"
   ]
  },
  {
   "cell_type": "code",
   "execution_count": 60,
   "id": "4e405b87",
   "metadata": {},
   "outputs": [
    {
     "name": "stdout",
     "output_type": "stream",
     "text": [
      "input folder:  ../../scenarios/montreal_periods/inputs/\n",
      "output folder:  ../../scenarios/montreal_periods/outputs/am\n"
     ]
    }
   ],
   "source": [
    "scenario = argv['scenario']\n",
    "training_folder = argv['training_folder']\n",
    "\n",
    "# if local. add the path to the scenario scenarios/<scenario>/\n",
    "local_scen_path = '' if on_lambda else os.path.join('scenarios/', scenario)\n",
    "\n",
    "input_folder = os.path.join(training_folder, 'inputs/')\n",
    "scenario_folder = os.path.join(training_folder, local_scen_path, 'inputs/')\n",
    "model_folder = os.path.join(training_folder, local_scen_path, 'model/')\n",
    "output_folder = os.path.join(training_folder, local_scen_path, 'outputs/', period)\n",
    "\n",
    "if not os.path.exists(output_folder):\n",
    "\tos.makedirs(output_folder)\n",
    "\n",
    "print('input folder: ', scenario_folder)\n",
    "print('output folder: ', output_folder)"
   ]
  },
  {
   "cell_type": "code",
   "execution_count": 61,
   "id": "17b9a2df",
   "metadata": {},
   "outputs": [],
   "source": [
    "params = read_parameters(argv['params'], period=period)"
   ]
  },
  {
   "cell_type": "code",
   "execution_count": 62,
   "id": "aa37cb13",
   "metadata": {},
   "outputs": [],
   "source": [
    "catchment_radius = params.get('catchment_radius', {})\n",
    "catchment_radius = {k: float(v) for k, v in catchment_radius.items()}\n",
    "default_catchment_radius = 500\n"
   ]
  },
  {
   "cell_type": "code",
   "execution_count": 63,
   "id": "81b11c40",
   "metadata": {},
   "outputs": [],
   "source": [
    "# step est en degrés (default: 0.005 ~500m)\n",
    "\n",
    "step_size_min = 0.0005  # (0.0005 ~50m)\n",
    "step_size = max(float(params['general'].get('step_size')), step_size_min)\n",
    "use_road_network = params['general'].get('use_road_network')\n"
   ]
  },
  {
   "cell_type": "markdown",
   "id": "cdd032bd",
   "metadata": {},
   "source": [
    "# inputs"
   ]
  },
  {
   "cell_type": "code",
   "execution_count": 64,
   "id": "1a674100",
   "metadata": {},
   "outputs": [],
   "source": [
    "links = gpd.read_file(os.path.join(scenario_folder, 'pt', 'links.geojson'))\n",
    "nodes = gpd.read_file(os.path.join(scenario_folder, 'pt', 'nodes.geojson'))\n",
    "links = links.set_index('index')\n",
    "nodes = nodes.set_index('index')"
   ]
  },
  {
   "cell_type": "code",
   "execution_count": 65,
   "id": "8c5c4543",
   "metadata": {},
   "outputs": [
    {
     "name": "stdout",
     "output_type": "stream",
     "text": [
      "population? True\n"
     ]
    }
   ],
   "source": [
    "population_file = os.path.join(scenario_folder, 'population.geojson')\n",
    "population_file_provided = os.path.isfile(population_file)\n",
    "if population_file_provided:\n",
    "\tpopulation = gpd.read_file(population_file)\n",
    "\tif 'index' in population.columns:\n",
    "\t\tpopulation = population.set_index('index')\n",
    "\telse:\n",
    "\t\tpopulation.index.name = 'index'\n",
    "\tassert 'density' in population.columns, 'need density column. in km2'\n",
    "\tassert population.crs == 4326, 'population.geojson CRS must be EPSG:4326'\n",
    "print('population?', population_file_provided)"
   ]
  },
  {
   "cell_type": "code",
   "execution_count": 66,
   "id": "ac965c16",
   "metadata": {},
   "outputs": [
    {
     "name": "stdout",
     "output_type": "stream",
     "text": [
      "road network provided? False\n",
      "use roads? False\n"
     ]
    }
   ],
   "source": [
    "rnodes_file = os.path.join(scenario_folder, 'road', 'road_nodes.geojson')\n",
    "rnodes_file_provided = os.path.isfile(rnodes_file)\n",
    "use_road_network = rnodes_file_provided & use_road_network\n",
    "if use_road_network:\n",
    "\trnodes = gpd.read_file(os.path.join(scenario_folder, 'road', 'road_nodes.geojson'))\n",
    "\trnodes = rnodes.set_index('index')\n",
    "\trlinks = gpd.read_file(os.path.join(scenario_folder, 'road', 'road_links.geojson'))\n",
    "\trlinks = rlinks.set_index('index')\n",
    "print('road network provided?', rnodes_file_provided)\n",
    "print('use roads?', use_road_network)"
   ]
  },
  {
   "cell_type": "code",
   "execution_count": 67,
   "id": "6071cbdf",
   "metadata": {},
   "outputs": [
    {
     "name": "stdout",
     "output_type": "stream",
     "text": [
      "od? True\n"
     ]
    }
   ],
   "source": [
    "od_file = os.path.join(scenario_folder, 'od', 'od.geojson')\n",
    "od_file_provided = os.path.isfile(od_file)\n",
    "if od_file_provided:\n",
    "\tod_test = gpd.read_file(od_file)\n",
    "\tif 'name' not in od_test.columns:\n",
    "\t\tod_test['name'] = od_test['index']\n",
    "\tod_test['name'] = od_test['name'].fillna(od_test['index'].astype(str))\n",
    "print('od?', od_file_provided)"
   ]
  },
  {
   "cell_type": "markdown",
   "id": "08f6a33b",
   "metadata": {},
   "source": [
    "# population preparation"
   ]
  },
  {
   "cell_type": "code",
   "execution_count": null,
   "id": "20859122",
   "metadata": {},
   "outputs": [],
   "source": []
  },
  {
   "cell_type": "code",
   "execution_count": 68,
   "id": "df034d31",
   "metadata": {},
   "outputs": [
    {
     "data": {
      "text/plain": [
       "32618"
      ]
     },
     "execution_count": 68,
     "metadata": {},
     "output_type": "execute_result"
    }
   ],
   "source": [
    "# find meters CRS\n",
    "centroid = [*LineString(nodes.centroid.values).centroid.coords][0]\n",
    "crs = get_epsg(centroid[1], centroid[0])\n",
    "crs"
   ]
  },
  {
   "cell_type": "code",
   "execution_count": 69,
   "id": "8178d208",
   "metadata": {},
   "outputs": [],
   "source": [
    "if population_file_provided:\n",
    "\tpopulation['area (km2)'] = population.to_crs(crs).area * 1e-6\n",
    "\tpopulation['area (km2)'].sum()"
   ]
  },
  {
   "cell_type": "code",
   "execution_count": 70,
   "id": "5f39e8d3",
   "metadata": {},
   "outputs": [
    {
     "name": "stdout",
     "output_type": "stream",
     "text": [
      "keep and rename:  {}\n",
      "drops:  []\n"
     ]
    }
   ],
   "source": [
    "if population_file_provided:\n",
    "\tpopulation = restrict_df_to_variant(population, period)"
   ]
  },
  {
   "cell_type": "code",
   "execution_count": 71,
   "id": "283a2929",
   "metadata": {},
   "outputs": [
    {
     "name": "stdout",
     "output_type": "stream",
     "text": [
      "population 4884999.000000021\n"
     ]
    }
   ],
   "source": [
    "if population_file_provided:\n",
    "\tpopulation['population'] = population['density'] * population['area (km2)']\n",
    "\tprint('population', population['population'].sum())"
   ]
  },
  {
   "cell_type": "markdown",
   "id": "220bbb67",
   "metadata": {},
   "source": [
    "# population mesh"
   ]
  },
  {
   "cell_type": "code",
   "execution_count": 72,
   "id": "e6f6fe3d",
   "metadata": {},
   "outputs": [
    {
     "name": "stdout",
     "output_type": "stream",
     "text": [
      "1863 nodes in multiple zones. will be match to a single zone.\n",
      "568 unfounded zones\n",
      "Unfound zones centroid will be added to mesh\n"
     ]
    }
   ],
   "source": [
    "if not population_file_provided:\n",
    "\tmesh = gpd.GeoDataFrame(\n",
    "\t\tindex=[0], data={'zone': 'centroid', 'population': 0}, geometry=[Point(centroid[0], centroid[1])]\n",
    "\t)\n",
    "\tmesh.index.name = 'index'\n",
    "\tmesh.crs = 4326\n",
    "\tif use_road_network:\n",
    "\t\tmesh['node_index'] = rnodes.index[0]\n",
    "elif use_road_network:\n",
    "\t# use rnodes as mesh.\n",
    "\tprint('using road_nodes')\n",
    "\tmesh = population_to_mesh(population, mesh=rnodes, step=step_size, col='population', fill_missing='nearest')\n",
    "else:\n",
    "\t# create a mesh\n",
    "\t# 0.01 = 1km 0.005 = 500m\n",
    "\tmesh = population_to_mesh(population, step=step_size, col='population', fill_missing='centroid')\n"
   ]
  },
  {
   "cell_type": "code",
   "execution_count": 73,
   "id": "6a276040",
   "metadata": {},
   "outputs": [],
   "source": [
    "mesh.to_file(os.path.join(output_folder, 'population_mesh.geojson'), driver='GeoJSON')"
   ]
  },
  {
   "cell_type": "markdown",
   "id": "d4afecfb",
   "metadata": {},
   "source": [
    "# restrict TC to period"
   ]
  },
  {
   "cell_type": "code",
   "execution_count": 74,
   "id": "bfddffb5",
   "metadata": {},
   "outputs": [
    {
     "name": "stdout",
     "output_type": "stream",
     "text": [
      "keep and rename:  {'time#am': 'time', 'headway#am': 'headway', 'speed#am': 'speed'}\n",
      "drops:  ['time#pm', 'headway#pm', 'speed#pm']\n"
     ]
    }
   ],
   "source": [
    "links = restrict_df_to_variant(links, period)\n",
    "# only keep links with headway not 0\n",
    "links = links[links['headway'] != 0]"
   ]
  },
  {
   "cell_type": "markdown",
   "id": "dfbafa49",
   "metadata": {},
   "source": [
    "# catchment"
   ]
  },
  {
   "cell_type": "code",
   "execution_count": 75,
   "id": "aae1e149",
   "metadata": {},
   "outputs": [],
   "source": [
    "# find TC nodes to mesh distance"
   ]
  },
  {
   "cell_type": "code",
   "execution_count": 76,
   "id": "ac854281",
   "metadata": {},
   "outputs": [],
   "source": [
    "max_dist = max(max(catchment_radius.values()), default_catchment_radius)"
   ]
  },
  {
   "cell_type": "code",
   "execution_count": 77,
   "id": "ffc2ca97",
   "metadata": {
    "scrolled": true
   },
   "outputs": [],
   "source": [
    "if use_road_network:\n",
    "\tprint('using road_nodes')\n",
    "\tnode_dist = get_routing_distances(nodes, rnodes, rlinks, mesh, 'length', max_dist)\n",
    "else:\n",
    "\tnode_dist = get_acf_distances(nodes, mesh, crs, max_dist)"
   ]
  },
  {
   "cell_type": "markdown",
   "id": "3480e8ac",
   "metadata": {},
   "source": [
    "# metrics"
   ]
  },
  {
   "cell_type": "code",
   "execution_count": 78,
   "id": "6ed69263",
   "metadata": {},
   "outputs": [
    {
     "name": "stdout",
     "output_type": "stream",
     "text": [
      "num route_id: 190\n",
      "num route_type: 2\n"
     ]
    }
   ],
   "source": [
    "print('num route_id:', len(links['route_id'].unique()))\n",
    "print('num route_type:', len(links['route_type'].unique()))"
   ]
  },
  {
   "cell_type": "code",
   "execution_count": 79,
   "id": "dc317930",
   "metadata": {},
   "outputs": [],
   "source": [
    "# init results dfs\n",
    "df_route_id = pd.DataFrame(index=links['route_id'].unique())\n",
    "df_route_id.index.name = 'route_id'\n",
    "\n",
    "df_route_type = pd.DataFrame(index=links['route_type'].unique())\n",
    "df_route_type.index.name = 'route_type'"
   ]
  },
  {
   "cell_type": "code",
   "execution_count": 80,
   "id": "45bc4d79",
   "metadata": {},
   "outputs": [],
   "source": [
    "def get_catchment(col='route_id'):\n",
    "\t# get all nodes with col filter\n",
    "\tlink = links.groupby(col)[['a', 'b', 'route_type']].agg({'a': set, 'b': set, 'route_type': 'first'})\n",
    "\tlink['node'] = link.apply(lambda row: row['a'].union(row['b']), axis=1)\n",
    "\tlink = link.drop(columns=['a', 'b'])\n",
    "\t# add catchment radius for the route_type\n",
    "\tlink['catchment_radius'] = link['route_type'].apply(lambda x: catchment_radius.get(x, default_catchment_radius))\n",
    "\n",
    "\tcol_exist = col == 'route_type'  # cannot explode if index == route_type (a column)\n",
    "\tlink = link.explode('node').reset_index(drop=col_exist)\n",
    "\tlink = node_dist.merge(link, left_on='node_index', right_on='node')\n",
    "\t# filter by distance\n",
    "\tlink = link[link['distances'] <= link['catchment_radius']]\n",
    "\t# drop duplicated mesh nodes (we count only one time)\n",
    "\tlink = link.drop_duplicates(subset=['mesh_index', col], keep='first')\n",
    "\n",
    "\treturn link.groupby(col)['population'].sum().to_dict()"
   ]
  },
  {
   "cell_type": "code",
   "execution_count": 81,
   "id": "e18e10d7",
   "metadata": {},
   "outputs": [
    {
     "name": "stdout",
     "output_type": "stream",
     "text": [
      "807178.000000009\n"
     ]
    }
   ],
   "source": [
    "res = get_catchment('route_id')\n",
    "\n",
    "df_route_id['catchment'] = res\n",
    "df_route_id['catchment'] = df_route_id['catchment'].fillna(0)\n",
    "print(sum([item for key, item in res.items()]))\n"
   ]
  },
  {
   "cell_type": "code",
   "execution_count": null,
   "id": "19d86c4c",
   "metadata": {},
   "outputs": [],
   "source": []
  },
  {
   "cell_type": "code",
   "execution_count": 82,
   "id": "06d98402",
   "metadata": {},
   "outputs": [
    {
     "name": "stdout",
     "output_type": "stream",
     "text": [
      "663573.000000003\n"
     ]
    }
   ],
   "source": [
    "res = get_catchment('route_type')\n",
    "\n",
    "df_route_type['catchment'] = res\n",
    "df_route_type['catchment'] = df_route_type['catchment'].fillna(0)\n",
    "\n",
    "print(sum([item for key, item in res.items()]))"
   ]
  },
  {
   "cell_type": "markdown",
   "id": "de5d12fd",
   "metadata": {},
   "source": [
    "# frequency"
   ]
  },
  {
   "cell_type": "code",
   "execution_count": 83,
   "id": "3f251696",
   "metadata": {},
   "outputs": [],
   "source": [
    "links['frequency'] = 1 / links['headway']"
   ]
  },
  {
   "cell_type": "code",
   "execution_count": 84,
   "id": "3829349f",
   "metadata": {},
   "outputs": [
    {
     "name": "stdout",
     "output_type": "stream",
     "text": [
      "541.1115105236645\n"
     ]
    }
   ],
   "source": [
    "res = (links.groupby('route_id')['frequency'].agg('mean') * 3600).to_dict()\n",
    "\n",
    "df_route_id['frequency (veh/hours)'] = res\n",
    "print(np.nansum([item for key, item in res.items()]))"
   ]
  },
  {
   "cell_type": "code",
   "execution_count": 85,
   "id": "e3035415",
   "metadata": {},
   "outputs": [
    {
     "name": "stdout",
     "output_type": "stream",
     "text": [
      "14.843999246460045\n"
     ]
    }
   ],
   "source": [
    "res = (links.groupby('route_type')['frequency'].agg('mean') * 3600).to_dict()\n",
    "\n",
    "df_route_type['frequency (veh/hours)'] = res\n",
    "print(sum([item for key, item in res.items()]))"
   ]
  },
  {
   "cell_type": "code",
   "execution_count": 86,
   "id": "b1017844",
   "metadata": {},
   "outputs": [
    {
     "name": "stdout",
     "output_type": "stream",
     "text": [
      "471.29212917397285\n"
     ]
    }
   ],
   "source": [
    "link = links.groupby(['route_id', 'trip_id'])[['frequency']].agg('mean') * 3600\n",
    "res = link.reset_index().set_index('route_id')['frequency'].to_dict()\n",
    "print(np.nansum([item for key, item in res.items()]))"
   ]
  },
  {
   "cell_type": "code",
   "execution_count": null,
   "id": "ba8b387d",
   "metadata": {
    "scrolled": false
   },
   "outputs": [],
   "source": []
  },
  {
   "cell_type": "code",
   "execution_count": 87,
   "id": "99bf3c5d",
   "metadata": {},
   "outputs": [
    {
     "name": "stdout",
     "output_type": "stream",
     "text": [
      "13.403578247648682\n"
     ]
    }
   ],
   "source": [
    "link = links.groupby(['route_type', 'trip_id'])[['frequency']].agg('mean') * 3600\n",
    "res = link.reset_index().set_index('route_type')['frequency'].to_dict()\n",
    "print(np.nansum([item for key, item in res.items()]))"
   ]
  },
  {
   "cell_type": "markdown",
   "id": "06a9b56e",
   "metadata": {},
   "source": [
    "# operational Fleet"
   ]
  },
  {
   "cell_type": "code",
   "execution_count": 88,
   "id": "d73f2028",
   "metadata": {},
   "outputs": [],
   "source": [
    "def get_fleet(col='route_id'):\n",
    "\tlink = links.groupby([col, 'trip_id'])[['time', 'frequency']].agg({'time': 'mean', 'frequency': 'mean'})\n",
    "\tlink['fleet'] = np.ceil(link['frequency'] * link['time'])\n",
    "\treturn link.reset_index().groupby(col)['fleet'].agg('sum').to_dict()"
   ]
  },
  {
   "cell_type": "code",
   "execution_count": 89,
   "id": "88e247d3",
   "metadata": {},
   "outputs": [
    {
     "name": "stdout",
     "output_type": "stream",
     "text": [
      "407.0\n"
     ]
    }
   ],
   "source": [
    "res = get_fleet('route_id')\n",
    "\n",
    "df_route_id['fleet'] = res\n",
    "print(sum([item for key, item in res.items()]))"
   ]
  },
  {
   "cell_type": "code",
   "execution_count": 90,
   "id": "0dc17813",
   "metadata": {},
   "outputs": [
    {
     "name": "stdout",
     "output_type": "stream",
     "text": [
      "407.0\n"
     ]
    }
   ],
   "source": [
    "res = get_fleet('route_type')\n",
    "\n",
    "df_route_type['fleet'] = res\n",
    "print(sum([item for key, item in res.items()]))"
   ]
  },
  {
   "cell_type": "code",
   "execution_count": null,
   "id": "df7743de",
   "metadata": {},
   "outputs": [],
   "source": []
  },
  {
   "cell_type": "markdown",
   "id": "b0a16eb3",
   "metadata": {},
   "source": [
    "# Line Length"
   ]
  },
  {
   "cell_type": "code",
   "execution_count": 91,
   "id": "5e08e66e",
   "metadata": {},
   "outputs": [],
   "source": [
    "def get_length(col='route_id', length_col='length'):\n",
    "\tlink = links.groupby([col, 'trip_id'])[[length_col]].agg('sum')\n",
    "\treturn link.reset_index().groupby(col)[length_col].agg('sum').to_dict()"
   ]
  },
  {
   "cell_type": "code",
   "execution_count": 92,
   "id": "bfa2e75e",
   "metadata": {},
   "outputs": [],
   "source": [
    "# preparation. if length is NaN, or if shape dist travel exist.\n",
    "\n",
    "length_col = None\n",
    "if 'length' in links.columns and length_col == None:\n",
    "\tif len(links[links['length'].isnull()]) == 0:\n",
    "\t\tlength_col = 'length'\n",
    "\n",
    "if 'shape_dist_traveled' in links.columns and length_col == None:\n",
    "\tif len(links[links['shape_dist_traveled'].isnull()]) == 0:\n",
    "\t\tlength_col = 'shape_dist_traveled'\n",
    "\n",
    "if length_col == None:\n",
    "\tprint('create length from geometry')\n",
    "\tlinks['length'] = links.to_crs(crs).length\n",
    "\tlength_col = 'length'\n"
   ]
  },
  {
   "cell_type": "code",
   "execution_count": null,
   "id": "fa1f7686",
   "metadata": {},
   "outputs": [],
   "source": []
  },
  {
   "cell_type": "code",
   "execution_count": 93,
   "id": "31db0758",
   "metadata": {},
   "outputs": [
    {
     "name": "stdout",
     "output_type": "stream",
     "text": [
      "4400040.830544667\n"
     ]
    }
   ],
   "source": [
    "res = get_length('route_id', length_col)\n",
    "\n",
    "df_route_id['length (m)'] = res\n",
    "print(sum([item for key, item in res.items()]))"
   ]
  },
  {
   "cell_type": "code",
   "execution_count": 94,
   "id": "39826011",
   "metadata": {},
   "outputs": [
    {
     "name": "stdout",
     "output_type": "stream",
     "text": [
      "4400040.830544667\n"
     ]
    }
   ],
   "source": [
    "res = get_length('route_type', length_col)\n",
    "\n",
    "df_route_type['length (m)'] = res\n",
    "print(sum([item for key, item in res.items()]))"
   ]
  },
  {
   "cell_type": "code",
   "execution_count": null,
   "id": "b7f4f68b",
   "metadata": {},
   "outputs": [],
   "source": []
  },
  {
   "cell_type": "markdown",
   "id": "638013ee",
   "metadata": {},
   "source": [
    "# Number of station per line"
   ]
  },
  {
   "cell_type": "code",
   "execution_count": 95,
   "id": "6bf1bd3e",
   "metadata": {},
   "outputs": [],
   "source": [
    "# o-->o-->o-->o and  o<--o<--o<--o\n",
    "# est-ce que j'ai 8 ou 4 stations ?\n",
    "# j'ai 4 stations par trip et 4 stations par route (si c'est les memes).\n",
    "# comment savoir si cest les memes. clustering?\n",
    "# pour linstant. on prend tous les noeds unique par route_id ou route_type (col='route_id', route_id)\n",
    "def get_num_station(col='route_id'):\n",
    "\tlink = links.groupby(col)[['a', 'b']].agg({'a': set, 'b': set})\n",
    "\tlink['node_len'] = link.apply(lambda row: len(row['a'].union(row['b'])), axis=1)\n",
    "\treturn link['node_len'].to_dict()\n"
   ]
  },
  {
   "cell_type": "code",
   "execution_count": 96,
   "id": "6f27ad9f",
   "metadata": {},
   "outputs": [
    {
     "name": "stdout",
     "output_type": "stream",
     "text": [
      "13122\n"
     ]
    }
   ],
   "source": [
    "res = get_num_station('route_id')\n",
    "\n",
    "df_route_id['num station'] = res\n",
    "print(sum([item for key, item in res.items()]))"
   ]
  },
  {
   "cell_type": "code",
   "execution_count": 97,
   "id": "ea89801d",
   "metadata": {},
   "outputs": [
    {
     "name": "stdout",
     "output_type": "stream",
     "text": [
      "13122\n"
     ]
    }
   ],
   "source": [
    "res = get_num_station('route_type')\n",
    "\n",
    "df_route_type['num station'] = res\n",
    "print(sum([item for key, item in res.items()]))"
   ]
  },
  {
   "cell_type": "markdown",
   "id": "1f98a64c",
   "metadata": {},
   "source": [
    "# Vehicle revenue KM "
   ]
  },
  {
   "cell_type": "code",
   "execution_count": 98,
   "id": "c70257d8",
   "metadata": {},
   "outputs": [],
   "source": [
    "def get_veh_kmh(col='route_id'):\n",
    "\tlink = links.groupby([col, 'trip_id'])[[length_col, 'frequency']].agg({length_col: 'sum', 'frequency': 'mean'})\n",
    "\tlink['veh_km/h'] = np.ceil(link['frequency'] * link[length_col]) * 3600 / 1000  # to km/H\n",
    "\treturn link.reset_index().groupby(col)['veh_km/h'].agg('sum').to_dict()"
   ]
  },
  {
   "cell_type": "code",
   "execution_count": 99,
   "id": "6b53c067",
   "metadata": {},
   "outputs": [
    {
     "name": "stdout",
     "output_type": "stream",
     "text": [
      "13734.0\n"
     ]
    }
   ],
   "source": [
    "res = get_veh_kmh('route_id')\n",
    "\n",
    "df_route_id['veh.km/h'] = res\n",
    "print(sum([item for key, item in res.items()]))"
   ]
  },
  {
   "cell_type": "code",
   "execution_count": 100,
   "id": "3bc451d7",
   "metadata": {},
   "outputs": [
    {
     "name": "stdout",
     "output_type": "stream",
     "text": [
      "13734.0\n"
     ]
    }
   ],
   "source": [
    "res = get_veh_kmh('route_type')\n",
    "\n",
    "df_route_type['veh.km/h'] = res\n",
    "print(sum([item for key, item in res.items()]))"
   ]
  },
  {
   "cell_type": "markdown",
   "id": "ab77743f",
   "metadata": {},
   "source": [
    "# Round trip time"
   ]
  },
  {
   "cell_type": "code",
   "execution_count": 101,
   "id": "fd818c88",
   "metadata": {},
   "outputs": [],
   "source": [
    "def get_round_trip_time(col='route_id'):\n",
    "\tlink = links.groupby([col, 'trip_id'])[['time']].agg('sum')\n",
    "\treturn link.reset_index().groupby(col)['time'].agg('sum').to_dict()"
   ]
  },
  {
   "cell_type": "code",
   "execution_count": 102,
   "id": "869ea67e",
   "metadata": {},
   "outputs": [
    {
     "name": "stdout",
     "output_type": "stream",
     "text": [
      "839581.0\n"
     ]
    }
   ],
   "source": [
    "res = get_round_trip_time('route_id')\n",
    "\n",
    "df_route_id['round trip time (s)'] = res\n",
    "print(sum([item for key, item in res.items()]))"
   ]
  },
  {
   "cell_type": "code",
   "execution_count": null,
   "id": "5ac6bf88",
   "metadata": {},
   "outputs": [],
   "source": []
  },
  {
   "cell_type": "markdown",
   "id": "6a5213bf",
   "metadata": {},
   "source": [
    "# export dfs to csv"
   ]
  },
  {
   "cell_type": "code",
   "execution_count": 103,
   "id": "4a7d0d1a",
   "metadata": {},
   "outputs": [],
   "source": [
    "# round numbers\n",
    "for col in ['catchment', 'frequency (veh/hours)', 'length (m)', 'veh.km/h', 'round trip time (s)']:\n",
    "\tdf_route_id[col] = df_route_id[col].apply(lambda x: np.round(x, 2))\n",
    "\tdf_route_id[col] = df_route_id[col].apply(lambda x: np.round(x, 2))\n"
   ]
  },
  {
   "cell_type": "code",
   "execution_count": 104,
   "id": "3105f92e",
   "metadata": {},
   "outputs": [],
   "source": [
    "# df_route_id = df_route_id.fillna('null')\n",
    "# df_route_type = df_route_type.fillna('null')"
   ]
  },
  {
   "cell_type": "code",
   "execution_count": 105,
   "id": "984694c2",
   "metadata": {},
   "outputs": [
    {
     "data": {
      "text/html": [
       "<div>\n",
       "<style scoped>\n",
       "    .dataframe tbody tr th:only-of-type {\n",
       "        vertical-align: middle;\n",
       "    }\n",
       "\n",
       "    .dataframe tbody tr th {\n",
       "        vertical-align: top;\n",
       "    }\n",
       "\n",
       "    .dataframe thead th {\n",
       "        text-align: right;\n",
       "    }\n",
       "</style>\n",
       "<table border=\"1\" class=\"dataframe\">\n",
       "  <thead>\n",
       "    <tr style=\"text-align: right;\">\n",
       "      <th></th>\n",
       "      <th>catchment</th>\n",
       "      <th>frequency (veh/hours)</th>\n",
       "      <th>fleet</th>\n",
       "      <th>length (m)</th>\n",
       "      <th>num station</th>\n",
       "      <th>veh.km/h</th>\n",
       "      <th>round trip time (s)</th>\n",
       "    </tr>\n",
       "    <tr>\n",
       "      <th>route_id</th>\n",
       "      <th></th>\n",
       "      <th></th>\n",
       "      <th></th>\n",
       "      <th></th>\n",
       "      <th></th>\n",
       "      <th></th>\n",
       "      <th></th>\n",
       "    </tr>\n",
       "  </thead>\n",
       "  <tbody>\n",
       "    <tr>\n",
       "      <th>STM_100</th>\n",
       "      <td>0.0</td>\n",
       "      <td>4.52</td>\n",
       "      <td>2.0</td>\n",
       "      <td>28756.63</td>\n",
       "      <td>80</td>\n",
       "      <td>140.4</td>\n",
       "      <td>4620.0</td>\n",
       "    </tr>\n",
       "    <tr>\n",
       "      <th>STM_101</th>\n",
       "      <td>0.0</td>\n",
       "      <td>2.17</td>\n",
       "      <td>2.0</td>\n",
       "      <td>31147.03</td>\n",
       "      <td>87</td>\n",
       "      <td>72.0</td>\n",
       "      <td>6447.0</td>\n",
       "    </tr>\n",
       "    <tr>\n",
       "      <th>STM_102</th>\n",
       "      <td>0.0</td>\n",
       "      <td>1.85</td>\n",
       "      <td>2.0</td>\n",
       "      <td>12013.75</td>\n",
       "      <td>51</td>\n",
       "      <td>25.2</td>\n",
       "      <td>2400.0</td>\n",
       "    </tr>\n",
       "    <tr>\n",
       "      <th>STM_103</th>\n",
       "      <td>0.0</td>\n",
       "      <td>4.19</td>\n",
       "      <td>2.0</td>\n",
       "      <td>10142.89</td>\n",
       "      <td>47</td>\n",
       "      <td>46.8</td>\n",
       "      <td>2514.0</td>\n",
       "    </tr>\n",
       "    <tr>\n",
       "      <th>STM_104</th>\n",
       "      <td>0.0</td>\n",
       "      <td>2.96</td>\n",
       "      <td>2.0</td>\n",
       "      <td>19371.55</td>\n",
       "      <td>80</td>\n",
       "      <td>64.8</td>\n",
       "      <td>4569.0</td>\n",
       "    </tr>\n",
       "    <tr>\n",
       "      <th>...</th>\n",
       "      <td>...</td>\n",
       "      <td>...</td>\n",
       "      <td>...</td>\n",
       "      <td>...</td>\n",
       "      <td>...</td>\n",
       "      <td>...</td>\n",
       "      <td>...</td>\n",
       "    </tr>\n",
       "    <tr>\n",
       "      <th>STM_99</th>\n",
       "      <td>0.0</td>\n",
       "      <td>2.01</td>\n",
       "      <td>2.0</td>\n",
       "      <td>9661.49</td>\n",
       "      <td>51</td>\n",
       "      <td>21.6</td>\n",
       "      <td>2400.0</td>\n",
       "    </tr>\n",
       "    <tr>\n",
       "      <th>STM_1</th>\n",
       "      <td>264471.5</td>\n",
       "      <td>14.91</td>\n",
       "      <td>2.0</td>\n",
       "      <td>38570.75</td>\n",
       "      <td>53</td>\n",
       "      <td>579.6</td>\n",
       "      <td>4260.0</td>\n",
       "    </tr>\n",
       "    <tr>\n",
       "      <th>STM_2</th>\n",
       "      <td>360835.0</td>\n",
       "      <td>10.78</td>\n",
       "      <td>3.0</td>\n",
       "      <td>79346.37</td>\n",
       "      <td>89</td>\n",
       "      <td>882.0</td>\n",
       "      <td>7920.0</td>\n",
       "    </tr>\n",
       "    <tr>\n",
       "      <th>STM_4</th>\n",
       "      <td>20612.0</td>\n",
       "      <td>10.71</td>\n",
       "      <td>2.0</td>\n",
       "      <td>7620.80</td>\n",
       "      <td>6</td>\n",
       "      <td>86.4</td>\n",
       "      <td>720.0</td>\n",
       "    </tr>\n",
       "    <tr>\n",
       "      <th>STM_5</th>\n",
       "      <td>161259.5</td>\n",
       "      <td>11.39</td>\n",
       "      <td>2.0</td>\n",
       "      <td>19034.76</td>\n",
       "      <td>24</td>\n",
       "      <td>223.2</td>\n",
       "      <td>1860.0</td>\n",
       "    </tr>\n",
       "  </tbody>\n",
       "</table>\n",
       "<p>190 rows × 7 columns</p>\n",
       "</div>"
      ],
      "text/plain": [
       "          catchment  frequency (veh/hours)  fleet  length (m)  num station  \\\n",
       "route_id                                                                     \n",
       "STM_100         0.0                   4.52    2.0    28756.63           80   \n",
       "STM_101         0.0                   2.17    2.0    31147.03           87   \n",
       "STM_102         0.0                   1.85    2.0    12013.75           51   \n",
       "STM_103         0.0                   4.19    2.0    10142.89           47   \n",
       "STM_104         0.0                   2.96    2.0    19371.55           80   \n",
       "...             ...                    ...    ...         ...          ...   \n",
       "STM_99          0.0                   2.01    2.0     9661.49           51   \n",
       "STM_1      264471.5                  14.91    2.0    38570.75           53   \n",
       "STM_2      360835.0                  10.78    3.0    79346.37           89   \n",
       "STM_4       20612.0                  10.71    2.0     7620.80            6   \n",
       "STM_5      161259.5                  11.39    2.0    19034.76           24   \n",
       "\n",
       "          veh.km/h  round trip time (s)  \n",
       "route_id                                 \n",
       "STM_100      140.4               4620.0  \n",
       "STM_101       72.0               6447.0  \n",
       "STM_102       25.2               2400.0  \n",
       "STM_103       46.8               2514.0  \n",
       "STM_104       64.8               4569.0  \n",
       "...            ...                  ...  \n",
       "STM_99        21.6               2400.0  \n",
       "STM_1        579.6               4260.0  \n",
       "STM_2        882.0               7920.0  \n",
       "STM_4         86.4                720.0  \n",
       "STM_5        223.2               1860.0  \n",
       "\n",
       "[190 rows x 7 columns]"
      ]
     },
     "execution_count": 105,
     "metadata": {},
     "output_type": "execute_result"
    }
   ],
   "source": [
    "df_route_id.to_csv(os.path.join(output_folder, 'route_id_metrics.csv'))\n",
    "df_route_id"
   ]
  },
  {
   "cell_type": "code",
   "execution_count": 106,
   "id": "c6a5c283",
   "metadata": {},
   "outputs": [
    {
     "data": {
      "text/html": [
       "<div>\n",
       "<style scoped>\n",
       "    .dataframe tbody tr th:only-of-type {\n",
       "        vertical-align: middle;\n",
       "    }\n",
       "\n",
       "    .dataframe tbody tr th {\n",
       "        vertical-align: top;\n",
       "    }\n",
       "\n",
       "    .dataframe thead th {\n",
       "        text-align: right;\n",
       "    }\n",
       "</style>\n",
       "<table border=\"1\" class=\"dataframe\">\n",
       "  <thead>\n",
       "    <tr style=\"text-align: right;\">\n",
       "      <th></th>\n",
       "      <th>catchment</th>\n",
       "      <th>frequency (veh/hours)</th>\n",
       "      <th>fleet</th>\n",
       "      <th>length (m)</th>\n",
       "      <th>num station</th>\n",
       "      <th>veh.km/h</th>\n",
       "    </tr>\n",
       "    <tr>\n",
       "      <th>route_type</th>\n",
       "      <th></th>\n",
       "      <th></th>\n",
       "      <th></th>\n",
       "      <th></th>\n",
       "      <th></th>\n",
       "      <th></th>\n",
       "    </tr>\n",
       "  </thead>\n",
       "  <tbody>\n",
       "    <tr>\n",
       "      <th>bus</th>\n",
       "      <td>0.0</td>\n",
       "      <td>2.706206</td>\n",
       "      <td>398.0</td>\n",
       "      <td>4.255468e+06</td>\n",
       "      <td>12950</td>\n",
       "      <td>11962.8</td>\n",
       "    </tr>\n",
       "    <tr>\n",
       "      <th>subway</th>\n",
       "      <td>663573.0</td>\n",
       "      <td>12.137794</td>\n",
       "      <td>9.0</td>\n",
       "      <td>1.445727e+05</td>\n",
       "      <td>172</td>\n",
       "      <td>1771.2</td>\n",
       "    </tr>\n",
       "  </tbody>\n",
       "</table>\n",
       "</div>"
      ],
      "text/plain": [
       "            catchment  frequency (veh/hours)  fleet    length (m)  \\\n",
       "route_type                                                          \n",
       "bus               0.0               2.706206  398.0  4.255468e+06   \n",
       "subway       663573.0              12.137794    9.0  1.445727e+05   \n",
       "\n",
       "            num station  veh.km/h  \n",
       "route_type                         \n",
       "bus               12950   11962.8  \n",
       "subway              172    1771.2  "
      ]
     },
     "execution_count": 106,
     "metadata": {},
     "output_type": "execute_result"
    }
   ],
   "source": [
    "df_route_type.to_csv(os.path.join(output_folder, 'route_type_metrics.csv'))\n",
    "df_route_type"
   ]
  },
  {
   "cell_type": "markdown",
   "id": "4924d2a1",
   "metadata": {},
   "source": [
    "# geomatic outputs"
   ]
  },
  {
   "cell_type": "code",
   "execution_count": 107,
   "id": "10166c45",
   "metadata": {},
   "outputs": [],
   "source": [
    "# using get catchment. get the catchment radius of each node (get larger one if used by many mode.)\n",
    "link = links.groupby('route_type')[['a', 'b', 'route_type']].agg({'a': set, 'b': set, 'route_type': 'first'})\n",
    "link['node'] = link.apply(lambda row: row['a'].union(row['b']), axis=1)\n",
    "link = link.drop(columns=['a', 'b'])\n",
    "# add catchment radius for the route_type\n",
    "link['catchment_radius'] = link['route_type'].apply(lambda x: catchment_radius.get(x, default_catchment_radius))\n",
    "link = link.explode('node').reset_index(drop=True)\n",
    "link = link.sort_values('catchment_radius', ascending=False).drop_duplicates('node', keep='first')\n",
    "link = node_dist.merge(link, left_on='node_index', right_on='node')\n",
    "link = link[link['distances'] <= link['catchment_radius']]\n",
    "\n",
    "temp_dict = link.groupby('node_index')['population'].sum().to_dict()\n",
    "nodes['catchment'] = nodes.index.map(temp_dict.get)\n",
    "\n",
    "temp_dict = link.groupby('node_index')['catchment_radius'].agg('first').to_dict()\n",
    "nodes['catchment_radius'] = nodes.index.map(temp_dict.get)\n"
   ]
  },
  {
   "cell_type": "code",
   "execution_count": 108,
   "id": "db8164da",
   "metadata": {},
   "outputs": [],
   "source": [
    "nodes.to_file(os.path.join(output_folder, 'nodes.geojson'), driver='GeoJSON')"
   ]
  },
  {
   "cell_type": "markdown",
   "id": "11dfe2fb",
   "metadata": {},
   "source": [
    "# test"
   ]
  },
  {
   "cell_type": "code",
   "execution_count": null,
   "id": "8c0607db",
   "metadata": {},
   "outputs": [],
   "source": []
  }
 ],
 "metadata": {
  "kernelspec": {
   "display_name": "quetzal-py3.12",
   "language": "python",
   "name": "python3"
  },
  "language_info": {
   "codemirror_mode": {
    "name": "ipython",
    "version": 3
   },
   "file_extension": ".py",
   "mimetype": "text/x-python",
   "name": "python",
   "nbconvert_exporter": "python",
   "pygments_lexer": "ipython3",
   "version": "3.12.2"
  }
 },
 "nbformat": 4,
 "nbformat_minor": 5
}
