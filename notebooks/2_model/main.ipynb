{
 "cells": [
  {
   "cell_type": "code",
   "execution_count": 221,
   "id": "71ccff01",
   "metadata": {},
   "outputs": [
    {
     "name": "stdout",
     "output_type": "stream",
     "text": [
      "{'training_folder': '../../scenarios/clermont', 'params': {'general': {'step_size': '0.001', 'use_road_network': True}, 'catchment_radius': {'bus': '500', 'subway': '800', 'rail': '1000'}}}\n"
     ]
    }
   ],
   "source": [
    "import sys\n",
    "import json\n",
    "\n",
    "general = {'step_size':'0.001', 'use_road_network':True}\n",
    "catchment_radius={'bus':'500','subway':'800','rail':'1000'}\n",
    "\n",
    "params = {\n",
    "    'general': general,\n",
    "    'catchment_radius':catchment_radius\n",
    "    }\n",
    "\n",
    "default = {'training_folder': '../../scenarios/clermont', 'params':params} # Default execution parameters\n",
    "manual, argv = (True, default) if 'ipykernel' in sys.argv[0] else (False, dict(default, **json.loads(sys.argv[1])))\n",
    "print(argv)\n"
   ]
  },
  {
   "cell_type": "code",
   "execution_count": 222,
   "id": "0ba44a39",
   "metadata": {},
   "outputs": [],
   "source": [
    "## identifions les endroits où le réseau routier entre en jeu"
   ]
  },
  {
   "cell_type": "code",
   "execution_count": 223,
   "id": "99b5db61",
   "metadata": {},
   "outputs": [
    {
     "name": "stdout",
     "output_type": "stream",
     "text": [
      "numba threads 16\n"
     ]
    }
   ],
   "source": [
    "import os\n",
    "import time\n",
    "import geopandas as gpd\n",
    "import pandas as pd\n",
    "sys.path.insert(0, r'../../../quetzal') # Add path to quetzal\n",
    "import numpy as np\n",
    "import random\n",
    "import matplotlib.pyplot as plt\n",
    "from shapely.geometry import Point, LineString\n",
    "from typing import Literal\n",
    "import numba as nb\n",
    "#num_cores = 1\n",
    "print('numba threads',nb.config.NUMBA_NUM_THREADS)\n",
    "\n",
    "on_lambda = bool(os.environ.get('AWS_EXECUTION_ENV'))\n",
    "io_engine = 'pyogrio' "
   ]
  },
  {
   "cell_type": "code",
   "execution_count": 224,
   "id": "772a187c",
   "metadata": {},
   "outputs": [],
   "source": [
    "sys.path.insert(0, r'../../') # Add path\n",
    "from utils import get_epsg, population_to_mesh, get_acf_distances, get_routing_distances"
   ]
  },
  {
   "cell_type": "code",
   "execution_count": null,
   "id": "8a8fe8e7",
   "metadata": {},
   "outputs": [],
   "source": []
  },
  {
   "cell_type": "markdown",
   "id": "65c740a4",
   "metadata": {},
   "source": [
    "# Folders stucture and params"
   ]
  },
  {
   "cell_type": "markdown",
   "id": "cbbbcb7a",
   "metadata": {},
   "source": [
    "everything is on S3 (nothing on ECR) so no direct input folder. just scenarios/{scen}/inputs/"
   ]
  },
  {
   "cell_type": "code",
   "execution_count": 225,
   "id": "8ade8441",
   "metadata": {},
   "outputs": [
    {
     "data": {
      "text/plain": [
       "'../../scenarios/clermont'"
      ]
     },
     "execution_count": 225,
     "metadata": {},
     "output_type": "execute_result"
    }
   ],
   "source": [
    "argv['training_folder']"
   ]
  },
  {
   "cell_type": "code",
   "execution_count": 226,
   "id": "4e405b87",
   "metadata": {},
   "outputs": [],
   "source": [
    "base_folder = argv['training_folder']\n",
    "input_folder = os.path.join(base_folder,'inputs/')\n",
    "pt_folder  = os.path.join(input_folder,'pt/')\n",
    "road_folder = os.path.join(input_folder,'road/') ## réseau ferré\n",
    "od_folder =  os.path.join(input_folder,'od/')\n",
    "\n",
    "output_folder = os.path.join(base_folder,'outputs/')\n",
    "if not os.path.exists(output_folder):\n",
    "    os.makedirs(output_folder)\n",
    "\n",
    "model_folder = os.path.join(input_folder, 'model/')"
   ]
  },
  {
   "cell_type": "code",
   "execution_count": 227,
   "id": "3fcd9c8a",
   "metadata": {},
   "outputs": [],
   "source": [
    "zonage_input = gpd.read_file(input_folder + 'communes_zonage_serm.gpkg')\n",
    "zonage_input.rename(columns={'Population': 'population'}, inplace=True)\n",
    "zonage_input['density'] = zonage_input['population']/zonage_input.to_crs(epsg='4326').area/10**6\n",
    "zonage_input = zonage_input[['nom', 'insee_com', 'insee_dep', 'insee_reg', 'population', 'density', 'geometry']]\n",
    "zonage_input.to_file(input_folder + 'zonage.geojson')"
   ]
  },
  {
   "cell_type": "code",
   "execution_count": 228,
   "id": "aa37cb13",
   "metadata": {},
   "outputs": [],
   "source": [
    "catchment_radius = argv['params']['catchment_radius']\n",
    "catchment_radius = {k:float(v) for k,v in catchment_radius.items()}\n",
    "default_catchment_radius = 500"
   ]
  },
  {
   "cell_type": "code",
   "execution_count": 229,
   "id": "cb38b702",
   "metadata": {},
   "outputs": [
    {
     "data": {
      "text/plain": [
       "{'bus': 500.0, 'subway': 800.0, 'rail': 1000.0}"
      ]
     },
     "execution_count": 229,
     "metadata": {},
     "output_type": "execute_result"
    }
   ],
   "source": [
    "catchment_radius"
   ]
  },
  {
   "cell_type": "code",
   "execution_count": 230,
   "id": "81b11c40",
   "metadata": {},
   "outputs": [],
   "source": [
    "step_size_min = 0.0005\n",
    "step_size = max(float(argv['params']['general'].get('step_size')), step_size_min)\n",
    "use_road_network = argv['params']['general'].get('use_road_network') ## param use r_ntw"
   ]
  },
  {
   "cell_type": "code",
   "execution_count": 231,
   "id": "8ce02c77",
   "metadata": {},
   "outputs": [
    {
     "data": {
      "text/plain": [
       "0.001"
      ]
     },
     "execution_count": 231,
     "metadata": {},
     "output_type": "execute_result"
    }
   ],
   "source": [
    "step_size"
   ]
  },
  {
   "cell_type": "code",
   "execution_count": 232,
   "id": "7b5bfa1f",
   "metadata": {},
   "outputs": [
    {
     "data": {
      "text/plain": [
       "True"
      ]
     },
     "execution_count": 232,
     "metadata": {},
     "output_type": "execute_result"
    }
   ],
   "source": [
    "use_road_network"
   ]
  },
  {
   "cell_type": "markdown",
   "id": "cdd032bd",
   "metadata": {},
   "source": [
    "# inputs"
   ]
  },
  {
   "cell_type": "code",
   "execution_count": 233,
   "id": "1a674100",
   "metadata": {},
   "outputs": [
    {
     "name": "stderr",
     "output_type": "stream",
     "text": [
      "Skipping field road_link_list: unsupported OGR type: 5\n"
     ]
    }
   ],
   "source": [
    "links = gpd.read_file(pt_folder + 'links.geojson',engine=io_engine) \n",
    "nodes = gpd.read_file(pt_folder + 'nodes.geojson',engine=io_engine)\n",
    "links = links.set_index('index')\n",
    "nodes = nodes.set_index('index')"
   ]
  },
  {
   "cell_type": "code",
   "execution_count": 248,
   "id": "21d54c63",
   "metadata": {},
   "outputs": [],
   "source": [
    "default_capacity = 60\n",
    "if 'capacity' not in links.columns:\n",
    "    links['capacity'] = default_capacity\n",
    "\n",
    "default_catchment_radius = 500\n",
    "if 'catchment_radius' not in links.columns:\n",
    "    links['catchment_radius'] = default_catchment_radius"
   ]
  },
  {
   "cell_type": "code",
   "execution_count": 249,
   "id": "0d6324e0",
   "metadata": {},
   "outputs": [
    {
     "data": {
      "text/plain": [
       "32631"
      ]
     },
     "execution_count": 249,
     "metadata": {},
     "output_type": "execute_result"
    }
   ],
   "source": [
    "# find meters CRS\n",
    "centroid = [*LineString(nodes.centroid.values).centroid.coords][0]\n",
    "crs = get_epsg(centroid[1],centroid[0])\n",
    "crs"
   ]
  },
  {
   "cell_type": "code",
   "execution_count": null,
   "id": "99e4e06c",
   "metadata": {},
   "outputs": [
    {
     "name": "stdout",
     "output_type": "stream",
     "text": [
      "no jobs column defined\n",
      "no tourists column defined\n",
      "CRS was set to 4326\n"
     ]
    }
   ],
   "source": [
    "zonage_file = os.path.join(input_folder, 'zonage.geojson')\n",
    "zonage_file_provided = os.path.isfile(zonage_file)\n",
    "if zonage_file_provided :\n",
    "    zonage = gpd.read_file(input_folder + 'zonage.geojson', engine=io_engine)\n",
    "    if 'population' not in zonage.columns:\n",
    "        print('no population column defined')\n",
    "    if 'jobs' not in zonage.columns:\n",
    "        print('no jobs column defined')\n",
    "    if 'tourists' not in zonage.columns:\n",
    "        print('no tourists column defined')\n",
    "    if zonage.crs != 'EPSG:4326':\n",
    "        zonage.to_crs(epsg='4326', inplace=True)\n",
    "        print('CRS was set to 4326')\n",
    "    zonage['area (km2)'] = zonage.to_crs(crs).area / 10**6\n",
    "else:\n",
    "    print('No zonage file in the input folder...')"
   ]
  },
  {
   "cell_type": "code",
   "execution_count": 251,
   "id": "4ceb50ce",
   "metadata": {},
   "outputs": [],
   "source": [
    "population_provided = ('population' in zonage.columns)\n",
    "jobs_provided = ('jobs' in zonage.columns)\n",
    "tourists_provided = ('tourists' in zonage.columns)"
   ]
  },
  {
   "cell_type": "code",
   "execution_count": 273,
   "id": "e6b73aca",
   "metadata": {},
   "outputs": [],
   "source": [
    "base_columns = [x for x in list(zonage.columns) if ((x not in ['population', 'jobs', 'tourists']) and ('density' not in x))]\n",
    "\n",
    "if population_provided:\n",
    "    population_file = zonage[base_columns + ['population']]\n",
    "    population_file['density'] = population_file['population'] / population_file['area (km2)']\n",
    "\n",
    "if jobs_provided:\n",
    "    jobs_file = zonage[base_columns + ['jobs']]\n",
    "    jobs_file['density'] = jobs_file['jobs'] / jobs_file['area (km2)']\n",
    "\n",
    "if tourists_provided:\n",
    "    tourists_file = zonage[base_columns + ['tourists']]\n",
    "    tourists_file['density'] = tourists_file['population'] / tourists_file['area (km2)']"
   ]
  },
  {
   "cell_type": "code",
   "execution_count": 237,
   "id": "8c5c4543",
   "metadata": {},
   "outputs": [],
   "source": [
    "#population_file = os.path.join(input_folder, 'population.geojson')\n",
    "#population_file_provided = os.path.isfile(population_file)\n",
    "#if population_file_provided :\n",
    "#    population = gpd.read_file(population_file, engine=io_engine)\n",
    "#    if 'index' in population.columns:\n",
    "#        population = population.set_index('index')\n",
    "#    else:\n",
    "#        population.index.name='index'\n",
    "#    assert 'density' in population.columns, 'need density column. in km2'\n",
    "#    assert population.crs == 4326, 'population.geojson CRS must be EPSG:4326'\n",
    "#print('population?',population_file_provided)"
   ]
  },
  {
   "cell_type": "markdown",
   "id": "4fdf6e1f",
   "metadata": {},
   "source": [
    "# Formation :\n",
    " ajouter un paramètre pour utiliser le réseau routier ou non. <br>\n",
    " Dans le modèle actuelle, le réseau routier est automatiquement utilisé pour :\n",
    " * faire un mesh de la population (affecter les gens aux noeds du réseau)\n",
    " * évaluer le stop catchment (la distance de routing est utilisé pour le catchment_radius)\n",
    "\n",
    " On pourrait ne pas vouloir utiliser le réseau meme si il est dans le projet! <br>\n",
    " TODO: changer rnodes_file_provided pour une combinaison entre un parametre et l'existance du fichier"
   ]
  },
  {
   "cell_type": "code",
   "execution_count": 252,
   "id": "ac965c16",
   "metadata": {},
   "outputs": [
    {
     "name": "stdout",
     "output_type": "stream",
     "text": [
      "rnodes? True\n"
     ]
    }
   ],
   "source": [
    "## road network here\n",
    "rnodes_file = os.path.join(road_folder, 'road_nodes.geojson')\n",
    "rnodes_file_provided = os.path.isfile(rnodes_file)\n",
    "if rnodes_file_provided:\n",
    "    rnodes = gpd.read_file(os.path.join(road_folder, 'road_nodes.geojson'), engine=io_engine)\n",
    "    rnodes = rnodes.set_index('index').to_crs(epsg='4326')\n",
    "    rlinks = gpd.read_file(os.path.join(road_folder, 'road_links.geojson'), engine=io_engine)\n",
    "    rlinks = rlinks.set_index('index').to_crs(epsg='4326')\n",
    "print('rnodes?',rnodes_file_provided)"
   ]
  },
  {
   "cell_type": "code",
   "execution_count": 253,
   "id": "6071cbdf",
   "metadata": {},
   "outputs": [
    {
     "name": "stdout",
     "output_type": "stream",
     "text": [
      "od? False\n"
     ]
    }
   ],
   "source": [
    "od_file = os.path.join(od_folder, 'od.geojson')\n",
    "od_file_provided = os.path.isfile(od_file)\n",
    "if od_file_provided:\n",
    "    od_test = gpd.read_file(od_file, engine=io_engine)\n",
    "    if 'name' not in od_test.columns:\n",
    "        od_test['name'] = od_test['index']\n",
    "    od_test['name'] = od_test['name'].fillna(od_test['index'].astype(str))\n",
    "print('od?',od_file_provided)"
   ]
  },
  {
   "cell_type": "code",
   "execution_count": 254,
   "id": "4cf77ee4",
   "metadata": {},
   "outputs": [],
   "source": [
    "# init results dfs\n",
    "df_route_id = pd.DataFrame(index=links['route_id'].unique())\n",
    "df_route_id.index.name = 'route_id'\n",
    "df_route_id = df_route_id.reset_index()\n",
    "df_route_id = df_route_id.merge(links[['route_id', 'route_type', 'capacity', 'headway']], on='route_id', how='left')\n",
    "df_route_id = df_route_id.rename(columns={'capacity': 'veh_capacity (PAX)'})\n",
    "df_route_id = df_route_id.drop_duplicates()\n",
    "df_route_id = df_route_id.set_index('route_id')\n",
    "\n",
    "df_route_type = pd.DataFrame(index=links['route_type'].unique())\n",
    "df_route_type.index.name='route_type'"
   ]
  },
  {
   "cell_type": "code",
   "execution_count": 255,
   "id": "f5cc4bf8",
   "metadata": {},
   "outputs": [],
   "source": [
    "# Make sure headway are consistent : one single headway for both way and return\n",
    "# Otherwise can't calculate KPIs later\n",
    "\n",
    "df_route_id = df_route_id[~df_route_id.index.duplicated(keep='first')]\n",
    "route_headway = dict(zip(df_route_id.index, df_route_id['headway']))\n",
    "links.headway = links.route_id.map(route_headway)"
   ]
  },
  {
   "cell_type": "code",
   "execution_count": 256,
   "id": "2d54b3af",
   "metadata": {},
   "outputs": [],
   "source": [
    "def get_catchment(col='route_id', node_dist=None):\n",
    "    #get all nodes with col filter\n",
    "    link = links.groupby(col)[['a','b','route_type']].agg({'a':set,'b':set,'route_type':'first'})\n",
    "    link['node'] = link.apply(lambda row: row['a'].union(row['b']), axis=1)\n",
    "    link = link.drop(columns=['a','b'])\n",
    "    # add catchment radius for the route_type\n",
    "    link['catchment_radius'] = link['route_type'].apply(lambda x: catchment_radius.get(x,default_catchment_radius))\n",
    "\n",
    "    col_exist = col == 'route_type' # cannot explode if index == route_type (a column)\n",
    "    link = link.explode('node').reset_index(drop=col_exist)\n",
    "    link = node_dist.merge(link, left_on='node_index', right_on='node')\n",
    "    #filter by distance\n",
    "    link = link[link['distances'] <= link['catchment_radius']]\n",
    "    #drop duplicated mesh nodes (we count only one time)\n",
    "    link = link.drop_duplicates(subset=['mesh_index',col],keep='first')\n",
    "\n",
    "    return link.groupby(col)['population'].sum().to_dict()"
   ]
  },
  {
   "cell_type": "markdown",
   "id": "220bbb67",
   "metadata": {},
   "source": [
    "# Population"
   ]
  },
  {
   "cell_type": "markdown",
   "id": "7bb73c86",
   "metadata": {},
   "source": [
    "## Préparation"
   ]
  },
  {
   "cell_type": "code",
   "execution_count": 257,
   "id": "fc0d8424",
   "metadata": {},
   "outputs": [
    {
     "data": {
      "text/plain": [
       "32631"
      ]
     },
     "execution_count": 257,
     "metadata": {},
     "output_type": "execute_result"
    }
   ],
   "source": [
    "# find meters CRS\n",
    "centroid = [*LineString(nodes.centroid.values).centroid.coords][0]\n",
    "crs = get_epsg(centroid[1],centroid[0])\n",
    "crs"
   ]
  },
  {
   "cell_type": "markdown",
   "id": "1392dbb0",
   "metadata": {},
   "source": [
    "## Mesh"
   ]
  },
  {
   "cell_type": "code",
   "execution_count": 258,
   "id": "e6f6fe3d",
   "metadata": {},
   "outputs": [
    {
     "name": "stdout",
     "output_type": "stream",
     "text": [
      "using road_nodes\n",
      "crs population: EPSG:4326\n",
      "crs points: EPSG:4326\n",
      "0 nodes in multiple zones. will be match to a single zone.\n",
      "13 unfounded zones\n"
     ]
    }
   ],
   "source": [
    "## road network here\n",
    "if not population_provided:\n",
    "    mesh_pop = gpd.GeoDataFrame(index=[0],data={'zone':'centroid','population':0},geometry=[Point(centroid[0],centroid[1])])\n",
    "    mesh_pop.index.name = 'index'\n",
    "    mesh_pop.crs=4326\n",
    "    if rnodes_file_provided and use_road_network:\n",
    "        mesh_pop['node_index'] = rnodes.index[0]\n",
    "elif rnodes_file_provided and use_road_network:\n",
    "    # use rnodes as mesh_pop.\n",
    "    print('using road_nodes') ## road network here\n",
    "    mesh_pop = population_to_mesh(zonage, mesh=rnodes, step=step_size, col='population', fill_missing='closest')\n",
    "else:\n",
    "    # create a mesh\n",
    "    #0.01 = 1km 0.005 = 500m\n",
    "    mesh_pop = population_to_mesh(zonage, mesh=None, step=step_size, col='population', fill_missing='centroid')"
   ]
  },
  {
   "cell_type": "code",
   "execution_count": 259,
   "id": "6a276040",
   "metadata": {},
   "outputs": [],
   "source": [
    "mesh_pop.to_file(output_folder + 'population_mesh.geojson',driver='GeoJSON',engine=io_engine)"
   ]
  },
  {
   "cell_type": "markdown",
   "id": "dfbafa49",
   "metadata": {},
   "source": [
    "## Catchment"
   ]
  },
  {
   "cell_type": "code",
   "execution_count": 207,
   "id": "aae1e149",
   "metadata": {},
   "outputs": [],
   "source": [
    "# find TC nodes to mesh distance"
   ]
  },
  {
   "cell_type": "code",
   "execution_count": 260,
   "id": "ac854281",
   "metadata": {},
   "outputs": [],
   "source": [
    "max_dist = max(max(catchment_radius.values()),default_catchment_radius)"
   ]
  },
  {
   "cell_type": "code",
   "execution_count": 263,
   "id": "ffc2ca97",
   "metadata": {
    "scrolled": true
   },
   "outputs": [
    {
     "name": "stdout",
     "output_type": "stream",
     "text": [
      "using road_nodes\n"
     ]
    }
   ],
   "source": [
    "## road network here, what to use if not road network?\n",
    "if rnodes_file_provided: \n",
    "    print('using road_nodes')\n",
    "    node_dist_pop = get_routing_distances(nodes, rnodes, rlinks, mesh_pop, 'length', max_dist)\n",
    "else:\n",
    "    node_dist_pop = get_acf_distances(nodes, mesh_pop, crs, max_dist)"
   ]
  },
  {
   "cell_type": "markdown",
   "id": "3480e8ac",
   "metadata": {},
   "source": [
    "## Metrics"
   ]
  },
  {
   "cell_type": "code",
   "execution_count": 264,
   "id": "6ed69263",
   "metadata": {},
   "outputs": [
    {
     "name": "stdout",
     "output_type": "stream",
     "text": [
      "num route_id: 1\n",
      "num route_type: 1\n"
     ]
    }
   ],
   "source": [
    "print('num route_id:',len(links['route_id'].unique()))\n",
    "print('num route_type:',len(links['route_type'].unique()))"
   ]
  },
  {
   "cell_type": "code",
   "execution_count": 265,
   "id": "e18e10d7",
   "metadata": {},
   "outputs": [
    {
     "name": "stdout",
     "output_type": "stream",
     "text": [
      "2355.857358833977\n"
     ]
    }
   ],
   "source": [
    "res_route_pop = get_catchment('route_id', node_dist_pop)\n",
    "\n",
    "df_route_id['catchment population'] = res_route_pop\n",
    "df_route_id['catchment population'] = df_route_id['catchment population'].fillna(0) \n",
    "print(sum([item for key,item in res_route_pop.items()]))"
   ]
  },
  {
   "cell_type": "code",
   "execution_count": 266,
   "id": "06d98402",
   "metadata": {},
   "outputs": [
    {
     "name": "stdout",
     "output_type": "stream",
     "text": [
      "2355.857358833977\n"
     ]
    }
   ],
   "source": [
    "res_mode_pop = get_catchment('route_type', node_dist_pop)\n",
    "\n",
    "df_route_type['catchment population'] = res_mode_pop\n",
    "df_route_type['catchment population'] = df_route_type['catchment population'].fillna(0) \n",
    "\n",
    "print(sum([item for key,item in res_mode_pop.items()]))"
   ]
  },
  {
   "cell_type": "markdown",
   "id": "7fac4ab6",
   "metadata": {},
   "source": [
    "# Jobs"
   ]
  },
  {
   "cell_type": "code",
   "execution_count": null,
   "id": "a7cf4e8d",
   "metadata": {},
   "outputs": [],
   "source": []
  },
  {
   "cell_type": "code",
   "execution_count": null,
   "id": "8e33c409",
   "metadata": {},
   "outputs": [],
   "source": []
  },
  {
   "cell_type": "markdown",
   "id": "0bc3c27f",
   "metadata": {},
   "source": [
    "# Tourists"
   ]
  },
  {
   "cell_type": "code",
   "execution_count": null,
   "id": "90f00336",
   "metadata": {},
   "outputs": [],
   "source": []
  },
  {
   "cell_type": "code",
   "execution_count": null,
   "id": "112632de",
   "metadata": {},
   "outputs": [],
   "source": []
  },
  {
   "cell_type": "markdown",
   "id": "de5d12fd",
   "metadata": {},
   "source": [
    "# frequency"
   ]
  },
  {
   "cell_type": "code",
   "execution_count": 179,
   "id": "950bfa1f",
   "metadata": {},
   "outputs": [
    {
     "ename": "KeyError",
     "evalue": "'Column not found: headway'",
     "output_type": "error",
     "traceback": [
      "\u001b[1;31m---------------------------------------------------------------------------\u001b[0m",
      "\u001b[1;31mKeyError\u001b[0m                                  Traceback (most recent call last)",
      "Cell \u001b[1;32mIn[179], line 2\u001b[0m\n\u001b[0;32m      1\u001b[0m \u001b[38;5;66;03m# Suppose that headway is the same in both directions : keep the minimum value\u001b[39;00m\n\u001b[1;32m----> 2\u001b[0m idx \u001b[38;5;241m=\u001b[39m \u001b[43mdf_route_id\u001b[49m\u001b[38;5;241;43m.\u001b[39;49m\u001b[43mgroupby\u001b[49m\u001b[43m(\u001b[49m\u001b[43mlevel\u001b[49m\u001b[38;5;241;43m=\u001b[39;49m\u001b[38;5;241;43m0\u001b[39;49m\u001b[43m)\u001b[49m\u001b[43m[\u001b[49m\u001b[38;5;124;43m'\u001b[39;49m\u001b[38;5;124;43mheadway\u001b[39;49m\u001b[38;5;124;43m'\u001b[39;49m\u001b[43m]\u001b[49m\u001b[38;5;241m.\u001b[39midxmin()\n\u001b[0;32m      3\u001b[0m df_route_id \u001b[38;5;241m=\u001b[39m df_route_id\u001b[38;5;241m.\u001b[39mloc[idx]\n\u001b[0;32m      5\u001b[0m df_route_id \u001b[38;5;241m=\u001b[39m df_route_id\u001b[38;5;241m.\u001b[39mrename(columns\u001b[38;5;241m=\u001b[39m{\u001b[38;5;124m'\u001b[39m\u001b[38;5;124mheadway\u001b[39m\u001b[38;5;124m'\u001b[39m: \u001b[38;5;124m'\u001b[39m\u001b[38;5;124mheadway (s)\u001b[39m\u001b[38;5;124m'\u001b[39m})\n",
      "File \u001b[1;32mc:\\Users\\lrapin\\AppData\\Local\\miniforge3\\envs\\gpseo_env\\Lib\\site-packages\\pandas\\core\\groupby\\generic.py:1951\u001b[0m, in \u001b[0;36mDataFrameGroupBy.__getitem__\u001b[1;34m(self, key)\u001b[0m\n\u001b[0;32m   1944\u001b[0m \u001b[38;5;28;01mif\u001b[39;00m \u001b[38;5;28misinstance\u001b[39m(key, \u001b[38;5;28mtuple\u001b[39m) \u001b[38;5;129;01mand\u001b[39;00m \u001b[38;5;28mlen\u001b[39m(key) \u001b[38;5;241m>\u001b[39m \u001b[38;5;241m1\u001b[39m:\n\u001b[0;32m   1945\u001b[0m     \u001b[38;5;66;03m# if len == 1, then it becomes a SeriesGroupBy and this is actually\u001b[39;00m\n\u001b[0;32m   1946\u001b[0m     \u001b[38;5;66;03m# valid syntax, so don't raise\u001b[39;00m\n\u001b[0;32m   1947\u001b[0m     \u001b[38;5;28;01mraise\u001b[39;00m \u001b[38;5;167;01mValueError\u001b[39;00m(\n\u001b[0;32m   1948\u001b[0m         \u001b[38;5;124m\"\u001b[39m\u001b[38;5;124mCannot subset columns with a tuple with more than one element. \u001b[39m\u001b[38;5;124m\"\u001b[39m\n\u001b[0;32m   1949\u001b[0m         \u001b[38;5;124m\"\u001b[39m\u001b[38;5;124mUse a list instead.\u001b[39m\u001b[38;5;124m\"\u001b[39m\n\u001b[0;32m   1950\u001b[0m     )\n\u001b[1;32m-> 1951\u001b[0m \u001b[38;5;28;01mreturn\u001b[39;00m \u001b[38;5;28;43msuper\u001b[39;49m\u001b[43m(\u001b[49m\u001b[43m)\u001b[49m\u001b[38;5;241;43m.\u001b[39;49m\u001b[38;5;21;43m__getitem__\u001b[39;49m\u001b[43m(\u001b[49m\u001b[43mkey\u001b[49m\u001b[43m)\u001b[49m\n",
      "File \u001b[1;32mc:\\Users\\lrapin\\AppData\\Local\\miniforge3\\envs\\gpseo_env\\Lib\\site-packages\\pandas\\core\\base.py:244\u001b[0m, in \u001b[0;36mSelectionMixin.__getitem__\u001b[1;34m(self, key)\u001b[0m\n\u001b[0;32m    242\u001b[0m \u001b[38;5;28;01melse\u001b[39;00m:\n\u001b[0;32m    243\u001b[0m     \u001b[38;5;28;01mif\u001b[39;00m key \u001b[38;5;129;01mnot\u001b[39;00m \u001b[38;5;129;01min\u001b[39;00m \u001b[38;5;28mself\u001b[39m\u001b[38;5;241m.\u001b[39mobj:\n\u001b[1;32m--> 244\u001b[0m         \u001b[38;5;28;01mraise\u001b[39;00m \u001b[38;5;167;01mKeyError\u001b[39;00m(\u001b[38;5;124mf\u001b[39m\u001b[38;5;124m\"\u001b[39m\u001b[38;5;124mColumn not found: \u001b[39m\u001b[38;5;132;01m{\u001b[39;00mkey\u001b[38;5;132;01m}\u001b[39;00m\u001b[38;5;124m\"\u001b[39m)\n\u001b[0;32m    245\u001b[0m     ndim \u001b[38;5;241m=\u001b[39m \u001b[38;5;28mself\u001b[39m\u001b[38;5;241m.\u001b[39mobj[key]\u001b[38;5;241m.\u001b[39mndim\n\u001b[0;32m    246\u001b[0m     \u001b[38;5;28;01mreturn\u001b[39;00m \u001b[38;5;28mself\u001b[39m\u001b[38;5;241m.\u001b[39m_gotitem(key, ndim\u001b[38;5;241m=\u001b[39mndim)\n",
      "\u001b[1;31mKeyError\u001b[0m: 'Column not found: headway'"
     ]
    }
   ],
   "source": [
    "# Suppose that headway is the same in both directions : keep the minimum value\n",
    "idx = df_route_id.groupby(level=0)['headway'].idxmin()\n",
    "df_route_id = df_route_id.loc[idx]\n",
    "\n",
    "df_route_id = df_route_id.rename(columns={'headway': 'headway (s)'})\n",
    "df_route_id = df_route_id.sort_values('route_type', ascending=False)"
   ]
  },
  {
   "cell_type": "code",
   "execution_count": 158,
   "id": "3f251696",
   "metadata": {},
   "outputs": [],
   "source": [
    "links['frequency'] = 1/links['headway']"
   ]
  },
  {
   "cell_type": "code",
   "execution_count": 159,
   "id": "3829349f",
   "metadata": {},
   "outputs": [
    {
     "name": "stdout",
     "output_type": "stream",
     "text": [
      "6.0\n"
     ]
    }
   ],
   "source": [
    "res = (links.groupby('route_id')['frequency'].agg('mean')*3600).to_dict()\n",
    "\n",
    "df_route_id['frequency (veh/hours)'] = res\n",
    "print(np.nansum([item for key,item in res.items()]))"
   ]
  },
  {
   "cell_type": "code",
   "execution_count": 160,
   "id": "e3035415",
   "metadata": {},
   "outputs": [
    {
     "name": "stdout",
     "output_type": "stream",
     "text": [
      "6.0\n"
     ]
    }
   ],
   "source": [
    "res = (links.groupby('route_type')['frequency'].agg('mean')*3600).to_dict()\n",
    "\n",
    "df_route_type['frequency (veh/hours)'] = res\n",
    "print(sum([item for key,item in res.items()]))"
   ]
  },
  {
   "cell_type": "code",
   "execution_count": 161,
   "id": "b1017844",
   "metadata": {},
   "outputs": [
    {
     "name": "stdout",
     "output_type": "stream",
     "text": [
      "6.0\n"
     ]
    }
   ],
   "source": [
    "link = (links.groupby(['route_id','trip_id'])[['frequency']].agg('mean')*3600)\n",
    "res = link.reset_index().set_index('route_id')['frequency'].to_dict()\n",
    "print(np.nansum([item for key,item in res.items()]))"
   ]
  },
  {
   "cell_type": "code",
   "execution_count": null,
   "id": "ba8b387d",
   "metadata": {
    "scrolled": false
   },
   "outputs": [],
   "source": []
  },
  {
   "cell_type": "code",
   "execution_count": 162,
   "id": "99bf3c5d",
   "metadata": {},
   "outputs": [
    {
     "name": "stdout",
     "output_type": "stream",
     "text": [
      "6.0\n"
     ]
    }
   ],
   "source": [
    "link = (links.groupby(['route_type','trip_id'])[['frequency']].agg('mean')*3600)\n",
    "res = link.reset_index().set_index('route_type')['frequency'].to_dict()\n",
    "print(np.nansum([item for key,item in res.items()]))"
   ]
  },
  {
   "cell_type": "markdown",
   "id": "06a9b56e",
   "metadata": {},
   "source": [
    "# operational Fleet"
   ]
  },
  {
   "cell_type": "code",
   "execution_count": 163,
   "id": "d73f2028",
   "metadata": {},
   "outputs": [],
   "source": [
    "def get_fleet(col='route_id'):\n",
    "    link = links.groupby([col,'trip_id'])[['time','frequency']].agg({'time':'mean','frequency':'mean'})\n",
    "    link['fleet'] = np.ceil(link['frequency'] * link['time'])\n",
    "    return link.reset_index().groupby(col)['fleet'].agg('sum').to_dict()\n"
   ]
  },
  {
   "cell_type": "code",
   "execution_count": 164,
   "id": "88e247d3",
   "metadata": {},
   "outputs": [
    {
     "name": "stdout",
     "output_type": "stream",
     "text": [
      "6.0\n"
     ]
    }
   ],
   "source": [
    "res = get_fleet('route_id')\n",
    "\n",
    "df_route_id['fleet'] = res\n",
    "print(sum([item for key,item in res.items()]))"
   ]
  },
  {
   "cell_type": "code",
   "execution_count": 165,
   "id": "0dc17813",
   "metadata": {},
   "outputs": [
    {
     "name": "stdout",
     "output_type": "stream",
     "text": [
      "6.0\n"
     ]
    }
   ],
   "source": [
    "res = get_fleet('route_type')\n",
    "\n",
    "df_route_type['fleet'] = res\n",
    "print(sum([item for key,item in res.items()]))"
   ]
  },
  {
   "cell_type": "code",
   "execution_count": null,
   "id": "df7743de",
   "metadata": {},
   "outputs": [],
   "source": []
  },
  {
   "cell_type": "markdown",
   "id": "b0a16eb3",
   "metadata": {},
   "source": [
    "# Line Length"
   ]
  },
  {
   "cell_type": "code",
   "execution_count": 166,
   "id": "5e08e66e",
   "metadata": {},
   "outputs": [],
   "source": [
    "def get_length(col='route_id',length_col='length'):\n",
    "    link = links.groupby([col,'trip_id'])[[length_col]].agg('sum')\n",
    "    return link.reset_index().groupby(col)[length_col].agg('sum').to_dict()\n",
    "    "
   ]
  },
  {
   "cell_type": "code",
   "execution_count": 167,
   "id": "bfa2e75e",
   "metadata": {},
   "outputs": [],
   "source": [
    "# preparation. if length is NaN, or if shape dist travel exist.\n",
    "\n",
    "length_col = None\n",
    "if 'length' in links.columns and length_col == None:\n",
    "    if len(links[links['length'].isnull()])==0:\n",
    "        length_col = 'length'\n",
    "        \n",
    "if 'shape_dist_traveled' in links.columns and length_col == None:\n",
    "    if len(links[links['shape_dist_traveled'].isnull()])==0:\n",
    "        length_col = 'shape_dist_traveled'\n",
    "\n",
    "if length_col == None:\n",
    "    print('create length from geometry')\n",
    "    links['length'] = links.to_crs(crs).length\n",
    "    length_col = 'length'\n"
   ]
  },
  {
   "cell_type": "code",
   "execution_count": null,
   "id": "fa1f7686",
   "metadata": {},
   "outputs": [],
   "source": []
  },
  {
   "cell_type": "code",
   "execution_count": 168,
   "id": "31db0758",
   "metadata": {},
   "outputs": [
    {
     "name": "stdout",
     "output_type": "stream",
     "text": [
      "18305\n"
     ]
    }
   ],
   "source": [
    "res = get_length('route_id',length_col)\n",
    "\n",
    "df_route_id['length (m)'] = res\n",
    "print(sum([item for key,item in res.items()]))"
   ]
  },
  {
   "cell_type": "code",
   "execution_count": 169,
   "id": "39826011",
   "metadata": {},
   "outputs": [
    {
     "name": "stdout",
     "output_type": "stream",
     "text": [
      "18305\n"
     ]
    }
   ],
   "source": [
    "res = get_length('route_type',length_col)\n",
    "\n",
    "df_route_type['length (m)'] = res\n",
    "print(sum([item for key,item in res.items()]))"
   ]
  },
  {
   "cell_type": "code",
   "execution_count": null,
   "id": "b7f4f68b",
   "metadata": {},
   "outputs": [],
   "source": []
  },
  {
   "cell_type": "markdown",
   "id": "638013ee",
   "metadata": {},
   "source": [
    "# Number of station per line"
   ]
  },
  {
   "cell_type": "code",
   "execution_count": 170,
   "id": "6bf1bd3e",
   "metadata": {},
   "outputs": [],
   "source": [
    "# o-->o-->o-->o and  o<--o<--o<--o\n",
    "# est-ce que j'ai 8 ou 4 stations ?\n",
    "# j'ai 4 stations par trip et 4 stations par route (si c'est les memes).\n",
    "# comment savoir si cest les memes. clustering?\n",
    "# pour linstant. on prend tous les noeds unique par route_id ou route_type (col='route_id', route_id)\n",
    "def get_num_station(col='route_id'):\n",
    "    link = links.groupby(col)[['a','b']].agg({'a':set,'b':set})\n",
    "    link['node_len'] = link.apply(lambda row: len(row['a'].union(row['b'])), axis=1)\n",
    "    return link['node_len'].to_dict()\n"
   ]
  },
  {
   "cell_type": "code",
   "execution_count": 171,
   "id": "6f27ad9f",
   "metadata": {},
   "outputs": [
    {
     "name": "stdout",
     "output_type": "stream",
     "text": [
      "2\n"
     ]
    }
   ],
   "source": [
    "res = get_num_station('route_id')\n",
    "\n",
    "df_route_id['num station'] = res\n",
    "print(sum([item for key,item in res.items()]))"
   ]
  },
  {
   "cell_type": "code",
   "execution_count": 172,
   "id": "ea89801d",
   "metadata": {},
   "outputs": [
    {
     "name": "stdout",
     "output_type": "stream",
     "text": [
      "2\n"
     ]
    }
   ],
   "source": [
    "res = get_num_station('route_type')\n",
    "\n",
    "df_route_type['num station'] = res\n",
    "print(sum([item for key,item in res.items()]))"
   ]
  },
  {
   "cell_type": "markdown",
   "id": "1f98a64c",
   "metadata": {},
   "source": [
    "# Vehicle revenue KM "
   ]
  },
  {
   "cell_type": "code",
   "execution_count": 173,
   "id": "c70257d8",
   "metadata": {},
   "outputs": [],
   "source": [
    "def get_veh_kmh(col='route_id'):\n",
    "    link = links.groupby([col,'trip_id'])[[length_col,'frequency']].agg({length_col:'sum','frequency':'mean'})\n",
    "    link['veh_km/h'] = np.ceil(link['frequency'] * link[length_col]) * 3600/1000 #to km/H\n",
    "    return link.reset_index().groupby(col)['veh_km/h'].agg('sum').to_dict()"
   ]
  },
  {
   "cell_type": "code",
   "execution_count": 174,
   "id": "6b53c067",
   "metadata": {},
   "outputs": [
    {
     "name": "stdout",
     "output_type": "stream",
     "text": [
      "111.6\n"
     ]
    }
   ],
   "source": [
    "res = get_veh_kmh('route_id')\n",
    "\n",
    "df_route_id['veh.km/h'] = res\n",
    "print(sum([item for key,item in res.items()]))"
   ]
  },
  {
   "cell_type": "code",
   "execution_count": 175,
   "id": "3bc451d7",
   "metadata": {},
   "outputs": [
    {
     "name": "stdout",
     "output_type": "stream",
     "text": [
      "111.6\n"
     ]
    }
   ],
   "source": [
    "res = get_veh_kmh('route_type')\n",
    "\n",
    "df_route_type['veh.km/h'] = res\n",
    "print(sum([item for key,item in res.items()]))"
   ]
  },
  {
   "cell_type": "markdown",
   "id": "ab77743f",
   "metadata": {},
   "source": [
    "# Round trip time"
   ]
  },
  {
   "cell_type": "code",
   "execution_count": 176,
   "id": "fd818c88",
   "metadata": {},
   "outputs": [],
   "source": [
    "def get_round_trip_time(col='route_id'):\n",
    "    link = links.groupby([col,'trip_id'])[['time']].agg('sum')\n",
    "    return link.reset_index().groupby(col)['time'].agg('sum').to_dict()\n",
    "    "
   ]
  },
  {
   "cell_type": "code",
   "execution_count": 177,
   "id": "869ea67e",
   "metadata": {},
   "outputs": [
    {
     "name": "stdout",
     "output_type": "stream",
     "text": [
      "3295\n"
     ]
    }
   ],
   "source": [
    "res = get_round_trip_time('route_id')\n",
    "\n",
    "df_route_id['round trip time (s)'] = res\n",
    "print(sum([item for key,item in res.items()]))"
   ]
  },
  {
   "cell_type": "code",
   "execution_count": null,
   "id": "5ac6bf88",
   "metadata": {},
   "outputs": [],
   "source": []
  },
  {
   "cell_type": "code",
   "execution_count": 178,
   "id": "05205cf2",
   "metadata": {},
   "outputs": [
    {
     "ename": "NameError",
     "evalue": "name 'stop_here' is not defined",
     "output_type": "error",
     "traceback": [
      "\u001b[1;31m---------------------------------------------------------------------------\u001b[0m",
      "\u001b[1;31mNameError\u001b[0m                                 Traceback (most recent call last)",
      "Cell \u001b[1;32mIn[178], line 1\u001b[0m\n\u001b[1;32m----> 1\u001b[0m \u001b[43mstop_here\u001b[49m\n",
      "\u001b[1;31mNameError\u001b[0m: name 'stop_here' is not defined"
     ]
    }
   ],
   "source": [
    "stop_here"
   ]
  },
  {
   "cell_type": "markdown",
   "id": "6a5213bf",
   "metadata": {},
   "source": [
    "# export dfs to csv"
   ]
  },
  {
   "cell_type": "code",
   "execution_count": null,
   "id": "4a7d0d1a",
   "metadata": {},
   "outputs": [],
   "source": [
    "# round numbers\n",
    "for col in ['catchment', 'frequency (veh/hours)','length (m)','veh.km/h','round trip time (s)']:\n",
    "    df_route_id[col] = df_route_id[col].apply(lambda x :np.round(x,2))\n",
    "    df_route_id[col] = df_route_id[col].apply(lambda x :np.round(x,2))\n"
   ]
  },
  {
   "cell_type": "code",
   "execution_count": null,
   "id": "3105f92e",
   "metadata": {},
   "outputs": [],
   "source": [
    "#df_route_id = df_route_id.fillna('null')\n",
    "#df_route_type = df_route_type.fillna('null')"
   ]
  },
  {
   "cell_type": "code",
   "execution_count": null,
   "id": "984694c2",
   "metadata": {},
   "outputs": [
    {
     "data": {
      "text/html": [
       "<div>\n",
       "<style scoped>\n",
       "    .dataframe tbody tr th:only-of-type {\n",
       "        vertical-align: middle;\n",
       "    }\n",
       "\n",
       "    .dataframe tbody tr th {\n",
       "        vertical-align: top;\n",
       "    }\n",
       "\n",
       "    .dataframe thead th {\n",
       "        text-align: right;\n",
       "    }\n",
       "</style>\n",
       "<table border=\"1\" class=\"dataframe\">\n",
       "  <thead>\n",
       "    <tr style=\"text-align: right;\">\n",
       "      <th></th>\n",
       "      <th>catchment</th>\n",
       "      <th>frequency (veh/hours)</th>\n",
       "      <th>fleet</th>\n",
       "      <th>length (m)</th>\n",
       "      <th>num station</th>\n",
       "      <th>veh.km/h</th>\n",
       "      <th>round trip time (s)</th>\n",
       "    </tr>\n",
       "    <tr>\n",
       "      <th>route_id</th>\n",
       "      <th></th>\n",
       "      <th></th>\n",
       "      <th></th>\n",
       "      <th></th>\n",
       "      <th></th>\n",
       "      <th></th>\n",
       "      <th></th>\n",
       "    </tr>\n",
       "  </thead>\n",
       "  <tbody>\n",
       "    <tr>\n",
       "      <th>Q1</th>\n",
       "      <td>2355.86</td>\n",
       "      <td>6.0</td>\n",
       "      <td>6.0</td>\n",
       "      <td>18305</td>\n",
       "      <td>2</td>\n",
       "      <td>111.6</td>\n",
       "      <td>3295</td>\n",
       "    </tr>\n",
       "  </tbody>\n",
       "</table>\n",
       "</div>"
      ],
      "text/plain": [
       "          catchment  frequency (veh/hours)  fleet  length (m)  num station  \\\n",
       "route_id                                                                     \n",
       "Q1          2355.86                    6.0    6.0       18305            2   \n",
       "\n",
       "          veh.km/h  round trip time (s)  \n",
       "route_id                                 \n",
       "Q1           111.6                 3295  "
      ]
     },
     "execution_count": 64,
     "metadata": {},
     "output_type": "execute_result"
    }
   ],
   "source": [
    "df_route_id.to_csv(output_folder+'route_id_metrics.csv')\n",
    "df_route_id"
   ]
  },
  {
   "cell_type": "code",
   "execution_count": null,
   "id": "c6a5c283",
   "metadata": {},
   "outputs": [
    {
     "data": {
      "text/html": [
       "<div>\n",
       "<style scoped>\n",
       "    .dataframe tbody tr th:only-of-type {\n",
       "        vertical-align: middle;\n",
       "    }\n",
       "\n",
       "    .dataframe tbody tr th {\n",
       "        vertical-align: top;\n",
       "    }\n",
       "\n",
       "    .dataframe thead th {\n",
       "        text-align: right;\n",
       "    }\n",
       "</style>\n",
       "<table border=\"1\" class=\"dataframe\">\n",
       "  <thead>\n",
       "    <tr style=\"text-align: right;\">\n",
       "      <th></th>\n",
       "      <th>catchment</th>\n",
       "      <th>frequency (veh/hours)</th>\n",
       "      <th>fleet</th>\n",
       "      <th>length (m)</th>\n",
       "      <th>num station</th>\n",
       "      <th>veh.km/h</th>\n",
       "    </tr>\n",
       "    <tr>\n",
       "      <th>route_type</th>\n",
       "      <th></th>\n",
       "      <th></th>\n",
       "      <th></th>\n",
       "      <th></th>\n",
       "      <th></th>\n",
       "      <th></th>\n",
       "    </tr>\n",
       "  </thead>\n",
       "  <tbody>\n",
       "    <tr>\n",
       "      <th>quenedi</th>\n",
       "      <td>2355.857359</td>\n",
       "      <td>6.0</td>\n",
       "      <td>6.0</td>\n",
       "      <td>18305</td>\n",
       "      <td>2</td>\n",
       "      <td>111.6</td>\n",
       "    </tr>\n",
       "  </tbody>\n",
       "</table>\n",
       "</div>"
      ],
      "text/plain": [
       "              catchment  frequency (veh/hours)  fleet  length (m)  \\\n",
       "route_type                                                          \n",
       "quenedi     2355.857359                    6.0    6.0       18305   \n",
       "\n",
       "            num station  veh.km/h  \n",
       "route_type                         \n",
       "quenedi               2     111.6  "
      ]
     },
     "execution_count": 65,
     "metadata": {},
     "output_type": "execute_result"
    }
   ],
   "source": [
    "df_route_type.to_csv(output_folder+'route_type_metrics.csv')\n",
    "df_route_type"
   ]
  },
  {
   "cell_type": "markdown",
   "id": "204675d1",
   "metadata": {},
   "source": [
    "# Formation:\n",
    "\n",
    "exporter une image (.png) <br>\n",
    "ex: barplot du catchement pour les route_type"
   ]
  },
  {
   "cell_type": "code",
   "execution_count": null,
   "id": "ba0c4f26",
   "metadata": {},
   "outputs": [
    {
     "data": {
      "text/plain": [
       "<matplotlib.legend.Legend at 0x1a955af9040>"
      ]
     },
     "execution_count": 66,
     "metadata": {},
     "output_type": "execute_result"
    },
    {
     "data": {
      "image/png": "[encoded data removed]",
      "text/plain": [
       "<Figure size 1000x500 with 1 Axes>"
      ]
     },
     "metadata": {},
     "output_type": "display_data"
    }
   ],
   "source": [
    "plot = df_route_type.reset_index().plot(kind='bar', x='route_type', y='catchment', color='#559bb4', rot=0, figsize=[10, 5])\n",
    "plot.set_title('Couverture population par mode')\n",
    "plot.set_ylabel('')\n",
    "plot.set_xlabel(\"route_type\")\n",
    "plot.legend([])"
   ]
  },
  {
   "cell_type": "markdown",
   "id": "4924d2a1",
   "metadata": {},
   "source": [
    "# geomatic outputs"
   ]
  },
  {
   "cell_type": "code",
   "execution_count": null,
   "id": "10166c45",
   "metadata": {},
   "outputs": [],
   "source": [
    "#using get catchment. get the catchment radius of each node (get larger one if used by many mode.)\n",
    "link = links.groupby('route_type')[['a','b','route_type']].agg({'a':set,'b':set,'route_type':'first'})\n",
    "link['node'] = link.apply(lambda row: row['a'].union(row['b']), axis=1)\n",
    "link = link.drop(columns=['a','b'])\n",
    "# add catchment radius for the route_type\n",
    "link['catchment_radius'] = link['route_type'].apply(lambda x: catchment_radius.get(x,default_catchment_radius))\n",
    "link = link.explode('node').reset_index(drop=True)\n",
    "link = link.sort_values('catchment_radius',ascending=False).drop_duplicates('node',keep='first')\n",
    "link = node_dist.merge(link, left_on='node_index', right_on='node')\n",
    "link = link[link['distances'] <= link['catchment_radius']]\n",
    "\n",
    "temp_dict = link.groupby('node_index')['population'].sum().to_dict()\n",
    "nodes['catchment'] = nodes.index.map(temp_dict.get)\n",
    "\n",
    "temp_dict = link.groupby('node_index')['catchment_radius'].agg('first').to_dict() \n",
    "nodes['catchment_radius'] = nodes.index.map(temp_dict.get)\n"
   ]
  },
  {
   "cell_type": "code",
   "execution_count": null,
   "id": "db8164da",
   "metadata": {},
   "outputs": [],
   "source": [
    "nodes.to_file(output_folder+'nodes.geojson',driver='GeoJSON',engine=io_engine)"
   ]
  },
  {
   "cell_type": "markdown",
   "id": "11dfe2fb",
   "metadata": {},
   "source": [
    "# test"
   ]
  },
  {
   "cell_type": "code",
   "execution_count": null,
   "id": "63408b60",
   "metadata": {},
   "outputs": [],
   "source": []
  }
 ],
 "metadata": {
  "kernelspec": {
   "display_name": "Python 3",
   "language": "python",
   "name": "python3"
  },
  "language_info": {
   "codemirror_mode": {
    "name": "ipython",
    "version": 3
   },
   "file_extension": ".py",
   "mimetype": "text/x-python",
   "name": "python",
   "nbconvert_exporter": "python",
   "pygments_lexer": "ipython3",
   "version": "3.12.7"
  }
 },
 "nbformat": 4,
 "nbformat_minor": 5
}
