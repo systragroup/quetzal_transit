{
 "cells": [
  {
   "cell_type": "code",
   "execution_count": null,
   "id": "71ccff01",
   "metadata": {},
   "outputs": [
    {
     "name": "stdout",
     "output_type": "stream",
     "text": [
      "{'training_folder': '../../scenarios/base', 'params': {'general': {'step_size': 0.001, 'use_road_network': True}, 'catchment_radius': {'bus': '500', 'subway': '800', 'rail': '1000'}}}\n"
     ]
    }
   ],
   "source": [
    "import sys\n",
    "import json\n",
    "\n",
    "general = {'step_size': 0.001, 'use_road_network': True, 'duration': 24 * 60}\n",
    "catchment_radius = {'bus': '500', 'subway': '800', 'rail': '1000'}\n",
    "params = {'general': general, 'catchment_radius': catchment_radius}\n",
    "\n",
    "default = {'training_folder': '../../scenarios/base', 'params': params, 'period': ''}\n",
    "manual, argv = (True, default) if 'ipykernel' in sys.argv[0] else (False, dict(default, **json.loads(sys.argv[1])))\n",
    "print(argv)\n"
   ]
  },
  {
   "cell_type": "code",
   "execution_count": null,
   "id": "0ba44a39",
   "metadata": {},
   "outputs": [],
   "source": []
  },
  {
   "cell_type": "code",
   "execution_count": null,
   "id": "99b5db61",
   "metadata": {},
   "outputs": [
    {
     "name": "stdout",
     "output_type": "stream",
     "text": [
      "numba threads 8\n"
     ]
    }
   ],
   "source": [
    "import os\n",
    "import geopandas as gpd\n",
    "import pandas as pd\n",
    "\n",
    "sys.path.insert(0, r'../../../quetzal')  # Add path to quetzal\n",
    "import numpy as np\n",
    "from shapely.geometry import Point, LineString\n",
    "\n",
    "on_lambda = bool(os.environ.get('AWS_EXECUTION_ENV'))\n"
   ]
  },
  {
   "cell_type": "code",
   "execution_count": 16,
   "id": "772a187c",
   "metadata": {},
   "outputs": [],
   "source": [
    "sys.path.insert(0, r'../../')  # Add path to quetzal\n",
    "from utils import get_epsg, population_to_mesh, get_acf_distances, get_routing_distances"
   ]
  },
  {
   "cell_type": "markdown",
   "id": "65c740a4",
   "metadata": {},
   "source": [
    "# Folders stucture and params"
   ]
  },
  {
   "cell_type": "markdown",
   "id": "cbbbcb7a",
   "metadata": {},
   "source": [
    "everything is on S3 (nothing on ECR) so no direct input folder. just scenarios/{scen}/inputs/"
   ]
  },
  {
   "cell_type": "code",
   "execution_count": null,
   "id": "8ade8441",
   "metadata": {},
   "outputs": [],
   "source": []
  },
  {
   "cell_type": "code",
   "execution_count": 17,
   "id": "4e405b87",
   "metadata": {},
   "outputs": [],
   "source": [
    "base_folder = argv['training_folder']\n",
    "input_folder = os.path.join(base_folder, 'inputs/')\n",
    "pt_folder = os.path.join(input_folder, 'pt/')\n",
    "road_folder = os.path.join(input_folder, 'road/')\n",
    "od_folder = os.path.join(input_folder, 'od/')\n",
    "\n",
    "output_folder = os.path.join(base_folder, 'outputs/')\n",
    "if not os.path.exists(output_folder):\n",
    "\tos.makedirs(output_folder)\n",
    "\n",
    "model_folder = os.path.join(input_folder, 'model/')\n"
   ]
  },
  {
   "cell_type": "code",
   "execution_count": 18,
   "id": "aa37cb13",
   "metadata": {},
   "outputs": [],
   "source": [
    "catchment_radius = argv['params']['catchment_radius']\n",
    "catchment_radius = {k: float(v) for k, v in catchment_radius.items()}\n",
    "default_catchment_radius = 500"
   ]
  },
  {
   "cell_type": "code",
   "execution_count": null,
   "id": "81b11c40",
   "metadata": {},
   "outputs": [],
   "source": [
    "# step est en degrés (default: 0.005 ~500m)\n",
    "\n",
    "step_size_min = 0.0005  # (0.0005 ~50m)\n",
    "step_size = max(float(argv['params']['general'].get('step_size')), step_size_min)\n",
    "use_road_network = argv['params']['general'].get('use_road_network')\n"
   ]
  },
  {
   "cell_type": "markdown",
   "id": "cdd032bd",
   "metadata": {},
   "source": [
    "# inputs"
   ]
  },
  {
   "cell_type": "code",
   "execution_count": 20,
   "id": "1a674100",
   "metadata": {},
   "outputs": [],
   "source": [
    "links = gpd.read_file(pt_folder + 'links.geojson')\n",
    "nodes = gpd.read_file(pt_folder + 'nodes.geojson')\n",
    "links = links.set_index('index')\n",
    "nodes = nodes.set_index('index')"
   ]
  },
  {
   "cell_type": "code",
   "execution_count": 21,
   "id": "8c5c4543",
   "metadata": {},
   "outputs": [
    {
     "name": "stdout",
     "output_type": "stream",
     "text": [
      "population? True\n"
     ]
    }
   ],
   "source": [
    "population_file = os.path.join(input_folder, 'population.geojson')\n",
    "population_file_provided = os.path.isfile(population_file)\n",
    "if population_file_provided:\n",
    "\tpopulation = gpd.read_file(population_file)\n",
    "\tif 'index' in population.columns:\n",
    "\t\tpopulation = population.set_index('index')\n",
    "\telse:\n",
    "\t\tpopulation.index.name = 'index'\n",
    "\tassert 'density' in population.columns, 'need density column. in km2'\n",
    "\tassert population.crs == 4326, 'population.geojson CRS must be EPSG:4326'\n",
    "print('population?', population_file_provided)"
   ]
  },
  {
   "cell_type": "markdown",
   "id": "4fdf6e1f",
   "metadata": {},
   "source": [
    "# Formation :\n",
    " ajouter un paramètre pour utiliser le réseau routier ou non. <br>\n",
    " Dans le modèle actuelle, le réseau routier est automatiquement utilisé pour :\n",
    " * faire un mesh de la population (affecter les gens aux noeds du réseau)\n",
    " * évaluer le stop catchment (la distance de routing est utilisé pour le catchment_radius)\n",
    "\n",
    " On pourrait ne pas vouloir utiliser le réseau meme si il est dans le projet! <br>\n",
    " TODO: changer rnodes_file_provided pour une combinaison entre un parametre et l'existance du fichier"
   ]
  },
  {
   "cell_type": "code",
   "execution_count": 25,
   "id": "ac965c16",
   "metadata": {},
   "outputs": [
    {
     "name": "stdout",
     "output_type": "stream",
     "text": [
      "road network provided? False\n",
      "use roads? False\n"
     ]
    }
   ],
   "source": [
    "rnodes_file = os.path.join(road_folder, 'road_nodes.geojson')\n",
    "rnodes_file_provided = os.path.isfile(rnodes_file)\n",
    "use_road_network = rnodes_file_provided & use_road_network\n",
    "if use_road_network:\n",
    "\trnodes = gpd.read_file(os.path.join(road_folder, 'road_nodes.geojson'))\n",
    "\trnodes = rnodes.set_index('index')\n",
    "\trlinks = gpd.read_file(os.path.join(road_folder, 'road_links.geojson'))\n",
    "\trlinks = rlinks.set_index('index')\n",
    "print('road network provided?', rnodes_file_provided)\n",
    "print('use roads?', use_road_network)"
   ]
  },
  {
   "cell_type": "code",
   "execution_count": 26,
   "id": "6071cbdf",
   "metadata": {},
   "outputs": [
    {
     "name": "stdout",
     "output_type": "stream",
     "text": [
      "od? True\n"
     ]
    }
   ],
   "source": [
    "od_file = os.path.join(od_folder, 'od.geojson')\n",
    "od_file_provided = os.path.isfile(od_file)\n",
    "if od_file_provided:\n",
    "\tod_test = gpd.read_file(od_file)\n",
    "\tif 'name' not in od_test.columns:\n",
    "\t\tod_test['name'] = od_test['index']\n",
    "\tod_test['name'] = od_test['name'].fillna(od_test['index'].astype(str))\n",
    "print('od?', od_file_provided)"
   ]
  },
  {
   "cell_type": "markdown",
   "id": "08f6a33b",
   "metadata": {},
   "source": [
    "# population preparation"
   ]
  },
  {
   "cell_type": "code",
   "execution_count": null,
   "id": "20859122",
   "metadata": {},
   "outputs": [],
   "source": []
  },
  {
   "cell_type": "code",
   "execution_count": 27,
   "id": "df034d31",
   "metadata": {},
   "outputs": [
    {
     "name": "stderr",
     "output_type": "stream",
     "text": [
      "/tmp/ipykernel_775752/1217387166.py:2: UserWarning: Geometry is in a geographic CRS. Results from 'centroid' are likely incorrect. Use 'GeoSeries.to_crs()' to re-project geometries to a projected CRS before this operation.\n",
      "\n",
      "  centroid = [*LineString(nodes.centroid.values).centroid.coords][0]\n"
     ]
    },
    {
     "data": {
      "text/plain": [
       "32618"
      ]
     },
     "execution_count": 27,
     "metadata": {},
     "output_type": "execute_result"
    }
   ],
   "source": [
    "# find meters CRS\n",
    "centroid = [*LineString(nodes.centroid.values).centroid.coords][0]\n",
    "crs = get_epsg(centroid[1], centroid[0])\n",
    "crs"
   ]
  },
  {
   "cell_type": "code",
   "execution_count": 28,
   "id": "8178d208",
   "metadata": {},
   "outputs": [],
   "source": [
    "if population_file_provided:\n",
    "\tpopulation['area (km2)'] = population.to_crs(crs).area * 1e-6\n",
    "\tpopulation['area (km2)'].sum()"
   ]
  },
  {
   "cell_type": "code",
   "execution_count": 29,
   "id": "283a2929",
   "metadata": {},
   "outputs": [],
   "source": [
    "if population_file_provided:\n",
    "\tpopulation['population'] = population['density'] * population['area (km2)']\n",
    "\tpopulation['population'].sum()"
   ]
  },
  {
   "cell_type": "markdown",
   "id": "220bbb67",
   "metadata": {},
   "source": [
    "# population mesh"
   ]
  },
  {
   "cell_type": "code",
   "execution_count": 30,
   "id": "e6f6fe3d",
   "metadata": {},
   "outputs": [
    {
     "name": "stdout",
     "output_type": "stream",
     "text": [
      "185998 nodes in multiple zones. will be match to a single zone.\n",
      "3 unfounded zones\n",
      "Unfound zones centroid will be added to mesh\n"
     ]
    }
   ],
   "source": [
    "if not population_file_provided:\n",
    "\tmesh = gpd.GeoDataFrame(\n",
    "\t\tindex=[0], data={'zone': 'centroid', 'population': 0}, geometry=[Point(centroid[0], centroid[1])]\n",
    "\t)\n",
    "\tmesh.index.name = 'index'\n",
    "\tmesh.crs = 4326\n",
    "\tif use_road_network:\n",
    "\t\tmesh['node_index'] = rnodes.index[0]\n",
    "elif use_road_network:\n",
    "\t# use rnodes as mesh.\n",
    "\tprint('using road_nodes')\n",
    "\tmesh = population_to_mesh(population, mesh=rnodes, step=step_size, col='population', fill_missing='nearest')\n",
    "else:\n",
    "\t# create a mesh\n",
    "\t# 0.01 = 1km 0.005 = 500m\n",
    "\tmesh = population_to_mesh(population, step=step_size, col='population', fill_missing='centroid')\n"
   ]
  },
  {
   "cell_type": "code",
   "execution_count": 31,
   "id": "6a276040",
   "metadata": {},
   "outputs": [],
   "source": [
    "mesh.to_file(output_folder + 'population_mesh.geojson', driver='GeoJSON')"
   ]
  },
  {
   "cell_type": "markdown",
   "id": "dfbafa49",
   "metadata": {},
   "source": [
    "# catchment"
   ]
  },
  {
   "cell_type": "code",
   "execution_count": 32,
   "id": "aae1e149",
   "metadata": {},
   "outputs": [],
   "source": [
    "# find TC nodes to mesh distance"
   ]
  },
  {
   "cell_type": "code",
   "execution_count": 33,
   "id": "ac854281",
   "metadata": {},
   "outputs": [],
   "source": [
    "max_dist = max(max(catchment_radius.values()), default_catchment_radius)"
   ]
  },
  {
   "cell_type": "code",
   "execution_count": 34,
   "id": "ffc2ca97",
   "metadata": {
    "scrolled": true
   },
   "outputs": [],
   "source": [
    "if use_road_network:\n",
    "\tprint('using road_nodes')\n",
    "\tnode_dist = get_routing_distances(nodes, rnodes, rlinks, mesh, 'length', max_dist)\n",
    "else:\n",
    "\tnode_dist = get_acf_distances(nodes, mesh, crs, max_dist)"
   ]
  },
  {
   "cell_type": "markdown",
   "id": "3480e8ac",
   "metadata": {},
   "source": [
    "# metrics"
   ]
  },
  {
   "cell_type": "code",
   "execution_count": 35,
   "id": "6ed69263",
   "metadata": {},
   "outputs": [
    {
     "name": "stdout",
     "output_type": "stream",
     "text": [
      "num route_id: 623\n",
      "num route_type: 3\n"
     ]
    }
   ],
   "source": [
    "print('num route_id:', len(links['route_id'].unique()))\n",
    "print('num route_type:', len(links['route_type'].unique()))"
   ]
  },
  {
   "cell_type": "code",
   "execution_count": 36,
   "id": "dc317930",
   "metadata": {},
   "outputs": [],
   "source": [
    "# init results dfs\n",
    "df_route_id = pd.DataFrame(index=links['route_id'].unique())\n",
    "df_route_id.index.name = 'route_id'\n",
    "\n",
    "df_route_type = pd.DataFrame(index=links['route_type'].unique())\n",
    "df_route_type.index.name = 'route_type'"
   ]
  },
  {
   "cell_type": "code",
   "execution_count": 37,
   "id": "45bc4d79",
   "metadata": {},
   "outputs": [],
   "source": [
    "def get_catchment(col='route_id'):\n",
    "\t# get all nodes with col filter\n",
    "\tlink = links.groupby(col)[['a', 'b', 'route_type']].agg({'a': set, 'b': set, 'route_type': 'first'})\n",
    "\tlink['node'] = link.apply(lambda row: row['a'].union(row['b']), axis=1)\n",
    "\tlink = link.drop(columns=['a', 'b'])\n",
    "\t# add catchment radius for the route_type\n",
    "\tlink['catchment_radius'] = link['route_type'].apply(lambda x: catchment_radius.get(x, default_catchment_radius))\n",
    "\n",
    "\tcol_exist = col == 'route_type'  # cannot explode if index == route_type (a column)\n",
    "\tlink = link.explode('node').reset_index(drop=col_exist)\n",
    "\tlink = node_dist.merge(link, left_on='node_index', right_on='node')\n",
    "\t# filter by distance\n",
    "\tlink = link[link['distances'] <= link['catchment_radius']]\n",
    "\t# drop duplicated mesh nodes (we count only one time)\n",
    "\tlink = link.drop_duplicates(subset=['mesh_index', col], keep='first')\n",
    "\n",
    "\treturn link.groupby(col)['population'].sum().to_dict()"
   ]
  },
  {
   "cell_type": "code",
   "execution_count": 38,
   "id": "e18e10d7",
   "metadata": {},
   "outputs": [
    {
     "name": "stdout",
     "output_type": "stream",
     "text": [
      "20512663.452643726\n"
     ]
    }
   ],
   "source": [
    "res = get_catchment('route_id')\n",
    "\n",
    "df_route_id['catchment'] = res\n",
    "df_route_id['catchment'] = df_route_id['catchment'].fillna(0)\n",
    "print(sum([item for key, item in res.items()]))\n"
   ]
  },
  {
   "cell_type": "code",
   "execution_count": null,
   "id": "19d86c4c",
   "metadata": {},
   "outputs": [],
   "source": []
  },
  {
   "cell_type": "code",
   "execution_count": 39,
   "id": "06d98402",
   "metadata": {},
   "outputs": [
    {
     "name": "stdout",
     "output_type": "stream",
     "text": [
      "4949632.886172391\n"
     ]
    }
   ],
   "source": [
    "res = get_catchment('route_type')\n",
    "\n",
    "df_route_type['catchment'] = res\n",
    "df_route_type['catchment'] = df_route_type['catchment'].fillna(0)\n",
    "\n",
    "print(sum([item for key, item in res.items()]))"
   ]
  },
  {
   "cell_type": "markdown",
   "id": "de5d12fd",
   "metadata": {},
   "source": [
    "# frequency"
   ]
  },
  {
   "cell_type": "code",
   "execution_count": 40,
   "id": "3f251696",
   "metadata": {},
   "outputs": [],
   "source": [
    "links['frequency'] = 1 / links['headway']"
   ]
  },
  {
   "cell_type": "code",
   "execution_count": 41,
   "id": "3829349f",
   "metadata": {},
   "outputs": [
    {
     "name": "stdout",
     "output_type": "stream",
     "text": [
      "1425.054379138755\n"
     ]
    }
   ],
   "source": [
    "res = (links.groupby('route_id')['frequency'].agg('mean') * 3600).to_dict()\n",
    "\n",
    "df_route_id['frequency (veh/hours)'] = res\n",
    "print(np.nansum([item for key, item in res.items()]))"
   ]
  },
  {
   "cell_type": "code",
   "execution_count": 42,
   "id": "e3035415",
   "metadata": {},
   "outputs": [
    {
     "name": "stdout",
     "output_type": "stream",
     "text": [
      "17.213400791483306\n"
     ]
    }
   ],
   "source": [
    "res = (links.groupby('route_type')['frequency'].agg('mean') * 3600).to_dict()\n",
    "\n",
    "df_route_type['frequency (veh/hours)'] = res\n",
    "print(sum([item for key, item in res.items()]))"
   ]
  },
  {
   "cell_type": "code",
   "execution_count": 43,
   "id": "b1017844",
   "metadata": {},
   "outputs": [
    {
     "name": "stdout",
     "output_type": "stream",
     "text": [
      "1214.8641138404555\n"
     ]
    }
   ],
   "source": [
    "link = links.groupby(['route_id', 'trip_id'])[['frequency']].agg('mean') * 3600\n",
    "res = link.reset_index().set_index('route_id')['frequency'].to_dict()\n",
    "print(np.nansum([item for key, item in res.items()]))"
   ]
  },
  {
   "cell_type": "code",
   "execution_count": null,
   "id": "ba8b387d",
   "metadata": {
    "scrolled": false
   },
   "outputs": [],
   "source": []
  },
  {
   "cell_type": "code",
   "execution_count": 44,
   "id": "99bf3c5d",
   "metadata": {},
   "outputs": [
    {
     "name": "stdout",
     "output_type": "stream",
     "text": [
      "16.354150816251114\n"
     ]
    }
   ],
   "source": [
    "link = links.groupby(['route_type', 'trip_id'])[['frequency']].agg('mean') * 3600\n",
    "res = link.reset_index().set_index('route_type')['frequency'].to_dict()\n",
    "print(np.nansum([item for key, item in res.items()]))"
   ]
  },
  {
   "cell_type": "markdown",
   "id": "06a9b56e",
   "metadata": {},
   "source": [
    "# operational Fleet"
   ]
  },
  {
   "cell_type": "code",
   "execution_count": 45,
   "id": "d73f2028",
   "metadata": {},
   "outputs": [],
   "source": [
    "def get_fleet(col='route_id'):\n",
    "\tlink = links.groupby([col, 'trip_id'])[['time', 'frequency']].agg({'time': 'mean', 'frequency': 'mean'})\n",
    "\tlink['fleet'] = np.ceil(link['frequency'] * link['time'])\n",
    "\treturn link.reset_index().groupby(col)['fleet'].agg('sum').to_dict()"
   ]
  },
  {
   "cell_type": "code",
   "execution_count": 46,
   "id": "88e247d3",
   "metadata": {},
   "outputs": [
    {
     "name": "stdout",
     "output_type": "stream",
     "text": [
      "1157.0\n"
     ]
    }
   ],
   "source": [
    "res = get_fleet('route_id')\n",
    "\n",
    "df_route_id['fleet'] = res\n",
    "print(sum([item for key, item in res.items()]))"
   ]
  },
  {
   "cell_type": "code",
   "execution_count": 47,
   "id": "0dc17813",
   "metadata": {},
   "outputs": [
    {
     "name": "stdout",
     "output_type": "stream",
     "text": [
      "1157.0\n"
     ]
    }
   ],
   "source": [
    "res = get_fleet('route_type')\n",
    "\n",
    "df_route_type['fleet'] = res\n",
    "print(sum([item for key, item in res.items()]))"
   ]
  },
  {
   "cell_type": "code",
   "execution_count": null,
   "id": "df7743de",
   "metadata": {},
   "outputs": [],
   "source": []
  },
  {
   "cell_type": "markdown",
   "id": "b0a16eb3",
   "metadata": {},
   "source": [
    "# Line Length"
   ]
  },
  {
   "cell_type": "code",
   "execution_count": 48,
   "id": "5e08e66e",
   "metadata": {},
   "outputs": [],
   "source": [
    "def get_length(col='route_id', length_col='length'):\n",
    "\tlink = links.groupby([col, 'trip_id'])[[length_col]].agg('sum')\n",
    "\treturn link.reset_index().groupby(col)[length_col].agg('sum').to_dict()"
   ]
  },
  {
   "cell_type": "code",
   "execution_count": 49,
   "id": "bfa2e75e",
   "metadata": {},
   "outputs": [],
   "source": [
    "# preparation. if length is NaN, or if shape dist travel exist.\n",
    "\n",
    "length_col = None\n",
    "if 'length' in links.columns and length_col == None:\n",
    "\tif len(links[links['length'].isnull()]) == 0:\n",
    "\t\tlength_col = 'length'\n",
    "\n",
    "if 'shape_dist_traveled' in links.columns and length_col == None:\n",
    "\tif len(links[links['shape_dist_traveled'].isnull()]) == 0:\n",
    "\t\tlength_col = 'shape_dist_traveled'\n",
    "\n",
    "if length_col == None:\n",
    "\tprint('create length from geometry')\n",
    "\tlinks['length'] = links.to_crs(crs).length\n",
    "\tlength_col = 'length'\n"
   ]
  },
  {
   "cell_type": "code",
   "execution_count": null,
   "id": "fa1f7686",
   "metadata": {},
   "outputs": [],
   "source": []
  },
  {
   "cell_type": "code",
   "execution_count": 50,
   "id": "31db0758",
   "metadata": {},
   "outputs": [
    {
     "name": "stdout",
     "output_type": "stream",
     "text": [
      "18244962\n"
     ]
    }
   ],
   "source": [
    "res = get_length('route_id', length_col)\n",
    "\n",
    "df_route_id['length (m)'] = res\n",
    "print(sum([item for key, item in res.items()]))"
   ]
  },
  {
   "cell_type": "code",
   "execution_count": 51,
   "id": "39826011",
   "metadata": {},
   "outputs": [
    {
     "name": "stdout",
     "output_type": "stream",
     "text": [
      "18244962\n"
     ]
    }
   ],
   "source": [
    "res = get_length('route_type', length_col)\n",
    "\n",
    "df_route_type['length (m)'] = res\n",
    "print(sum([item for key, item in res.items()]))"
   ]
  },
  {
   "cell_type": "code",
   "execution_count": null,
   "id": "b7f4f68b",
   "metadata": {},
   "outputs": [],
   "source": []
  },
  {
   "cell_type": "markdown",
   "id": "638013ee",
   "metadata": {},
   "source": [
    "# Number of station per line"
   ]
  },
  {
   "cell_type": "code",
   "execution_count": 52,
   "id": "6bf1bd3e",
   "metadata": {},
   "outputs": [],
   "source": [
    "# o-->o-->o-->o and  o<--o<--o<--o\n",
    "# est-ce que j'ai 8 ou 4 stations ?\n",
    "# j'ai 4 stations par trip et 4 stations par route (si c'est les memes).\n",
    "# comment savoir si cest les memes. clustering?\n",
    "# pour linstant. on prend tous les noeds unique par route_id ou route_type (col='route_id', route_id)\n",
    "def get_num_station(col='route_id'):\n",
    "\tlink = links.groupby(col)[['a', 'b']].agg({'a': set, 'b': set})\n",
    "\tlink['node_len'] = link.apply(lambda row: len(row['a'].union(row['b'])), axis=1)\n",
    "\treturn link['node_len'].to_dict()\n"
   ]
  },
  {
   "cell_type": "code",
   "execution_count": 53,
   "id": "6f27ad9f",
   "metadata": {},
   "outputs": [
    {
     "name": "stdout",
     "output_type": "stream",
     "text": [
      "39380\n"
     ]
    }
   ],
   "source": [
    "res = get_num_station('route_id')\n",
    "\n",
    "df_route_id['num station'] = res\n",
    "print(sum([item for key, item in res.items()]))"
   ]
  },
  {
   "cell_type": "code",
   "execution_count": 54,
   "id": "ea89801d",
   "metadata": {},
   "outputs": [
    {
     "name": "stdout",
     "output_type": "stream",
     "text": [
      "39325\n"
     ]
    }
   ],
   "source": [
    "res = get_num_station('route_type')\n",
    "\n",
    "df_route_type['num station'] = res\n",
    "print(sum([item for key, item in res.items()]))"
   ]
  },
  {
   "cell_type": "markdown",
   "id": "1f98a64c",
   "metadata": {},
   "source": [
    "# Vehicle revenue KM "
   ]
  },
  {
   "cell_type": "code",
   "execution_count": 55,
   "id": "c70257d8",
   "metadata": {},
   "outputs": [],
   "source": [
    "def get_veh_kmh(col='route_id'):\n",
    "\tlink = links.groupby([col, 'trip_id'])[[length_col, 'frequency']].agg({length_col: 'sum', 'frequency': 'mean'})\n",
    "\tlink['veh_km/h'] = np.ceil(link['frequency'] * link[length_col]) * 3600 / 1000  # to km/H\n",
    "\treturn link.reset_index().groupby(col)['veh_km/h'].agg('sum').to_dict()"
   ]
  },
  {
   "cell_type": "code",
   "execution_count": 56,
   "id": "6b53c067",
   "metadata": {},
   "outputs": [
    {
     "name": "stdout",
     "output_type": "stream",
     "text": [
      "38214.0\n"
     ]
    }
   ],
   "source": [
    "res = get_veh_kmh('route_id')\n",
    "\n",
    "df_route_id['veh.km/h'] = res\n",
    "print(sum([item for key, item in res.items()]))"
   ]
  },
  {
   "cell_type": "code",
   "execution_count": 57,
   "id": "3bc451d7",
   "metadata": {},
   "outputs": [
    {
     "name": "stdout",
     "output_type": "stream",
     "text": [
      "38214.0\n"
     ]
    }
   ],
   "source": [
    "res = get_veh_kmh('route_type')\n",
    "\n",
    "df_route_type['veh.km/h'] = res\n",
    "print(sum([item for key, item in res.items()]))"
   ]
  },
  {
   "cell_type": "markdown",
   "id": "ab77743f",
   "metadata": {},
   "source": [
    "# Round trip time"
   ]
  },
  {
   "cell_type": "code",
   "execution_count": 58,
   "id": "fd818c88",
   "metadata": {},
   "outputs": [],
   "source": [
    "def get_round_trip_time(col='route_id'):\n",
    "\tlink = links.groupby([col, 'trip_id'])[['time']].agg('sum')\n",
    "\treturn link.reset_index().groupby(col)['time'].agg('sum').to_dict()"
   ]
  },
  {
   "cell_type": "code",
   "execution_count": 59,
   "id": "869ea67e",
   "metadata": {},
   "outputs": [
    {
     "name": "stdout",
     "output_type": "stream",
     "text": [
      "2417186\n"
     ]
    }
   ],
   "source": [
    "res = get_round_trip_time('route_id')\n",
    "\n",
    "df_route_id['round trip time (s)'] = res\n",
    "print(sum([item for key, item in res.items()]))"
   ]
  },
  {
   "cell_type": "code",
   "execution_count": null,
   "id": "5ac6bf88",
   "metadata": {},
   "outputs": [],
   "source": []
  },
  {
   "cell_type": "markdown",
   "id": "6a5213bf",
   "metadata": {},
   "source": [
    "# export dfs to csv"
   ]
  },
  {
   "cell_type": "code",
   "execution_count": 60,
   "id": "4a7d0d1a",
   "metadata": {},
   "outputs": [],
   "source": [
    "# round numbers\n",
    "for col in ['catchment', 'frequency (veh/hours)', 'length (m)', 'veh.km/h', 'round trip time (s)']:\n",
    "\tdf_route_id[col] = df_route_id[col].apply(lambda x: np.round(x, 2))\n",
    "\tdf_route_id[col] = df_route_id[col].apply(lambda x: np.round(x, 2))\n"
   ]
  },
  {
   "cell_type": "code",
   "execution_count": 61,
   "id": "3105f92e",
   "metadata": {},
   "outputs": [],
   "source": [
    "# df_route_id = df_route_id.fillna('null')\n",
    "# df_route_type = df_route_type.fillna('null')"
   ]
  },
  {
   "cell_type": "code",
   "execution_count": 62,
   "id": "984694c2",
   "metadata": {},
   "outputs": [
    {
     "data": {
      "text/html": [
       "<div>\n",
       "<style scoped>\n",
       "    .dataframe tbody tr th:only-of-type {\n",
       "        vertical-align: middle;\n",
       "    }\n",
       "\n",
       "    .dataframe tbody tr th {\n",
       "        vertical-align: top;\n",
       "    }\n",
       "\n",
       "    .dataframe thead th {\n",
       "        text-align: right;\n",
       "    }\n",
       "</style>\n",
       "<table border=\"1\" class=\"dataframe\">\n",
       "  <thead>\n",
       "    <tr style=\"text-align: right;\">\n",
       "      <th></th>\n",
       "      <th>catchment</th>\n",
       "      <th>frequency (veh/hours)</th>\n",
       "      <th>fleet</th>\n",
       "      <th>length (m)</th>\n",
       "      <th>num station</th>\n",
       "      <th>veh.km/h</th>\n",
       "      <th>round trip time (s)</th>\n",
       "    </tr>\n",
       "    <tr>\n",
       "      <th>route_id</th>\n",
       "      <th></th>\n",
       "      <th></th>\n",
       "      <th></th>\n",
       "      <th></th>\n",
       "      <th></th>\n",
       "      <th></th>\n",
       "      <th></th>\n",
       "    </tr>\n",
       "  </thead>\n",
       "  <tbody>\n",
       "    <tr>\n",
       "      <th>CITCRC_10</th>\n",
       "      <td>7220.40</td>\n",
       "      <td>7.71</td>\n",
       "      <td>1.0</td>\n",
       "      <td>3808</td>\n",
       "      <td>16</td>\n",
       "      <td>32.4</td>\n",
       "      <td>600</td>\n",
       "    </tr>\n",
       "    <tr>\n",
       "      <th>CITCRC_11</th>\n",
       "      <td>7604.36</td>\n",
       "      <td>4.36</td>\n",
       "      <td>1.0</td>\n",
       "      <td>5461</td>\n",
       "      <td>21</td>\n",
       "      <td>25.2</td>\n",
       "      <td>840</td>\n",
       "    </tr>\n",
       "    <tr>\n",
       "      <th>CITCRC_12</th>\n",
       "      <td>8994.67</td>\n",
       "      <td>4.36</td>\n",
       "      <td>1.0</td>\n",
       "      <td>8279</td>\n",
       "      <td>32</td>\n",
       "      <td>39.6</td>\n",
       "      <td>1140</td>\n",
       "    </tr>\n",
       "    <tr>\n",
       "      <th>CITCRC_13</th>\n",
       "      <td>5114.07</td>\n",
       "      <td>4.02</td>\n",
       "      <td>1.0</td>\n",
       "      <td>7718</td>\n",
       "      <td>25</td>\n",
       "      <td>32.4</td>\n",
       "      <td>1080</td>\n",
       "    </tr>\n",
       "    <tr>\n",
       "      <th>CITCRC_14</th>\n",
       "      <td>9614.25</td>\n",
       "      <td>1.34</td>\n",
       "      <td>1.0</td>\n",
       "      <td>13117</td>\n",
       "      <td>43</td>\n",
       "      <td>18.0</td>\n",
       "      <td>1800</td>\n",
       "    </tr>\n",
       "    <tr>\n",
       "      <th>...</th>\n",
       "      <td>...</td>\n",
       "      <td>...</td>\n",
       "      <td>...</td>\n",
       "      <td>...</td>\n",
       "      <td>...</td>\n",
       "      <td>...</td>\n",
       "      <td>...</td>\n",
       "    </tr>\n",
       "    <tr>\n",
       "      <th>TRAINS_6</th>\n",
       "      <td>200595.19</td>\n",
       "      <td>0.84</td>\n",
       "      <td>2.0</td>\n",
       "      <td>94784</td>\n",
       "      <td>24</td>\n",
       "      <td>82.8</td>\n",
       "      <td>8694</td>\n",
       "    </tr>\n",
       "    <tr>\n",
       "      <th>STM_1</th>\n",
       "      <td>262448.84</td>\n",
       "      <td>17.78</td>\n",
       "      <td>2.0</td>\n",
       "      <td>40132</td>\n",
       "      <td>54</td>\n",
       "      <td>716.4</td>\n",
       "      <td>4450</td>\n",
       "    </tr>\n",
       "    <tr>\n",
       "      <th>STM_2</th>\n",
       "      <td>358457.03</td>\n",
       "      <td>11.91</td>\n",
       "      <td>3.0</td>\n",
       "      <td>80397</td>\n",
       "      <td>90</td>\n",
       "      <td>979.2</td>\n",
       "      <td>8127</td>\n",
       "    </tr>\n",
       "    <tr>\n",
       "      <th>STM_4</th>\n",
       "      <td>26026.31</td>\n",
       "      <td>13.29</td>\n",
       "      <td>2.0</td>\n",
       "      <td>7648</td>\n",
       "      <td>6</td>\n",
       "      <td>104.4</td>\n",
       "      <td>676</td>\n",
       "    </tr>\n",
       "    <tr>\n",
       "      <th>STM_5</th>\n",
       "      <td>169819.21</td>\n",
       "      <td>14.01</td>\n",
       "      <td>2.0</td>\n",
       "      <td>18992</td>\n",
       "      <td>24</td>\n",
       "      <td>266.4</td>\n",
       "      <td>1790</td>\n",
       "    </tr>\n",
       "  </tbody>\n",
       "</table>\n",
       "<p>623 rows × 7 columns</p>\n",
       "</div>"
      ],
      "text/plain": [
       "           catchment  frequency (veh/hours)  fleet  length (m)  num station  \\\n",
       "route_id                                                                      \n",
       "CITCRC_10    7220.40                   7.71    1.0        3808           16   \n",
       "CITCRC_11    7604.36                   4.36    1.0        5461           21   \n",
       "CITCRC_12    8994.67                   4.36    1.0        8279           32   \n",
       "CITCRC_13    5114.07                   4.02    1.0        7718           25   \n",
       "CITCRC_14    9614.25                   1.34    1.0       13117           43   \n",
       "...              ...                    ...    ...         ...          ...   \n",
       "TRAINS_6   200595.19                   0.84    2.0       94784           24   \n",
       "STM_1      262448.84                  17.78    2.0       40132           54   \n",
       "STM_2      358457.03                  11.91    3.0       80397           90   \n",
       "STM_4       26026.31                  13.29    2.0        7648            6   \n",
       "STM_5      169819.21                  14.01    2.0       18992           24   \n",
       "\n",
       "           veh.km/h  round trip time (s)  \n",
       "route_id                                  \n",
       "CITCRC_10      32.4                  600  \n",
       "CITCRC_11      25.2                  840  \n",
       "CITCRC_12      39.6                 1140  \n",
       "CITCRC_13      32.4                 1080  \n",
       "CITCRC_14      18.0                 1800  \n",
       "...             ...                  ...  \n",
       "TRAINS_6       82.8                 8694  \n",
       "STM_1         716.4                 4450  \n",
       "STM_2         979.2                 8127  \n",
       "STM_4         104.4                  676  \n",
       "STM_5         266.4                 1790  \n",
       "\n",
       "[623 rows x 7 columns]"
      ]
     },
     "execution_count": 62,
     "metadata": {},
     "output_type": "execute_result"
    }
   ],
   "source": [
    "df_route_id.to_csv(output_folder + 'route_id_metrics.csv')\n",
    "df_route_id"
   ]
  },
  {
   "cell_type": "code",
   "execution_count": 63,
   "id": "c6a5c283",
   "metadata": {},
   "outputs": [
    {
     "data": {
      "text/html": [
       "<div>\n",
       "<style scoped>\n",
       "    .dataframe tbody tr th:only-of-type {\n",
       "        vertical-align: middle;\n",
       "    }\n",
       "\n",
       "    .dataframe tbody tr th {\n",
       "        vertical-align: top;\n",
       "    }\n",
       "\n",
       "    .dataframe thead th {\n",
       "        text-align: right;\n",
       "    }\n",
       "</style>\n",
       "<table border=\"1\" class=\"dataframe\">\n",
       "  <thead>\n",
       "    <tr style=\"text-align: right;\">\n",
       "      <th></th>\n",
       "      <th>catchment</th>\n",
       "      <th>frequency (veh/hours)</th>\n",
       "      <th>fleet</th>\n",
       "      <th>length (m)</th>\n",
       "      <th>num station</th>\n",
       "      <th>veh.km/h</th>\n",
       "    </tr>\n",
       "    <tr>\n",
       "      <th>route_type</th>\n",
       "      <th></th>\n",
       "      <th></th>\n",
       "      <th></th>\n",
       "      <th></th>\n",
       "      <th></th>\n",
       "      <th></th>\n",
       "    </tr>\n",
       "  </thead>\n",
       "  <tbody>\n",
       "    <tr>\n",
       "      <th>bus</th>\n",
       "      <td>3.616980e+06</td>\n",
       "      <td>2.200035</td>\n",
       "      <td>1133.0</td>\n",
       "      <td>17534251</td>\n",
       "      <td>38981</td>\n",
       "      <td>35600.4</td>\n",
       "    </tr>\n",
       "    <tr>\n",
       "      <th>rail</th>\n",
       "      <td>6.616541e+05</td>\n",
       "      <td>0.938547</td>\n",
       "      <td>15.0</td>\n",
       "      <td>563542</td>\n",
       "      <td>170</td>\n",
       "      <td>547.2</td>\n",
       "    </tr>\n",
       "    <tr>\n",
       "      <th>subway</th>\n",
       "      <td>6.709991e+05</td>\n",
       "      <td>14.074818</td>\n",
       "      <td>9.0</td>\n",
       "      <td>147169</td>\n",
       "      <td>174</td>\n",
       "      <td>2066.4</td>\n",
       "    </tr>\n",
       "  </tbody>\n",
       "</table>\n",
       "</div>"
      ],
      "text/plain": [
       "               catchment  frequency (veh/hours)   fleet  length (m)  \\\n",
       "route_type                                                            \n",
       "bus         3.616980e+06               2.200035  1133.0    17534251   \n",
       "rail        6.616541e+05               0.938547    15.0      563542   \n",
       "subway      6.709991e+05              14.074818     9.0      147169   \n",
       "\n",
       "            num station  veh.km/h  \n",
       "route_type                         \n",
       "bus               38981   35600.4  \n",
       "rail                170     547.2  \n",
       "subway              174    2066.4  "
      ]
     },
     "execution_count": 63,
     "metadata": {},
     "output_type": "execute_result"
    }
   ],
   "source": [
    "df_route_type.to_csv(output_folder + 'route_type_metrics.csv')\n",
    "df_route_type"
   ]
  },
  {
   "cell_type": "markdown",
   "id": "4924d2a1",
   "metadata": {},
   "source": [
    "# geomatic outputs"
   ]
  },
  {
   "cell_type": "code",
   "execution_count": 64,
   "id": "10166c45",
   "metadata": {},
   "outputs": [],
   "source": [
    "# using get catchment. get the catchment radius of each node (get larger one if used by many mode.)\n",
    "link = links.groupby('route_type')[['a', 'b', 'route_type']].agg({'a': set, 'b': set, 'route_type': 'first'})\n",
    "link['node'] = link.apply(lambda row: row['a'].union(row['b']), axis=1)\n",
    "link = link.drop(columns=['a', 'b'])\n",
    "# add catchment radius for the route_type\n",
    "link['catchment_radius'] = link['route_type'].apply(lambda x: catchment_radius.get(x, default_catchment_radius))\n",
    "link = link.explode('node').reset_index(drop=True)\n",
    "link = link.sort_values('catchment_radius', ascending=False).drop_duplicates('node', keep='first')\n",
    "link = node_dist.merge(link, left_on='node_index', right_on='node')\n",
    "link = link[link['distances'] <= link['catchment_radius']]\n",
    "\n",
    "temp_dict = link.groupby('node_index')['population'].sum().to_dict()\n",
    "nodes['catchment'] = nodes.index.map(temp_dict.get)\n",
    "\n",
    "temp_dict = link.groupby('node_index')['catchment_radius'].agg('first').to_dict()\n",
    "nodes['catchment_radius'] = nodes.index.map(temp_dict.get)\n"
   ]
  },
  {
   "cell_type": "code",
   "execution_count": 65,
   "id": "db8164da",
   "metadata": {},
   "outputs": [],
   "source": [
    "nodes.to_file(output_folder + 'nodes.geojson', driver='GeoJSON')"
   ]
  },
  {
   "cell_type": "markdown",
   "id": "11dfe2fb",
   "metadata": {},
   "source": [
    "# test"
   ]
  },
  {
   "cell_type": "code",
   "execution_count": null,
   "id": "5af1498c",
   "metadata": {},
   "outputs": [],
   "source": []
  }
 ],
 "metadata": {
  "kernelspec": {
   "display_name": "quetzal_312",
   "language": "python",
   "name": "quetzal_312"
  },
  "language_info": {
   "codemirror_mode": {
    "name": "ipython",
    "version": 3
   },
   "file_extension": ".py",
   "mimetype": "text/x-python",
   "name": "python",
   "nbconvert_exporter": "python",
   "pygments_lexer": "ipython3",
   "version": "3.12.2"
  }
 },
 "nbformat": 4,
 "nbformat_minor": 5
}
